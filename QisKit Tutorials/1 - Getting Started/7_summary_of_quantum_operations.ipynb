








<!DOCTYPE html>
<html lang="en">

<head>
  <meta charset="utf-8">
  <title>Jupyter Notebook Viewer</title>
  <meta name="viewport" content="width=device-width, initial-scale=1.0">
  <meta name="description" content="">
  <meta name="author" content="">
  
  <meta name="robots" content="noindex,nofollow">
  

  <!--NEW RELIC Start Perf Measurement-->
  
  <!--NREND-->

  <!-- Le styles -->
  <link href="/static/build/styles.css?v=7fe30404aaeedb40bf592c91e1d25a26" rel="stylesheet">

  <!-- Le HTML5 shim, for IE6-8 support of HTML5 elements -->
  <!--[if lt IE 9]>
    <script src="http://html5shim.googlecode.com/svn/trunk/html5.js"></script>
  <![endif]-->

  <!-- Le fav and touch icons -->
  <link rel="shortcut icon" href="/static/ico/ipynb_icon_16x16.png">
  <link rel="apple-touch-icon-precomposed" sizes="144x144"
        href="/static/ico/apple-touch-icon-144-precomposed.png?v=5a3c9ede93e2a8b8ea9e3f8f3da1a905">
  <link rel="apple-touch-icon-precomposed" sizes="114x114"
        href="/static/ico/apple-touch-icon-114-precomposed.png?v=45d86fc8f24dc00638035e1dd7a6d898">
  <link rel="apple-touch-icon-precomposed" sizes="72x72"
        href="/static/ico/apple-touch-icon-72-precomposed.png?v=540b5eb0f3cfd25f1439d1c9bd30e15f">
  <link rel="apple-touch-icon-precomposed"
        href="/static/ico/apple-touch-icon-57-precomposed.png?v=225f0590e187e1458625654f10a28f56">
  
  

  

  
  <meta name="twitter:card" content="summary">
  <meta name="twitter:title" content="Notebook on nbviewer">
  <meta name="twitter:description" content="Check out this Jupyter notebook!">

  
  <meta name="twitter:domain" content="nbviewer.jupyter.org">
  <meta name="twitter:image:src" content="http://ipython.org/ipython-doc/dev/_images/ipynb_icon_128x128.png">

  
    <link href="/static/build/notebook.css?v=b71b4a780ae775fd48f0eead7512c5dd" rel="stylesheet">
  

  

  
    <script src="https://cdnjs.cloudflare.com/ajax/libs/mathjax/2.7.1/MathJax.js?config=TeX-AMS_HTML" type="text/javascript">
    </script>
    <script type="text/javascript">
      init_mathjax = function() {
        if (window.MathJax) {
          // MathJax loaded
          MathJax.Hub.Config({
            TeX: {
              equationNumbers: {
                autoNumber: "AMS",
                useLabelIds: true
              }
            },
            tex2jax: {
              inlineMath: [ ['$','$'], ["\\(","\\)"] ],
              displayMath: [ ['$$','$$'], ["\\[","\\]"] ],
              processEscapes: true,
              processEnvironments: true
            },
            displayAlign: 'center',
            "HTML-CSS": {
              styles: {'.MathJax_Display': {"margin": 0}},
              linebreaks: { automatic: true }
            }
          });
          MathJax.Hub.Queue(["Typeset", MathJax.Hub]);
        }
      }
      init_mathjax();
    </script>
  

  
    <script>
      (function() {
        function addWidgetsRenderer() {
          var mimeElement = document.querySelector('script[type="application/vnd.jupyter.widget-view+json"]');
          var scriptElement = document.createElement('script');
          var widgetRendererSrc = 'https://unpkg.com/@jupyter-widgets/html-manager@0.15/dist/embed-amd.js';
          var widgetState;

          try {
            widgetState = mimeElement && JSON.parse(mimeElement.innerHTML);

            if (widgetState && (widgetState.version_major < 2 || !widgetState.version_major)) {
              widgetRendererSrc = 'https://unpkg.com/jupyter-js-widgets@2.1/dist/embed.js';
            }
          } catch(e) {}

          scriptElement.src = widgetRendererSrc;
          document.body.appendChild(scriptElement);
        }

        document.addEventListener('DOMContentLoaded', addWidgetsRenderer);
      }());
    </script>
  

</head>

<body class="nbviewer">

  <!-- These are loaded at the top of the body so they are available to
       notebook cells when they are loaded below. -->
  <script src="/static/components/jquery/dist/jquery.min.js?v=220afd743d9e9643852e31a135a9f3ae"></script>
  <script src="/static/components/requirejs/require.js?v=6da8be361b9ee26c5e721e76c6d4afce"></script>
  <script src="/static/components/moment/min/moment.min.js?v=89f87298ad94aa1e6b92f42eb66da043"></script>
<!-- Navbar
================================================== -->
  <nav id="menubar" class="navbar navbar-default navbar-fixed-top" data-spy="affix">
    <div class="container">
      <div class="navbar-header">
        <button type="button" class="navbar-toggle collapsed" data-toggle="collapse" data-target=".navbar-collapse">
          <span class="sr-only">Toggle navigation</span>
          <i class="fa fa-bars"></i>
        </button>
        <a class="navbar-brand" href="/">
          <img src="/static/img/nav_logo.svg?v=479cefe8d932fb14a67b93911b97d70f" width="159"/>
        </a>
      </div>

      <div class="collapse navbar-collapse">
        <ul class="nav navbar-nav navbar-right">
          <li>
            <a class="active" href="https://jupyter.org">JUPYTER</a>
          </li>
          <li>
    <a href="/faq" title="FAQ" >
      
        <span>FAQ</span>
      
    </a>
  </li>

          
  
    
  
    
      
        <li>
    <a href="script/github/Qiskit/qiskit-tutorials/blob/master/qiskit/fundamentals/7_summary_of_quantum_operations.ipynb" title="View as Code" >
      <span class="fa fa-code fa-2x menu-icon"></span>
      <span class="menu-text">View as Code</span>
    </a>
  </li>
      
    
  

  
    <li>
    <a href="#" title="Python 3 Kernel" >
      <span class="fa fa-server fa-2x menu-icon"></span>
      <span class="menu-text">Python 3 Kernel</span>
    </a>
  </li>
  

  
    <li>
    <a href="https://github.com/Qiskit/qiskit-tutorials/blob/master/qiskit/fundamentals/7_summary_of_quantum_operations.ipynb" title="View on GitHub" >
      <span class="fa fa-github fa-2x menu-icon"></span>
      <span class="menu-text">View on GitHub</span>
    </a>
  </li>
  

  
    <li>
    <a href="https://mybinder.org/v2/gh/Qiskit/qiskit-tutorials/master?filepath=qiskit/fundamentals/7_summary_of_quantum_operations.ipynb" title="Execute on Binder" >
      <span class="fa fa-icon-binder fa-2x menu-icon"></span>
      <span class="menu-text">Execute on Binder</span>
    </a>
  </li>
  

  <li>
    <a href="https://raw.githubusercontent.com/Qiskit/qiskit-tutorials/master/qiskit/fundamentals/7_summary_of_quantum_operations.ipynb" title="Download Notebook" download>
      <span class="fa fa-download fa-2x menu-icon"></span>
      <span class="menu-text">Download Notebook</span>
    </a>
  </li>

        </ul>
      </div><!-- /.navbar-collapse -->
      
      
    </div>
  </nav>

  <div class="container container-main">
    
  
  <ol class="breadcrumb">
    
      <li>
        <a href="/github/Qiskit/qiskit-tutorials/tree/master">qiskit-tutorials</a>
      </li>
    
      <li>
        <a href="/github/Qiskit/qiskit-tutorials/tree/master/qiskit">qiskit</a>
      </li>
    
      <li>
        <a href="/github/Qiskit/qiskit-tutorials/tree/master/qiskit/fundamentals">fundamentals</a>
      </li>
    
  </ol>
  
  <div id="notebook">
    <div id="notebook-container">
      <div class="cell border-box-sizing text_cell rendered"><div class="prompt input_prompt">
</div><div class="inner_cell">
<div class="text_cell_render border-box-sizing rendered_html">
<p><img src="data:image/png;base64,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" alt="qiskit_header.png"></p>

</div>
</div>
</div>
<div class="cell border-box-sizing text_cell rendered"><div class="prompt input_prompt">
</div><div class="inner_cell">
<div class="text_cell_render border-box-sizing rendered_html">
<h1 id="Summary-of-Quantum-Operations">Summary of Quantum Operations<a class="anchor-link" href="#Summary-of-Quantum-Operations">&#182;</a></h1>
</div>
</div>
</div>
<div class="cell border-box-sizing text_cell rendered"><div class="prompt input_prompt">
</div><div class="inner_cell">
<div class="text_cell_render border-box-sizing rendered_html">
<p>In this section we will go into the different operations that are available in Qiskit Terra. These are:</p>
<ul>
<li>Single-qubit quantum gates</li>
<li>Multi-qubit quantum gates</li>
<li>Measurements</li>
<li>Reset</li>
<li>Conditionals</li>
<li>State initialization</li>
</ul>
<p>We will also show you how to use the three different simulators:</p>
<ul>
<li>unitary_simulator</li>
<li>qasm_simulator</li>
<li>statevector_simulator</li>
</ul>

</div>
</div>
</div>
<div class="cell border-box-sizing text_cell rendered"><div class="prompt input_prompt">
</div><div class="inner_cell">
<div class="text_cell_render border-box-sizing rendered_html">
<h1 id="Table-of-contents">Table of contents<a class="anchor-link" href="#Table-of-contents">&#182;</a></h1><p>1) <a href="#single_states">Single Qubit Quantum States</a></p>
<p>2) <a href="#single_gates">Single-Qubit Gates</a></p>
<p>3) <a href="#multi_gates">Multi-Qubit Gates</a></p>
<p>4) <a href="#two_gates">Two-Qubit Gates</a></p>
<p>5) <a href="#three_gates">Three-Qubit Gates</a></p>
<p>6) <a href="#non_unitary">Non-Unitary Operations</a></p>
<p>7) <a href="#initialization">Arbitrary Initialization</a></p>

</div>
</div>
</div>
<div class="cell border-box-sizing code_cell rendered">
<div class="input">
<div class="prompt input_prompt">In&nbsp;[1]:</div>
<div class="inner_cell">
    <div class="input_area">
<div class=" highlight hl-ipython3"><pre><span></span><span class="c1"># Useful additional packages </span>
<span class="kn">import</span> <span class="nn">matplotlib.pyplot</span> <span class="k">as</span> <span class="nn">plt</span>
<span class="o">%</span><span class="k">matplotlib</span> inline
<span class="kn">import</span> <span class="nn">numpy</span> <span class="k">as</span> <span class="nn">np</span>
<span class="kn">from</span> <span class="nn">math</span> <span class="k">import</span> <span class="n">pi</span>
</pre></div>

    </div>
</div>
</div>

</div>
<div class="cell border-box-sizing code_cell rendered">
<div class="input">
<div class="prompt input_prompt">In&nbsp;[2]:</div>
<div class="inner_cell">
    <div class="input_area">
<div class=" highlight hl-ipython3"><pre><span></span><span class="kn">from</span> <span class="nn">qiskit</span> <span class="k">import</span> <span class="n">QuantumCircuit</span><span class="p">,</span> <span class="n">ClassicalRegister</span><span class="p">,</span> <span class="n">QuantumRegister</span><span class="p">,</span> <span class="n">execute</span>
<span class="kn">from</span> <span class="nn">qiskit.tools.visualization</span> <span class="k">import</span> <span class="n">circuit_drawer</span>
<span class="kn">from</span> <span class="nn">qiskit.quantum_info</span> <span class="k">import</span> <span class="n">state_fidelity</span>
<span class="kn">from</span> <span class="nn">qiskit</span> <span class="k">import</span> <span class="n">BasicAer</span>

<span class="n">backend</span> <span class="o">=</span> <span class="n">BasicAer</span><span class="o">.</span><span class="n">get_backend</span><span class="p">(</span><span class="s1">&#39;unitary_simulator&#39;</span><span class="p">)</span>
</pre></div>

    </div>
</div>
</div>

</div>
<div class="cell border-box-sizing text_cell rendered"><div class="prompt input_prompt">
</div><div class="inner_cell">
<div class="text_cell_render border-box-sizing rendered_html">
<h2 id="Single-Qubit-Quantum-states-">Single Qubit Quantum states <a name="single_states" /><a class="anchor-link" href="#Single-Qubit-Quantum-states-">&#182;</a></h2><p>A single qubit quantum state can be written as</p>
$$\left|\psi\right\rangle = \alpha\left|0\right\rangle + \beta \left|1\right\rangle$$<p>where $\alpha$ and $\beta$ are complex numbers. In a measurement the probability of the bit being in $\left|0\right\rangle$ is $|\alpha|^2$ and $\left|1\right\rangle$ is $|\beta|^2$. As a vector this is</p>
$$
\left|\psi\right\rangle =  
\begin{pmatrix}
\alpha \\
\beta
\end{pmatrix}.
$$<p>Note, due to the conservation of probability $|\alpha|^2+ |\beta|^2 = 1$ and since global phase is undetectable $\left|\psi\right\rangle := e^{i\delta} \left|\psi\right\rangle$ we only require two real numbers to describe a single qubit quantum state.</p>
<p>A convenient representation is</p>
$$\left|\psi\right\rangle = \cos(\theta/2)\left|0\right\rangle + \sin(\theta/2)e^{i\phi}\left|1\right\rangle$$<p>where $0\leq \phi &lt; 2\pi$, and $0\leq \theta \leq \pi$.  From this, it is clear that there is a one-to-one correspondence between qubit states ($\mathbb{C}^2$) and the points on the surface of a unit sphere ($\mathbb{R}^3$). This is called the Bloch sphere representation of a qubit state.</p>
<p>Quantum gates/operations are usually represented as matrices. A gate which acts on a qubit is represented by a $2\times 2$ unitary matrix $U$. The action of the quantum gate is found by multiplying the matrix representing the gate with the vector which represents the quantum state.</p>
$$\left|\psi'\right\rangle = U\left|\psi\right\rangle$$<p>A general unitary must be able to take the $\left|0\right\rangle$ to the above state. That is</p>
$$
U = \begin{pmatrix}
\cos(\theta/2) &amp; a \\
e^{i\phi}\sin(\theta/2) &amp; b 
\end{pmatrix}
$$<p></p>
<p>where $a$ and $b$ are complex numbers constrained such that $U^\dagger U = I$ for all $0\leq\theta\leq\pi$ and $0\leq \phi&lt;2\pi$. This gives 3 constraints and as such $a\rightarrow -e^{i\lambda}\sin(\theta/2)$ and $b\rightarrow e^{i\lambda+i\phi}\cos(\theta/2)$ where $0\leq \lambda&lt;2\pi$ giving</p>
$$
U = \begin{pmatrix}
\cos(\theta/2) &amp; -e^{i\lambda}\sin(\theta/2) \\
e^{i\phi}\sin(\theta/2) &amp; e^{i\lambda+i\phi}\cos(\theta/2) 
\end{pmatrix}.
$$<p>This is the most general form of a single qubit unitary.</p>

</div>
</div>
</div>
<div class="cell border-box-sizing text_cell rendered"><div class="prompt input_prompt">
</div><div class="inner_cell">
<div class="text_cell_render border-box-sizing rendered_html">
<h2 id="Single-Qubit-Gates-">Single-Qubit Gates <a name="single_gates" /><a class="anchor-link" href="#Single-Qubit-Gates-">&#182;</a></h2><p>The single-qubit gates available are:</p>
<ul>
<li>u gates</li>
<li>Identity gate</li>
<li>Pauli gates</li>
<li>Clifford gates</li>
<li>$C3$ gates</li>
<li>Standard rotation gates </li>
</ul>
<p>We have provided a backend: <code>unitary_simulator</code> to allow you to calculate the unitary matrices.</p>

</div>
</div>
</div>
<div class="cell border-box-sizing code_cell rendered">
<div class="input">
<div class="prompt input_prompt">In&nbsp;[3]:</div>
<div class="inner_cell">
    <div class="input_area">
<div class=" highlight hl-ipython3"><pre><span></span><span class="n">q</span> <span class="o">=</span> <span class="n">QuantumRegister</span><span class="p">(</span><span class="mi">1</span><span class="p">)</span>
</pre></div>

    </div>
</div>
</div>

</div>
<div class="cell border-box-sizing text_cell rendered"><div class="prompt input_prompt">
</div><div class="inner_cell">
<div class="text_cell_render border-box-sizing rendered_html">
<h3 id="u-gates">u gates<a class="anchor-link" href="#u-gates">&#182;</a></h3><p>In Qiskit we give you access to the general unitary using the $u3$ gate</p>
$$
u3(\theta, \phi, \lambda) = U(\theta, \phi, \lambda) 
$$
</div>
</div>
</div>
<div class="cell border-box-sizing code_cell rendered">
<div class="input">
<div class="prompt input_prompt">In&nbsp;[4]:</div>
<div class="inner_cell">
    <div class="input_area">
<div class=" highlight hl-ipython3"><pre><span></span><span class="n">qc</span> <span class="o">=</span> <span class="n">QuantumCircuit</span><span class="p">(</span><span class="n">q</span><span class="p">)</span>
<span class="n">qc</span><span class="o">.</span><span class="n">u3</span><span class="p">(</span><span class="n">pi</span><span class="o">/</span><span class="mi">2</span><span class="p">,</span><span class="n">pi</span><span class="o">/</span><span class="mi">2</span><span class="p">,</span><span class="n">pi</span><span class="o">/</span><span class="mi">2</span><span class="p">,</span><span class="n">q</span><span class="p">)</span>
<span class="n">qc</span><span class="o">.</span><span class="n">draw</span><span class="p">()</span>
</pre></div>

    </div>
</div>
</div>

<div class="output_wrapper">
<div class="output">


<div class="output_area">

    <div class="prompt output_prompt">Out[4]:</div>



<div class="output_html rendered_html output_subarea output_execute_result">
<pre style="word-wrap: normal;white-space: pre;background: #fff0;line-height: 1.1;font-family: &quot;Courier New&quot;,Courier,monospace">         ┌────────────────────┐
q0_0: |0>┤ U3(pi/2,pi/2,pi/2) ├
         └────────────────────┘</pre>
</div>

</div>

</div>
</div>

</div>
<div class="cell border-box-sizing code_cell rendered">
<div class="input">
<div class="prompt input_prompt">In&nbsp;[5]:</div>
<div class="inner_cell">
    <div class="input_area">
<div class=" highlight hl-ipython3"><pre><span></span><span class="n">job</span> <span class="o">=</span> <span class="n">execute</span><span class="p">(</span><span class="n">qc</span><span class="p">,</span> <span class="n">backend</span><span class="p">)</span>
<span class="n">job</span><span class="o">.</span><span class="n">result</span><span class="p">()</span><span class="o">.</span><span class="n">get_unitary</span><span class="p">(</span><span class="n">qc</span><span class="p">,</span> <span class="n">decimals</span><span class="o">=</span><span class="mi">3</span><span class="p">)</span>
</pre></div>

    </div>
</div>
</div>

<div class="output_wrapper">
<div class="output">


<div class="output_area">

    <div class="prompt output_prompt">Out[5]:</div>




<div class="output_text output_subarea output_execute_result">
<pre>array([[ 0.707+0.j   ,  0.   -0.707j],
       [ 0.   +0.707j, -0.707+0.j   ]])</pre>
</div>

</div>

</div>
</div>

</div>
<div class="cell border-box-sizing text_cell rendered"><div class="prompt input_prompt">
</div><div class="inner_cell">
<div class="text_cell_render border-box-sizing rendered_html">
<p>The $u2(\phi, \lambda) =u3(\pi/2, \phi, \lambda)$ gate has the matrix form</p>
$$
u2(\phi, \lambda) = 
\frac{1}{\sqrt{2}} \begin{pmatrix}
1 &amp; -e^{i\lambda} \\
e^{i\phi} &amp; e^{i(\phi + \lambda)}
\end{pmatrix}.
$$<p>This is a useful gate as it allows us to create superpositions.</p>

</div>
</div>
</div>
<div class="cell border-box-sizing code_cell rendered">
<div class="input">
<div class="prompt input_prompt">In&nbsp;[6]:</div>
<div class="inner_cell">
    <div class="input_area">
<div class=" highlight hl-ipython3"><pre><span></span><span class="n">qc</span> <span class="o">=</span> <span class="n">QuantumCircuit</span><span class="p">(</span><span class="n">q</span><span class="p">)</span>
<span class="n">qc</span><span class="o">.</span><span class="n">u2</span><span class="p">(</span><span class="n">pi</span><span class="o">/</span><span class="mi">2</span><span class="p">,</span><span class="n">pi</span><span class="o">/</span><span class="mi">2</span><span class="p">,</span><span class="n">q</span><span class="p">)</span>
<span class="n">qc</span><span class="o">.</span><span class="n">draw</span><span class="p">()</span>
</pre></div>

    </div>
</div>
</div>

<div class="output_wrapper">
<div class="output">


<div class="output_area">

    <div class="prompt output_prompt">Out[6]:</div>



<div class="output_html rendered_html output_subarea output_execute_result">
<pre style="word-wrap: normal;white-space: pre;background: #fff0;line-height: 1.1;font-family: &quot;Courier New&quot;,Courier,monospace">         ┌───────────────┐
q0_0: |0>┤ U2(pi/2,pi/2) ├
         └───────────────┘</pre>
</div>

</div>

</div>
</div>

</div>
<div class="cell border-box-sizing code_cell rendered">
<div class="input">
<div class="prompt input_prompt">In&nbsp;[7]:</div>
<div class="inner_cell">
    <div class="input_area">
<div class=" highlight hl-ipython3"><pre><span></span><span class="n">job</span> <span class="o">=</span> <span class="n">execute</span><span class="p">(</span><span class="n">qc</span><span class="p">,</span> <span class="n">backend</span><span class="p">)</span>
<span class="n">job</span><span class="o">.</span><span class="n">result</span><span class="p">()</span><span class="o">.</span><span class="n">get_unitary</span><span class="p">(</span><span class="n">qc</span><span class="p">,</span> <span class="n">decimals</span><span class="o">=</span><span class="mi">3</span><span class="p">)</span>
</pre></div>

    </div>
</div>
</div>

<div class="output_wrapper">
<div class="output">


<div class="output_area">

    <div class="prompt output_prompt">Out[7]:</div>




<div class="output_text output_subarea output_execute_result">
<pre>array([[ 0.707+0.j   ,  0.   -0.707j],
       [ 0.   +0.707j, -0.707+0.j   ]])</pre>
</div>

</div>

</div>
</div>

</div>
<div class="cell border-box-sizing text_cell rendered"><div class="prompt input_prompt">
</div><div class="inner_cell">
<div class="text_cell_render border-box-sizing rendered_html">
<p>The $u1(\lambda)= u3(0, 0, \lambda)$ gate has the matrix form</p>
$$
u1(\lambda) = 
\begin{pmatrix}
1 &amp; 0 \\
0 &amp; e^{i \lambda}
\end{pmatrix},
$$<p>which is useful as it allows us to apply a quantum phase.</p>

</div>
</div>
</div>
<div class="cell border-box-sizing code_cell rendered">
<div class="input">
<div class="prompt input_prompt">In&nbsp;[8]:</div>
<div class="inner_cell">
    <div class="input_area">
<div class=" highlight hl-ipython3"><pre><span></span><span class="n">qc</span> <span class="o">=</span> <span class="n">QuantumCircuit</span><span class="p">(</span><span class="n">q</span><span class="p">)</span>
<span class="n">qc</span><span class="o">.</span><span class="n">u1</span><span class="p">(</span><span class="n">pi</span><span class="o">/</span><span class="mi">2</span><span class="p">,</span><span class="n">q</span><span class="p">)</span>
<span class="n">qc</span><span class="o">.</span><span class="n">draw</span><span class="p">()</span>
</pre></div>

    </div>
</div>
</div>

<div class="output_wrapper">
<div class="output">


<div class="output_area">

    <div class="prompt output_prompt">Out[8]:</div>



<div class="output_html rendered_html output_subarea output_execute_result">
<pre style="word-wrap: normal;white-space: pre;background: #fff0;line-height: 1.1;font-family: &quot;Courier New&quot;,Courier,monospace">         ┌──────────┐
q0_0: |0>┤ U1(pi/2) ├
         └──────────┘</pre>
</div>

</div>

</div>
</div>

</div>
<div class="cell border-box-sizing code_cell rendered">
<div class="input">
<div class="prompt input_prompt">In&nbsp;[9]:</div>
<div class="inner_cell">
    <div class="input_area">
<div class=" highlight hl-ipython3"><pre><span></span><span class="n">job</span> <span class="o">=</span> <span class="n">execute</span><span class="p">(</span><span class="n">qc</span><span class="p">,</span> <span class="n">backend</span><span class="p">)</span>
<span class="n">job</span><span class="o">.</span><span class="n">result</span><span class="p">()</span><span class="o">.</span><span class="n">get_unitary</span><span class="p">(</span><span class="n">qc</span><span class="p">,</span> <span class="n">decimals</span><span class="o">=</span><span class="mi">3</span><span class="p">)</span>
</pre></div>

    </div>
</div>
</div>

<div class="output_wrapper">
<div class="output">


<div class="output_area">

    <div class="prompt output_prompt">Out[9]:</div>




<div class="output_text output_subarea output_execute_result">
<pre>array([[1.+0.j, 0.+0.j],
       [0.+0.j, 0.+1.j]])</pre>
</div>

</div>

</div>
</div>

</div>
<div class="cell border-box-sizing text_cell rendered"><div class="prompt input_prompt">
</div><div class="inner_cell">
<div class="text_cell_render border-box-sizing rendered_html">
<h3 id="Identity-gate">Identity gate<a class="anchor-link" href="#Identity-gate">&#182;</a></h3><p>The identity gate is $Id = u0(1)$.</p>

</div>
</div>
</div>
<div class="cell border-box-sizing code_cell rendered">
<div class="input">
<div class="prompt input_prompt">In&nbsp;[10]:</div>
<div class="inner_cell">
    <div class="input_area">
<div class=" highlight hl-ipython3"><pre><span></span><span class="n">qc</span> <span class="o">=</span> <span class="n">QuantumCircuit</span><span class="p">(</span><span class="n">q</span><span class="p">)</span>
<span class="n">qc</span><span class="o">.</span><span class="n">iden</span><span class="p">(</span><span class="n">q</span><span class="p">)</span>
<span class="n">qc</span><span class="o">.</span><span class="n">draw</span><span class="p">()</span>
</pre></div>

    </div>
</div>
</div>

<div class="output_wrapper">
<div class="output">


<div class="output_area">

    <div class="prompt output_prompt">Out[10]:</div>



<div class="output_html rendered_html output_subarea output_execute_result">
<pre style="word-wrap: normal;white-space: pre;background: #fff0;line-height: 1.1;font-family: &quot;Courier New&quot;,Courier,monospace">         ┌────┐
q0_0: |0>┤ Id ├
         └────┘</pre>
</div>

</div>

</div>
</div>

</div>
<div class="cell border-box-sizing code_cell rendered">
<div class="input">
<div class="prompt input_prompt">In&nbsp;[11]:</div>
<div class="inner_cell">
    <div class="input_area">
<div class=" highlight hl-ipython3"><pre><span></span><span class="n">job</span> <span class="o">=</span> <span class="n">execute</span><span class="p">(</span><span class="n">qc</span><span class="p">,</span> <span class="n">backend</span><span class="p">)</span>
<span class="n">job</span><span class="o">.</span><span class="n">result</span><span class="p">()</span><span class="o">.</span><span class="n">get_unitary</span><span class="p">(</span><span class="n">qc</span><span class="p">,</span> <span class="n">decimals</span><span class="o">=</span><span class="mi">3</span><span class="p">)</span>
</pre></div>

    </div>
</div>
</div>

<div class="output_wrapper">
<div class="output">


<div class="output_area">

    <div class="prompt output_prompt">Out[11]:</div>




<div class="output_text output_subarea output_execute_result">
<pre>array([[1.+0.j, 0.+0.j],
       [0.+0.j, 1.+0.j]])</pre>
</div>

</div>

</div>
</div>

</div>
<div class="cell border-box-sizing text_cell rendered"><div class="prompt input_prompt">
</div><div class="inner_cell">
<div class="text_cell_render border-box-sizing rendered_html">
<h3 id="Pauli-gates">Pauli gates<a class="anchor-link" href="#Pauli-gates">&#182;</a></h3><h4 id="$X$:-bit-flip-gate">$X$: bit-flip gate<a class="anchor-link" href="#$X$:-bit-flip-gate">&#182;</a></h4><p>The bit-flip gate $X$ is defined as:</p>
$$
X   =  
\begin{pmatrix}
0 &amp; 1\\
1 &amp; 0
\end{pmatrix}= u3(\pi,0,\pi)
$$
</div>
</div>
</div>
<div class="cell border-box-sizing code_cell rendered">
<div class="input">
<div class="prompt input_prompt">In&nbsp;[12]:</div>
<div class="inner_cell">
    <div class="input_area">
<div class=" highlight hl-ipython3"><pre><span></span><span class="n">qc</span> <span class="o">=</span> <span class="n">QuantumCircuit</span><span class="p">(</span><span class="n">q</span><span class="p">)</span>
<span class="n">qc</span><span class="o">.</span><span class="n">x</span><span class="p">(</span><span class="n">q</span><span class="p">)</span>
<span class="n">qc</span><span class="o">.</span><span class="n">draw</span><span class="p">()</span>
</pre></div>

    </div>
</div>
</div>

<div class="output_wrapper">
<div class="output">


<div class="output_area">

    <div class="prompt output_prompt">Out[12]:</div>



<div class="output_html rendered_html output_subarea output_execute_result">
<pre style="word-wrap: normal;white-space: pre;background: #fff0;line-height: 1.1;font-family: &quot;Courier New&quot;,Courier,monospace">         ┌───┐
q0_0: |0>┤ X ├
         └───┘</pre>
</div>

</div>

</div>
</div>

</div>
<div class="cell border-box-sizing code_cell rendered">
<div class="input">
<div class="prompt input_prompt">In&nbsp;[13]:</div>
<div class="inner_cell">
    <div class="input_area">
<div class=" highlight hl-ipython3"><pre><span></span><span class="n">job</span> <span class="o">=</span> <span class="n">execute</span><span class="p">(</span><span class="n">qc</span><span class="p">,</span> <span class="n">backend</span><span class="p">)</span>
<span class="n">job</span><span class="o">.</span><span class="n">result</span><span class="p">()</span><span class="o">.</span><span class="n">get_unitary</span><span class="p">(</span><span class="n">qc</span><span class="p">,</span> <span class="n">decimals</span><span class="o">=</span><span class="mi">3</span><span class="p">)</span>
</pre></div>

    </div>
</div>
</div>

<div class="output_wrapper">
<div class="output">


<div class="output_area">

    <div class="prompt output_prompt">Out[13]:</div>




<div class="output_text output_subarea output_execute_result">
<pre>array([[0.+0.j, 1.+0.j],
       [1.+0.j, 0.+0.j]])</pre>
</div>

</div>

</div>
</div>

</div>
<div class="cell border-box-sizing text_cell rendered"><div class="prompt input_prompt">
</div><div class="inner_cell">
<div class="text_cell_render border-box-sizing rendered_html">
<h4 id="$Y$:-bit--and-phase-flip-gate">$Y$: bit- and phase-flip gate<a class="anchor-link" href="#$Y$:-bit--and-phase-flip-gate">&#182;</a></h4><p>The $Y$ gate is defined as:</p>
$$
Y  = 
\begin{pmatrix}
0 &amp; -i\\
i &amp; 0
\end{pmatrix}=u3(\pi,\pi/2,\pi/2)
$$
</div>
</div>
</div>
<div class="cell border-box-sizing code_cell rendered">
<div class="input">
<div class="prompt input_prompt">In&nbsp;[14]:</div>
<div class="inner_cell">
    <div class="input_area">
<div class=" highlight hl-ipython3"><pre><span></span><span class="n">qc</span> <span class="o">=</span> <span class="n">QuantumCircuit</span><span class="p">(</span><span class="n">q</span><span class="p">)</span>
<span class="n">qc</span><span class="o">.</span><span class="n">y</span><span class="p">(</span><span class="n">q</span><span class="p">)</span>
<span class="n">qc</span><span class="o">.</span><span class="n">draw</span><span class="p">()</span>
</pre></div>

    </div>
</div>
</div>

<div class="output_wrapper">
<div class="output">


<div class="output_area">

    <div class="prompt output_prompt">Out[14]:</div>



<div class="output_html rendered_html output_subarea output_execute_result">
<pre style="word-wrap: normal;white-space: pre;background: #fff0;line-height: 1.1;font-family: &quot;Courier New&quot;,Courier,monospace">         ┌───┐
q0_0: |0>┤ Y ├
         └───┘</pre>
</div>

</div>

</div>
</div>

</div>
<div class="cell border-box-sizing code_cell rendered">
<div class="input">
<div class="prompt input_prompt">In&nbsp;[15]:</div>
<div class="inner_cell">
    <div class="input_area">
<div class=" highlight hl-ipython3"><pre><span></span><span class="n">job</span> <span class="o">=</span> <span class="n">execute</span><span class="p">(</span><span class="n">qc</span><span class="p">,</span> <span class="n">backend</span><span class="p">)</span>
<span class="n">job</span><span class="o">.</span><span class="n">result</span><span class="p">()</span><span class="o">.</span><span class="n">get_unitary</span><span class="p">(</span><span class="n">qc</span><span class="p">,</span> <span class="n">decimals</span><span class="o">=</span><span class="mi">3</span><span class="p">)</span>
</pre></div>

    </div>
</div>
</div>

<div class="output_wrapper">
<div class="output">


<div class="output_area">

    <div class="prompt output_prompt">Out[15]:</div>




<div class="output_text output_subarea output_execute_result">
<pre>array([[0.+0.j, 0.-1.j],
       [0.+1.j, 0.+0.j]])</pre>
</div>

</div>

</div>
</div>

</div>
<div class="cell border-box-sizing text_cell rendered"><div class="prompt input_prompt">
</div><div class="inner_cell">
<div class="text_cell_render border-box-sizing rendered_html">
<h4 id="$Z$:-phase-flip-gate">$Z$: phase-flip gate<a class="anchor-link" href="#$Z$:-phase-flip-gate">&#182;</a></h4><p>The phase-flip gate $Z$ is defined as:</p>
$$
Z = 
\begin{pmatrix}
1 &amp; 0\\
0 &amp; -1
\end{pmatrix}=u1(\pi)
$$
</div>
</div>
</div>
<div class="cell border-box-sizing code_cell rendered">
<div class="input">
<div class="prompt input_prompt">In&nbsp;[16]:</div>
<div class="inner_cell">
    <div class="input_area">
<div class=" highlight hl-ipython3"><pre><span></span><span class="n">qc</span> <span class="o">=</span> <span class="n">QuantumCircuit</span><span class="p">(</span><span class="n">q</span><span class="p">)</span>
<span class="n">qc</span><span class="o">.</span><span class="n">z</span><span class="p">(</span><span class="n">q</span><span class="p">)</span>
<span class="n">qc</span><span class="o">.</span><span class="n">draw</span><span class="p">()</span>
</pre></div>

    </div>
</div>
</div>

<div class="output_wrapper">
<div class="output">


<div class="output_area">

    <div class="prompt output_prompt">Out[16]:</div>



<div class="output_html rendered_html output_subarea output_execute_result">
<pre style="word-wrap: normal;white-space: pre;background: #fff0;line-height: 1.1;font-family: &quot;Courier New&quot;,Courier,monospace">         ┌───┐
q0_0: |0>┤ Z ├
         └───┘</pre>
</div>

</div>

</div>
</div>

</div>
<div class="cell border-box-sizing code_cell rendered">
<div class="input">
<div class="prompt input_prompt">In&nbsp;[17]:</div>
<div class="inner_cell">
    <div class="input_area">
<div class=" highlight hl-ipython3"><pre><span></span><span class="n">job</span> <span class="o">=</span> <span class="n">execute</span><span class="p">(</span><span class="n">qc</span><span class="p">,</span> <span class="n">backend</span><span class="p">)</span>
<span class="n">job</span><span class="o">.</span><span class="n">result</span><span class="p">()</span><span class="o">.</span><span class="n">get_unitary</span><span class="p">(</span><span class="n">qc</span><span class="p">,</span> <span class="n">decimals</span><span class="o">=</span><span class="mi">3</span><span class="p">)</span>
</pre></div>

    </div>
</div>
</div>

<div class="output_wrapper">
<div class="output">


<div class="output_area">

    <div class="prompt output_prompt">Out[17]:</div>




<div class="output_text output_subarea output_execute_result">
<pre>array([[ 1.+0.j,  0.+0.j],
       [ 0.+0.j, -1.+0.j]])</pre>
</div>

</div>

</div>
</div>

</div>
<div class="cell border-box-sizing text_cell rendered"><div class="prompt input_prompt">
</div><div class="inner_cell">
<div class="text_cell_render border-box-sizing rendered_html">
<h3 id="Clifford-gates">Clifford gates<a class="anchor-link" href="#Clifford-gates">&#182;</a></h3><h4 id="Hadamard-gate">Hadamard gate<a class="anchor-link" href="#Hadamard-gate">&#182;</a></h4>$$
H = 
\frac{1}{\sqrt{2}}
\begin{pmatrix}
1 &amp; 1\\
1 &amp; -1
\end{pmatrix}= u2(0,\pi)
$$
</div>
</div>
</div>
<div class="cell border-box-sizing code_cell rendered">
<div class="input">
<div class="prompt input_prompt">In&nbsp;[18]:</div>
<div class="inner_cell">
    <div class="input_area">
<div class=" highlight hl-ipython3"><pre><span></span><span class="n">qc</span> <span class="o">=</span> <span class="n">QuantumCircuit</span><span class="p">(</span><span class="n">q</span><span class="p">)</span>
<span class="n">qc</span><span class="o">.</span><span class="n">h</span><span class="p">(</span><span class="n">q</span><span class="p">)</span>
<span class="n">qc</span><span class="o">.</span><span class="n">draw</span><span class="p">()</span>
</pre></div>

    </div>
</div>
</div>

<div class="output_wrapper">
<div class="output">


<div class="output_area">

    <div class="prompt output_prompt">Out[18]:</div>



<div class="output_html rendered_html output_subarea output_execute_result">
<pre style="word-wrap: normal;white-space: pre;background: #fff0;line-height: 1.1;font-family: &quot;Courier New&quot;,Courier,monospace">         ┌───┐
q0_0: |0>┤ H ├
         └───┘</pre>
</div>

</div>

</div>
</div>

</div>
<div class="cell border-box-sizing code_cell rendered">
<div class="input">
<div class="prompt input_prompt">In&nbsp;[19]:</div>
<div class="inner_cell">
    <div class="input_area">
<div class=" highlight hl-ipython3"><pre><span></span><span class="n">job</span> <span class="o">=</span> <span class="n">execute</span><span class="p">(</span><span class="n">qc</span><span class="p">,</span> <span class="n">backend</span><span class="p">)</span>
<span class="n">job</span><span class="o">.</span><span class="n">result</span><span class="p">()</span><span class="o">.</span><span class="n">get_unitary</span><span class="p">(</span><span class="n">qc</span><span class="p">,</span> <span class="n">decimals</span><span class="o">=</span><span class="mi">3</span><span class="p">)</span>
</pre></div>

    </div>
</div>
</div>

<div class="output_wrapper">
<div class="output">


<div class="output_area">

    <div class="prompt output_prompt">Out[19]:</div>




<div class="output_text output_subarea output_execute_result">
<pre>array([[ 0.707+0.j,  0.707+0.j],
       [ 0.707+0.j, -0.707+0.j]])</pre>
</div>

</div>

</div>
</div>

</div>
<div class="cell border-box-sizing text_cell rendered"><div class="prompt input_prompt">
</div><div class="inner_cell">
<div class="text_cell_render border-box-sizing rendered_html">
<h4 id="$S$-(or,-$\sqrt{Z}$-phase)-gate">$S$ (or, $\sqrt{Z}$ phase) gate<a class="anchor-link" href="#$S$-(or,-$\sqrt{Z}$-phase)-gate">&#182;</a></h4>$$
S = 
\begin{pmatrix}
1 &amp; 0\\
0 &amp; i
\end{pmatrix}= u1(\pi/2)
$$
</div>
</div>
</div>
<div class="cell border-box-sizing code_cell rendered">
<div class="input">
<div class="prompt input_prompt">In&nbsp;[20]:</div>
<div class="inner_cell">
    <div class="input_area">
<div class=" highlight hl-ipython3"><pre><span></span><span class="n">qc</span> <span class="o">=</span> <span class="n">QuantumCircuit</span><span class="p">(</span><span class="n">q</span><span class="p">)</span>
<span class="n">qc</span><span class="o">.</span><span class="n">s</span><span class="p">(</span><span class="n">q</span><span class="p">)</span>
<span class="n">qc</span><span class="o">.</span><span class="n">draw</span><span class="p">()</span>
</pre></div>

    </div>
</div>
</div>

<div class="output_wrapper">
<div class="output">


<div class="output_area">

    <div class="prompt output_prompt">Out[20]:</div>



<div class="output_html rendered_html output_subarea output_execute_result">
<pre style="word-wrap: normal;white-space: pre;background: #fff0;line-height: 1.1;font-family: &quot;Courier New&quot;,Courier,monospace">         ┌───┐
q0_0: |0>┤ S ├
         └───┘</pre>
</div>

</div>

</div>
</div>

</div>
<div class="cell border-box-sizing code_cell rendered">
<div class="input">
<div class="prompt input_prompt">In&nbsp;[21]:</div>
<div class="inner_cell">
    <div class="input_area">
<div class=" highlight hl-ipython3"><pre><span></span><span class="n">job</span> <span class="o">=</span> <span class="n">execute</span><span class="p">(</span><span class="n">qc</span><span class="p">,</span> <span class="n">backend</span><span class="p">)</span>
<span class="n">job</span><span class="o">.</span><span class="n">result</span><span class="p">()</span><span class="o">.</span><span class="n">get_unitary</span><span class="p">(</span><span class="n">qc</span><span class="p">,</span> <span class="n">decimals</span><span class="o">=</span><span class="mi">3</span><span class="p">)</span>
</pre></div>

    </div>
</div>
</div>

<div class="output_wrapper">
<div class="output">


<div class="output_area">

    <div class="prompt output_prompt">Out[21]:</div>




<div class="output_text output_subarea output_execute_result">
<pre>array([[1.+0.j, 0.+0.j],
       [0.+0.j, 0.+1.j]])</pre>
</div>

</div>

</div>
</div>

</div>
<div class="cell border-box-sizing text_cell rendered"><div class="prompt input_prompt">
</div><div class="inner_cell">
<div class="text_cell_render border-box-sizing rendered_html">
<h4 id="$S^{\dagger}$-(or,-conjugate-of-$\sqrt{Z}$-phase)-gate">$S^{\dagger}$ (or, conjugate of $\sqrt{Z}$ phase) gate<a class="anchor-link" href="#$S^{\dagger}$-(or,-conjugate-of-$\sqrt{Z}$-phase)-gate">&#182;</a></h4>$$
S^{\dagger} = 
\begin{pmatrix}
1 &amp; 0\\
0 &amp; -i
\end{pmatrix}= u1(-\pi/2)
$$
</div>
</div>
</div>
<div class="cell border-box-sizing code_cell rendered">
<div class="input">
<div class="prompt input_prompt">In&nbsp;[22]:</div>
<div class="inner_cell">
    <div class="input_area">
<div class=" highlight hl-ipython3"><pre><span></span><span class="n">qc</span> <span class="o">=</span> <span class="n">QuantumCircuit</span><span class="p">(</span><span class="n">q</span><span class="p">)</span>
<span class="n">qc</span><span class="o">.</span><span class="n">sdg</span><span class="p">(</span><span class="n">q</span><span class="p">)</span>
<span class="n">qc</span><span class="o">.</span><span class="n">draw</span><span class="p">()</span>
</pre></div>

    </div>
</div>
</div>

<div class="output_wrapper">
<div class="output">


<div class="output_area">

    <div class="prompt output_prompt">Out[22]:</div>



<div class="output_html rendered_html output_subarea output_execute_result">
<pre style="word-wrap: normal;white-space: pre;background: #fff0;line-height: 1.1;font-family: &quot;Courier New&quot;,Courier,monospace">         ┌─────┐
q0_0: |0>┤ Sdg ├
         └─────┘</pre>
</div>

</div>

</div>
</div>

</div>
<div class="cell border-box-sizing code_cell rendered">
<div class="input">
<div class="prompt input_prompt">In&nbsp;[23]:</div>
<div class="inner_cell">
    <div class="input_area">
<div class=" highlight hl-ipython3"><pre><span></span><span class="n">job</span> <span class="o">=</span> <span class="n">execute</span><span class="p">(</span><span class="n">qc</span><span class="p">,</span> <span class="n">backend</span><span class="p">)</span>
<span class="n">job</span><span class="o">.</span><span class="n">result</span><span class="p">()</span><span class="o">.</span><span class="n">get_unitary</span><span class="p">(</span><span class="n">qc</span><span class="p">,</span> <span class="n">decimals</span><span class="o">=</span><span class="mi">3</span><span class="p">)</span>
</pre></div>

    </div>
</div>
</div>

<div class="output_wrapper">
<div class="output">


<div class="output_area">

    <div class="prompt output_prompt">Out[23]:</div>




<div class="output_text output_subarea output_execute_result">
<pre>array([[1.+0.j, 0.+0.j],
       [0.+0.j, 0.-1.j]])</pre>
</div>

</div>

</div>
</div>

</div>
<div class="cell border-box-sizing text_cell rendered"><div class="prompt input_prompt">
</div><div class="inner_cell">
<div class="text_cell_render border-box-sizing rendered_html">
<h3 id="$C3$-gates">$C3$ gates<a class="anchor-link" href="#$C3$-gates">&#182;</a></h3><h4 id="$T$-(or,-$\sqrt{S}$-phase)-gate">$T$ (or, $\sqrt{S}$ phase) gate<a class="anchor-link" href="#$T$-(or,-$\sqrt{S}$-phase)-gate">&#182;</a></h4>$$
T = 
\begin{pmatrix}
1 &amp; 0\\
0 &amp; e^{i \pi/4}
\end{pmatrix}= u1(\pi/4) 
$$
</div>
</div>
</div>
<div class="cell border-box-sizing code_cell rendered">
<div class="input">
<div class="prompt input_prompt">In&nbsp;[24]:</div>
<div class="inner_cell">
    <div class="input_area">
<div class=" highlight hl-ipython3"><pre><span></span><span class="n">qc</span> <span class="o">=</span> <span class="n">QuantumCircuit</span><span class="p">(</span><span class="n">q</span><span class="p">)</span>
<span class="n">qc</span><span class="o">.</span><span class="n">t</span><span class="p">(</span><span class="n">q</span><span class="p">)</span>
<span class="n">qc</span><span class="o">.</span><span class="n">draw</span><span class="p">()</span>
</pre></div>

    </div>
</div>
</div>

<div class="output_wrapper">
<div class="output">


<div class="output_area">

    <div class="prompt output_prompt">Out[24]:</div>



<div class="output_html rendered_html output_subarea output_execute_result">
<pre style="word-wrap: normal;white-space: pre;background: #fff0;line-height: 1.1;font-family: &quot;Courier New&quot;,Courier,monospace">         ┌───┐
q0_0: |0>┤ T ├
         └───┘</pre>
</div>

</div>

</div>
</div>

</div>
<div class="cell border-box-sizing code_cell rendered">
<div class="input">
<div class="prompt input_prompt">In&nbsp;[25]:</div>
<div class="inner_cell">
    <div class="input_area">
<div class=" highlight hl-ipython3"><pre><span></span><span class="n">job</span> <span class="o">=</span> <span class="n">execute</span><span class="p">(</span><span class="n">qc</span><span class="p">,</span> <span class="n">backend</span><span class="p">)</span>
<span class="n">job</span><span class="o">.</span><span class="n">result</span><span class="p">()</span><span class="o">.</span><span class="n">get_unitary</span><span class="p">(</span><span class="n">qc</span><span class="p">,</span> <span class="n">decimals</span><span class="o">=</span><span class="mi">3</span><span class="p">)</span>
</pre></div>

    </div>
</div>
</div>

<div class="output_wrapper">
<div class="output">


<div class="output_area">

    <div class="prompt output_prompt">Out[25]:</div>




<div class="output_text output_subarea output_execute_result">
<pre>array([[1.   +0.j   , 0.   +0.j   ],
       [0.   +0.j   , 0.707+0.707j]])</pre>
</div>

</div>

</div>
</div>

</div>
<div class="cell border-box-sizing text_cell rendered"><div class="prompt input_prompt">
</div><div class="inner_cell">
<div class="text_cell_render border-box-sizing rendered_html">
<h4 id="$T^{\dagger}$-(or,-conjugate-of-$\sqrt{S}$-phase)-gate">$T^{\dagger}$ (or, conjugate of $\sqrt{S}$ phase) gate<a class="anchor-link" href="#$T^{\dagger}$-(or,-conjugate-of-$\sqrt{S}$-phase)-gate">&#182;</a></h4>$$
T^{\dagger} =  
\begin{pmatrix}
1 &amp; 0\\
0 &amp; e^{-i \pi/4}
\end{pmatrix}= u1(-pi/4)
$$
</div>
</div>
</div>
<div class="cell border-box-sizing code_cell rendered">
<div class="input">
<div class="prompt input_prompt">In&nbsp;[26]:</div>
<div class="inner_cell">
    <div class="input_area">
<div class=" highlight hl-ipython3"><pre><span></span><span class="n">qc</span> <span class="o">=</span> <span class="n">QuantumCircuit</span><span class="p">(</span><span class="n">q</span><span class="p">)</span>
<span class="n">qc</span><span class="o">.</span><span class="n">tdg</span><span class="p">(</span><span class="n">q</span><span class="p">)</span>
<span class="n">qc</span><span class="o">.</span><span class="n">draw</span><span class="p">()</span>
</pre></div>

    </div>
</div>
</div>

<div class="output_wrapper">
<div class="output">


<div class="output_area">

    <div class="prompt output_prompt">Out[26]:</div>



<div class="output_html rendered_html output_subarea output_execute_result">
<pre style="word-wrap: normal;white-space: pre;background: #fff0;line-height: 1.1;font-family: &quot;Courier New&quot;,Courier,monospace">         ┌─────┐
q0_0: |0>┤ Tdg ├
         └─────┘</pre>
</div>

</div>

</div>
</div>

</div>
<div class="cell border-box-sizing code_cell rendered">
<div class="input">
<div class="prompt input_prompt">In&nbsp;[27]:</div>
<div class="inner_cell">
    <div class="input_area">
<div class=" highlight hl-ipython3"><pre><span></span><span class="n">job</span> <span class="o">=</span> <span class="n">execute</span><span class="p">(</span><span class="n">qc</span><span class="p">,</span> <span class="n">backend</span><span class="p">)</span>
<span class="n">job</span><span class="o">.</span><span class="n">result</span><span class="p">()</span><span class="o">.</span><span class="n">get_unitary</span><span class="p">(</span><span class="n">qc</span><span class="p">,</span> <span class="n">decimals</span><span class="o">=</span><span class="mi">3</span><span class="p">)</span>
</pre></div>

    </div>
</div>
</div>

<div class="output_wrapper">
<div class="output">


<div class="output_area">

    <div class="prompt output_prompt">Out[27]:</div>




<div class="output_text output_subarea output_execute_result">
<pre>array([[1.   +0.j   , 0.   +0.j   ],
       [0.   +0.j   , 0.707-0.707j]])</pre>
</div>

</div>

</div>
</div>

</div>
<div class="cell border-box-sizing text_cell rendered"><div class="prompt input_prompt">
</div><div class="inner_cell">
<div class="text_cell_render border-box-sizing rendered_html">
<h3 id="Standard-Rotations">Standard Rotations<a class="anchor-link" href="#Standard-Rotations">&#182;</a></h3><p>The standard rotation gates are those that define rotations around the Paulis $P=\{X,Y,Z\}$. They are defined as</p>
$$ R_P(\theta) = \exp(-i \theta P/2) = \cos(\theta/2)I -i \sin(\theta/2)P$$<h4 id="Rotation-around-X-axis">Rotation around X-axis<a class="anchor-link" href="#Rotation-around-X-axis">&#182;</a></h4>$$
R_x(\theta) = 
\begin{pmatrix}
\cos(\theta/2) &amp; -i\sin(\theta/2)\\
-i\sin(\theta/2) &amp; \cos(\theta/2)
\end{pmatrix} = u3(\theta, -\pi/2,\pi/2)
$$
</div>
</div>
</div>
<div class="cell border-box-sizing code_cell rendered">
<div class="input">
<div class="prompt input_prompt">In&nbsp;[28]:</div>
<div class="inner_cell">
    <div class="input_area">
<div class=" highlight hl-ipython3"><pre><span></span><span class="n">qc</span> <span class="o">=</span> <span class="n">QuantumCircuit</span><span class="p">(</span><span class="n">q</span><span class="p">)</span>
<span class="n">qc</span><span class="o">.</span><span class="n">rx</span><span class="p">(</span><span class="n">pi</span><span class="o">/</span><span class="mi">2</span><span class="p">,</span><span class="n">q</span><span class="p">)</span>
<span class="n">qc</span><span class="o">.</span><span class="n">draw</span><span class="p">()</span>
</pre></div>

    </div>
</div>
</div>

<div class="output_wrapper">
<div class="output">


<div class="output_area">

    <div class="prompt output_prompt">Out[28]:</div>



<div class="output_html rendered_html output_subarea output_execute_result">
<pre style="word-wrap: normal;white-space: pre;background: #fff0;line-height: 1.1;font-family: &quot;Courier New&quot;,Courier,monospace">         ┌──────────┐
q0_0: |0>┤ Rx(pi/2) ├
         └──────────┘</pre>
</div>

</div>

</div>
</div>

</div>
<div class="cell border-box-sizing code_cell rendered">
<div class="input">
<div class="prompt input_prompt">In&nbsp;[29]:</div>
<div class="inner_cell">
    <div class="input_area">
<div class=" highlight hl-ipython3"><pre><span></span><span class="n">job</span> <span class="o">=</span> <span class="n">execute</span><span class="p">(</span><span class="n">qc</span><span class="p">,</span> <span class="n">backend</span><span class="p">)</span>
<span class="n">job</span><span class="o">.</span><span class="n">result</span><span class="p">()</span><span class="o">.</span><span class="n">get_unitary</span><span class="p">(</span><span class="n">qc</span><span class="p">,</span> <span class="n">decimals</span><span class="o">=</span><span class="mi">3</span><span class="p">)</span>
</pre></div>

    </div>
</div>
</div>

<div class="output_wrapper">
<div class="output">


<div class="output_area">

    <div class="prompt output_prompt">Out[29]:</div>




<div class="output_text output_subarea output_execute_result">
<pre>array([[0.707+0.j   , 0.   -0.707j],
       [0.   -0.707j, 0.707+0.j   ]])</pre>
</div>

</div>

</div>
</div>

</div>
<div class="cell border-box-sizing text_cell rendered"><div class="prompt input_prompt">
</div><div class="inner_cell">
<div class="text_cell_render border-box-sizing rendered_html">
<h4 id="Rotation-around-Y-axis">Rotation around Y-axis<a class="anchor-link" href="#Rotation-around-Y-axis">&#182;</a></h4>$$
R_y(\theta) =
\begin{pmatrix}
\cos(\theta/2) &amp; - \sin(\theta/2)\\
\sin(\theta/2) &amp; \cos(\theta/2).
\end{pmatrix} =u3(\theta,0,0)
$$
</div>
</div>
</div>
<div class="cell border-box-sizing code_cell rendered">
<div class="input">
<div class="prompt input_prompt">In&nbsp;[30]:</div>
<div class="inner_cell">
    <div class="input_area">
<div class=" highlight hl-ipython3"><pre><span></span><span class="n">qc</span> <span class="o">=</span> <span class="n">QuantumCircuit</span><span class="p">(</span><span class="n">q</span><span class="p">)</span>
<span class="n">qc</span><span class="o">.</span><span class="n">ry</span><span class="p">(</span><span class="n">pi</span><span class="o">/</span><span class="mi">2</span><span class="p">,</span><span class="n">q</span><span class="p">)</span>
<span class="n">qc</span><span class="o">.</span><span class="n">draw</span><span class="p">()</span>
</pre></div>

    </div>
</div>
</div>

<div class="output_wrapper">
<div class="output">


<div class="output_area">

    <div class="prompt output_prompt">Out[30]:</div>



<div class="output_html rendered_html output_subarea output_execute_result">
<pre style="word-wrap: normal;white-space: pre;background: #fff0;line-height: 1.1;font-family: &quot;Courier New&quot;,Courier,monospace">         ┌──────────┐
q0_0: |0>┤ Ry(pi/2) ├
         └──────────┘</pre>
</div>

</div>

</div>
</div>

</div>
<div class="cell border-box-sizing code_cell rendered">
<div class="input">
<div class="prompt input_prompt">In&nbsp;[31]:</div>
<div class="inner_cell">
    <div class="input_area">
<div class=" highlight hl-ipython3"><pre><span></span><span class="n">job</span> <span class="o">=</span> <span class="n">execute</span><span class="p">(</span><span class="n">qc</span><span class="p">,</span> <span class="n">backend</span><span class="p">)</span>
<span class="n">job</span><span class="o">.</span><span class="n">result</span><span class="p">()</span><span class="o">.</span><span class="n">get_unitary</span><span class="p">(</span><span class="n">qc</span><span class="p">,</span> <span class="n">decimals</span><span class="o">=</span><span class="mi">3</span><span class="p">)</span>
</pre></div>

    </div>
</div>
</div>

<div class="output_wrapper">
<div class="output">


<div class="output_area">

    <div class="prompt output_prompt">Out[31]:</div>




<div class="output_text output_subarea output_execute_result">
<pre>array([[ 0.707+0.j, -0.707+0.j],
       [ 0.707+0.j,  0.707+0.j]])</pre>
</div>

</div>

</div>
</div>

</div>
<div class="cell border-box-sizing text_cell rendered"><div class="prompt input_prompt">
</div><div class="inner_cell">
<div class="text_cell_render border-box-sizing rendered_html">
<h4 id="Rotation-around-Z-axis">Rotation around Z-axis<a class="anchor-link" href="#Rotation-around-Z-axis">&#182;</a></h4>$$
R_z(\phi) = 
\begin{pmatrix}
e^{-i \phi/2} &amp; 0 \\
0 &amp; e^{i \phi/2}
\end{pmatrix}\equiv u1(\phi)
$$<p>Note that here we have used an equivalent as it is different to u1 by a global phase $e^{-i \phi/2}$.</p>

</div>
</div>
</div>
<div class="cell border-box-sizing code_cell rendered">
<div class="input">
<div class="prompt input_prompt">In&nbsp;[32]:</div>
<div class="inner_cell">
    <div class="input_area">
<div class=" highlight hl-ipython3"><pre><span></span><span class="n">qc</span> <span class="o">=</span> <span class="n">QuantumCircuit</span><span class="p">(</span><span class="n">q</span><span class="p">)</span>
<span class="n">qc</span><span class="o">.</span><span class="n">rz</span><span class="p">(</span><span class="n">pi</span><span class="o">/</span><span class="mi">2</span><span class="p">,</span><span class="n">q</span><span class="p">)</span>
<span class="n">qc</span><span class="o">.</span><span class="n">draw</span><span class="p">()</span>
</pre></div>

    </div>
</div>
</div>

<div class="output_wrapper">
<div class="output">


<div class="output_area">

    <div class="prompt output_prompt">Out[32]:</div>



<div class="output_html rendered_html output_subarea output_execute_result">
<pre style="word-wrap: normal;white-space: pre;background: #fff0;line-height: 1.1;font-family: &quot;Courier New&quot;,Courier,monospace">         ┌──────────┐
q0_0: |0>┤ Rz(pi/2) ├
         └──────────┘</pre>
</div>

</div>

</div>
</div>

</div>
<div class="cell border-box-sizing code_cell rendered">
<div class="input">
<div class="prompt input_prompt">In&nbsp;[33]:</div>
<div class="inner_cell">
    <div class="input_area">
<div class=" highlight hl-ipython3"><pre><span></span><span class="n">job</span> <span class="o">=</span> <span class="n">execute</span><span class="p">(</span><span class="n">qc</span><span class="p">,</span> <span class="n">backend</span><span class="p">)</span>
<span class="n">job</span><span class="o">.</span><span class="n">result</span><span class="p">()</span><span class="o">.</span><span class="n">get_unitary</span><span class="p">(</span><span class="n">qc</span><span class="p">,</span> <span class="n">decimals</span><span class="o">=</span><span class="mi">3</span><span class="p">)</span>
</pre></div>

    </div>
</div>
</div>

<div class="output_wrapper">
<div class="output">


<div class="output_area">

    <div class="prompt output_prompt">Out[33]:</div>




<div class="output_text output_subarea output_execute_result">
<pre>array([[1.+0.j, 0.+0.j],
       [0.+0.j, 0.+1.j]])</pre>
</div>

</div>

</div>
</div>

</div>
<div class="cell border-box-sizing text_cell rendered"><div class="prompt input_prompt">
</div><div class="inner_cell">
<div class="text_cell_render border-box-sizing rendered_html">
<p>Note this is different due only to a global phase.</p>

</div>
</div>
</div>
<div class="cell border-box-sizing text_cell rendered"><div class="prompt input_prompt">
</div><div class="inner_cell">
<div class="text_cell_render border-box-sizing rendered_html">
<h2 id="Multi-Qubit-Gates-">Multi-Qubit Gates <a name="multi_gates" /><a class="anchor-link" href="#Multi-Qubit-Gates-">&#182;</a></h2><h3 id="Mathematical-Preliminaries">Mathematical Preliminaries<a class="anchor-link" href="#Mathematical-Preliminaries">&#182;</a></h3><p>The space of a quantum computer grows exponential with the number of qubits. For $n$ qubits the complex vector space has dimensions $d=2^n$. To describe states of a multi-qubit system, the tensor product is used to "glue together" operators and basis vectors.</p>
<p>Let's start by considering a 2-qubit system. Given two operators $A$ and $B$ that each act on one qubit, the joint operator $A \otimes B$ acting on two qubits is</p>
$$\begin{equation}
    A\otimes B = 
    \begin{pmatrix} 
        A_{00} \begin{pmatrix} 
            B_{00} &amp; B_{01} \\
            B_{10} &amp; B_{11}
        \end{pmatrix} &amp; A_{01}  \begin{pmatrix} 
                B_{00} &amp; B_{01} \\
                B_{10} &amp; B_{11}
            \end{pmatrix} \\
        A_{10}  \begin{pmatrix} 
                    B_{00} &amp; B_{01} \\
                    B_{10} &amp; B_{11}
                \end{pmatrix} &amp; A_{11}  \begin{pmatrix} 
                            B_{00} &amp; B_{01} \\
                            B_{10} &amp; B_{11}
                        \end{pmatrix}
    \end{pmatrix},                      
\end{equation}$$<p>where $A_{jk}$ and $B_{lm}$ are the matrix elements of $A$ and $B$, respectively.</p>
<p>Analogously, the basis vectors for the 2-qubit system are formed using the tensor product of basis vectors for a single qubit:
$$\begin{equation}\begin{split}
    \left|{00}\right\rangle &amp;= \begin{pmatrix} 
        1 \begin{pmatrix} 
            1  \\
            0
        \end{pmatrix} \\
        0 \begin{pmatrix} 
            1  \\
            0 
        \end{pmatrix}
    \end{pmatrix} = \begin{pmatrix} 1 \\ 0 \\ 0 \\0 \end{pmatrix}~~~\left|{01}\right\rangle = \begin{pmatrix} 
    1 \begin{pmatrix} 
    0 \\
    1
    \end{pmatrix} \\
    0 \begin{pmatrix} 
    0  \\
    1 
    \end{pmatrix}
    \end{pmatrix} = \begin{pmatrix}0 \\ 1 \\ 0 \\ 0 \end{pmatrix}\end{split}
\end{equation}$$</p>
$$\begin{equation}\begin{split}\left|{10}\right\rangle = \begin{pmatrix} 
    0\begin{pmatrix} 
    1  \\
    0
    \end{pmatrix} \\
    1\begin{pmatrix} 
    1 \\
    0 
    \end{pmatrix}
    \end{pmatrix} = \begin{pmatrix} 0 \\ 0 \\ 1 \\ 0 \end{pmatrix}~~~   \left|{11}\right\rangle = \begin{pmatrix} 
    0 \begin{pmatrix} 
    0  \\
    1
    \end{pmatrix} \\
    1\begin{pmatrix} 
    0  \\
    1 
    \end{pmatrix}
    \end{pmatrix} = \begin{pmatrix} 0 \\ 0 \\ 0 \\1 \end{pmatrix}\end{split}
\end{equation}.$$<p>Note we've introduced a shorthand for the tensor product of basis vectors, wherein $\left|0\right\rangle \otimes \left|0\right\rangle$ is written as $\left|00\right\rangle$. The state of an $n$-qubit system can be described using the $n$-fold tensor product of single-qubit basis vectors. Notice that the basis vectors for a 2-qubit system are 4-dimensional; in general, the basis vectors of an $n$-qubit sytsem are $2^{n}$-dimensional, as noted earlier.</p>
<h3 id="Basis-vector-ordering-in-Qiskit">Basis vector ordering in Qiskit<a class="anchor-link" href="#Basis-vector-ordering-in-Qiskit">&#182;</a></h3><p>Within the physics community, the qubits of a multi-qubit systems are typically ordered with the first qubit on the left-most side of the tensor product and the last qubit on the right-most side. For instance, if the first qubit is in state $\left|0\right\rangle$ and second is in state $\left|1\right\rangle$, their joint state would be $\left|01\right\rangle$. Qiskit uses a slightly different ordering of the qubits, in which the qubits are represented from the most significant bit (MSB) on the left to the least significant bit (LSB) on the right (big-endian). This is similar to bitstring representation on classical computers, and enables easy conversion from bitstrings to integers after measurements are performed. For the example just given, the joint state would be represented as $\left|10\right\rangle$. Importantly, <em>this change in the representation of multi-qubit states affects the way multi-qubit gates are represented in Qiskit</em>, as discussed below.</p>
<p>The representation used in Qiskit enumerates the basis vectors in increasing order of the integers they represent. For instance, the basis vectors for a 2-qubit system would be ordered as $\left|00\right\rangle$, $\left|01\right\rangle$, $\left|10\right\rangle$, and $\left|11\right\rangle$. Thinking of the basis vectors as bit strings, they encode the integers 0,1,2 and 3, respectively.</p>
<h3 id="Controlled-operations-on-qubits">Controlled operations on qubits<a class="anchor-link" href="#Controlled-operations-on-qubits">&#182;</a></h3><p>A common multi-qubit gate involves the application of a gate to one qubit, conditioned on the state of another qubit. For instance, we might want to flip the state of the second qubit when the first qubit is in $\left|0\right\rangle$. Such gates are known as <em>controlled gates</em>. The standard multi-qubit gates consist of two-qubit gates and three-qubit gates. The two-qubit gates are:</p>
<ul>
<li>controlled Pauli gates</li>
<li>controlled Hadamard gate</li>
<li>controlled rotation gates</li>
<li>controlled phase gate</li>
<li>controlled u3 gate</li>
<li>swap gate</li>
</ul>
<p>The three-qubit gates are:</p>
<ul>
<li>Toffoli gate </li>
<li>Fredkin gate</li>
</ul>

</div>
</div>
</div>
<div class="cell border-box-sizing text_cell rendered"><div class="prompt input_prompt">
</div><div class="inner_cell">
<div class="text_cell_render border-box-sizing rendered_html">
<h2 id="Two-qubit-gates-">Two-qubit gates <a name="two_gates" /><a class="anchor-link" href="#Two-qubit-gates-">&#182;</a></h2><p>Most of the two-qubit gates are of the controlled type (the SWAP gate being the exception). In general, a controlled two-qubit gate $C_{U}$ acts to apply the single-qubit unitary $U$ to the second qubit when the state of the first qubit is in $\left|1\right\rangle$. Suppose $U$ has a matrix representation</p>
$$U = \begin{pmatrix} u_{00} &amp; u_{01} \\ u_{10} &amp; u_{11}\end{pmatrix}.$$<p>We can work out the action of $C_{U}$ as follows. Recall that the basis vectors for a two-qubit system are ordered as $\left|00\right\rangle, \left|01\right\rangle, \left|10\right\rangle, \left|11\right\rangle$. Suppose the <strong>control qubit</strong> is <strong>qubit 0</strong> (which, according to Qiskit's convention, is one the <em>right-hand</em> side of the tensor product). If the control qubit is in $\left|1\right\rangle$, $U$ should be applied to the <strong>target</strong> (qubit 1, on the <em>left-hand</em> side of the tensor product). Therefore, under the action of $C_{U}$, the basis vectors are transformed according to</p>
$$\begin{align*}
C_{U}: \underset{\text{qubit}~1}{\left|0\right\rangle}\otimes \underset{\text{qubit}~0}{\left|0\right\rangle} &amp;\rightarrow \underset{\text{qubit}~1}{\left|0\right\rangle}\otimes \underset{\text{qubit}~0}{\left|0\right\rangle}\\
C_{U}: \underset{\text{qubit}~1}{\left|0\right\rangle}\otimes \underset{\text{qubit}~0}{\left|1\right\rangle} &amp;\rightarrow \underset{\text{qubit}~1}{U\left|0\right\rangle}\otimes \underset{\text{qubit}~0}{\left|1\right\rangle}\\
C_{U}: \underset{\text{qubit}~1}{\left|1\right\rangle}\otimes \underset{\text{qubit}~0}{\left|0\right\rangle} &amp;\rightarrow \underset{\text{qubit}~1}{\left|1\right\rangle}\otimes \underset{\text{qubit}~0}{\left|0\right\rangle}\\
C_{U}: \underset{\text{qubit}~1}{\left|1\right\rangle}\otimes \underset{\text{qubit}~0}{\left|1\right\rangle} &amp;\rightarrow \underset{\text{qubit}~1}{U\left|1\right\rangle}\otimes \underset{\text{qubit}~0}{\left|1\right\rangle}\\
\end{align*}.$$<p>In matrix form, the action of $C_{U}$ is</p>
$$\begin{equation}
    C_U = \begin{pmatrix}
    1 &amp; 0 &amp; 0 &amp; 0 \\
    0 &amp; u_{00} &amp; 0 &amp; u_{01} \\
    0 &amp; 0 &amp; 1 &amp; 0 \\
    0 &amp; u_{10} &amp;0 &amp; u_{11}
        \end{pmatrix}.
\end{equation}$$<p>To work out these matrix elements, let</p>
$$C_{(jk), (lm)} = \left(\underset{\text{qubit}~1}{\left\langle j \right|} \otimes \underset{\text{qubit}~0}{\left\langle k \right|}\right) C_{U} \left(\underset{\text{qubit}~1}{\left| l \right\rangle} \otimes \underset{\text{qubit}~0}{\left| k \right\rangle}\right),$$<p>compute the action of $C_{U}$ (given above), and compute the inner products.</p>
<p>As shown in the examples below, this operation is implemented in Qiskit as <code>cU(q[0],q[1])</code>.</p>
<p>If <strong>qubit 1 is the control and qubit 0 is the target</strong>, then the basis vectors are transformed according to
$$\begin{align*}
C_{U}: \underset{\text{qubit}~1}{\left|0\right\rangle}\otimes \underset{\text{qubit}~0}{\left|0\right\rangle} &amp;\rightarrow \underset{\text{qubit}~1}{\left|0\right\rangle}\otimes \underset{\text{qubit}~0}{\left|0\right\rangle}\\
C_{U}: \underset{\text{qubit}~1}{\left|0\right\rangle}\otimes \underset{\text{qubit}~0}{\left|1\right\rangle} &amp;\rightarrow \underset{\text{qubit}~1}{\left|0\right\rangle}\otimes \underset{\text{qubit}~0}{\left|1\right\rangle}\\
C_{U}: \underset{\text{qubit}~1}{\left|1\right\rangle}\otimes \underset{\text{qubit}~0}{\left|0\right\rangle} &amp;\rightarrow \underset{\text{qubit}~1}{\left|1\right\rangle}\otimes \underset{\text{qubit}~0}{U\left|0\right\rangle}\\
C_{U}: \underset{\text{qubit}~1}{\left|1\right\rangle}\otimes \underset{\text{qubit}~0}{\left|1\right\rangle} &amp;\rightarrow \underset{\text{qubit}~1}{\left|1\right\rangle}\otimes \underset{\text{qubit}~0}{U\left|1\right\rangle}\\
\end{align*},$$</p>
<p>which implies the matrix form of $C_{U}$ is
$$\begin{equation}
    C_U = \begin{pmatrix}
    1 &amp; 0 &amp; 0  &amp; 0 \\
    0 &amp; 1 &amp; 0 &amp; 0 \\
    0 &amp; 0 &amp; u_{00} &amp; u_{01} \\
    0 &amp; 0 &amp; u_{10} &amp; u_{11}
        \end{pmatrix}.
\end{equation}$$</p>

</div>
</div>
</div>
<div class="cell border-box-sizing code_cell rendered">
<div class="input">
<div class="prompt input_prompt">In&nbsp;[34]:</div>
<div class="inner_cell">
    <div class="input_area">
<div class=" highlight hl-ipython3"><pre><span></span><span class="n">q</span> <span class="o">=</span> <span class="n">QuantumRegister</span><span class="p">(</span><span class="mi">2</span><span class="p">)</span>
</pre></div>

    </div>
</div>
</div>

</div>
<div class="cell border-box-sizing text_cell rendered"><div class="prompt input_prompt">
</div><div class="inner_cell">
<div class="text_cell_render border-box-sizing rendered_html">
<h3 id="Controlled-Pauli-Gates">Controlled Pauli Gates<a class="anchor-link" href="#Controlled-Pauli-Gates">&#182;</a></h3><h4 id="Controlled-X-(or,-controlled-NOT)-gate">Controlled-X (or, controlled-NOT) gate<a class="anchor-link" href="#Controlled-X-(or,-controlled-NOT)-gate">&#182;</a></h4><p>The controlled-not gate flips the <code>target</code> qubit when the control qubit is in the state $\left|1\right\rangle$. If we take the MSB as the control qubit (e.g. <code>cx(q[1],q[0])</code>), then the matrix would look like</p>
$$
C_X = 
\begin{pmatrix}
1 &amp; 0 &amp; 0 &amp; 0\\
0 &amp; 1 &amp; 0 &amp; 0\\
0 &amp; 0 &amp; 0 &amp; 1\\
0 &amp; 0 &amp; 1 &amp; 0
\end{pmatrix}. 
$$<p>However, when the LSB is the control qubit, (e.g. <code>cx(q[0],q[1])</code>), this gate is equivalent to the following matrix:</p>
$$
C_X = 
\begin{pmatrix}
1 &amp; 0 &amp; 0 &amp; 0\\
0 &amp; 0 &amp; 0 &amp; 1\\
0 &amp; 0 &amp; 1 &amp; 0\\
0 &amp; 1 &amp; 0 &amp; 0
\end{pmatrix}. 
$$
</div>
</div>
</div>
<div class="cell border-box-sizing code_cell rendered">
<div class="input">
<div class="prompt input_prompt">In&nbsp;[35]:</div>
<div class="inner_cell">
    <div class="input_area">
<div class=" highlight hl-ipython3"><pre><span></span><span class="n">qc</span> <span class="o">=</span> <span class="n">QuantumCircuit</span><span class="p">(</span><span class="n">q</span><span class="p">)</span>
<span class="n">qc</span><span class="o">.</span><span class="n">cx</span><span class="p">(</span><span class="n">q</span><span class="p">[</span><span class="mi">0</span><span class="p">],</span><span class="n">q</span><span class="p">[</span><span class="mi">1</span><span class="p">])</span>
<span class="n">qc</span><span class="o">.</span><span class="n">draw</span><span class="p">()</span>
</pre></div>

    </div>
</div>
</div>

<div class="output_wrapper">
<div class="output">


<div class="output_area">

    <div class="prompt output_prompt">Out[35]:</div>



<div class="output_html rendered_html output_subarea output_execute_result">
<pre style="word-wrap: normal;white-space: pre;background: #fff0;line-height: 1.1;font-family: &quot;Courier New&quot;,Courier,monospace">              
q1_0: |0>──■──
         ┌─┴─┐
q1_1: |0>┤ X ├
         └───┘</pre>
</div>

</div>

</div>
</div>

</div>
<div class="cell border-box-sizing code_cell rendered">
<div class="input">
<div class="prompt input_prompt">In&nbsp;[36]:</div>
<div class="inner_cell">
    <div class="input_area">
<div class=" highlight hl-ipython3"><pre><span></span><span class="n">job</span> <span class="o">=</span> <span class="n">execute</span><span class="p">(</span><span class="n">qc</span><span class="p">,</span> <span class="n">backend</span><span class="p">)</span>
<span class="n">job</span><span class="o">.</span><span class="n">result</span><span class="p">()</span><span class="o">.</span><span class="n">get_unitary</span><span class="p">(</span><span class="n">qc</span><span class="p">,</span> <span class="n">decimals</span><span class="o">=</span><span class="mi">3</span><span class="p">)</span>
</pre></div>

    </div>
</div>
</div>

<div class="output_wrapper">
<div class="output">


<div class="output_area">

    <div class="prompt output_prompt">Out[36]:</div>




<div class="output_text output_subarea output_execute_result">
<pre>array([[1.+0.j, 0.+0.j, 0.+0.j, 0.+0.j],
       [0.+0.j, 0.+0.j, 0.+0.j, 1.+0.j],
       [0.+0.j, 0.+0.j, 1.+0.j, 0.+0.j],
       [0.+0.j, 1.+0.j, 0.+0.j, 0.+0.j]])</pre>
</div>

</div>

</div>
</div>

</div>
<div class="cell border-box-sizing text_cell rendered"><div class="prompt input_prompt">
</div><div class="inner_cell">
<div class="text_cell_render border-box-sizing rendered_html">
<h4 id="Controlled-$Y$-gate">Controlled $Y$ gate<a class="anchor-link" href="#Controlled-$Y$-gate">&#182;</a></h4><p>Apply the $Y$ gate to the target qubit if the control qubit is the MSB</p>
$$
C_Y = 
\begin{pmatrix}
1 &amp; 0 &amp; 0 &amp; 0\\
0 &amp; 1 &amp; 0 &amp; 0\\
0 &amp; 0 &amp; 0 &amp; -i\\
0 &amp; 0 &amp; i &amp; 0
\end{pmatrix},
$$<p>or when the LSB is the control</p>
$$
C_Y = 
\begin{pmatrix}
1 &amp; 0 &amp; 0 &amp; 0\\
0 &amp; 0 &amp; 0 &amp; -i\\
0 &amp; 0 &amp; 1 &amp; 0\\
0 &amp; i &amp; 0 &amp; 0
\end{pmatrix}.
$$
</div>
</div>
</div>
<div class="cell border-box-sizing code_cell rendered">
<div class="input">
<div class="prompt input_prompt">In&nbsp;[37]:</div>
<div class="inner_cell">
    <div class="input_area">
<div class=" highlight hl-ipython3"><pre><span></span><span class="n">qc</span> <span class="o">=</span> <span class="n">QuantumCircuit</span><span class="p">(</span><span class="n">q</span><span class="p">)</span>
<span class="n">qc</span><span class="o">.</span><span class="n">cy</span><span class="p">(</span><span class="n">q</span><span class="p">[</span><span class="mi">0</span><span class="p">],</span><span class="n">q</span><span class="p">[</span><span class="mi">1</span><span class="p">])</span>
<span class="n">qc</span><span class="o">.</span><span class="n">draw</span><span class="p">()</span>
</pre></div>

    </div>
</div>
</div>

<div class="output_wrapper">
<div class="output">


<div class="output_area">

    <div class="prompt output_prompt">Out[37]:</div>



<div class="output_html rendered_html output_subarea output_execute_result">
<pre style="word-wrap: normal;white-space: pre;background: #fff0;line-height: 1.1;font-family: &quot;Courier New&quot;,Courier,monospace">              
q1_0: |0>──■──
         ┌─┴─┐
q1_1: |0>┤ Y ├
         └───┘</pre>
</div>

</div>

</div>
</div>

</div>
<div class="cell border-box-sizing code_cell rendered">
<div class="input">
<div class="prompt input_prompt">In&nbsp;[38]:</div>
<div class="inner_cell">
    <div class="input_area">
<div class=" highlight hl-ipython3"><pre><span></span><span class="n">job</span> <span class="o">=</span> <span class="n">execute</span><span class="p">(</span><span class="n">qc</span><span class="p">,</span> <span class="n">backend</span><span class="p">)</span>
<span class="n">job</span><span class="o">.</span><span class="n">result</span><span class="p">()</span><span class="o">.</span><span class="n">get_unitary</span><span class="p">(</span><span class="n">qc</span><span class="p">,</span> <span class="n">decimals</span><span class="o">=</span><span class="mi">3</span><span class="p">)</span>
</pre></div>

    </div>
</div>
</div>

<div class="output_wrapper">
<div class="output">


<div class="output_area">

    <div class="prompt output_prompt">Out[38]:</div>




<div class="output_text output_subarea output_execute_result">
<pre>array([[1.+0.j, 0.+0.j, 0.+0.j, 0.+0.j],
       [0.+0.j, 0.+0.j, 0.+0.j, 0.-1.j],
       [0.+0.j, 0.+0.j, 1.+0.j, 0.+0.j],
       [0.+0.j, 0.+1.j, 0.+0.j, 0.+0.j]])</pre>
</div>

</div>

</div>
</div>

</div>
<div class="cell border-box-sizing text_cell rendered"><div class="prompt input_prompt">
</div><div class="inner_cell">
<div class="text_cell_render border-box-sizing rendered_html">
<h4 id="Controlled-$Z$-(or,-controlled-Phase)-gate">Controlled $Z$ (or, controlled Phase) gate<a class="anchor-link" href="#Controlled-$Z$-(or,-controlled-Phase)-gate">&#182;</a></h4><p>Similarly, the controlled Z gate flips the phase of the target qubit if the control qubit is $\left|1\right\rangle$. The matrix looks the same regardless of whether the MSB or LSB is the control qubit:</p>
$$
C_Z = 
\begin{pmatrix}
1 &amp; 0 &amp; 0 &amp; 0\\
0 &amp; 1 &amp; 0 &amp; 0\\
0 &amp; 0 &amp; 1 &amp; 0\\
0 &amp; 0 &amp; 0 &amp; -1
\end{pmatrix}
$$
</div>
</div>
</div>
<div class="cell border-box-sizing code_cell rendered">
<div class="input">
<div class="prompt input_prompt">In&nbsp;[39]:</div>
<div class="inner_cell">
    <div class="input_area">
<div class=" highlight hl-ipython3"><pre><span></span><span class="n">qc</span> <span class="o">=</span> <span class="n">QuantumCircuit</span><span class="p">(</span><span class="n">q</span><span class="p">)</span>
<span class="n">qc</span><span class="o">.</span><span class="n">cz</span><span class="p">(</span><span class="n">q</span><span class="p">[</span><span class="mi">0</span><span class="p">],</span><span class="n">q</span><span class="p">[</span><span class="mi">1</span><span class="p">])</span>
<span class="n">qc</span><span class="o">.</span><span class="n">draw</span><span class="p">()</span>
</pre></div>

    </div>
</div>
</div>

<div class="output_wrapper">
<div class="output">


<div class="output_area">

    <div class="prompt output_prompt">Out[39]:</div>



<div class="output_html rendered_html output_subarea output_execute_result">
<pre style="word-wrap: normal;white-space: pre;background: #fff0;line-height: 1.1;font-family: &quot;Courier New&quot;,Courier,monospace">            
q1_0: |0>─■─
          │ 
q1_1: |0>─■─
            </pre>
</div>

</div>

</div>
</div>

</div>
<div class="cell border-box-sizing code_cell rendered">
<div class="input">
<div class="prompt input_prompt">In&nbsp;[40]:</div>
<div class="inner_cell">
    <div class="input_area">
<div class=" highlight hl-ipython3"><pre><span></span><span class="n">job</span> <span class="o">=</span> <span class="n">execute</span><span class="p">(</span><span class="n">qc</span><span class="p">,</span> <span class="n">backend</span><span class="p">)</span>
<span class="n">job</span><span class="o">.</span><span class="n">result</span><span class="p">()</span><span class="o">.</span><span class="n">get_unitary</span><span class="p">(</span><span class="n">qc</span><span class="p">,</span> <span class="n">decimals</span><span class="o">=</span><span class="mi">3</span><span class="p">)</span>
</pre></div>

    </div>
</div>
</div>

<div class="output_wrapper">
<div class="output">


<div class="output_area">

    <div class="prompt output_prompt">Out[40]:</div>




<div class="output_text output_subarea output_execute_result">
<pre>array([[ 1.+0.j,  0.+0.j,  0.+0.j,  0.+0.j],
       [ 0.+0.j,  1.+0.j,  0.+0.j,  0.+0.j],
       [ 0.+0.j,  0.+0.j,  1.+0.j,  0.+0.j],
       [ 0.+0.j,  0.+0.j,  0.+0.j, -1.+0.j]])</pre>
</div>

</div>

</div>
</div>

</div>
<div class="cell border-box-sizing text_cell rendered"><div class="prompt input_prompt">
</div><div class="inner_cell">
<div class="text_cell_render border-box-sizing rendered_html">
<h3 id="Controlled-Hadamard-gate">Controlled Hadamard gate<a class="anchor-link" href="#Controlled-Hadamard-gate">&#182;</a></h3><p>Apply $H$ gate to the target qubit if the control qubit is $\left|1\right\rangle$. Below is the case where the control is the LSB qubit.</p>
$$
C_H = 
\begin{pmatrix}
1 &amp; 0 &amp; 0 &amp; 0\\
0 &amp; \frac{1}{\sqrt{2}} &amp; 0 &amp; \frac{1}{\sqrt{2}}\\
0 &amp; 0 &amp; 1 &amp; 0\\
0 &amp; \frac{1}{\sqrt{2}}  &amp; 0&amp; -\frac{1}{\sqrt{2}}
\end{pmatrix}
$$
</div>
</div>
</div>
<div class="cell border-box-sizing code_cell rendered">
<div class="input">
<div class="prompt input_prompt">In&nbsp;[41]:</div>
<div class="inner_cell">
    <div class="input_area">
<div class=" highlight hl-ipython3"><pre><span></span><span class="n">qc</span> <span class="o">=</span> <span class="n">QuantumCircuit</span><span class="p">(</span><span class="n">q</span><span class="p">)</span>
<span class="n">qc</span><span class="o">.</span><span class="n">ch</span><span class="p">(</span><span class="n">q</span><span class="p">[</span><span class="mi">0</span><span class="p">],</span><span class="n">q</span><span class="p">[</span><span class="mi">1</span><span class="p">])</span>
<span class="n">qc</span><span class="o">.</span><span class="n">draw</span><span class="p">()</span>
</pre></div>

    </div>
</div>
</div>

<div class="output_wrapper">
<div class="output">


<div class="output_area">

    <div class="prompt output_prompt">Out[41]:</div>



<div class="output_html rendered_html output_subarea output_execute_result">
<pre style="word-wrap: normal;white-space: pre;background: #fff0;line-height: 1.1;font-family: &quot;Courier New&quot;,Courier,monospace">              
q1_0: |0>──■──
         ┌─┴─┐
q1_1: |0>┤ H ├
         └───┘</pre>
</div>

</div>

</div>
</div>

</div>
<div class="cell border-box-sizing code_cell rendered">
<div class="input">
<div class="prompt input_prompt">In&nbsp;[42]:</div>
<div class="inner_cell">
    <div class="input_area">
<div class=" highlight hl-ipython3"><pre><span></span><span class="n">job</span> <span class="o">=</span> <span class="n">execute</span><span class="p">(</span><span class="n">qc</span><span class="p">,</span> <span class="n">backend</span><span class="p">)</span>
<span class="n">job</span><span class="o">.</span><span class="n">result</span><span class="p">()</span><span class="o">.</span><span class="n">get_unitary</span><span class="p">(</span><span class="n">qc</span><span class="p">,</span> <span class="n">decimals</span><span class="o">=</span><span class="mi">3</span><span class="p">)</span>
</pre></div>

    </div>
</div>
</div>

<div class="output_wrapper">
<div class="output">


<div class="output_area">

    <div class="prompt output_prompt">Out[42]:</div>




<div class="output_text output_subarea output_execute_result">
<pre>array([[ 1.   +0.j,  0.   +0.j,  0.   +0.j,  0.   +0.j],
       [ 0.   +0.j,  0.707+0.j,  0.   +0.j,  0.707+0.j],
       [ 0.   +0.j,  0.   +0.j,  1.   +0.j,  0.   +0.j],
       [ 0.   +0.j,  0.707+0.j,  0.   +0.j, -0.707+0.j]])</pre>
</div>

</div>

</div>
</div>

</div>
<div class="cell border-box-sizing text_cell rendered"><div class="prompt input_prompt">
</div><div class="inner_cell">
<div class="text_cell_render border-box-sizing rendered_html">
<h3 id="Controlled-rotation-gates">Controlled rotation gates<a class="anchor-link" href="#Controlled-rotation-gates">&#182;</a></h3><h4 id="Controlled-rotation-around-Z-axis">Controlled rotation around Z-axis<a class="anchor-link" href="#Controlled-rotation-around-Z-axis">&#182;</a></h4><p>Perform rotation around Z-axis on the target qubit if the control qubit (here LSB) is $\left|1\right\rangle$.</p>
$$
C_{Rz}(\lambda) = 
\begin{pmatrix}
1 &amp; 0 &amp; 0 &amp; 0\\
0 &amp; e^{-i\lambda/2} &amp; 0 &amp; 0\\
0 &amp; 0 &amp; 1 &amp; 0\\
0 &amp; 0 &amp; 0 &amp; e^{i\lambda/2}
\end{pmatrix}
$$
</div>
</div>
</div>
<div class="cell border-box-sizing code_cell rendered">
<div class="input">
<div class="prompt input_prompt">In&nbsp;[43]:</div>
<div class="inner_cell">
    <div class="input_area">
<div class=" highlight hl-ipython3"><pre><span></span><span class="n">qc</span> <span class="o">=</span> <span class="n">QuantumCircuit</span><span class="p">(</span><span class="n">q</span><span class="p">)</span>
<span class="n">qc</span><span class="o">.</span><span class="n">crz</span><span class="p">(</span><span class="n">pi</span><span class="o">/</span><span class="mi">2</span><span class="p">,</span><span class="n">q</span><span class="p">[</span><span class="mi">0</span><span class="p">],</span><span class="n">q</span><span class="p">[</span><span class="mi">1</span><span class="p">])</span>
<span class="n">qc</span><span class="o">.</span><span class="n">draw</span><span class="p">()</span>
</pre></div>

    </div>
</div>
</div>

<div class="output_wrapper">
<div class="output">


<div class="output_area">

    <div class="prompt output_prompt">Out[43]:</div>



<div class="output_html rendered_html output_subarea output_execute_result">
<pre style="word-wrap: normal;white-space: pre;background: #fff0;line-height: 1.1;font-family: &quot;Courier New&quot;,Courier,monospace">                     
q1_0: |0>─────■──────
         ┌────┴─────┐
q1_1: |0>┤ Rz(pi/2) ├
         └──────────┘</pre>
</div>

</div>

</div>
</div>

</div>
<div class="cell border-box-sizing code_cell rendered">
<div class="input">
<div class="prompt input_prompt">In&nbsp;[44]:</div>
<div class="inner_cell">
    <div class="input_area">
<div class=" highlight hl-ipython3"><pre><span></span><span class="n">job</span> <span class="o">=</span> <span class="n">execute</span><span class="p">(</span><span class="n">qc</span><span class="p">,</span> <span class="n">backend</span><span class="p">)</span>
<span class="n">job</span><span class="o">.</span><span class="n">result</span><span class="p">()</span><span class="o">.</span><span class="n">get_unitary</span><span class="p">(</span><span class="n">qc</span><span class="p">,</span> <span class="n">decimals</span><span class="o">=</span><span class="mi">3</span><span class="p">)</span>
</pre></div>

    </div>
</div>
</div>

<div class="output_wrapper">
<div class="output">


<div class="output_area">

    <div class="prompt output_prompt">Out[44]:</div>




<div class="output_text output_subarea output_execute_result">
<pre>array([[1.   +0.j   , 0.   +0.j   , 0.   +0.j   , 0.   +0.j   ],
       [0.   +0.j   , 0.707-0.707j, 0.   +0.j   , 0.   +0.j   ],
       [0.   +0.j   , 0.   +0.j   , 1.   +0.j   , 0.   +0.j   ],
       [0.   +0.j   , 0.   +0.j   , 0.   +0.j   , 0.707+0.707j]])</pre>
</div>

</div>

</div>
</div>

</div>
<div class="cell border-box-sizing text_cell rendered"><div class="prompt input_prompt">
</div><div class="inner_cell">
<div class="text_cell_render border-box-sizing rendered_html">
<h3 id="Controlled-phase-rotation">Controlled phase rotation<a class="anchor-link" href="#Controlled-phase-rotation">&#182;</a></h3><p>Perform a phase rotation if both qubits are in the $\left|11\right\rangle$ state. The matrix looks the same regardless of whether the MSB or LSB is the control qubit.</p>
$$
C_{u1}(\lambda) = 
\begin{pmatrix}
1 &amp; 0 &amp; 0 &amp; 0\\
0 &amp; 1 &amp; 0 &amp; 0\\
0 &amp; 0 &amp; 1 &amp; 0\\
0 &amp; 0 &amp; 0 &amp; e^{i\lambda}
\end{pmatrix}
$$
</div>
</div>
</div>
<div class="cell border-box-sizing code_cell rendered">
<div class="input">
<div class="prompt input_prompt">In&nbsp;[45]:</div>
<div class="inner_cell">
    <div class="input_area">
<div class=" highlight hl-ipython3"><pre><span></span><span class="n">qc</span> <span class="o">=</span> <span class="n">QuantumCircuit</span><span class="p">(</span><span class="n">q</span><span class="p">)</span>
<span class="n">qc</span><span class="o">.</span><span class="n">cu1</span><span class="p">(</span><span class="n">pi</span><span class="o">/</span><span class="mi">2</span><span class="p">,</span><span class="n">q</span><span class="p">[</span><span class="mi">0</span><span class="p">],</span> <span class="n">q</span><span class="p">[</span><span class="mi">1</span><span class="p">])</span>
<span class="n">qc</span><span class="o">.</span><span class="n">draw</span><span class="p">()</span>
</pre></div>

    </div>
</div>
</div>

<div class="output_wrapper">
<div class="output">


<div class="output_area">

    <div class="prompt output_prompt">Out[45]:</div>



<div class="output_html rendered_html output_subarea output_execute_result">
<pre style="word-wrap: normal;white-space: pre;background: #fff0;line-height: 1.1;font-family: &quot;Courier New&quot;,Courier,monospace">                
q1_0: |0>─■─────
          │pi/2 
q1_1: |0>─■─────
                </pre>
</div>

</div>

</div>
</div>

</div>
<div class="cell border-box-sizing code_cell rendered">
<div class="input">
<div class="prompt input_prompt">In&nbsp;[46]:</div>
<div class="inner_cell">
    <div class="input_area">
<div class=" highlight hl-ipython3"><pre><span></span><span class="n">job</span> <span class="o">=</span> <span class="n">execute</span><span class="p">(</span><span class="n">qc</span><span class="p">,</span> <span class="n">backend</span><span class="p">)</span>
<span class="n">job</span><span class="o">.</span><span class="n">result</span><span class="p">()</span><span class="o">.</span><span class="n">get_unitary</span><span class="p">(</span><span class="n">qc</span><span class="p">,</span> <span class="n">decimals</span><span class="o">=</span><span class="mi">3</span><span class="p">)</span>
</pre></div>

    </div>
</div>
</div>

<div class="output_wrapper">
<div class="output">


<div class="output_area">

    <div class="prompt output_prompt">Out[46]:</div>




<div class="output_text output_subarea output_execute_result">
<pre>array([[1.+0.j, 0.+0.j, 0.+0.j, 0.+0.j],
       [0.+0.j, 1.+0.j, 0.+0.j, 0.+0.j],
       [0.+0.j, 0.+0.j, 1.+0.j, 0.+0.j],
       [0.+0.j, 0.+0.j, 0.+0.j, 0.+1.j]])</pre>
</div>

</div>

</div>
</div>

</div>
<div class="cell border-box-sizing text_cell rendered"><div class="prompt input_prompt">
</div><div class="inner_cell">
<div class="text_cell_render border-box-sizing rendered_html">
<h3 id="Controlled-$u3$-rotation">Controlled $u3$ rotation<a class="anchor-link" href="#Controlled-$u3$-rotation">&#182;</a></h3><p>Perform controlled-$u3$ rotation on the target qubit if the control qubit (here LSB) is $\left|1\right\rangle$.</p>
$$
C_{u3}(\theta, \phi, \lambda) \equiv 
\begin{pmatrix}
1 &amp; 0 &amp; 0 &amp; 0\\
0 &amp; e^{-i(\phi+\lambda)/2}\cos(\theta/2) &amp; 0 &amp; -e^{-i(\phi-\lambda)/2}\sin(\theta/2)\\
0 &amp; 0 &amp; 1 &amp; 0\\
0 &amp; e^{i(\phi-\lambda)/2}\sin(\theta/2) &amp; 0 &amp; e^{i(\phi+\lambda)/2}\cos(\theta/2)
\end{pmatrix}.
$$
</div>
</div>
</div>
<div class="cell border-box-sizing code_cell rendered">
<div class="input">
<div class="prompt input_prompt">In&nbsp;[47]:</div>
<div class="inner_cell">
    <div class="input_area">
<div class=" highlight hl-ipython3"><pre><span></span><span class="n">qc</span> <span class="o">=</span> <span class="n">QuantumCircuit</span><span class="p">(</span><span class="n">q</span><span class="p">)</span>
<span class="n">qc</span><span class="o">.</span><span class="n">cu3</span><span class="p">(</span><span class="n">pi</span><span class="o">/</span><span class="mi">2</span><span class="p">,</span> <span class="n">pi</span><span class="o">/</span><span class="mi">2</span><span class="p">,</span> <span class="n">pi</span><span class="o">/</span><span class="mi">2</span><span class="p">,</span> <span class="n">q</span><span class="p">[</span><span class="mi">0</span><span class="p">],</span> <span class="n">q</span><span class="p">[</span><span class="mi">1</span><span class="p">])</span>
<span class="n">qc</span><span class="o">.</span><span class="n">draw</span><span class="p">()</span>
</pre></div>

    </div>
</div>
</div>

<div class="output_wrapper">
<div class="output">


<div class="output_area">

    <div class="prompt output_prompt">Out[47]:</div>



<div class="output_html rendered_html output_subarea output_execute_result">
<pre style="word-wrap: normal;white-space: pre;background: #fff0;line-height: 1.1;font-family: &quot;Courier New&quot;,Courier,monospace">                               
q1_0: |0>──────────■───────────
         ┌─────────┴──────────┐
q1_1: |0>┤ U3(pi/2,pi/2,pi/2) ├
         └────────────────────┘</pre>
</div>

</div>

</div>
</div>

</div>
<div class="cell border-box-sizing code_cell rendered">
<div class="input">
<div class="prompt input_prompt">In&nbsp;[48]:</div>
<div class="inner_cell">
    <div class="input_area">
<div class=" highlight hl-ipython3"><pre><span></span><span class="n">job</span> <span class="o">=</span> <span class="n">execute</span><span class="p">(</span><span class="n">qc</span><span class="p">,</span> <span class="n">backend</span><span class="p">)</span>
<span class="n">job</span><span class="o">.</span><span class="n">result</span><span class="p">()</span><span class="o">.</span><span class="n">get_unitary</span><span class="p">(</span><span class="n">qc</span><span class="p">,</span> <span class="n">decimals</span><span class="o">=</span><span class="mi">3</span><span class="p">)</span>
</pre></div>

    </div>
</div>
</div>

<div class="output_wrapper">
<div class="output">


<div class="output_area">

    <div class="prompt output_prompt">Out[48]:</div>




<div class="output_text output_subarea output_execute_result">
<pre>array([[ 1.   +0.j   ,  0.   +0.j   ,  0.   +0.j   ,  0.   +0.j   ],
       [ 0.   +0.j   ,  0.707+0.j   ,  0.   +0.j   ,  0.   -0.707j],
       [ 0.   +0.j   ,  0.   +0.j   ,  1.   +0.j   ,  0.   +0.j   ],
       [ 0.   +0.j   ,  0.   +0.707j,  0.   +0.j   , -0.707+0.j   ]])</pre>
</div>

</div>

</div>
</div>

</div>
<div class="cell border-box-sizing text_cell rendered"><div class="prompt input_prompt">
</div><div class="inner_cell">
<div class="text_cell_render border-box-sizing rendered_html">
<h3 id="SWAP-gate">SWAP gate<a class="anchor-link" href="#SWAP-gate">&#182;</a></h3><p>The SWAP gate exchanges the two qubits. It transforms the basis vectors as</p>
$$\left|00\right\rangle \rightarrow \left|00\right\rangle~,~\left|01\right\rangle \rightarrow \left|10\right\rangle~,~\left|10\right\rangle \rightarrow \left|01\right\rangle~,~\left|11\right\rangle \rightarrow \left|11\right\rangle,$$<p>which gives a matrix representation of the form</p>
$$
\mathrm{SWAP} = 
\begin{pmatrix}
1 &amp; 0 &amp; 0 &amp; 0\\
0 &amp; 0 &amp; 1 &amp; 0\\
0 &amp; 1 &amp; 0 &amp; 0\\
0 &amp; 0 &amp; 0 &amp; 1
\end{pmatrix}.
$$
</div>
</div>
</div>
<div class="cell border-box-sizing code_cell rendered">
<div class="input">
<div class="prompt input_prompt">In&nbsp;[49]:</div>
<div class="inner_cell">
    <div class="input_area">
<div class=" highlight hl-ipython3"><pre><span></span><span class="n">qc</span> <span class="o">=</span> <span class="n">QuantumCircuit</span><span class="p">(</span><span class="n">q</span><span class="p">)</span>
<span class="n">qc</span><span class="o">.</span><span class="n">swap</span><span class="p">(</span><span class="n">q</span><span class="p">[</span><span class="mi">0</span><span class="p">],</span> <span class="n">q</span><span class="p">[</span><span class="mi">1</span><span class="p">])</span>
<span class="n">qc</span><span class="o">.</span><span class="n">draw</span><span class="p">()</span>
</pre></div>

    </div>
</div>
</div>

<div class="output_wrapper">
<div class="output">


<div class="output_area">

    <div class="prompt output_prompt">Out[49]:</div>



<div class="output_html rendered_html output_subarea output_execute_result">
<pre style="word-wrap: normal;white-space: pre;background: #fff0;line-height: 1.1;font-family: &quot;Courier New&quot;,Courier,monospace">            
q1_0: |0>─X─
          │ 
q1_1: |0>─X─
            </pre>
</div>

</div>

</div>
</div>

</div>
<div class="cell border-box-sizing code_cell rendered">
<div class="input">
<div class="prompt input_prompt">In&nbsp;[50]:</div>
<div class="inner_cell">
    <div class="input_area">
<div class=" highlight hl-ipython3"><pre><span></span><span class="n">job</span> <span class="o">=</span> <span class="n">execute</span><span class="p">(</span><span class="n">qc</span><span class="p">,</span> <span class="n">backend</span><span class="p">)</span>
<span class="n">job</span><span class="o">.</span><span class="n">result</span><span class="p">()</span><span class="o">.</span><span class="n">get_unitary</span><span class="p">(</span><span class="n">qc</span><span class="p">,</span> <span class="n">decimals</span><span class="o">=</span><span class="mi">3</span><span class="p">)</span>
</pre></div>

    </div>
</div>
</div>

<div class="output_wrapper">
<div class="output">


<div class="output_area">

    <div class="prompt output_prompt">Out[50]:</div>




<div class="output_text output_subarea output_execute_result">
<pre>array([[1.+0.j, 0.+0.j, 0.+0.j, 0.+0.j],
       [0.+0.j, 0.+0.j, 1.+0.j, 0.+0.j],
       [0.+0.j, 1.+0.j, 0.+0.j, 0.+0.j],
       [0.+0.j, 0.+0.j, 0.+0.j, 1.+0.j]])</pre>
</div>

</div>

</div>
</div>

</div>
<div class="cell border-box-sizing text_cell rendered"><div class="prompt input_prompt">
</div><div class="inner_cell">
<div class="text_cell_render border-box-sizing rendered_html">
<h2 id="Three-qubit-gates-">Three-qubit gates <a name="three_gates" /><a class="anchor-link" href="#Three-qubit-gates-">&#182;</a></h2><p>There are two commonly-used three-qubit gates. For three qubits, the basis vectors are ordered as</p>
$$\left|000\right\rangle, \left|001\right\rangle, \left|010\right\rangle, \left|011\right\rangle, \left|100\right\rangle, \left|101\right\rangle, \left|110\right\rangle, \left|111\right\rangle,$$<p>which, as bitstrings, represent the integers $0,1,2,\cdots, 7$. Again, Qiskit uses a representation in which the first qubit is on the right-most side of the tensor product and the third qubit is on the left-most side:</p>
$$\left|abc\right\rangle : \underset{\text{qubit 2}}{\left|a\right\rangle}\otimes \underset{\text{qubit 1}}{\left|b\right\rangle}\otimes \underset{\text{qubit 0}}{\left|c\right\rangle}.$$
</div>
</div>
</div>
<div class="cell border-box-sizing text_cell rendered"><div class="prompt input_prompt">
</div><div class="inner_cell">
<div class="text_cell_render border-box-sizing rendered_html">
<h3 id="Toffoli-gate-($ccx$-gate)">Toffoli gate ($ccx$ gate)<a class="anchor-link" href="#Toffoli-gate-($ccx$-gate)">&#182;</a></h3><p>The <a href="https://en.wikipedia.org/wiki/Quantum_logic_gate#Toffoli_(CCNOT">Toffoli gate</a>_gate) flips the third qubit if the first two qubits (LSB) are both $\left|1\right\rangle$:</p>
$$\left|abc\right\rangle \rightarrow \left|bc\oplus a\right\rangle \otimes \left|b\right\rangle \otimes \left|c\right\rangle.$$<p>In matrix form, the Toffoli gate is
$$
C_{CX} = 
\begin{pmatrix}
1 &amp; 0 &amp; 0 &amp; 0 &amp; 0 &amp; 0 &amp; 0 &amp; 0\\
0 &amp; 1 &amp; 0 &amp; 0 &amp; 0 &amp; 0 &amp; 0 &amp; 0\\
0 &amp; 0 &amp; 1 &amp; 0 &amp; 0 &amp; 0 &amp; 0 &amp; 0\\
0 &amp; 0 &amp; 0 &amp; 0 &amp; 0 &amp; 0 &amp; 0 &amp; 1\\
0 &amp; 0 &amp; 0 &amp; 0 &amp; 1 &amp; 0 &amp; 0 &amp; 0\\
0 &amp; 0 &amp; 0 &amp; 0 &amp; 0 &amp; 1 &amp; 0 &amp; 0\\
0 &amp; 0 &amp; 0 &amp; 0 &amp; 0 &amp; 0 &amp; 1 &amp; 0\\
0 &amp; 0 &amp; 0 &amp; 1 &amp; 0 &amp; 0 &amp; 0 &amp; 0
\end{pmatrix}.
$$</p>

</div>
</div>
</div>
<div class="cell border-box-sizing code_cell rendered">
<div class="input">
<div class="prompt input_prompt">In&nbsp;[51]:</div>
<div class="inner_cell">
    <div class="input_area">
<div class=" highlight hl-ipython3"><pre><span></span><span class="n">q</span> <span class="o">=</span> <span class="n">QuantumRegister</span><span class="p">(</span><span class="mi">3</span><span class="p">)</span>
</pre></div>

    </div>
</div>
</div>

</div>
<div class="cell border-box-sizing code_cell rendered">
<div class="input">
<div class="prompt input_prompt">In&nbsp;[52]:</div>
<div class="inner_cell">
    <div class="input_area">
<div class=" highlight hl-ipython3"><pre><span></span><span class="n">qc</span> <span class="o">=</span> <span class="n">QuantumCircuit</span><span class="p">(</span><span class="n">q</span><span class="p">)</span>
<span class="n">qc</span><span class="o">.</span><span class="n">ccx</span><span class="p">(</span><span class="n">q</span><span class="p">[</span><span class="mi">0</span><span class="p">],</span> <span class="n">q</span><span class="p">[</span><span class="mi">1</span><span class="p">],</span> <span class="n">q</span><span class="p">[</span><span class="mi">2</span><span class="p">])</span>
<span class="n">qc</span><span class="o">.</span><span class="n">draw</span><span class="p">()</span>
</pre></div>

    </div>
</div>
</div>

<div class="output_wrapper">
<div class="output">


<div class="output_area">

    <div class="prompt output_prompt">Out[52]:</div>



<div class="output_html rendered_html output_subarea output_execute_result">
<pre style="word-wrap: normal;white-space: pre;background: #fff0;line-height: 1.1;font-family: &quot;Courier New&quot;,Courier,monospace">              
q2_0: |0>──■──
           │  
q2_1: |0>──■──
         ┌─┴─┐
q2_2: |0>┤ X ├
         └───┘</pre>
</div>

</div>

</div>
</div>

</div>
<div class="cell border-box-sizing code_cell rendered">
<div class="input">
<div class="prompt input_prompt">In&nbsp;[53]:</div>
<div class="inner_cell">
    <div class="input_area">
<div class=" highlight hl-ipython3"><pre><span></span><span class="n">job</span> <span class="o">=</span> <span class="n">execute</span><span class="p">(</span><span class="n">qc</span><span class="p">,</span> <span class="n">backend</span><span class="p">)</span>
<span class="n">job</span><span class="o">.</span><span class="n">result</span><span class="p">()</span><span class="o">.</span><span class="n">get_unitary</span><span class="p">(</span><span class="n">qc</span><span class="p">,</span> <span class="n">decimals</span><span class="o">=</span><span class="mi">3</span><span class="p">)</span>
</pre></div>

    </div>
</div>
</div>

<div class="output_wrapper">
<div class="output">


<div class="output_area">

    <div class="prompt output_prompt">Out[53]:</div>




<div class="output_text output_subarea output_execute_result">
<pre>array([[1.+0.j, 0.+0.j, 0.+0.j, 0.+0.j, 0.+0.j, 0.+0.j, 0.+0.j, 0.+0.j],
       [0.+0.j, 1.+0.j, 0.+0.j, 0.+0.j, 0.+0.j, 0.+0.j, 0.+0.j, 0.+0.j],
       [0.+0.j, 0.+0.j, 1.+0.j, 0.+0.j, 0.+0.j, 0.+0.j, 0.+0.j, 0.+0.j],
       [0.+0.j, 0.+0.j, 0.+0.j, 0.+0.j, 0.+0.j, 0.+0.j, 0.+0.j, 1.+0.j],
       [0.+0.j, 0.+0.j, 0.+0.j, 0.+0.j, 1.+0.j, 0.+0.j, 0.+0.j, 0.+0.j],
       [0.+0.j, 0.+0.j, 0.+0.j, 0.+0.j, 0.+0.j, 1.+0.j, 0.+0.j, 0.+0.j],
       [0.+0.j, 0.+0.j, 0.+0.j, 0.+0.j, 0.+0.j, 0.+0.j, 1.+0.j, 0.+0.j],
       [0.+0.j, 0.+0.j, 0.+0.j, 1.+0.j, 0.+0.j, 0.+0.j, 0.+0.j, 0.+0.j]])</pre>
</div>

</div>

</div>
</div>

</div>
<div class="cell border-box-sizing text_cell rendered"><div class="prompt input_prompt">
</div><div class="inner_cell">
<div class="text_cell_render border-box-sizing rendered_html">
<h3 id="Controlled-swap-gate-(Fredkin-Gate)">Controlled swap gate (Fredkin Gate)<a class="anchor-link" href="#Controlled-swap-gate-(Fredkin-Gate)">&#182;</a></h3><p>The <a href="https://en.wikipedia.org/wiki/Quantum_logic_gate#Fredkin_(CSWAP">Fredkin gate</a>_gate), or the <em>controlled swap gate</em>, exchanges the second and third qubits if the first qubit (LSB) is $\left|1\right\rangle$:</p>
$$ \left|abc\right\rangle \rightarrow \begin{cases} \left|bac\right\rangle~~\text{if}~c=1 \cr \left|abc\right\rangle~~\text{if}~c=0 \end{cases}.$$<p>In matrix form, the Fredkin gate is</p>
$$
C_{\mathrm{SWAP}} = 
\begin{pmatrix}
1 &amp; 0 &amp; 0 &amp; 0 &amp; 0 &amp; 0 &amp; 0 &amp; 0\\
0 &amp; 1 &amp; 0 &amp; 0 &amp; 0 &amp; 0 &amp; 0 &amp; 0\\
0 &amp; 0 &amp; 1 &amp; 0 &amp; 0 &amp; 0 &amp; 0 &amp; 0\\
0 &amp; 0 &amp; 0 &amp; 0 &amp; 0 &amp; 1 &amp; 0 &amp; 0\\
0 &amp; 0 &amp; 0 &amp; 0 &amp; 1 &amp; 0 &amp; 0 &amp; 0\\
0 &amp; 0 &amp; 0 &amp; 1 &amp; 0 &amp; 0 &amp; 0 &amp; 0\\
0 &amp; 0 &amp; 0 &amp; 0 &amp; 0 &amp; 0 &amp; 1 &amp; 0\\
0 &amp; 0 &amp; 0 &amp; 0 &amp; 0 &amp; 0 &amp; 0 &amp; 1
\end{pmatrix}.
$$
</div>
</div>
</div>
<div class="cell border-box-sizing code_cell rendered">
<div class="input">
<div class="prompt input_prompt">In&nbsp;[54]:</div>
<div class="inner_cell">
    <div class="input_area">
<div class=" highlight hl-ipython3"><pre><span></span><span class="n">qc</span> <span class="o">=</span> <span class="n">QuantumCircuit</span><span class="p">(</span><span class="n">q</span><span class="p">)</span>
<span class="n">qc</span><span class="o">.</span><span class="n">cswap</span><span class="p">(</span><span class="n">q</span><span class="p">[</span><span class="mi">0</span><span class="p">],</span> <span class="n">q</span><span class="p">[</span><span class="mi">1</span><span class="p">],</span> <span class="n">q</span><span class="p">[</span><span class="mi">2</span><span class="p">])</span>
<span class="n">qc</span><span class="o">.</span><span class="n">draw</span><span class="p">()</span>
</pre></div>

    </div>
</div>
</div>

<div class="output_wrapper">
<div class="output">


<div class="output_area">

    <div class="prompt output_prompt">Out[54]:</div>



<div class="output_html rendered_html output_subarea output_execute_result">
<pre style="word-wrap: normal;white-space: pre;background: #fff0;line-height: 1.1;font-family: &quot;Courier New&quot;,Courier,monospace">            
q2_0: |0>─■─
          │ 
q2_1: |0>─X─
          │ 
q2_2: |0>─X─
            </pre>
</div>

</div>

</div>
</div>

</div>
<div class="cell border-box-sizing code_cell rendered">
<div class="input">
<div class="prompt input_prompt">In&nbsp;[55]:</div>
<div class="inner_cell">
    <div class="input_area">
<div class=" highlight hl-ipython3"><pre><span></span><span class="n">job</span> <span class="o">=</span> <span class="n">execute</span><span class="p">(</span><span class="n">qc</span><span class="p">,</span> <span class="n">backend</span><span class="p">)</span>
<span class="n">job</span><span class="o">.</span><span class="n">result</span><span class="p">()</span><span class="o">.</span><span class="n">get_unitary</span><span class="p">(</span><span class="n">qc</span><span class="p">,</span> <span class="n">decimals</span><span class="o">=</span><span class="mi">3</span><span class="p">)</span>
</pre></div>

    </div>
</div>
</div>

<div class="output_wrapper">
<div class="output">


<div class="output_area">

    <div class="prompt output_prompt">Out[55]:</div>




<div class="output_text output_subarea output_execute_result">
<pre>array([[1.+0.j, 0.+0.j, 0.+0.j, 0.+0.j, 0.+0.j, 0.+0.j, 0.+0.j, 0.+0.j],
       [0.+0.j, 1.+0.j, 0.+0.j, 0.+0.j, 0.+0.j, 0.+0.j, 0.+0.j, 0.+0.j],
       [0.+0.j, 0.+0.j, 1.+0.j, 0.+0.j, 0.+0.j, 0.+0.j, 0.+0.j, 0.+0.j],
       [0.+0.j, 0.+0.j, 0.+0.j, 0.+0.j, 0.+0.j, 1.+0.j, 0.+0.j, 0.+0.j],
       [0.+0.j, 0.+0.j, 0.+0.j, 0.+0.j, 1.+0.j, 0.+0.j, 0.+0.j, 0.+0.j],
       [0.+0.j, 0.+0.j, 0.+0.j, 1.+0.j, 0.+0.j, 0.+0.j, 0.+0.j, 0.+0.j],
       [0.+0.j, 0.+0.j, 0.+0.j, 0.+0.j, 0.+0.j, 0.+0.j, 1.+0.j, 0.+0.j],
       [0.+0.j, 0.+0.j, 0.+0.j, 0.+0.j, 0.+0.j, 0.+0.j, 0.+0.j, 1.+0.j]])</pre>
</div>

</div>

</div>
</div>

</div>
<div class="cell border-box-sizing text_cell rendered"><div class="prompt input_prompt">
</div><div class="inner_cell">
<div class="text_cell_render border-box-sizing rendered_html">
<h2 id="Non-unitary-operations-">Non unitary operations <a name="non_unitary" /><a class="anchor-link" href="#Non-unitary-operations-">&#182;</a></h2><p>Now that we have gone through all the unitary operations in quantum circuits, we also have access to non-unitary operations. These include measurements, reset of qubits, and classical conditional operations.</p>

</div>
</div>
</div>
<div class="cell border-box-sizing code_cell rendered">
<div class="input">
<div class="prompt input_prompt">In&nbsp;[56]:</div>
<div class="inner_cell">
    <div class="input_area">
<div class=" highlight hl-ipython3"><pre><span></span><span class="n">q</span> <span class="o">=</span> <span class="n">QuantumRegister</span><span class="p">(</span><span class="mi">1</span><span class="p">)</span>
<span class="n">c</span> <span class="o">=</span> <span class="n">ClassicalRegister</span><span class="p">(</span><span class="mi">1</span><span class="p">)</span>
</pre></div>

    </div>
</div>
</div>

</div>
<div class="cell border-box-sizing text_cell rendered"><div class="prompt input_prompt">
</div><div class="inner_cell">
<div class="text_cell_render border-box-sizing rendered_html">
<h3 id="Measurements">Measurements<a class="anchor-link" href="#Measurements">&#182;</a></h3><p>We don't have access to all the information when we make a measurement in a quantum computer. The quantum state is projected onto the standard basis. Below are two examples showing a circuit that is prepared in a basis state and the quantum computer prepared in a superposition state.</p>

</div>
</div>
</div>
<div class="cell border-box-sizing code_cell rendered">
<div class="input">
<div class="prompt input_prompt">In&nbsp;[57]:</div>
<div class="inner_cell">
    <div class="input_area">
<div class=" highlight hl-ipython3"><pre><span></span><span class="n">qc</span> <span class="o">=</span> <span class="n">QuantumCircuit</span><span class="p">(</span><span class="n">q</span><span class="p">,</span> <span class="n">c</span><span class="p">)</span>
<span class="n">qc</span><span class="o">.</span><span class="n">measure</span><span class="p">(</span><span class="n">q</span><span class="p">,</span> <span class="n">c</span><span class="p">)</span>
<span class="n">qc</span><span class="o">.</span><span class="n">draw</span><span class="p">()</span>
</pre></div>

    </div>
</div>
</div>

<div class="output_wrapper">
<div class="output">


<div class="output_area">

    <div class="prompt output_prompt">Out[57]:</div>



<div class="output_html rendered_html output_subarea output_execute_result">
<pre style="word-wrap: normal;white-space: pre;background: #fff0;line-height: 1.1;font-family: &quot;Courier New&quot;,Courier,monospace">         ┌─┐
q3_0: |0>┤M├
         └╥┘
 c0_0: 0 ═╩═
            </pre>
</div>

</div>

</div>
</div>

</div>
<div class="cell border-box-sizing code_cell rendered">
<div class="input">
<div class="prompt input_prompt">In&nbsp;[58]:</div>
<div class="inner_cell">
    <div class="input_area">
<div class=" highlight hl-ipython3"><pre><span></span><span class="n">backend</span> <span class="o">=</span> <span class="n">BasicAer</span><span class="o">.</span><span class="n">get_backend</span><span class="p">(</span><span class="s1">&#39;qasm_simulator&#39;</span><span class="p">)</span>
<span class="n">job</span> <span class="o">=</span> <span class="n">execute</span><span class="p">(</span><span class="n">qc</span><span class="p">,</span> <span class="n">backend</span><span class="p">,</span> <span class="n">shots</span><span class="o">=</span><span class="mi">1024</span><span class="p">)</span>
<span class="n">job</span><span class="o">.</span><span class="n">result</span><span class="p">()</span><span class="o">.</span><span class="n">get_counts</span><span class="p">(</span><span class="n">qc</span><span class="p">)</span>
</pre></div>

    </div>
</div>
</div>

<div class="output_wrapper">
<div class="output">


<div class="output_area">

    <div class="prompt output_prompt">Out[58]:</div>




<div class="output_text output_subarea output_execute_result">
<pre>{&#39;0&#39;: 1024}</pre>
</div>

</div>

</div>
</div>

</div>
<div class="cell border-box-sizing text_cell rendered"><div class="prompt input_prompt">
</div><div class="inner_cell">
<div class="text_cell_render border-box-sizing rendered_html">
<p>The simulator predicts that 100 percent of the time the classical register returns 0.</p>

</div>
</div>
</div>
<div class="cell border-box-sizing code_cell rendered">
<div class="input">
<div class="prompt input_prompt">In&nbsp;[59]:</div>
<div class="inner_cell">
    <div class="input_area">
<div class=" highlight hl-ipython3"><pre><span></span><span class="n">qc</span> <span class="o">=</span> <span class="n">QuantumCircuit</span><span class="p">(</span><span class="n">q</span><span class="p">,</span> <span class="n">c</span><span class="p">)</span>
<span class="n">qc</span><span class="o">.</span><span class="n">h</span><span class="p">(</span><span class="n">q</span><span class="p">)</span>
<span class="n">qc</span><span class="o">.</span><span class="n">measure</span><span class="p">(</span><span class="n">q</span><span class="p">,</span> <span class="n">c</span><span class="p">)</span>
<span class="n">qc</span><span class="o">.</span><span class="n">draw</span><span class="p">()</span>
</pre></div>

    </div>
</div>
</div>

<div class="output_wrapper">
<div class="output">


<div class="output_area">

    <div class="prompt output_prompt">Out[59]:</div>



<div class="output_html rendered_html output_subarea output_execute_result">
<pre style="word-wrap: normal;white-space: pre;background: #fff0;line-height: 1.1;font-family: &quot;Courier New&quot;,Courier,monospace">         ┌───┐┌─┐
q3_0: |0>┤ H ├┤M├
         └───┘└╥┘
 c0_0: 0 ══════╩═
                 </pre>
</div>

</div>

</div>
</div>

</div>
<div class="cell border-box-sizing code_cell rendered">
<div class="input">
<div class="prompt input_prompt">In&nbsp;[60]:</div>
<div class="inner_cell">
    <div class="input_area">
<div class=" highlight hl-ipython3"><pre><span></span><span class="n">job</span> <span class="o">=</span> <span class="n">execute</span><span class="p">(</span><span class="n">qc</span><span class="p">,</span> <span class="n">backend</span><span class="p">,</span> <span class="n">shots</span><span class="o">=</span><span class="mi">1024</span><span class="p">)</span>
<span class="n">job</span><span class="o">.</span><span class="n">result</span><span class="p">()</span><span class="o">.</span><span class="n">get_counts</span><span class="p">(</span><span class="n">qc</span><span class="p">)</span>
</pre></div>

    </div>
</div>
</div>

<div class="output_wrapper">
<div class="output">


<div class="output_area">

    <div class="prompt output_prompt">Out[60]:</div>




<div class="output_text output_subarea output_execute_result">
<pre>{&#39;0&#39;: 509, &#39;1&#39;: 515}</pre>
</div>

</div>

</div>
</div>

</div>
<div class="cell border-box-sizing text_cell rendered"><div class="prompt input_prompt">
</div><div class="inner_cell">
<div class="text_cell_render border-box-sizing rendered_html">
<p>The simulator predicts that 50 percent of the time the classical register returns 0 or 1.</p>

</div>
</div>
</div>
<div class="cell border-box-sizing text_cell rendered"><div class="prompt input_prompt">
</div><div class="inner_cell">
<div class="text_cell_render border-box-sizing rendered_html">
<h3 id="Reset">Reset<a class="anchor-link" href="#Reset">&#182;</a></h3><p>It is also possible to <code>reset</code> qubits to the $\left|0\right\rangle$ state in the middle of computation. Note that <code>reset</code> is not a Gate operation, since it is irreversible.</p>

</div>
</div>
</div>
<div class="cell border-box-sizing code_cell rendered">
<div class="input">
<div class="prompt input_prompt">In&nbsp;[61]:</div>
<div class="inner_cell">
    <div class="input_area">
<div class=" highlight hl-ipython3"><pre><span></span><span class="n">qc</span> <span class="o">=</span> <span class="n">QuantumCircuit</span><span class="p">(</span><span class="n">q</span><span class="p">,</span> <span class="n">c</span><span class="p">)</span>
<span class="n">qc</span><span class="o">.</span><span class="n">reset</span><span class="p">(</span><span class="n">q</span><span class="p">[</span><span class="mi">0</span><span class="p">])</span>
<span class="n">qc</span><span class="o">.</span><span class="n">measure</span><span class="p">(</span><span class="n">q</span><span class="p">,</span> <span class="n">c</span><span class="p">)</span>
<span class="n">qc</span><span class="o">.</span><span class="n">draw</span><span class="p">()</span>
</pre></div>

    </div>
</div>
</div>

<div class="output_wrapper">
<div class="output">


<div class="output_area">

    <div class="prompt output_prompt">Out[61]:</div>



<div class="output_html rendered_html output_subarea output_execute_result">
<pre style="word-wrap: normal;white-space: pre;background: #fff0;line-height: 1.1;font-family: &quot;Courier New&quot;,Courier,monospace">              ┌─┐
q3_0: |0>─|0>─┤M├
              └╥┘
 c0_0: 0 ══════╩═
                 </pre>
</div>

</div>

</div>
</div>

</div>
<div class="cell border-box-sizing code_cell rendered">
<div class="input">
<div class="prompt input_prompt">In&nbsp;[62]:</div>
<div class="inner_cell">
    <div class="input_area">
<div class=" highlight hl-ipython3"><pre><span></span><span class="n">job</span> <span class="o">=</span> <span class="n">execute</span><span class="p">(</span><span class="n">qc</span><span class="p">,</span> <span class="n">backend</span><span class="p">,</span> <span class="n">shots</span><span class="o">=</span><span class="mi">1024</span><span class="p">)</span>
<span class="n">job</span><span class="o">.</span><span class="n">result</span><span class="p">()</span><span class="o">.</span><span class="n">get_counts</span><span class="p">(</span><span class="n">qc</span><span class="p">)</span>
</pre></div>

    </div>
</div>
</div>

<div class="output_wrapper">
<div class="output">


<div class="output_area">

    <div class="prompt output_prompt">Out[62]:</div>




<div class="output_text output_subarea output_execute_result">
<pre>{&#39;0&#39;: 1024}</pre>
</div>

</div>

</div>
</div>

</div>
<div class="cell border-box-sizing code_cell rendered">
<div class="input">
<div class="prompt input_prompt">In&nbsp;[63]:</div>
<div class="inner_cell">
    <div class="input_area">
<div class=" highlight hl-ipython3"><pre><span></span><span class="n">qc</span> <span class="o">=</span> <span class="n">QuantumCircuit</span><span class="p">(</span><span class="n">q</span><span class="p">,</span> <span class="n">c</span><span class="p">)</span>
<span class="n">qc</span><span class="o">.</span><span class="n">h</span><span class="p">(</span><span class="n">q</span><span class="p">)</span>
<span class="n">qc</span><span class="o">.</span><span class="n">reset</span><span class="p">(</span><span class="n">q</span><span class="p">[</span><span class="mi">0</span><span class="p">])</span>
<span class="n">qc</span><span class="o">.</span><span class="n">measure</span><span class="p">(</span><span class="n">q</span><span class="p">,</span> <span class="n">c</span><span class="p">)</span>
<span class="n">qc</span><span class="o">.</span><span class="n">draw</span><span class="p">()</span>
</pre></div>

    </div>
</div>
</div>

<div class="output_wrapper">
<div class="output">


<div class="output_area">

    <div class="prompt output_prompt">Out[63]:</div>



<div class="output_html rendered_html output_subarea output_execute_result">
<pre style="word-wrap: normal;white-space: pre;background: #fff0;line-height: 1.1;font-family: &quot;Courier New&quot;,Courier,monospace">         ┌───┐     ┌─┐
q3_0: |0>┤ H ├─|0>─┤M├
         └───┘     └╥┘
 c0_0: 0 ═══════════╩═
                      </pre>
</div>

</div>

</div>
</div>

</div>
<div class="cell border-box-sizing code_cell rendered">
<div class="input">
<div class="prompt input_prompt">In&nbsp;[64]:</div>
<div class="inner_cell">
    <div class="input_area">
<div class=" highlight hl-ipython3"><pre><span></span><span class="n">job</span> <span class="o">=</span> <span class="n">execute</span><span class="p">(</span><span class="n">qc</span><span class="p">,</span> <span class="n">backend</span><span class="p">,</span> <span class="n">shots</span><span class="o">=</span><span class="mi">1024</span><span class="p">)</span>
<span class="n">job</span><span class="o">.</span><span class="n">result</span><span class="p">()</span><span class="o">.</span><span class="n">get_counts</span><span class="p">(</span><span class="n">qc</span><span class="p">)</span>
</pre></div>

    </div>
</div>
</div>

<div class="output_wrapper">
<div class="output">


<div class="output_area">

    <div class="prompt output_prompt">Out[64]:</div>




<div class="output_text output_subarea output_execute_result">
<pre>{&#39;0&#39;: 1024}</pre>
</div>

</div>

</div>
</div>

</div>
<div class="cell border-box-sizing text_cell rendered"><div class="prompt input_prompt">
</div><div class="inner_cell">
<div class="text_cell_render border-box-sizing rendered_html">
<p>Here we see that for both of these circuits the simulator always predicts that the output is 100 percent in the 0 state.</p>

</div>
</div>
</div>
<div class="cell border-box-sizing text_cell rendered"><div class="prompt input_prompt">
</div><div class="inner_cell">
<div class="text_cell_render border-box-sizing rendered_html">
<h3 id="Conditional-operations">Conditional operations<a class="anchor-link" href="#Conditional-operations">&#182;</a></h3><p>It is also possible to do operations conditioned on the state of the classical register</p>

</div>
</div>
</div>
<div class="cell border-box-sizing code_cell rendered">
<div class="input">
<div class="prompt input_prompt">In&nbsp;[65]:</div>
<div class="inner_cell">
    <div class="input_area">
<div class=" highlight hl-ipython3"><pre><span></span><span class="n">qc</span> <span class="o">=</span> <span class="n">QuantumCircuit</span><span class="p">(</span><span class="n">q</span><span class="p">,</span> <span class="n">c</span><span class="p">)</span>
<span class="n">qc</span><span class="o">.</span><span class="n">x</span><span class="p">(</span><span class="n">q</span><span class="p">[</span><span class="mi">0</span><span class="p">])</span><span class="o">.</span><span class="n">c_if</span><span class="p">(</span><span class="n">c</span><span class="p">,</span> <span class="mi">0</span><span class="p">)</span>
<span class="n">qc</span><span class="o">.</span><span class="n">measure</span><span class="p">(</span><span class="n">q</span><span class="p">,</span><span class="n">c</span><span class="p">)</span>
<span class="n">qc</span><span class="o">.</span><span class="n">draw</span><span class="p">()</span>
</pre></div>

    </div>
</div>
</div>

<div class="output_wrapper">
<div class="output">


<div class="output_area">

    <div class="prompt output_prompt">Out[65]:</div>



<div class="output_html rendered_html output_subarea output_execute_result">
<pre style="word-wrap: normal;white-space: pre;background: #fff0;line-height: 1.1;font-family: &quot;Courier New&quot;,Courier,monospace">          ┌───┐ ┌─┐
q3_0: |0>─┤ X ├─┤M├
          └─┬─┘ └╥┘
         ┌──┴──┐ ║ 
 c0_0: 0 ╡ = 0 ╞═╩═
         └─────┘   </pre>
</div>

</div>

</div>
</div>

</div>
<div class="cell border-box-sizing text_cell rendered"><div class="prompt input_prompt">
</div><div class="inner_cell">
<div class="text_cell_render border-box-sizing rendered_html">
<p>Here the classical bit always takes the value 0 so the qubit state is always flipped.</p>

</div>
</div>
</div>
<div class="cell border-box-sizing code_cell rendered">
<div class="input">
<div class="prompt input_prompt">In&nbsp;[66]:</div>
<div class="inner_cell">
    <div class="input_area">
<div class=" highlight hl-ipython3"><pre><span></span><span class="n">job</span> <span class="o">=</span> <span class="n">execute</span><span class="p">(</span><span class="n">qc</span><span class="p">,</span> <span class="n">backend</span><span class="p">,</span> <span class="n">shots</span><span class="o">=</span><span class="mi">1024</span><span class="p">)</span>
<span class="n">job</span><span class="o">.</span><span class="n">result</span><span class="p">()</span><span class="o">.</span><span class="n">get_counts</span><span class="p">(</span><span class="n">qc</span><span class="p">)</span>
</pre></div>

    </div>
</div>
</div>

<div class="output_wrapper">
<div class="output">


<div class="output_area">

    <div class="prompt output_prompt">Out[66]:</div>




<div class="output_text output_subarea output_execute_result">
<pre>{&#39;1&#39;: 1024}</pre>
</div>

</div>

</div>
</div>

</div>
<div class="cell border-box-sizing code_cell rendered">
<div class="input">
<div class="prompt input_prompt">In&nbsp;[67]:</div>
<div class="inner_cell">
    <div class="input_area">
<div class=" highlight hl-ipython3"><pre><span></span><span class="n">qc</span> <span class="o">=</span> <span class="n">QuantumCircuit</span><span class="p">(</span><span class="n">q</span><span class="p">,</span> <span class="n">c</span><span class="p">)</span>
<span class="n">qc</span><span class="o">.</span><span class="n">h</span><span class="p">(</span><span class="n">q</span><span class="p">)</span>
<span class="n">qc</span><span class="o">.</span><span class="n">measure</span><span class="p">(</span><span class="n">q</span><span class="p">,</span><span class="n">c</span><span class="p">)</span>
<span class="n">qc</span><span class="o">.</span><span class="n">x</span><span class="p">(</span><span class="n">q</span><span class="p">[</span><span class="mi">0</span><span class="p">])</span><span class="o">.</span><span class="n">c_if</span><span class="p">(</span><span class="n">c</span><span class="p">,</span> <span class="mi">0</span><span class="p">)</span>
<span class="n">qc</span><span class="o">.</span><span class="n">measure</span><span class="p">(</span><span class="n">q</span><span class="p">,</span><span class="n">c</span><span class="p">)</span>
<span class="n">qc</span><span class="o">.</span><span class="n">draw</span><span class="p">()</span>
</pre></div>

    </div>
</div>
</div>

<div class="output_wrapper">
<div class="output">


<div class="output_area">

    <div class="prompt output_prompt">Out[67]:</div>



<div class="output_html rendered_html output_subarea output_execute_result">
<pre style="word-wrap: normal;white-space: pre;background: #fff0;line-height: 1.1;font-family: &quot;Courier New&quot;,Courier,monospace">         ┌───┐┌─┐ ┌───┐ ┌─┐
q3_0: |0>┤ H ├┤M├─┤ X ├─┤M├
         └───┘└╥┘ └─┬─┘ └╥┘
               ║ ┌──┴──┐ ║ 
 c0_0: 0 ══════╩═╡ = 0 ╞═╩═
                 └─────┘   </pre>
</div>

</div>

</div>
</div>

</div>
<div class="cell border-box-sizing code_cell rendered">
<div class="input">
<div class="prompt input_prompt">In&nbsp;[68]:</div>
<div class="inner_cell">
    <div class="input_area">
<div class=" highlight hl-ipython3"><pre><span></span><span class="n">job</span> <span class="o">=</span> <span class="n">execute</span><span class="p">(</span><span class="n">qc</span><span class="p">,</span> <span class="n">backend</span><span class="p">,</span> <span class="n">shots</span><span class="o">=</span><span class="mi">1024</span><span class="p">)</span>
<span class="n">job</span><span class="o">.</span><span class="n">result</span><span class="p">()</span><span class="o">.</span><span class="n">get_counts</span><span class="p">(</span><span class="n">qc</span><span class="p">)</span>
</pre></div>

    </div>
</div>
</div>

<div class="output_wrapper">
<div class="output">


<div class="output_area">

    <div class="prompt output_prompt">Out[68]:</div>




<div class="output_text output_subarea output_execute_result">
<pre>{&#39;1&#39;: 1024}</pre>
</div>

</div>

</div>
</div>

</div>
<div class="cell border-box-sizing text_cell rendered"><div class="prompt input_prompt">
</div><div class="inner_cell">
<div class="text_cell_render border-box-sizing rendered_html">
<p>Here the classical bit by the first measurement is random but the conditional operation results in the qubit being deterministically put into $\left|1\right\rangle$.</p>

</div>
</div>
</div>
<div class="cell border-box-sizing text_cell rendered"><div class="prompt input_prompt">
</div><div class="inner_cell">
<div class="text_cell_render border-box-sizing rendered_html">
<h2 id="Arbitrary-initialization-">Arbitrary initialization <a name="initialization" /><a class="anchor-link" href="#Arbitrary-initialization-">&#182;</a></h2><p>What if we want to initialize a qubit register to an arbitrary state? An arbitrary state for $n$ qubits may be specified by a vector of $2^n$ amplitudes, where the sum of amplitude-norms-squared equals 1. For example, the following three-qubit state can be prepared:</p>
$$\left|\psi\right\rangle = \frac{i}{4}\left|000\right\rangle + \frac{1}{\sqrt{8}}\left|001\right\rangle + \frac{1+i}{4}\left|010\right\rangle + \frac{1+2i}{\sqrt{8}}\left|101\right\rangle + \frac{1}{4}\left|110\right\rangle$$
</div>
</div>
</div>
<div class="cell border-box-sizing code_cell rendered">
<div class="input">
<div class="prompt input_prompt">In&nbsp;[72]:</div>
<div class="inner_cell">
    <div class="input_area">
<div class=" highlight hl-ipython3"><pre><span></span><span class="c1"># Initializing a three-qubit quantum state</span>
<span class="kn">import</span> <span class="nn">math</span>
<span class="n">desired_vector</span> <span class="o">=</span> <span class="p">[</span>
    <span class="mi">1</span> <span class="o">/</span> <span class="n">math</span><span class="o">.</span><span class="n">sqrt</span><span class="p">(</span><span class="mi">16</span><span class="p">)</span> <span class="o">*</span> <span class="nb">complex</span><span class="p">(</span><span class="mi">0</span><span class="p">,</span> <span class="mi">1</span><span class="p">),</span>
    <span class="mi">1</span> <span class="o">/</span> <span class="n">math</span><span class="o">.</span><span class="n">sqrt</span><span class="p">(</span><span class="mi">8</span><span class="p">)</span> <span class="o">*</span> <span class="nb">complex</span><span class="p">(</span><span class="mi">1</span><span class="p">,</span> <span class="mi">0</span><span class="p">),</span>
    <span class="mi">1</span> <span class="o">/</span> <span class="n">math</span><span class="o">.</span><span class="n">sqrt</span><span class="p">(</span><span class="mi">16</span><span class="p">)</span> <span class="o">*</span> <span class="nb">complex</span><span class="p">(</span><span class="mi">1</span><span class="p">,</span> <span class="mi">1</span><span class="p">),</span>
    <span class="mi">0</span><span class="p">,</span>
    <span class="mi">0</span><span class="p">,</span>
    <span class="mi">1</span> <span class="o">/</span> <span class="n">math</span><span class="o">.</span><span class="n">sqrt</span><span class="p">(</span><span class="mi">8</span><span class="p">)</span> <span class="o">*</span> <span class="nb">complex</span><span class="p">(</span><span class="mi">1</span><span class="p">,</span> <span class="mi">2</span><span class="p">),</span>
    <span class="mi">1</span> <span class="o">/</span> <span class="n">math</span><span class="o">.</span><span class="n">sqrt</span><span class="p">(</span><span class="mi">16</span><span class="p">)</span> <span class="o">*</span> <span class="nb">complex</span><span class="p">(</span><span class="mi">1</span><span class="p">,</span> <span class="mi">0</span><span class="p">),</span>
    <span class="mi">0</span><span class="p">]</span>


<span class="n">q</span> <span class="o">=</span> <span class="n">QuantumRegister</span><span class="p">(</span><span class="mi">3</span><span class="p">)</span>

<span class="n">qc</span> <span class="o">=</span> <span class="n">QuantumCircuit</span><span class="p">(</span><span class="n">q</span><span class="p">)</span>

<span class="n">qc</span><span class="o">.</span><span class="n">initialize</span><span class="p">(</span><span class="n">desired_vector</span><span class="p">,</span> <span class="p">[</span><span class="n">q</span><span class="p">[</span><span class="mi">0</span><span class="p">],</span><span class="n">q</span><span class="p">[</span><span class="mi">1</span><span class="p">],</span><span class="n">q</span><span class="p">[</span><span class="mi">2</span><span class="p">]])</span>
<span class="n">qc</span><span class="o">.</span><span class="n">draw</span><span class="p">(</span><span class="n">output</span><span class="o">=</span><span class="s1">&#39;mpl&#39;</span><span class="p">)</span>
</pre></div>

    </div>
</div>
</div>

<div class="output_wrapper">
<div class="output">


<div class="output_area">

    <div class="prompt output_prompt">Out[72]:</div>




<div class="output_png output_subarea output_execute_result">
<img src="data:image/png;base64,iVBORw0KGgoAAAANSUhEUgAABP0AAAIUCAYAAABhOFkdAAAABHNCSVQICAgIfAhkiAAAAAlwSFlzAAALEgAACxIB0t1+/AAAADh0RVh0U29mdHdhcmUAbWF0cGxvdGxpYiB2ZXJzaW9uMy4xLjEsIGh0dHA6Ly9tYXRwbG90bGliLm9yZy8QZhcZAAAgAElEQVR4nOzdf3yN9f/H8efZ72M/sA3TxMxmY1ioKBVTMukXHz8iIn0yP1KkQlbfSjOWSvVBKYUQTSvCSoqlH0KK9lkZTWY2NMY2ZmY73z9mJ8fOhA8drj3ut9u53ex93te5Xtf7vK+z9ux9nctksVgsAgAAAAAAAGAYTo4uAAAAAAAAAMDFRegHAAAAAAAAGAyhHwAAAAAAAGAwhH4AAAAAAACAwRD6AQAAAAAAAAZD6AcAAAAAAAAYDKEfAAAAAAAAYDCEfgAAAAAAAIDBEPoBAAAAAAAABkPoBwAAAAAAABgMoR8AAAAAAABgMIR+AAAAAAAAgMEQ+gEAAAAAAAAGQ+gHAAAAAAAAGAyhHwAAAAAAAGAwhH4AAAAAAACAwRD6AQAAAAAAAAZD6AcAAAAAAAAYDKEfAAAAAAAAYDCEfgAAAAAAAIDBEPoBAAAAAAAABkPoBwAAAAAAABgMoR8AAAAAAABgMIR+AAAAAAAAgMEQ+gEAAAAAAAAGQ+gHAAAAAAAAGAyhHwAAAAAAAGAwhH4AAAAAAACAwRD6AQAAAAAAAAZD6AcAAAAAAAAYDKEfAAAAAAAAYDCEfgAAAAAAAIDBEPoBAAAAAAAABkPoBwAAAAAAABgMoR8AAAAAAABgMIR+Z1i9erWioqLk4+MjLy8vRUZGKikpydFlAQAAAAAAAOfMxdEFXE7mzJmjmJgYjRgxQhMmTJDJZFJqaqqKioocXRoAAAAAAABwzkwWi8Xi6CIuB5mZmQoPD9ekSZM0duxYR5cDAAAAAAAAXLBqcXlvWVmZpk2bptDQUHl4eCgyMlIpKSkKCwvT0KFDJZWv8jOZTBo5cqSDqwUAAAAAAAD+N9Ui9BsyZIgmTZqkmJgYJScnq0+fPurXr58yMjLUtm1bSdL69esVHh6uxMREhYaGysXFRUFBQYqPj1dZWZmDjwAAAAAAAAA4d4YP/RYtWqR58+Zp+fLleuKJJxQVFaWJEyfqhhtu0MmTJ62hX3Z2tnbs2KHRo0dr7Nix+uKLL/Svf/1LEydO1NNPP219vf379+v2229XjRo1FBkZqZ9++slRhwYAAAAAAADYZfgbecTHxys6OlodO3a0aQ8JCZGrq6tatmwpqfwS4IKCAiUmJqpXr16SpKioKOXm5mr69OmKjY2Vl5eXhg8frvDwcC1btkzvv/++evXqpfT0dDk7O1+yYzCZTJfstQEAAAAAAHBlOJ9bcxh6pV9WVpZSU1PVu3fvSs9lZmYqIiJC7u7ukiQ/Pz9JUteuXW36RUdHq7i4WGlpaSooKNDKlSv17LPPymw2a+jQoSotLdWGDRsu/cEAAAAAAAAA58jQK/2ysrIkSQEBATbtRUVFSklJ0R133GFta9mypd3wriJBdXJy0o4dO+Tn5yd/f3+b7dLS0tShQ4dLcQg2NQAAAAAAAADnwtAr/SrCufT0dJv2hIQE5eTkqE2bNta2Hj16SJJWrVpl0zc5OVmenp6KiIjQ0aNH5ePjY/O8j4+PCgsLL0X5AAAAAAAAwAUx9Eq/4OBgtWrVSpMnT5avr68CAwO1dOlSa7BXcRMPSerWrZu6dOmiYcOGKTc3V02bNtXKlSu1cOFCxcXFyWw2y9PTUwUFBTb7yM/Pl5eX1z96XAAAAAAAAMDZmCwGv3Y0PT1dMTEx2rhxo/z8/DRo0CB5e3tr4sSJys/Pl9lstvYtLCxUbGyslixZooMHD6pJkyZ67LHHNGzYMElSQUGB/P39lZ2dbf0OwMaNG2vBggWX9PJeAAAAAAAA4HwYPvSzZ+DAgdq6dau2bdt23tv27NlTDRs21JQpU7RgwQJNnjxZO3bsuKR37wUAAAAAAADOh6Ev763K5s2b1b59+wvadtasWRowYIBq166t0NBQffTRRwR+AAAAAAAAuKxUu9CvsLBQ6enpGjFixAVtX69ePX3xxRcXuSoAAAAAAADg4qmWl/cCAAAAAAAARubk6AIAAAAAAAAAXFyEfgAAAAAAAIDBEPoBAAAAAAAABkPoBwAAAAAAABgMoR8AAAAAAABgMIR+AAAAAAAAgMEQ+gEAAAAAAAAGQ+gHAAAAAAAAGAyhHwAAAAAAAGAwhH4AAAAAAACAwRD6AQAAAAAAAAZD6AcAAAAAAAAYDKEfAAAAAAAAYDCEfgAAAAAAAIDBEPoBAAAAAAAABkPoBwAAAAAAABgMoR8AAAAAAABgMIR+AAAAAAAAgMEQ+gEAAAAAAAAGQ+gHAAAAAAAAGAyhHwAAAAAAAGAwhH4AAAAAAACAwRD6AQAAAAAAAAZD6AcAAAAAAAAYDKEfAAAAAAAAYDCEfgAAAAAAAIDBEPoBAAAAAAAABkPoBwAAAAAAABgMoR8AAAAAAABgMIR+AAAAAAAAgMEQ+tmxevVqRUVFycfHR15eXoqMjFRSUpKjywIAAAAAAADOiYujC7jczJkzRzExMRoxYoQmTJggk8mk1NRUFRUVObo0AAAAAAAA4JyYLBaLxdFFXC4yMzMVHh6uSZMmaezYsY4uBwAAAAAAALgg1eby3rKyMk2bNk2hoaHy8PBQZGSkUlJSFBYWpqFDh0oqX+VnMpk0cuRIB1cLAAAAAAAAXLhqE/oNGTJEkyZNUkxMjJKTk9WnTx/169dPGRkZatu2rSRp/fr1Cg8PV2JiokJDQ+Xi4qKgoCDFx8errKzMwUcAAAAAAAAAnCNLNbBw4UKLJMu6dets2nv27GmRZNm0aZPFYrFYwsLCLN7e3hZfX1/LrFmzLF999ZXl8ccft5hMJsu4ceOs2z377LOWZs2aWUwmkyUxMfGS1y+JBw8ePHjw4MGDBw8ePHjw4MGDRzV/nI9qcSOP+Ph4RUdHq2PHjjbtISEhcnV1VcuWLSWVXwJcUFCgxMRE9erVS5IUFRWl3NxcTZ8+XbGxsfLy8lJoaKhee+01PfPMM//4sQAAAAAAAAB/x/ChX1ZWllJTUzVmzJhKz2VmZioiIkLu7u6SJD8/P+3YsUNdu3a16RcdHa358+crLS1N119/vQYMGCBJiouLu/QHIMnCvVYAAAAAAABwHgz/nX5ZWVmSpICAAJv2oqIipaSkWL/PT5J1xd+ZKkI3JyfDDxcAAAAAAAAMwPAplr+/vyQpPT3dpj0hIUE5OTlq06aNta1Hjx6SpFWrVtn0TU5OlqenpyIiIi5xtQAAAAAAAMD/zvCX9wYHB6tVq1aaPHmyfH19FRgYqKVLl1qDvdNX+nXr1k1dunTRsGHDlJubq6ZNm2rlypVauHCh4uLiZDabHXUYAAAAAAAAwDkz/Eo/JycnJSYmKiIiQsOHD9eDDz4of39/jRw5Ui4uLmrVqpVN/6SkJA0aNEgvvviiunfvrs8//1wzZ87UhAkTHHQEAAAAAAAAwPkxWarpXSIGDhyorVu3atu2bee9bUlJiUpLS3X77bdr+PDh6tGjh9zd3WUymS5BpQAAAAAAAMD5MfxKv6ps3rzZ5tLe8/Hwww/LbDZr/fr16t+/v8xms3bv3n2RKwQAAAAAAAAuTLUM/QoLC5Wenm5zE4/zMXfuXFksFptHUFDQxS0SAAAAAAAAuEDV9vJeAAAAAAAAwKiq5Uo/AAAAAAAAwMgI/QAAAAAAAACDIfQDAAAAAAAADIbQDwAAAAAAADAYQj8AAAAAAADAYAj9AAAAAAAAAIMh9AMAAAAAAAAMhtAPAAAAAAAAMBhCPwAAAAAAAMBgCP0AAAAAAAAAgyH0AwAAAAAAAAyG0A8AAAAAAAAwGEI/AAAAAAAAwGAI/QAAAAAAAACDIfQDAAAAAAAADIbQDwAAAAAAADAYQj8AAAAAAADAYAj9AAAAAAAAAIMh9AMAAAAAAAAMhtAPAAAAAAAAMBhCPwAAAAAAAMBgCP0AAAAAAAAAgyH0AwAAAAAAAAyG0A8AAAAAAAAwGEI/AAAAAAAAwGAI/QAAAAAAAACDIfQDAAAAAAAADIbQDwAAAAAAADAYQj8AAAAAAADAYAj97Fi9erWioqLk4+MjLy8vRUZGKikpydFlAQAAAAAAAOfExdEFXG7mzJmjmJgYjRgxQhMmTJDJZFJqaqqKioocXRoAAAAAAABwTkwWi8Xi6CIuF5mZmQoPD9ekSZM0duxYR5cDAAAAAAAAXJBqc3lvWVmZpk2bptDQUHl4eCgyMlIpKSkKCwvT0KFDJZWv8jOZTBo5cqSDqwUAAAAAAAAuXLUJ/YYMGaJJkyYpJiZGycnJ6tOnj/r166eMjAy1bdtWkrR+/XqFh4crMTFRoaGhcnFxUVBQkOLj41VWVubgIwAAAAAAAADOTbX4Tr9FixZp3rx5WrdunTp27ChJioqK0pYtW5SUlGQN/bKzs5Wdna3Ro0crLi5OYWFhWrFihSZOnKgjR45oypQpKi4uVkxMjL744gsdPXpUbdq00YwZM9SsWTNHHiIAAAAAAABgVS1Cv/j4eEVHR1sDvwohISFydXVVy5YtJZVfAlxQUKDExET16tVLUnk4mJubq+nTpys2NlYmk0khISGKi4tTQECApk6dqr59+2rbtm2XrH6TyXTJXhsAAAAAAABXhvO5NYfhL+/NyspSamqqevfuXem5zMxMRUREyN3dXZLk5+cnSeratatNv+joaBUXFystLU2enp6KjY1VYGCgnJ2dNWrUKP3yyy86fvz4pT8YAAAAAAAA4BwYfqVfVlaWJCkgIMCmvaioSCkpKbrjjjusbS1bttSGDRsqvUZFiurkVDkj/e677xQUFCQPD4+LWbbd/QMAAAAAAADnwvAr/fz9/SVJ6enpNu0JCQnKyclRmzZtrG09evSQJK1atcqmb3Jysjw9PRUREWHTnpeXp5EjRyouLu5SlA4AAAAAAABcEMOv9AsODlarVq00efJk+fr6KjAwUEuXLrUGexU38ZCkbt26qUuXLho2bJhyc3PVtGlTrVy5UgsXLlRcXJzMZrO1b1FRke6++2717dtX/fv3/8ePCwAAAAAAAKiKyVINrh1NT09XTEyMNm7cKD8/Pw0aNEje3t6aOHGi8vPzbcK8wsJCxcbGasmSJTp48KCaNGmixx57TMOGDbP2OXnypHr06KE6dero3XffdcQhAQAAAAAAAFWqFqGfPQMHDtTWrVsv6K67gwcP1p9//qlly5bJxcXwiyUBAAAAAABwham2idXmzZvVvn37895u9+7dmjdvnjw8PFSrVi1re1pamho2bHgxSwQAAAAAAAAuSLUM/QoLC5Wenq4RI0ac97aNGjXibroAAAAAAAC4rFXby3sBAAAAAAAAo3JydAEAAAAAAAAALi5CPwAAAAAAAMBgCP0AAAAAAAAAgyH0AwAAAAAAAAyG0A8AAAAAAAAwGEI/AAAAAAAAwGAI/QAAAAAAAACDIfQDAAAAAAAADIbQDwAAAAAAADAYQj8AAAAAAADAYAj9AAAAAAAAAIMh9AMAAAAAAAAMhtAPAAAAAAAAMBhCPwAAAAAAAMBgCP0AAAAAAAAAgyH0AwAAAAAAAAyG0A8AAAAAAAAwGEI/AAAAAAAAwGAI/QAAAAAAAACDIfQDAAAAAAAADIbQDwAAAAAAADAYQj8AAAAAAADAYAj9AAAAAAAAAIMh9AMAAAAAAAAMhtAPAAAAAAAAMBhCPwAAAAAAAMBgCP0AAAAAAAAAgyH0AwAAAAAAAAyG0A8AAAAAAAAwGEI/AAAAAAAAwGAI/QAAAAAAAACDIfQDAAAAAAAADIbQDwAAAAAAADAYQj8AAAAAAADAYAj9AAAAAAAAAIMh9AMAAAAAAAAMhtAPAAAAAAAAMBhCPwAAAAAAAMBgCP0AAAAAAAAAgyH0AwAAAAAAAAyG0A8AAAAAAAAwGEI/AAAAAAAAwGAI/QAAAAAAAACDIfQDAAAAAAAADIbQDwAAAAAAADAYQj8AAAAAAADAYAj9AAAAAAAAAIMh9AMAAAAAAAAMhtAPAAAAAAAAMBhCPwAAAAAAAMBgCP0AAAAAAAAAgyH0AwAAAAAAAAyG0A8AAAAAAAAwGEI/AAAAAAAAwGAI/QAAAAAAAACDIfQDAAAAAAAADIbQDwAAAAAAADAYQj8AAAAAAADAYAj9AAAAAAAAAIMh9AMAAAAAAAAMhtAPAAAAAAAAMBhCPwAAAAAAAMBgCP0AAAAAAAAAgyH0AwAAAAAAAAyG0A8AAAAAAAAwGEI/AAAAAAAAwGBcHF3AlWj7V1LBAUdXAQAAAAAAgOrs2vuqfo7Q7wIUHJAOZzm6CgAAAAAAAMA+Lu8FAAAAAAAADIbQDwAAAAAAADAYQj8AAAAAAADAYAj9AAAAAAAAAIMh9AMAAAAAAAAMhtAPAAAAAAAAMBhCPwAAAAAAAMBgCP3OsHr1akVFRcnHx0deXl6KjIxUUlKSo8sCAAAAAAAAzpmLowu4nMyZM0cxMTEaMWKEJkyYIJPJpNTUVBUVFTm6NAAAAAAAAOCcmSwWi8XRRVwOMjMzFR4erkmTJmns2LFn7bt5sXQ46x8q7ApRWlaqOavGa/XmuTpx8rjaht6u0b3eUk1Pf0eXBgAAAAAAYEi3PVH1c9Xi8t6ysjJNmzZNoaGh8vDwUGRkpFJSUhQWFqahQ4dKKl/lZzKZNHLkSAdXe2VavHaKvvvvMr0x6gd9MLE8EZ36wUAHVwUAAAAAAFA9VYvQb8iQIZo0aZJiYmKUnJysPn36qF+/fsrIyFDbtm0lSevXr1d4eLgSExMVGhoqFxcXBQUFKT4+XmVlZQ4+gsvfqg2z1TdqnOr7BcvTXFMPd0/Qpu2fad+hPxxdGgAAAAAAQLVj+O/0W7RokebNm6d169apY8eOkqSoqCht2bJFSUlJ1tAvOztb2dnZGj16tOLi4hQWFqYVK1Zo4sSJOnLkiKZMmSJJ2r9/vx6ZPFA///aNAv1D9WTfuQoJbO2w47scHC06ogOHMxUa2NbadpV/E9Xw8FFGzjYF+AY5rjgAAAAAAIBqyPChX3x8vKKjo62BX4WQkBC5urqqZcuWksovAS4oKFBiYqJ69eolqTwczM3N1fTp0xUbGysvLy8NHz5cQVeF65l+y7Tmx/f1wvxeem9cupydnP/xY7tcHC3OlyR5mmvatHt51NKx4/mOKAkAAAAAAKBaM/TlvVlZWUpNTVXv3r0rPZeZmamIiAi5u7tLkvz8/CRJXbt2tekXHR2t4uJipaWlqaCgQCtXrtS/ez4rd1ezurcfqjJLqX7dveHSH8xlrIa7t6TyFX+nKzx+WDU8fBxREgAAAAAAQLVm+NBPkgICAmzai4qKlJKSYr20V5J1xd+ZKm5u7OTkpB07dsjPz0+1fP66I23jgJbKPJB2sUu/oniZa6lurYbauXeLtS3nYIaOHc9XcP1WDqwMAAAAAACgejJ06OfvXx7Opaen27QnJCQoJydHbdq0sbb16NFDkrRq1SqbvsnJyfL09FRERISOHj0qHx/blWs1PHxUVFx4Kcq/otzRfqiWrJuqnEO7dPR4vt5eNU7XNu3K9/kBAAAAAAA4gKG/0y84OFitWrXS5MmT5evrq8DAQC1dutQa7J2+0q9bt27q0qWLhg0bptzcXDVt2lQrV67UwoULFRcXJ7PZLE9PTxUUFNjs49jxfJndvf7R47oc3Rc1XoXH8vTIa9eppLRYbUK7aHz/BY4uCwAAAAAAoFoyWSquXzWo9PR0xcTEaOPGjfLz89OgQYPk7e2tiRMnKj8/X2az2dq3sLBQsbGxWrJkiQ4ePKgmTZroscce07BhwyRJBQUF8vf318r/ZEtHyr8DcODkxhrXb4FaNO7gkOMDAAAAAABA9XTbE1U/Z/jQz56BAwdq69at2rZt23lv27NnT7kXNdTAW6ZozZYF+uCryZo7bke1vnsvAAAAAAAA/nlnC/0MfXlvVTZv3qz27dtf0LazZs3S3bcNUI9nayvQP1T/98BHBH4AAAAAAAC4rFS70K+wsFDp6ekaMWLEBW1fr149zZj4hQ5nXeTCAAAAAAAAgIuk2oV+Xl5eKi0tdXQZAAAAAAAAwCXj5OgCAAAAAAAAAFxchH4AAAAAAACAwRD6AQAAAAAAAAZD6AcAAAAAAAAYDKEfAAAAAAAAYDCEfgAAAAAAAIDBEPoBAAAAAAAABkPoBwAAAAAAABgMoR8AAAAAAABgMIR+AAAAAAAAgMEQ+gEAAAAAAAAGQ+gHAAAAAAAAGAyhHwAAAAAAAGAwhH4AAAAAAACAwRD6AQAAAAAAAAZD6AcAAAAAAAAYDKEfAAAAcJF8vmmuxs7q9D+/zpdbFirmlcj/vSAAAFBtuTi6AAAAAAC2bm1zv25tc7+jywAAAFcwVvoBAAAAl7m8wgMqKytzdBkAAOAKwko/AAAA4BKYv/o5/bJrvYLrt9IXP86Xu6tZ99z4iO7rPF6SVHAsT69+NFQ/7/xKpWUnVbfm1Xq05yy1DL5Zn2+aq0Vfvqh543dKklZvmquk9a+qY2RfdW7dX+ENr3fkoQEAgCsAoR8AAABwifyS8bXahnbRkmdytGvfL5r4TjfVrd1InVv304cpL6n4xDEtfHq3PNw8tTd3h5ydXe2+Tt+op9S2aRet/Xmx4hb0lZOTs6Ku6aeo1v3UqF7zf/ioAADAlYDLewEAAIBLxNenvvpGjZOri5uaNmirO9oP1eeb3pMkuTq7Kf/YQe35c7ssFosa1Gmq+r6Nq3ytkMDWerj7VL3/9C6Nu+99HS3O11Ozb1PMK9fo621L/6lDAgAAVwhCPwAAAOASqVe7kUwm02k/Byn3SJYkqXenJ9U65Fa9tHiQej1fRwmLBymvYP85ve7VdcPVpH6kGtVtrn2HMqyvCQAAUIHLewEAAIBLZH/eblksFmvwtz/vD/nXbCBJMrt5aki3OA3pFqdD+fs05YMBmr3iSY3rN9/uax09nq/v/rtMKVuX6JeMr9U65FZ1bx+jSUM+lbur+R87JgAAcGUg9AMAAAAukUP5Ofpw3Uv61y1j9Me+VK364W0Nu+sVSdL3aZ/qKr8QNajTVGZ3L7m5esjZ2f5/nn+28V3NWPaomje6UVGt+2lCv4XyNNf8Jw8FAABcYQj9AAAAgEukZeObdaggR31eCJCbi4d63PSYOrfuL0nKOfi73lw+Rofyc+TmalZkSJQeumOK3dcJb9hO8ydkqLZX3X+yfAAAcAUj9AMAAAAuEZPJScPvflXD73610nM9bx6tnjePtrtd1+sGq+t1g60/BwVEXKoSAQCAQXEjDwAAAAAAAMBgCP0AAACAi6TJVdfo9msHO7oMAAAAQj97Vq9eraioKPn4+MjLy0uRkZFKSkpydFkAAAC4zIUEXmO9LPeB259TQswaxxYEAACqLb7T7wxz5sxRTEyMRowYoQkTJshkMik1NVVFRUWOLg0AAAAAAAA4JyaLxWJxdBGXi8zMTIWHh2vSpEkaO3Zslf02L5YOZ/2DhV0B1v68WMu/m6GM7K06XnJMn0896eiSAAAAAAAADO22J6p+rtpc3ltWVqZp06YpNDRUHh4eioyMVEpKisLCwjR06FBJ5av8TCaTRo4c6eBqrzxe5tq664YRGn73dEeXAgAAAAAAUO1Vm9BvyJAhmjRpkmJiYpScnKw+ffqoX79+ysjIUNu2bSVJ69evV3h4uBITExUaGioXFxcFBQUpPj5eZWVlDj6Cy9t1YV3VuXU/1fcLdnQpAAAAAAAA1V61+E6/RYsWad68eVq3bp06duwoSYqKitKWLVuUlJRkDf2ys7OVnZ2t0aNHKy4uTmFhYVqxYoUmTpyoI0eOaMqUKZKktxL/T6u/SdSeP39T7IAPdUurXg47NgAAAAAAAOBM1SL0i4+PV3R0tDXwqxASEiJXV1e1bNlSUvklwAUFBUpMTFSvXuVBXlRUlHJzczV9+nTFxsbKy8tLVweEasQ9r2nu58/848cCAAAAAAAA/B3DX96blZWl1NRU9e7du9JzmZmZioiIkLu7uyTJz89PktS1a1ebftHR0SouLlZaWpok6Y6bB6ht0y5yc/G4xNUDAAAAAAAA569ahH6SFBAQYNNeVFSklJQU66W9kqwr/s5UcYNjJyfDDxcAAAAAAAAMwPAplr+/vyQpPT3dpj0hIUE5OTlq06aNta1Hjx6SpFWrVtn0TU5OlqenpyIiIi5xtVeu0rJSnSg5rpKTJyRJJ0qO60TJcWtgCgAAAAAAgH+O4b/TLzg4WK1atdLkyZPl6+urwMBALV261Brsnb7Sr1u3burSpYuGDRum3NxcNW3aVCtXrtTChQsVFxcns9nsqMO47K358X1N+/BB68/dny4fq/cn7FKAb5CDqgIAAAAAAKieTJZqsBQrPT1dMTEx2rhxo/z8/DRo0CB5e3tr4sSJys/PtwnzCgsLFRsbqyVLlujgwYNq0qSJHnvsMQ0bNszaZ/Ni6XCWNHZWJ93T4RHu3gsAAAAAAIB/3G1PVP2c4Vf6SVLTpk21du1am7aBAweqWbNmlVbveXl5afr06Zo+fXqVr3fyZIlOlJTKYinTydISnSg5LlcXd5lMpktSPwAAAAAAAHA+qkXoZ8/mzZvVvn37C9r2xbcf1sqv50mSftm1XhKXsQIALj+fb5qrxWvjNfpfsxXZpKM+XPeSvvvvMtWr3UhP9p0rF2dXa9/3Vz+vTds/kyQNjn5RbUJvtW7v611f4Vdfr4fvTNCm3z5TmaVU7Zp1t7vPxHXT1Dr0VoUEttas5WOUnrVZIYFtNPKe12z6zVj2mH7P/lklJccVc9cratG4gxIWD9aeA7/KzdWs7u2HqnPr/vrgq3ht+i1ZxSVF6tf5ad3Usofmr35O36Z+LC9zbd3Q/G716vi43Vo3b1+tBWteUFlZqa4J6awh3eLsth0tOqL4D+5XUXGhOrS4Vz1vHi1Jlerfd+gPjXqjnRrWbSYXZzdNHbpakvSfT0ZpV84vqu8XrDG93pazk7Men3mLZDLJ2clFT9//gdxdzOxwHDAAACAASURBVPq/efeqtLRENTx89HT/D1TDw1tjZ3WSJB09fkT1ajfS84M/sTs2cQvu06GCfSo5WazikiK99fjPdsfmbL7cslDLv5sh7xq+mtB/kTw9fPSfT0bpkXvf0KtLh2rY3a/K7OZpd9vjJ45p1vLRGtNrtnbtS9VrHw2TxWLRYz1nKfiqVtZ+v2b+oDeXj5GTk7OaNrhWw+9+VZJ0zzM1FXJVa0nS/w1Kkk8N3yrrLC09qZc+fFD7Du1S+2Z36r7O422ef+bdu1R4/LBcnN30VN95qlOrgd25s/irKbqt7UCl79msktJidYzsc0H7q3DseIHiF/VX/rFDurN9jLpc+4DdfhaLRVMXP6Dx/d5X7pFsTf1ggE6cPK5Bt7+gNk1vs/Y7cjRXz753t5ydXeXpUVOxA5bI3dVsd6zOnE+1verqwYQw+XrXlyQ92nOmGtVrrrGzOskii0wyaUCXZ9U6pLPd+WSv7cf0LzT382fk7mrWoz1nqWHdcLv12zv/DuRl6qUlg1VadlL3dHhEHSP72D3Xvk/7VIu+jJNJJt3cqpd6dxyrTb99psVrp0iSsv7crkd7zlKLxjdVGps9B7Zr1vLyc/NA3m71uPkx9bx5tN2xudC5Ze98tDff7Z2Pn218VwvXTFJEUAeN779AkuyO34mS43rj45Had2iXGgVE6JF739DMZaP1e/bPkqSMnK36+IU87d6fplcSH5YktQ7prMHRk7Txt2S9uXyMfDz9NX3kN5Jkt83etmVlZXp75VPamf2TvGv46tmBiXY/NyvM+ORRFRw7pPH9F+jzTXO1evNca30vxayVl7lWpc/DQ/n7lLxpju6/daKmfDBQ4+6bX+WiiNwje/XxN6/r4e5T9dPOr/Re8kS5uXpo3H3vq06tBtZ+9uZMVZ/FVbF37n6+aa4a128pZycX/Zi+Wn06PVnl9mf+Ltibu1MvzO+l9s3v1IPRL5513wDgaNXi8t4zFRYWqmbNmpo+fbpGjRp13ttXXN4LAMDl7PNNc1VadlJ3tPu3Dhf+qYQlgzT5oVVavHaq6vsGq2Nkb2vfnEO7VN+3sQqLDuvZ9+7WKyO+ttn+XJSVlemF+f/Sc4M/1o6sLVqx4U2N6TVbr300XNHXD1HY1ddZ+54sLZGLs6v25+3W60kjFPfQSiUsHqz7b4tVoH9IpX5FxYV6avZtemPUBs1f/ZxaBN1kE6DYq7ViW0l64s0oxQ74UF7mWpXaVm+eK/+aDdS5dT89N6+nxvSarQN5mZXqr+lZR3M/i7X+QS9J2/dsUvIP72h0r7eUmPKyAv1CdGOLe6z7Xr15ng4XHtC9HUapoChPfj71teqHt3Wi5Ljuvemv/wb56OtXZXb31h3t/m13bCp888vH2rH3Rz0Y/aLdsTl9PAJ8gxTZpJN1LJ58q7OmxazV+l8+0oHDmTZ/5G5IW6FDBfuqfK9X/fCOanvX0w3N79Jzc3toxL2vy8nkpNeTRuiFB5dZ+x3K3ycvcy25uXooftH9ui9qvBrXb6nRM26yBhJnSlg8WE/dN9f68/pfkrTnwG/qf+vTin33Tj3e6x35+gRYn6+Yqz+mf6FN2z/TsLtetjt3KpSVlemF93vpuUFJdvf/d/ursDTlFfn6BKhjZF89+WaUpg5dI1cXt0r9tqSvUeaBX3XvTaM045NH1ema+xRcv5Vi371TLw9fZ+1XWlYqk0xycnLS+6ufV8N6zdUxsrfdsTpzPvXp9KTdfmNndVLC0DVydnaptO3p88le25iZN2vyvz/TseP5mrV8tGIHLLFbv73z7/WkkbqtzQCFNbxeT7/TTZMfWiWLLJXOtRMlRfKrGSgnk5PGvtlJkwYvl6e5pvV1Rr3eTgkxX8rN1Wx3bCo8+949irnrZQX6h9gdmwrnO7cqnH4+nm2+n34+Hjmaq8Kiw3p/9XPWzwh747dkbYJCG7RVm9BbK+13596ftDTlZY3vv0AzPnlUN7fqpVbBt2jc7C56ZmCiLBaL3N1q6Km3brW+9wXH8iq12dv2x/TVOlZcoG7XP2TdX1Wf8XkF+/XK0ofl6e5j83lXWnpSI167Vm+O+Un783ZX+jw83Sff/kcN64TbzJPTvfdZrDpF9lXj+i31xJtRemHwcu0+kKYvNs/Xoz1nWPsdyMusNGcKivLOuu8z3/e/O3efm9tDzz7wkZycKt/jsqrfZVt/X6ctO9YQ+gG4LJzt8l7D373XHi8vL5WWll5Q4AcAwJVo+56NigzuJElqE3qbfs3cYPN8fd/GkiRXF3fptJUZH6+frsdn3qItO76UVP5H4qof3rG7j4ycrfI/tUIjbff3ahN621/72227v4owoKi4UMFXRUqSTCaTEhY/oGfevUv783bb9CsuKVJQQAvr9u+sGqen3rpNO/f+XGWtFduWlpWqtneAanj42G3LOZih4Prlq9WC6kUofc/mKuv/+fe1GjPzZn30dfkKtpyDGWp8atsmV12jtMzvK9XdqF6E3Fw95OdTvirLyclFTk7ONuPxfdpy3RhxT5VjU+Hb1I91U4ueZx0be7L+TFfjgJZydnaxOZ7RM26SJEU26aSNv66scvsNaZ8qotGNkqT8okOqW+tq+dcM1NHjR2z6+foEyM3VQ5LkfNpxZh74VWNm3qx3Vo3X3/3/5l9PG/vIJlHanrXJ5vmKuers5CJnU/nr25s7CYsHa2/uTjk5OcnF2VX5Rw9e0P4qpGV+r9aht8nZyVnBV0Uq68/tdvt9/+unah5UPlYZOdvUvNENMrt7qYa7t44dL7D2c3ZytoYMpZZSBfqHVjlWZ84nSSo4dkiPz7xF05fG6ETJcUmSk8lJT82+TXEL7lP+sUM2254+n6qaY2Y3T/n51Ff2wd/PWv+Z59++QxlqfFUrOTs5q7Z3Pe09uNPuuVa3dkM5OznLZDLJ2eQsk+mvP0VyDmaolnc9md29qhwbSSo6cVR5BfusAa+9sanKub7Xp5+PZ5vvp5+PNT395exkexGVvfHbmrFO36ct19hZnfTdf5fb9P8m9WN1aFn+eo3qRejo8SMqLSuVVP7Z7F2jttxc3G22sddmb9sNaSu0e3+axs7qpFU/vG3te+bnpiR9tP5V3duh8t9J23Z9rVbBt1hX7535ebjv0B+asmiApPIVht+nLa/0GhW2/r5Ojeu31PETx+TmalYND281a9hOmQfSbPpVNWfO3PfZ2Dt3569+TlvS10iSAv1DrSstK237N7/LAOByVy1DPwAAqpvCosOq4eEjSfL0qKnCojy7/eavfk53to+RJHVoca/eenybnn3gI81e8YT1D8iq7M3doXq1g8r3d/ywarj/tb8CO/t7bm4PjX/7dusfVDF3vazXHvlOfaPG6a1Px1r7vZ40QjGvtFLrkM6SpHtvelQzR/+oR3vO0oxlo85a68oNszUkIUw+Nfysfxif2XZ13TBty0hRaVmptu36WgVFeXbr9/Wpr/fGpWtazFpt2bFGGdnb1KBO+baS9PPOr1R4rPw4D+Rl6tE3btDyb/+jxvVbWo+lqLhQqzbMVufW/a1teYUHZJJJtbzqVDk2Uvkqm137flFogzZVjk1V/u79N7t7Kf+Y/VBMkg4V5MjH00+SZLGUWdtP//fpMrK36cjRXDWq11ySNHfcDr0y/GsVHsvT92mfnl+txyrPndKyUi36Mk7dT83VquZOhQDfxtpTRUh3LvuTpKNFh+X5N3NaKj8PAk6dB2WWUmtAYm/cf8vcqBGvXaufd35lDTPtjZW9+fTqyG/0yoivVbd2I638YbYk6ZkHlurl4et0Q8TdWrTmrxVI9uaTvba8gv3KPPCb9uz/tcr67Z1/DeqEadvvKTp+4ph+zdxgHUN7559UfknqVf4hquHhbW375pckdWjx1yXq9sZGkjb9lqxrw6KtP1d1rtlzLu/1medjVfPd3vl4Jnvjl3Pwd7UL764XH1qphWsmqbT0pLX/5u2f6bpTx3ZNSGfNXvGEhiSEqVmjG+Tuara7D3vsbZtXuF9X1wlTwtA1+nLLQuUV7Lf7uZl/7JCOFP5pE7RWOP09svd5eLr6vsHKPPBblTWeLD0hSSosyrOeV5JUVsXvmdPnzN/t+0x/d+4G+AVrz5/2az2X32UAcDkj9AMAoBrwMtfSseP5kqRjx/Pl5VGrUp9vfvlY+ccOWgMpL3MtOTk5qZZXHTWo01R5BfvPuo/TV3B5edTSseLy/R0tzpeXufL+nhv8sV4ftUHvJj8tSdbveWvR+CYdKthn7fdoz5l698nftOjLOJt+Der89UdpVbV2bz9U7z61XblHsrRz709227q1e1hpf3ynp9/pJj+fq1Tbu57d+t1c3GV285Szs4vaN7tTf+xPVUjgNQoKaKEn3ozSseJ81fKuJ6l8dcrro77XA7c/r8SUadbxmfbhED3YLc5mPL7/7zLdcGpVUVVjI5WvbKm4XLeqsfn0u1kaO6uTlqydopnLRmvsrE765pePbd7/o8X58rTzfpyr01dnnf7vCvnHDuk/nzyisb3nWNt8avjKZDLpxhb36o99qZLKL9EcO6uTNm//TGNnddLYWZ1UXFJUaa7aq/WtT8eqS9sHdJV/E+vrS5XnTgWLpfx77uw5l/1Jkqe5lo4Wn/0cOrUz6z+dTH+t6LQ37uENr9fMxzarQ4se+mzTu9ZjOXOs7M2nimPu0KKHtd/pbbtOtUn259OZbQ/fkaC4hfdp8VdT1DyoQ5X12zv/+nWeoFU/zNak93urYZ1w1T51Htg7/3IOZujDdQkadrftCq3vf/1UNza/+6xjI51aXXdqNVxVY/O/zK0zz8eq5ru98/FM9sbP06OmWjXpKLObp67yD1FeYflnVdafO+TvEygPtxqSpLmfx2p8vwV676l0/ZHzi/Yd+uOs+zqdvW09PWqqVXBHOTu7qHmjG7Q3d6fdz82P17+mezo8Uuk1LRaLUnd9o5bBt0iS3c/DM53tJocV56OXubb1vCrfpvJnyplzxt6+i0uKrO91xfv+7Hvl7+PfnrsWi1TV58M5/C4DgMsZoR8AANVA06uvs65I27JjjZo1sr2ZVUb2Ni3/boZG9fjru5SOnvrjuLikSHtzd9isRJPKv4j9dA3qNNX+vD8kSc0b3aCfTl0u9tOONWrW0HZ/J04WS5JquHvL49TNIyr2t+fAdusfVhX93FzN1tUWFf2OHM21rpKxV2vFts5OzvJw85Sbq9lum9nNU+P7L9DkfyfLYilTs4bt7dZ/+qWZ//3jW9X3Kw+cBnZ5VtOGrZVPDT+1a9ZdJ0tLrAFoDQ8f6wqdeZ8/q4igDpVW5X2b+ok6tLj3rGNT3u9jm5VQ9sbmrhuH6+Xh69Q3arxG3DNdLw9fp5ta9lCDOk31x75UlZaV2n0/iooL5X0qzMk/dkjFJUU2z/t617deHutj9tWfh7OUeyRbnh41bfqVlp7UlA8G6OE7X7J+V1rRiaPWlZf//eNbXXVq3F54cJleHr5O14ZF6+Xh6/Ty8HVydzWrWaMb9NPO8rHf+vtam++ClKTkjXNkMplsbqRhb+6cbn/eH2pQp6lKS09WCq/t7a+4pMh6eWyF5g3L50RpWal+z/5ZDeqG6djxAuu+KwTWaap9p86D4PqtlPbH9yo6cbQ8ZPL4a0VTyckT1n97evjIzdVsd6zszaeSkyes7//pc7Gilv/u+muc7c0ne23Ng27QtGFr1f/WiWpYr1mV9ds7/2p719Pzgz/Rsw8slauLuwJ8G9s9144dL9BLSwZrbO85NjeNOZS/T67ObtbVpPbGRir/fsLMA7+qyalLkqs61y50bkmVz8eq5vuZ56M99saveaMbtStnm0rLSrX/0B+q6VnH7utZLBZ5m33l5OSkGh41VVRcUNVuKrG3bUTQjcrIKV8Rl5GzTfVqN7L7ubnv0C7NWTVBCUsG6affv1LK1g8llX9/aWiDNnI+dcl+VZ+HFXIOZejqOmGSyldPniwtsXne+dRl2R5uNXSipEhFxYX6LXOjdXVwBXtzxt6+3V3N1ve64n2v+P5Fe+fu6fYd2mWt9czfa3/3uwwALnfV9u69AABUJ7W96qpl8C0aPeMm1a3V0HqH2oq7t85e+aTyCvdrwttd5elRUy88uExJX7+qTds/k8VSpvuixtvc7be09KReWjJYU4d+YW0Lrh+pPw/vkSSFNmgjV1cPjZl5s4LrRyq84fU2d3aMW9D31HdOndRD3eIlSVMW3a+CojyZTCY92nOWJGnmsse058BvOll6Qr1PfUH/2yue1K59qbJYyvTQHeV3/bRX66ffv6l1Py9WadlJXdMkSg3rhtttS8/6UbNXPCGTTOrT6Sl5uNWwW/8Pv67SvM+fkauLu1oE3aRmDduprKxMT77VWU5OzmodcquaNWynA3mZmrJ4oJxMTnJ1dteTfecq90i2lqybquaNbtS3qR+rU2Rf3XXjcB09nq/CosOqV7uRdRztjY3FYlHa7u/1yL3/sfazNzZVcXF2Vbd2D+vxmTfLy1xbT/dfZPP8z7+v1fXhd0iSPvr6FV0X1k0tGnewPt+uWXel7f5e7ZvfqQduf15xC++TxWKxhsQVd8rdlvG10vds0jsrx0mSHuoWLzdXs15OHCIPN0/V9w3WA7c/f9Zab2h+l15a8pFGz7hJ14ffIT+f+tq592ft2Pujul3/kN5IGqGwhtdr7KxOahXcUYO6Pm937lQoKytTycli+Xj6aW/uTi1ZO1WP9377rPvbkr5Gv+75QfffOtHar1u7fyt+UX8t+/YN3dFuqNxc3LXmx/fl7mrWrW3u/2uswsvHqmmDturT6SklLH5AxSVF1uOuuGtoWVmpZq98Uk4mJ3mbfTWu3/vK+jO90lgdPLK30nwqLMrT03O6yezmJS9zbY3vV35Dgyff6ix3V7PcXDz0ZN+5kuzPJ3ttC7+M00871sinhp9G/+stSbJbv73z74dfVyoxZZqcTM76d/epMplM+nzTe5XOtQ++ite+Q7s07cMhkqQn+r6n+r6N9d0Zq+t+z/650thI0k87v9I1Tf4KzQ/l51Qam/9lbtk7H+3Nd3vn44a0FVq8dopyDv6u5+f9S/836CO749c3apwSFg/SseJ83dHuYesNJX74dYWeH/zXTUL6Ro3T1MUD5eTkrIZ1m6lx/Zbavmez5qwarz/2peqpt27Ti0NWaNe+1Ept9ratVztICUsGKWn9dF0b1lV1ajWw3rX99M/Ncf3mSyr/fr65n8Va73p9+vcXStIvu9ZX+jw8fTXiTzu+VLtmd0qS3lr+uP7dfar8awZan28ZfIt27UtV44AW6t95osbN7iI3Vw891XeeJGnmstGKuetlLfvuP5XmTOb+Xyvt+2zsnbun2/PndjW56hq7v9fs/S4AgCtJtbx77/+Ku/cCAK4EX29bqsVrpyjmzpcV2aTjRXnNFd+/JbO7l66uG66M7K2Kvn6IzfOJ66apdeitCglsfVH2h0vnxMliPfPunZo69Au9unSoht39qsxunvrPJ6M04u7XbO5kWXTiqN5cPkZjes12YMXnJ25hP8XcOU3pezbrxMnj6nRNX63f9pG8atT+2+9A/OjrV9W++V127wZ8ujmrJui+qPE2d6C1WCyauvgBjT8VVAHVxZ4D25WYMk2P935bUxYN0FP3zZeTU/ldjx/tOdOm75+Hs/TJt2/o4e5THVLrnFUT1K7ZnTK7e2nT9s90X9Q4pWf9aPf32pn25u7UlA8G6JZWvdW7Y+XvEAWAf9rZ7t5L6HcBCP0AANXRzr0/acayRzXx/iXyr3mVo8vB/+iF+b10XXg3dbv+IUeXctF9sXm+vklN0vODP3F0KUC1cLK0RE+9dav6dX5a14VH//0GDrTpt8/04boEvfjQyvO6QQoAXK4I/S4yQj8AAAAAAAA42tlCP27kAQAAAAAAABgMoR8AAAAAAABgMIR+AAAAAAAAgMEQ+gEAAAAAAAAGQ+gHAAAAAAAAGAyhHwAAAAAAAGAwhH4AAAAAAACAwRD6AQAAAAAAAAZD6AcAAAAAAAAYDKEfAAAAAAAAYDCEfgAAAAAAAIDBEPoBAAAAAAAABkPoBwAAAAAAABgMoR8AAAAAAABgMIR+AAAAAAAAgMEQ+gEAAAAAAAAGQ+gHAAAAAAAAGAyhHwAAAAAAAGAwhH4AAAAAAACAwRD6AQD+v707ju36vvM7/rIxhykO1wC9MrEljGAg8cA5+GOJ8gfxdDQmmbqjASKiIBJuxQQuCyeQNmLabqXGCWKaO63pdie6oha2yIRTcgEvoKl4TFWWQ2lIPSYZiSmeBeviqE0gc7gEe39EeHWTVEAgP/rx4yEhoc/v+/3x/vDnU5/v7wsAAEBhRD8AAAAAKIzoBwAAAACFEf0AAAAAoDCi3yc4fPhwmpqaMnny5NTV1aWxsTEHDhyo9FgAAAAAcFlqKj3AjWb37t1paWnJhg0bsnXr1lRVVaWnpyeDg4OVHg0AAAAALkvV8PDwcKWHuFH09fVl3rx52b59ezZv3vyp1x3/j8mv+j/HwW5wf3Hwn+a//Y+X8tav/ldqJ9Tl7897IP/4gWcy+QtTKj0aAAAAQLH+aMunfzZmHu8dGhrKrl27Ul9fn9ra2jQ2Nqa7uztz587NunXrknx0yq+qqiobN26s8LS/W6qrx+Wfrfpxnv8Xb+ff/dmJDLzTn13PPVbpsQAAAADGrDET/dauXZvt27enpaUlXV1dWblyZVatWpXTp09n0aJFSZJjx45l3rx56ezsTH19fWpqajJz5sy0t7dnaGiowju4cf3J0h2ZPeMPUzNufL5Y96X8o3v+NCdOH630WAAAAABj1pj4Tb99+/Zlz549OXr0aBYvXpwkaWpqymuvvZYDBw6MRL8zZ87kzJkz2bRpU9ra2jJ37ty89NJLaW1tzTvvvJOnn346Fy5cyD//fkteef1I3v+b91I/Y2H+dNn3cuuXb6/kFm8oPzv1nzPrby2o9BgAAAAAY9aYiH7t7e1pbm4eCX6XzJ49O+PHj8/8+fOTfPQI8Llz59LZ2Znly5cn+SgODgwMpKOjI9u2bUtVVVX+zpdn55F/0pabb5qe537yTNp+/FD+fPMbn/u+bkTH3ng+h179i/zL9d2VHgUAAABgzCr+8d7+/v709PRkxYoVH/usr68vDQ0NmTBhQpJk6tSpSZL77rtv1HXNzc25cOFCTp48mUmTJuVPvrYt035/RsZVj8sf3/NE/uf//nn+5oP3r/9mbnDdJzrzr/Z/Pd9+9MXU/+2FlR4HAAAAYMwaE9EvSaZPnz5qfXBwMN3d3SOP9iYZOfH3my694Li6+uP/Xf/9zZ9m+s0z83vja6/VyL+T/tNf//t89/mWfPuxv8qds5sqPQ4AAADAmFZ89Js2bVqSpLe3d9T6zp07c/bs2Sxc+P9PpC1btixJcujQoVHXdnV1ZdKkSWloaBi1fu7//jL/5i835rGlbddj9N8Zf/lf/3X+/KUtaf/6y/l7f/eeSo8DAAAAMOYV/5t+s2bNyoIFC7Jjx45MmTIlM2bMyP79+0fC3q+f9Fu6dGmWLFmS9evXZ2BgIHPmzMnBgwezd+/etLW1ZeLEiSPXXvhgMN/84VezuPGh/IM/fPhz39eN5NkXnsy46pps+bejT/j9Vdv5Ck0EAAAAMLZVDV96drVgvb29aWlpyauvvpqpU6dmzZo1uemmm9La2pp33313VMw7f/58tm3blueeey5vv/12brvttjz55JNZv379yDWv7P0wf9a2LL9f96VsWfmDSmwJAAAAgDHuj7Z8+mdjIvp9ktWrV+fEiRN5440rf+vuP1z8aN76P2/l24++kHHjij8sCQAAAMAN6LdFvzFbrI4fP5677rrriu978803c/C/7Mnv1dTmj7/5xZH13VtO5g9uvuVajggAAAAAV2VMRr/z58+nt7c3GzZsuOJ7b7311vz1fxjOr/qvw2AAAAAAcA2MyehXV1eXixcvVnoMAAAAALguqis9AAAAAABwbYl+AAAAAFAY0Q8AAAAACiP6AQAAAEBhRD8AAAAAKMyYfHvvZ3XTH1R6AgAAAAD4dFXDw8PDlR4CAAAAALh2PN4LAAAAAIUR/QAAAACgMKIfAAAAABRG9AMAAACAwoh+AAAAAFAY0Q8AAAAACiP6AQAAAEBhRD8AAAAAKIzoBwAAAACFEf0AAAAAoDCiHwAAAAAURvQDAAAAgMKIfgAAAABQGNEPAAAAAAoj+gEAAABAYUQ/AAAAACiM6AcAAAAAhRH9AAAAAKAwoh8AAAAAFEb0AwAAAIDCiH4AAAAAUBjRDwAAAAAKI/oBAAAAQGFEPwAAAAAojOgHAAAAAIUR/QAAAACgMKIfAAAAABRG9AMAAACAwoh+AAAAAFAY0Q8AAAAACiP6AQAAAEBhRD8AAAAAKIzoBwAAAACFEf0AAAAAoDCiHwAAAAAURvQDAAAAgMKIfgAAAABQGNEPAAAAAAoj+gEAAABAYUQ/AAAAACiM6AcAAAAAhRH9AAAAAKAwoh8AAAAAFEb0AwAAAIDCiH4AAAAAUBjRDwAAAAAKI/oBAAAAQGFEPwAAAAAojOgHAAAAAIUR/QAAAACgMKIfAAAAABRG9AMAAACAwoh+AAAAAFAY0Q8AAAAACiP6AQAAAEBhRD8AAAAAKIzoBwAAAACFEf0AAAAAoDCiHwAAAAAURvQDAAAAgMKIfgAAAABQGNEPAAAAAAoj+gEAAABAYUQ/AAAAACiM6AcAAAAAhRH9AAAAAKAwoh8AAAAAFEb0AwAAAIDCiH6/4fDhw2lqasrkyZNTV1eXxsbGHDhwoNJjAQAAAMBlq6n0ADeS3bt3p6WlJRs2bMjWrVtTVVWVnp6eDA4OVno0AAAAALhsVcPDw8OVHuJG0NfXl3nz5mX79u3ZvHlzpccBAAAAgKs2Jh7vHRoayq5du1JfX5/a2to0Njamu7s7c+fOyDLEpAAADZZJREFUzbp165J8dMqvqqoqGzdurPC0AAAAAPDZjInot3bt2mzfvj0tLS3p6urKypUrs2rVqpw+fTqLFi1Kkhw7dizz5s1LZ2dn6uvrU1NTk5kzZ6a9vT1DQ0MV3gEAAAAAXL7io9++ffuyZ8+evPjii9myZUuamprS2tqau+++Ox9++OFI9Dtz5kxOnTqVTZs2ZfPmzTly5EgefPDBtLa25qmnnhr5vl/84hf5yle+ki984QtpbGzMz372s0ptDQAAAAA+UfEv8mhvb09zc3MWL148an327NkZP3585s+fn+SjR4DPnTuXzs7OLF++PEnS1NSUgYGBdHR0ZNu2bamrq8vjjz+eefPm5YUXXsiPfvSjLF++PL29vRk3btxVz7hp06YkSUdHxyd+XlVVddXfDQAAAEAZruTVHEWf9Ovv709PT09WrFjxsc/6+vrS0NCQCRMmJEmmTp2aJLnvvvtGXdfc3JwLFy7k5MmTOXfuXA4ePJhvfvObmThxYtatW5eLFy/mlVde+Uxzvv7663n99dc/03cAAAAAwCVFn/Tr7+9PkkyfPn3U+uDgYLq7u3P//fePrM2fP/8T492lglpdXZ1Tp05l6tSpmTZt2qj7Tp48mXvuued6bGFkhnvvvTdJcvTo0ev27wAAAABQhqJP+l2Kc729vaPWd+7cmbNnz2bhwoUja8uWLUuSHDp0aNS1XV1dmTRpUhoaGvLee+9l8uTJoz6fPHlyzp8/fz3GBwAAAICrUvRJv1mzZmXBggXZsWNHpkyZkhkzZmT//v0jYe/SSzySZOnSpVmyZEnWr1+fgYGBzJkzJwcPHszevXvT1taWiRMnZtKkSTl37tyof+Pdd99NXV3d57ovAAAAAPhtij7pV11dnc7OzjQ0NOTxxx/PY489lmnTpmXjxo2pqanJggULRl1/4MCBrFmzJt/5znfywAMP5OWXX86zzz6brVu3Jknq6+szMDCQt99+e+Senp6e3HHHHZ/rvgAAAADgt6kavpLXfhRi9erVOXHiRN54440rvvdrX/tabrnlljz99NP58Y9/nB07duTUqVOf6e29l/N7fX7TDwAAAIDLVfTjvZ/m+PHjueuuu67q3u9///t55JFHcvPNN6e+vj7PP//8Zwp+AAAAAHCtjbnod/78+fT29mbDhg1Xdf+Xv/zlHDly5BpPBQAAAADXzpiLfnV1dbl48WKlxwAAAACA66boF3kAAAAAwFgk+gEAAABAYUQ/AAAAACiM6AcAAAAAhRH9AAAAAKAwoh8AAAAAFEb0AwAAAIDCiH4AAAAAUBjRDwAAAAAKI/oBAAAAQGFEPwAAAAAojOgHAAAAAIUR/QAAAACgMKIfAAAAABRG9AMAAACAwoh+AAAAAFAY0Q8AAAAACiP6AQAAAEBhRD8AAAAAKIzoBwAAAACFEf0AAAAAoDCiHwAAAAAURvQDAAAAgMKIfgAAAABQGNEPAAAAAAoj+gEAAABAYUQ/AAAAACiM6AcAAAAAhRH9AAAAAKAwot8nOHz4cJqamjJ58uTU1dWlsbExBw4cqPRYAAAAAHBZaio9wI1m9+7daWlpyYYNG7J169ZUVVWlp6cng4ODlR4NAAAAAC6L6Pdr+vr68sQTT+SZZ57J5s2bR9aXLFlSwakAAAAA4MqMmcd7h4aGsmvXrtTX16e2tjaNjY3p7u7O3Llzs27duiQfnfKrqqrKxo0bKzwtAAAAAFy9MRP91q5dm+3bt6elpSVdXV1ZuXJlVq1aldOnT2fRokVJkmPHjmXevHnp7OxMfX19ampqMnPmzLS3t2doaKjCOwAAAACAyzMmot++ffuyZ8+evPjii9myZUuamprS2tqau+++Ox9++OFI9Dtz5kxOnTqVTZs2ZfPmzTly5EgefPDBtLa25qmnnhr5vm9961u54447Ul1dnf3791dqWwAAAADwicbEb/q1t7enubk5ixcvHrU+e/bsjB8/PvPnz0/y0SPA586dS2dnZ5YvX54kaWpqysDAQDo6OrJt27bU1dWlvr4+3/3ud/ONb3zjc5m/qqrqE/8OAAAAwNgxPDx82dcWf9Kvv78/PT09WbFixcc+6+vrS0NDQyZMmJAkmTp1apLkvvvuG3Vdc3NzLly4kJMnTyZJHnnkkSxZsiS1tbXXeXoAAAAAuHLFn/Tr7+9PkkyfPn3U+uDgYLq7u3P//fePrM2fPz+vvPLKx77jUkWtrq5MIx0eHs69996bJDl69GhFZgAAAADgd0fxJ/2mTZuWJOnt7R21vnPnzpw9ezYLFy4cWVu2bFmS5NChQ6Ou7erqyqRJk9LQ0HCdpwUAAACAz674k36zZs3KggULsmPHjkyZMiUzZszI/v37R8LepZd4JMnSpUuzZMmSrF+/PgMDA5kzZ04OHjyYvXv3pq2tLRMnTqzUNgAAAADgshV/0q+6ujqdnZ1paGjI448/nsceeyzTpk3Lxo0bU1NTkwULFoy6/sCBA1mzZk2+853v5IEHHsjLL7+cZ599Nlu3bq3QDgAAAADgyhR/0i9J5syZk5/85Cej1lavXp3bb7/9Y6f36urq0tHRkY6Ojk/9vg8++CAXL17M0NBQPvjgg7z//vuZMGGCN+sCAAAAcEMo/qTfpzl+/PioR3uvxNe//vVMnDgxx44dy8MPP5yJEyfmzTffvMYTAgAAAMDVGZPR7/z58+nt7R31Eo8r8cMf/jDDw8Oj/sycOfPaDgkAAAAAV2lMPN77m+rq6nLx4sVKjwEAAAAA18WYPOkHAAAAACUT/QAAAACgMKIfAAAAABRG9AMAAACAwoh+AAAAAFAY0Q8AAAAACiP6AQAAAEBhRD8AAAAAKIzoBwAAAACFEf0AAAAAoDCiHwAAAAAURvQDAAAAgMKIfgAAAABQGNEPAAAAAAoj+gEAAABAYUQ/AAAAACiM6AcAAAAAhRH9AAAAAKAwoh8AAAAAFEb0AwAAAIDCiH4AAAAAUBjRDwAAAAAKI/oBAAAAQGFEPwAAAAAojOgHAAAAAIUR/QAAAACgMKIfAAAAABRG9AMAAACAwoh+AAAAAFAY0Q8AAAAACiP6fYLDhw+nqakpkydPTl1dXRobG3PgwIFKjwUAAAAAl6Wm0gPcaHbv3p2WlpZs2LAhW7duTVVVVXp6ejI4OFjp0QAAAADgsoh+v6avry9PPPFEnnnmmWzevHlkfcmSJRWcCgAAAACuzJh5vHdoaCi7du1KfX19amtr09jYmO7u7sydOzfr1q1L8tEpv6qqqmzcuLHC0wIAAADA1Rsz0W/t2rXZvn17Wlpa0tXVlZUrV2bVqlU5ffp0Fi1alCQ5duxY5s2bl87OztTX16empiYzZ85Me3t7hoaGKrwDAAAAALg8Y+Lx3n379mXPnj05evRoFi9enCRpamrKa6+9lgMHDoxEvzNnzuTMmTPZtGlT2traMnfu3Lz00ktpbW3NO++8k6effjoXLlxIS0tLjhw5kvfeey8LFy7M9773vdx+++2V3CIAAAAAjBgT0a+9vT3Nzc0jwe+S2bNnZ/z48Zk/f36Sjx4BPnfuXDo7O7N8+fIkH8XBgYGBdHR0ZNu2bamqqsrs2bPT1taW6dOn55lnnslDDz2UN95447rNX1VV9Yl/BwAAAGDsGB4evuxri3+8t7+/Pz09PVmxYsXHPuvr60tDQ0MmTJiQJJk6dWqS5L777ht1XXNzcy5cuJCTJ09m0qRJ2bZtW2bMmJFx48bliSeeyM9//vO8//77Vz3jnXfemTvvvPOq7wcAAACAX1f8Sb/+/v4kyfTp00etDw4Opru7O/fff//I2vz58/PKK6987DsuVdTq6o830p/+9KeZOXNmamtrr3rGjo6O3/r5lVRcAAAAACj+pN+0adOSJL29vaPWd+7cmbNnz2bhwoUja8uWLUuSHDp0aNS1XV1dmTRpUhoaGkat//KXv8zGjRvT1tZ2PUYHAAAAgKtS/Em/WbNmZcGCBdmxY0emTJmSGTNmZP/+/SNh79JLPJJk6dKlWbJkSdavX5+BgYHMmTMnBw8ezN69e9PW1paJEyeOXDs4OJivfvWreeihh/Lwww9/7vsCAAAAgE9TNTwGnh3t7e1NS0tLXn311UydOjVr1qzJTTfdlNbW1rz77rujYt758+ezbdu2PPfcc3n77bdz22235cknn8z69etHrvnwww+zbNmyfOlLX8oPfvCDSmwJAAAAAD7VmIh+n2T16tU5ceLEVb1199FHH81bb72VF154ITU1xR+WBAAAAOB3zJgtVsePH89dd911xfe9+eab2bNnT2pra/PFL35xZP3kyZO55ZZbruWIAAAAAHBVxmT0O3/+fHp7e7Nhw4YrvvfWW2/1Nl0AAAAAbmhj9vFeAAAAAChVdaUHAAAAAACuLdEPAAAAAAoj+gEAAABAYUQ/AAAAACiM6AcAAAAAhRH9AAAAAKAwoh8AAAAAFEb0AwAAAIDCiH4AAAAAUBjRDwAAAAAKI/oBAAAAQGFEPwAAAAAojOgHAAAAAIUR/QAAAACgMKIfAAAAABRG9AMAAACAwoh+AAAAAFAY0Q8AAAAACiP6AQAAAEBhRD8AAAAAKIzoBwAAAACFEf0AAAAAoDCiHwAAAAAURvQDAAAAgMKIfgAAAABQmP8H9b3du2my9DAAAAAASUVORK5CYII=
"
>
</div>

</div>

</div>
</div>

</div>
<div class="cell border-box-sizing code_cell rendered">
<div class="input">
<div class="prompt input_prompt">In&nbsp;[73]:</div>
<div class="inner_cell">
    <div class="input_area">
<div class=" highlight hl-ipython3"><pre><span></span><span class="n">backend</span> <span class="o">=</span> <span class="n">BasicAer</span><span class="o">.</span><span class="n">get_backend</span><span class="p">(</span><span class="s1">&#39;statevector_simulator&#39;</span><span class="p">)</span>
<span class="n">job</span> <span class="o">=</span> <span class="n">execute</span><span class="p">(</span><span class="n">qc</span><span class="p">,</span> <span class="n">backend</span><span class="p">)</span>
<span class="n">qc_state</span> <span class="o">=</span> <span class="n">job</span><span class="o">.</span><span class="n">result</span><span class="p">()</span><span class="o">.</span><span class="n">get_statevector</span><span class="p">(</span><span class="n">qc</span><span class="p">)</span>
<span class="n">qc_state</span> 
</pre></div>

    </div>
</div>
</div>

<div class="output_wrapper">
<div class="output">


<div class="output_area">

    <div class="prompt output_prompt">Out[73]:</div>




<div class="output_text output_subarea output_execute_result">
<pre>array([0.25      +0.j        , 0.        -0.35355339j,
       0.25      -0.25j      , 0.        +0.j        ,
       0.        +0.j        , 0.70710678-0.35355339j,
       0.        -0.25j      , 0.        +0.j        ])</pre>
</div>

</div>

</div>
</div>

</div>
<div class="cell border-box-sizing text_cell rendered"><div class="prompt input_prompt">
</div><div class="inner_cell">
<div class="text_cell_render border-box-sizing rendered_html">
<p><a href="https://en.wikipedia.org/wiki/Fidelity_of_quantum_states">Fidelity</a> is useful to check whether two states are the same or not.
For quantum (pure) states $\left|\psi_1\right\rangle$ and $\left|\psi_2\right\rangle$, the fidelity is</p>
$$
F\left(\left|\psi_1\right\rangle,\left|\psi_2\right\rangle\right) = \left|\left\langle\psi_1\middle|\psi_2\right\rangle\right|^2.
$$<p>The fidelity is equal to $1$ if and only if two states are equal.</p>

</div>
</div>
</div>
<div class="cell border-box-sizing code_cell rendered">
<div class="input">
<div class="prompt input_prompt">In&nbsp;[74]:</div>
<div class="inner_cell">
    <div class="input_area">
<div class=" highlight hl-ipython3"><pre><span></span><span class="n">state_fidelity</span><span class="p">(</span><span class="n">desired_vector</span><span class="p">,</span><span class="n">qc_state</span><span class="p">)</span>
</pre></div>

    </div>
</div>
</div>

<div class="output_wrapper">
<div class="output">


<div class="output_area">

    <div class="prompt output_prompt">Out[74]:</div>




<div class="output_text output_subarea output_execute_result">
<pre>1.0</pre>
</div>

</div>

</div>
</div>

</div>
<div class="cell border-box-sizing text_cell rendered"><div class="prompt input_prompt">
</div><div class="inner_cell">
<div class="text_cell_render border-box-sizing rendered_html">
<h4 id="Further-details:">Further details:<a class="anchor-link" href="#Further-details:">&#182;</a></h4><p>How does the desired state get generated behind the scenes? There are multiple methods for doing this. Qiskit uses a <a href="https://arxiv.org/abs/quant-ph/0406176">method proposed by Shende et al</a>. Here, the idea is to assume the quantum register to have started from our desired state, and construct a circuit that takes it to the $\left|00..0\right\rangle$ state. The initialization circuit is then the reverse of such circuit.</p>
<p>To take an arbitrary quantum state to the zero state in the computational basis, we perform an iterative procedure that disentangles qubits from the register one-by-one. We know that any arbitrary single-qubit state $\left|\rho\right\rangle$ can be taken to the $\left|0\right\rangle$ state using a $\phi$-degree rotation about the Z axis followed by a $\theta$-degree rotation about the Y axis:</p>
$$R_y(-\theta)R_z(-\phi)\left|\rho\right\rangle = re^{it}\left|0\right\rangle$$<p>Since now we are dealing with $n$ qubits instead of just 1, we must factorize the state vector to separate the Least Significant Bit (LSB):</p>
$$\begin{align*}
 \left|\psi\right\rangle =&amp; \alpha_{0_0}\left|00..00\right\rangle + \alpha_{0_1}\left|00..01\right\rangle + \alpha_{1_0}\left|00..10\right\rangle + \alpha_{1_1}\left|00..11\right\rangle + ... \\&amp;+ \alpha_{(2^{n-1}-1)_0}\left|11..10\right\rangle + \alpha_{(2^{n-1}-1)_1}\left|11..11\right\rangle \\
=&amp; \left|00..0\right\rangle (\alpha_{0_0}\left|0\right\rangle + \alpha_{0_1}\left|1\right\rangle) + \left|00..1\right\rangle (\alpha_{1_0}\left|0\right\rangle + \alpha_{1_1}\left|1\right\rangle) + ... \\&amp;+ \left|11..1\right\rangle (\alpha_{(2^{n-1}-1)_0}(\left|0\right\rangle + \alpha_{(2^{n-1}-1)_1}\left|1\right\rangle) \\
=&amp; \left|00..0\right\rangle\left|\rho_0\right\rangle + \left|00..1\right\rangle\left|\rho_1\right\rangle + ... + \left|11..1\right\rangle\left|\rho_{2^{n-1}-1}\right\rangle
\end{align*}$$<p>Now each of the single-qubit states $\left|\rho_0\right\rangle, ..., \left|\rho_{2^{n-1}-1}\right\rangle$ can be taken to $\left|0\right\rangle$ by finding appropriate $\phi$ and $\theta$ angles per the equation above. Doing this simultaneously on all states amounts to the following unitary, which disentangles the LSB:</p>
$$U = \begin{pmatrix} 
R_{y}(-\theta_0)R_{z}(-\phi_0) &amp; &amp; &amp; &amp;\\  
&amp; R_{y}(-\theta_1)R_{z}(-\phi_1) &amp; &amp; &amp;\\
&amp; . &amp; &amp; &amp;\\
&amp; &amp; . &amp; &amp;\\
&amp; &amp; &amp; &amp; R_y(-\theta_{2^{n-1}-1})R_z(-\phi_{2^{n-1}-1})
\end{pmatrix} $$<p>Hence,</p>
$$U\left|\psi\right\rangle = \begin{pmatrix} r_0e^{it_0}\\ r_1e^{it_1}\\ . \\ . \\ r_{2^{n-1}-1}e^{it_{2^{n-1}-1}} \end{pmatrix}\otimes\left|0\right\rangle$$<p>U can be implemented as a "quantum multiplexor" gate, since it is a block diagonal matrix. In the quantum multiplexor formalism, a block diagonal matrix of size $2^n \times 2^n$, and consisting of $2^s$ blocks, is equivalent to a multiplexor with $s$ select qubits and $n-s$ data qubits. Depending on the state of the select qubits, the corresponding blocks are applied to the data qubits. A multiplexor of this kind can be implemented after recursive decomposition to primitive gates of cx, rz and ry.</p>

</div>
</div>
</div>
<div class="cell border-box-sizing code_cell rendered">
<div class="input">
<div class="prompt input_prompt">In&nbsp;[75]:</div>
<div class="inner_cell">
    <div class="input_area">
<div class=" highlight hl-ipython3"><pre><span></span><span class="kn">import</span> <span class="nn">qiskit.tools.jupyter</span>
<span class="o">%</span><span class="k">qiskit_version_table</span>
<span class="o">%</span><span class="k">qiskit_copyright</span>
</pre></div>

    </div>
</div>
</div>

<div class="output_wrapper">
<div class="output">


<div class="output_area">

    <div class="prompt"></div>



<div class="output_html rendered_html output_subarea ">
<h3>Version Information</h3><table><tr><th>Qiskit Software</th><th>Version</th></tr><tr><td>Qiskit</td><td>0.14.0</td></tr><tr><td>Terra</td><td>0.11.0</td></tr><tr><td>Aer</td><td>0.3.4</td></tr><tr><td>Ignis</td><td>0.2.0</td></tr><tr><td>Aqua</td><td>0.6.1</td></tr><tr><td>IBM Q Provider</td><td>0.4.4</td></tr><tr><th>System information</th></tr><tr><td>Python</td><td>3.7.4 (default, Aug  9 2019, 18:34:13) [MSC v.1915 64 bit (AMD64)]</td></tr><tr><td>OS</td><td>Windows</td></tr><tr><td>CPUs</td><td>2</td></tr><tr><td>Memory (Gb)</td><td>7.9987335205078125</td></tr><tr><td colspan='2'>Tue Dec 10 15:48:50 2019 Eastern Standard Time</td></tr></table>
</div>

</div>

<div class="output_area">

    <div class="prompt"></div>



<div class="output_html rendered_html output_subarea ">
<div style='width: 100%; background-color:#d5d9e0;padding-left: 10px; padding-bottom: 10px; padding-right: 10px; padding-top: 5px'><h3>This code is a part of Qiskit</h3><p>&copy; Copyright IBM 2017, 2019.</p><p>This code is licensed under the Apache License, Version 2.0. You may<br>obtain a copy of this license in the LICENSE.txt file in the root directory<br> of this source tree or at http://www.apache.org/licenses/LICENSE-2.0.<p>Any modifications or derivative works of this code must retain this<br>copyright notice, and modified files need to carry a notice indicating<br>that they have been altered from the originals.</p></div>
</div>

</div>

</div>
</div>

</div>
<div class="cell border-box-sizing code_cell rendered">
<div class="input">
<div class="prompt input_prompt">In&nbsp;[&nbsp;]:</div>
<div class="inner_cell">
    <div class="input_area">
<div class=" highlight hl-ipython3"><pre><span></span> 
</pre></div>

    </div>
</div>
</div>

</div>
 


    </div>
  </div>

  </div>


  
    <footer class="footer hidden-print">
      <div class="container">
        <div class="col-md-4">
          <p>
            This website does not host notebooks, it only renders notebooks
            available on other websites.
          </p>
        </div>

        <div class="col-md-4">
          <p>
            Delivered by <a href="https://www.fastly.com/">Fastly</a>,
            Rendered by <a href="https://developer.rackspace.com/?nbviewer=awesome">Rackspace</a>
          </p>
          <p>
            nbviewer GitHub <a href="https://github.com/jupyter/nbviewer">repository</a>.
          </p>
        </div>

        <div class="col-md-4">
          
  
            
              <p>
                nbviewer version:
                <a href="https://github.com/jupyter/nbviewer/commit/8a8fd298b446096dddc874da57e99dd22a2d8d97">
                  8a8fd29
                </a>
              </p>
            
          
  
  <p>
    nbconvert version: <a href="https://github.com/jupyter/nbconvert/releases/tag/5.6.1">
      5.6.1
    </a>
  </p>
  

          
  
  
  <p>
    Rendered
    <span class='date' data-date='Thu, 30 Jan 2020 07:12:53 UTC' title='Thu, 30 Jan 2020 07:12:53 UTC'>(Thu, 30 Jan 2020 07:12:53 UTC)</span>
  </p>
  

        </div>
      </div>
    </footer>
  

  <script src="/static/components/bootstrap/js/bootstrap.min.js?v=5869c96cc8f19086aee625d670d741f9"></script>
  <script src="/static/components/headroom.js/dist/headroom.min.js?v=b0a311ea668f8e768ea375f4a7abb81c"></script>
  <script src="/static/components/headroom.js/dist/jQuery.headroom.min.js?v=f3a1bae118315d0c234afc74dc6aab71"></script>

  
  
  <script>
    $(function(){ $("#menubar").headroom({
      tolerance: 5,
      offset: 205,
      classes: {
        initial: "animated",
        pinned: "slideInDown",
        unpinned: "slideOutUp"
      }
    })});
  </script>


  
  <script>
    (function(i,s,o,g,r,a,m){i['GoogleAnalyticsObject']=r;i[r]=i[r]||function(){
      (i[r].q=i[r].q||[]).push(arguments)},i[r].l=1*new Date();a=s.createElement(o),
      m=s.getElementsByTagName(o)[0];a.async=1;a.src=g;m.parentNode.insertBefore(a,m)
    })(window,document,'script','https://www.google-analytics.com/analytics.js','ga');
    ga('create', 'UA-52617120-5', 'auto',
       {'storage': 'none'});
    ga('set', 'anonymizeIp', true);
    ga('send', 'pageview');
  </script>
  
  <script>
    require({
        paths: {
          moment: "/static/components/moment/min/moment.min.js?v=89f87298ad94aa1e6b92f42eb66da043"
        }
      }, ["moment"], function(moment){
      var date = $("footer .date"),
        m = moment(new Date(date.data('date'))),
        update = function(){ date.text(m.fromNow()); };
      setInterval(update, 61*1000);
      update();
      var w = $(window).scroll(function(event){
        $("body").toggleClass("scrolled", w.scrollTop() > 0);
      });
    });
  </script>

  <!--NEW RELIC Stop Perf Measurement-->
  
  <!--NEW RELIC End-->
</body>
</html>