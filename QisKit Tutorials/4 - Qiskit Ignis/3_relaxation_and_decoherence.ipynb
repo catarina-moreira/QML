








<!DOCTYPE html>
<html lang="en">

<head>
  <meta charset="utf-8">
  <title>Jupyter Notebook Viewer</title>
  <meta name="viewport" content="width=device-width, initial-scale=1.0">
  <meta name="description" content="">
  <meta name="author" content="">
  
  <meta name="robots" content="noindex,nofollow">
  

  <!--NEW RELIC Start Perf Measurement-->
  
  <!--NREND-->

  <!-- Le styles -->
  <link href="/static/build/styles.css?v=7fe30404aaeedb40bf592c91e1d25a26" rel="stylesheet">

  <!-- Le HTML5 shim, for IE6-8 support of HTML5 elements -->
  <!--[if lt IE 9]>
    <script src="http://html5shim.googlecode.com/svn/trunk/html5.js"></script>
  <![endif]-->

  <!-- Le fav and touch icons -->
  <link rel="shortcut icon" href="/static/ico/ipynb_icon_16x16.png">
  <link rel="apple-touch-icon-precomposed" sizes="144x144"
        href="/static/ico/apple-touch-icon-144-precomposed.png?v=5a3c9ede93e2a8b8ea9e3f8f3da1a905">
  <link rel="apple-touch-icon-precomposed" sizes="114x114"
        href="/static/ico/apple-touch-icon-114-precomposed.png?v=45d86fc8f24dc00638035e1dd7a6d898">
  <link rel="apple-touch-icon-precomposed" sizes="72x72"
        href="/static/ico/apple-touch-icon-72-precomposed.png?v=540b5eb0f3cfd25f1439d1c9bd30e15f">
  <link rel="apple-touch-icon-precomposed"
        href="/static/ico/apple-touch-icon-57-precomposed.png?v=225f0590e187e1458625654f10a28f56">
  
  

  

  
  <meta name="twitter:card" content="summary">
  <meta name="twitter:title" content="Notebook on nbviewer">
  <meta name="twitter:description" content="Check out this Jupyter notebook!">

  
  <meta name="twitter:domain" content="nbviewer.jupyter.org">
  <meta name="twitter:image:src" content="http://ipython.org/ipython-doc/dev/_images/ipynb_icon_128x128.png">

  
    <link href="/static/build/notebook.css?v=b71b4a780ae775fd48f0eead7512c5dd" rel="stylesheet">
  

  

  
    <script src="https://cdnjs.cloudflare.com/ajax/libs/mathjax/2.7.1/MathJax.js?config=TeX-AMS_HTML" type="text/javascript">
    </script>
    <script type="text/javascript">
      init_mathjax = function() {
        if (window.MathJax) {
          // MathJax loaded
          MathJax.Hub.Config({
            TeX: {
              equationNumbers: {
                autoNumber: "AMS",
                useLabelIds: true
              }
            },
            tex2jax: {
              inlineMath: [ ['$','$'], ["\\(","\\)"] ],
              displayMath: [ ['$$','$$'], ["\\[","\\]"] ],
              processEscapes: true,
              processEnvironments: true
            },
            displayAlign: 'center',
            "HTML-CSS": {
              styles: {'.MathJax_Display': {"margin": 0}},
              linebreaks: { automatic: true }
            }
          });
          MathJax.Hub.Queue(["Typeset", MathJax.Hub]);
        }
      }
      init_mathjax();
    </script>
  

  
    <script>
      (function() {
        function addWidgetsRenderer() {
          var mimeElement = document.querySelector('script[type="application/vnd.jupyter.widget-view+json"]');
          var scriptElement = document.createElement('script');
          var widgetRendererSrc = 'https://unpkg.com/@jupyter-widgets/html-manager@0.15/dist/embed-amd.js';
          var widgetState;

          try {
            widgetState = mimeElement && JSON.parse(mimeElement.innerHTML);

            if (widgetState && (widgetState.version_major < 2 || !widgetState.version_major)) {
              widgetRendererSrc = 'https://unpkg.com/jupyter-js-widgets@2.1/dist/embed.js';
            }
          } catch(e) {}

          scriptElement.src = widgetRendererSrc;
          document.body.appendChild(scriptElement);
        }

        document.addEventListener('DOMContentLoaded', addWidgetsRenderer);
      }());
    </script>
  

</head>

<body class="nbviewer">

  <!-- These are loaded at the top of the body so they are available to
       notebook cells when they are loaded below. -->
  <script src="/static/components/jquery/dist/jquery.min.js?v=220afd743d9e9643852e31a135a9f3ae"></script>
  <script src="/static/components/requirejs/require.js?v=6da8be361b9ee26c5e721e76c6d4afce"></script>
  <script src="/static/components/moment/min/moment.min.js?v=89f87298ad94aa1e6b92f42eb66da043"></script>
<!-- Navbar
================================================== -->
  <nav id="menubar" class="navbar navbar-default navbar-fixed-top" data-spy="affix">
    <div class="container">
      <div class="navbar-header">
        <button type="button" class="navbar-toggle collapsed" data-toggle="collapse" data-target=".navbar-collapse">
          <span class="sr-only">Toggle navigation</span>
          <i class="fa fa-bars"></i>
        </button>
        <a class="navbar-brand" href="/">
          <img src="/static/img/nav_logo.svg?v=479cefe8d932fb14a67b93911b97d70f" width="159"/>
        </a>
      </div>

      <div class="collapse navbar-collapse">
        <ul class="nav navbar-nav navbar-right">
          <li>
            <a class="active" href="https://jupyter.org">JUPYTER</a>
          </li>
          <li>
    <a href="/faq" title="FAQ" >
      
        <span>FAQ</span>
      
    </a>
  </li>

          
  
    
  
    
      
        <li>
    <a href="script/github/Qiskit/qiskit-iqx-tutorials/blob/master/qiskit/advanced/ignis/3_relaxation_and_decoherence.ipynb" title="View as Code" >
      <span class="fa fa-code fa-2x menu-icon"></span>
      <span class="menu-text">View as Code</span>
    </a>
  </li>
      
    
  

  
    <li>
    <a href="#" title="Python 3 Kernel" >
      <span class="fa fa-server fa-2x menu-icon"></span>
      <span class="menu-text">Python 3 Kernel</span>
    </a>
  </li>
  

  
    <li>
    <a href="https://github.com/Qiskit/qiskit-iqx-tutorials/blob/master/qiskit/advanced/ignis/3_relaxation_and_decoherence.ipynb" title="View on GitHub" >
      <span class="fa fa-github fa-2x menu-icon"></span>
      <span class="menu-text">View on GitHub</span>
    </a>
  </li>
  

  
    <li>
    <a href="https://mybinder.org/v2/gh/Qiskit/qiskit-iqx-tutorials/master?filepath=qiskit/advanced/ignis/3_relaxation_and_decoherence.ipynb" title="Execute on Binder" >
      <span class="fa fa-icon-binder fa-2x menu-icon"></span>
      <span class="menu-text">Execute on Binder</span>
    </a>
  </li>
  

  <li>
    <a href="https://raw.githubusercontent.com/Qiskit/qiskit-iqx-tutorials/master/qiskit/advanced/ignis/3_relaxation_and_decoherence.ipynb" title="Download Notebook" download>
      <span class="fa fa-download fa-2x menu-icon"></span>
      <span class="menu-text">Download Notebook</span>
    </a>
  </li>

        </ul>
      </div><!-- /.navbar-collapse -->
      
      
    </div>
  </nav>

  <div class="container container-main">
    
  
  <ol class="breadcrumb">
    
      <li>
        <a href="/github/Qiskit/qiskit-iqx-tutorials/tree/master">qiskit-iqx-tutorials</a>
      </li>
    
      <li>
        <a href="/github/Qiskit/qiskit-iqx-tutorials/tree/master/qiskit">qiskit</a>
      </li>
    
      <li>
        <a href="/github/Qiskit/qiskit-iqx-tutorials/tree/master/qiskit/advanced">advanced</a>
      </li>
    
      <li>
        <a href="/github/Qiskit/qiskit-iqx-tutorials/tree/master/qiskit/advanced/ignis">ignis</a>
      </li>
    
  </ol>
  
  <div id="notebook">
    <div id="notebook-container">
      <div class="cell border-box-sizing text_cell rendered"><div class="prompt input_prompt">
</div><div class="inner_cell">
<div class="text_cell_render border-box-sizing rendered_html">
<p><img src="data:image/png;base64,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" alt="qiskit_header.png"></p>

</div>
</div>
</div>
<div class="cell border-box-sizing text_cell rendered"><div class="prompt input_prompt">
</div><div class="inner_cell">
<div class="text_cell_render border-box-sizing rendered_html">
<h2 id="Relaxation-and-Decoherence"><em><em>Relaxation and Decoherence</em></em><a class="anchor-link" href="#Relaxation-and-Decoherence">&#182;</a></h2><p>This notebook gives examples for how to use the <code>ignis.characterization.coherence</code> module for measuring $T_1$ and $T_2$.</p>

</div>
</div>
</div>
<div class="cell border-box-sizing code_cell rendered">
<div class="input">
<div class="prompt input_prompt">In&nbsp;[1]:</div>
<div class="inner_cell">
    <div class="input_area">
<div class=" highlight hl-ipython3"><pre><span></span><span class="kn">import</span> <span class="nn">numpy</span> <span class="k">as</span> <span class="nn">np</span>
<span class="kn">import</span> <span class="nn">matplotlib.pyplot</span> <span class="k">as</span> <span class="nn">plt</span>

<span class="kn">import</span> <span class="nn">qiskit</span>
<span class="kn">from</span> <span class="nn">qiskit.providers.aer.noise.errors.standard_errors</span> <span class="k">import</span> <span class="n">thermal_relaxation_error</span>
<span class="kn">from</span> <span class="nn">qiskit.providers.aer.noise</span> <span class="k">import</span> <span class="n">NoiseModel</span>

<span class="kn">from</span> <span class="nn">qiskit.ignis.characterization.coherence</span> <span class="k">import</span> <span class="n">T1Fitter</span><span class="p">,</span> <span class="n">T2StarFitter</span><span class="p">,</span> <span class="n">T2Fitter</span>
<span class="kn">from</span> <span class="nn">qiskit.ignis.characterization.coherence</span> <span class="k">import</span> <span class="n">t1_circuits</span><span class="p">,</span> <span class="n">t2_circuits</span><span class="p">,</span> <span class="n">t2star_circuits</span>
</pre></div>

    </div>
</div>
</div>

</div>
<div class="cell border-box-sizing text_cell rendered"><div class="prompt input_prompt">
</div><div class="inner_cell">
<div class="text_cell_render border-box-sizing rendered_html">
<h1 id="Generation-of-coherence-circuits">Generation of coherence circuits<a class="anchor-link" href="#Generation-of-coherence-circuits">&#182;</a></h1>
</div>
</div>
</div>
<div class="cell border-box-sizing text_cell rendered"><div class="prompt input_prompt">
</div><div class="inner_cell">
<div class="text_cell_render border-box-sizing rendered_html">
<p>This shows how to generate the circuits. The list of qubits specifies for which qubits to generate characterization circuits; these circuits will run in parallel. The discrete unit of time is the identity gate (<code>iden</code>) and so the user must specify the time of each identity gate if they would like the characterization parameters returned in units of time. This should be available from the backend.</p>

</div>
</div>
</div>
<div class="cell border-box-sizing code_cell rendered">
<div class="input">
<div class="prompt input_prompt">In&nbsp;[2]:</div>
<div class="inner_cell">
    <div class="input_area">
<div class=" highlight hl-ipython3"><pre><span></span><span class="n">num_of_gates</span> <span class="o">=</span> <span class="p">(</span><span class="n">np</span><span class="o">.</span><span class="n">linspace</span><span class="p">(</span><span class="mi">10</span><span class="p">,</span> <span class="mi">300</span><span class="p">,</span> <span class="mi">50</span><span class="p">))</span><span class="o">.</span><span class="n">astype</span><span class="p">(</span><span class="nb">int</span><span class="p">)</span>
<span class="n">gate_time</span> <span class="o">=</span> <span class="mf">0.1</span>

<span class="c1"># Note that it is possible to measure several qubits in parallel</span>
<span class="n">qubits</span> <span class="o">=</span> <span class="p">[</span><span class="mi">0</span><span class="p">,</span> <span class="mi">2</span><span class="p">]</span>

<span class="n">t1_circs</span><span class="p">,</span> <span class="n">t1_xdata</span> <span class="o">=</span> <span class="n">t1_circuits</span><span class="p">(</span><span class="n">num_of_gates</span><span class="p">,</span> <span class="n">gate_time</span><span class="p">,</span> <span class="n">qubits</span><span class="p">)</span>
<span class="n">t2star_circs</span><span class="p">,</span> <span class="n">t2star_xdata</span><span class="p">,</span> <span class="n">osc_freq</span> <span class="o">=</span> <span class="n">t2star_circuits</span><span class="p">(</span><span class="n">num_of_gates</span><span class="p">,</span> <span class="n">gate_time</span><span class="p">,</span> <span class="n">qubits</span><span class="p">,</span> <span class="n">nosc</span><span class="o">=</span><span class="mi">5</span><span class="p">)</span>
<span class="n">t2echo_circs</span><span class="p">,</span> <span class="n">t2echo_xdata</span> <span class="o">=</span> <span class="n">t2_circuits</span><span class="p">(</span><span class="n">np</span><span class="o">.</span><span class="n">floor</span><span class="p">(</span><span class="n">num_of_gates</span><span class="o">/</span><span class="mi">2</span><span class="p">)</span><span class="o">.</span><span class="n">astype</span><span class="p">(</span><span class="nb">int</span><span class="p">),</span> 
                                         <span class="n">gate_time</span><span class="p">,</span> <span class="n">qubits</span><span class="p">)</span>
<span class="n">t2cpmg_circs</span><span class="p">,</span> <span class="n">t2cpmg_xdata</span> <span class="o">=</span> <span class="n">t2_circuits</span><span class="p">(</span><span class="n">np</span><span class="o">.</span><span class="n">floor</span><span class="p">(</span><span class="n">num_of_gates</span><span class="o">/</span><span class="mi">6</span><span class="p">)</span><span class="o">.</span><span class="n">astype</span><span class="p">(</span><span class="nb">int</span><span class="p">),</span> 
                                         <span class="n">gate_time</span><span class="p">,</span> <span class="n">qubits</span><span class="p">,</span> 
                                         <span class="n">n_echos</span><span class="o">=</span><span class="mi">5</span><span class="p">,</span> <span class="n">phase_alt_echo</span><span class="o">=</span><span class="kc">True</span><span class="p">)</span>
</pre></div>

    </div>
</div>
</div>

</div>
<div class="cell border-box-sizing text_cell rendered"><div class="prompt input_prompt">
</div><div class="inner_cell">
<div class="text_cell_render border-box-sizing rendered_html">
<h1 id="Backend-execution">Backend execution<a class="anchor-link" href="#Backend-execution">&#182;</a></h1>
</div>
</div>
</div>
<div class="cell border-box-sizing code_cell rendered">
<div class="input">
<div class="prompt input_prompt">In&nbsp;[3]:</div>
<div class="inner_cell">
    <div class="input_area">
<div class=" highlight hl-ipython3"><pre><span></span><span class="n">backend</span> <span class="o">=</span> <span class="n">qiskit</span><span class="o">.</span><span class="n">Aer</span><span class="o">.</span><span class="n">get_backend</span><span class="p">(</span><span class="s1">&#39;qasm_simulator&#39;</span><span class="p">)</span>
<span class="n">shots</span> <span class="o">=</span> <span class="mi">400</span>

<span class="c1"># Let the simulator simulate the following times for qubits 0 and 2:</span>
<span class="n">t_q0</span> <span class="o">=</span> <span class="mf">25.0</span>
<span class="n">t_q2</span> <span class="o">=</span> <span class="mf">15.0</span>

<span class="c1"># Define T1 and T2 noise:</span>
<span class="n">t1_noise_model</span> <span class="o">=</span> <span class="n">NoiseModel</span><span class="p">()</span>
<span class="n">t1_noise_model</span><span class="o">.</span><span class="n">add_quantum_error</span><span class="p">(</span>
    <span class="n">thermal_relaxation_error</span><span class="p">(</span><span class="n">t_q0</span><span class="p">,</span> <span class="mi">2</span><span class="o">*</span><span class="n">t_q0</span><span class="p">,</span> <span class="n">gate_time</span><span class="p">),</span> 
    <span class="s1">&#39;id&#39;</span><span class="p">,</span> <span class="p">[</span><span class="mi">0</span><span class="p">])</span>
<span class="n">t1_noise_model</span><span class="o">.</span><span class="n">add_quantum_error</span><span class="p">(</span>
    <span class="n">thermal_relaxation_error</span><span class="p">(</span><span class="n">t_q2</span><span class="p">,</span> <span class="mi">2</span><span class="o">*</span><span class="n">t_q2</span><span class="p">,</span> <span class="n">gate_time</span><span class="p">),</span> 
    <span class="s1">&#39;id&#39;</span><span class="p">,</span> <span class="p">[</span><span class="mi">2</span><span class="p">])</span>

<span class="n">t2_noise_model</span> <span class="o">=</span> <span class="n">NoiseModel</span><span class="p">()</span>
<span class="n">t2_noise_model</span><span class="o">.</span><span class="n">add_quantum_error</span><span class="p">(</span>
    <span class="n">thermal_relaxation_error</span><span class="p">(</span><span class="n">np</span><span class="o">.</span><span class="n">inf</span><span class="p">,</span> <span class="n">t_q0</span><span class="p">,</span> <span class="n">gate_time</span><span class="p">,</span> <span class="mf">0.5</span><span class="p">),</span> 
    <span class="s1">&#39;id&#39;</span><span class="p">,</span> <span class="p">[</span><span class="mi">0</span><span class="p">])</span>
<span class="n">t2_noise_model</span><span class="o">.</span><span class="n">add_quantum_error</span><span class="p">(</span>
    <span class="n">thermal_relaxation_error</span><span class="p">(</span><span class="n">np</span><span class="o">.</span><span class="n">inf</span><span class="p">,</span> <span class="n">t_q2</span><span class="p">,</span> <span class="n">gate_time</span><span class="p">,</span> <span class="mf">0.5</span><span class="p">),</span> 
    <span class="s1">&#39;id&#39;</span><span class="p">,</span> <span class="p">[</span><span class="mi">2</span><span class="p">])</span>

<span class="c1"># Run the simulator</span>
<span class="n">t1_backend_result</span> <span class="o">=</span> <span class="n">qiskit</span><span class="o">.</span><span class="n">execute</span><span class="p">(</span><span class="n">t1_circs</span><span class="p">,</span> <span class="n">backend</span><span class="p">,</span> <span class="n">shots</span><span class="o">=</span><span class="n">shots</span><span class="p">,</span>
                                   <span class="n">noise_model</span><span class="o">=</span><span class="n">t1_noise_model</span><span class="p">,</span> <span class="n">optimization_level</span><span class="o">=</span><span class="mi">0</span><span class="p">)</span><span class="o">.</span><span class="n">result</span><span class="p">()</span>
<span class="n">t2star_backend_result</span> <span class="o">=</span> <span class="n">qiskit</span><span class="o">.</span><span class="n">execute</span><span class="p">(</span><span class="n">t2star_circs</span><span class="p">,</span> <span class="n">backend</span><span class="p">,</span> <span class="n">shots</span><span class="o">=</span><span class="n">shots</span><span class="p">,</span>
                                       <span class="n">noise_model</span><span class="o">=</span><span class="n">t2_noise_model</span><span class="p">,</span> <span class="n">optimization_level</span><span class="o">=</span><span class="mi">0</span><span class="p">)</span><span class="o">.</span><span class="n">result</span><span class="p">()</span>
<span class="n">t2echo_backend_result</span> <span class="o">=</span> <span class="n">qiskit</span><span class="o">.</span><span class="n">execute</span><span class="p">(</span><span class="n">t2echo_circs</span><span class="p">,</span> <span class="n">backend</span><span class="p">,</span> <span class="n">shots</span><span class="o">=</span><span class="n">shots</span><span class="p">,</span>
                                       <span class="n">noise_model</span><span class="o">=</span><span class="n">t2_noise_model</span><span class="p">,</span> <span class="n">optimization_level</span><span class="o">=</span><span class="mi">0</span><span class="p">)</span><span class="o">.</span><span class="n">result</span><span class="p">()</span>

<span class="c1"># It is possible to split the circuits into multiple jobs and then give the results to the fitter as a list:</span>
<span class="n">t2cpmg_backend_result1</span> <span class="o">=</span> <span class="n">qiskit</span><span class="o">.</span><span class="n">execute</span><span class="p">(</span><span class="n">t2cpmg_circs</span><span class="p">[</span><span class="mi">0</span><span class="p">:</span><span class="mi">5</span><span class="p">],</span> <span class="n">backend</span><span class="p">,</span>
                                        <span class="n">shots</span><span class="o">=</span><span class="n">shots</span><span class="p">,</span> <span class="n">noise_model</span><span class="o">=</span><span class="n">t2_noise_model</span><span class="p">,</span>
                                        <span class="n">optimization_level</span><span class="o">=</span><span class="mi">0</span><span class="p">)</span><span class="o">.</span><span class="n">result</span><span class="p">()</span>
<span class="n">t2cpmg_backend_result2</span> <span class="o">=</span> <span class="n">qiskit</span><span class="o">.</span><span class="n">execute</span><span class="p">(</span><span class="n">t2cpmg_circs</span><span class="p">[</span><span class="mi">5</span><span class="p">:],</span> <span class="n">backend</span><span class="p">,</span>
                                        <span class="n">shots</span><span class="o">=</span><span class="n">shots</span><span class="p">,</span> <span class="n">noise_model</span><span class="o">=</span><span class="n">t2_noise_model</span><span class="p">,</span>
                                        <span class="n">optimization_level</span><span class="o">=</span><span class="mi">0</span><span class="p">)</span><span class="o">.</span><span class="n">result</span><span class="p">()</span>
</pre></div>

    </div>
</div>
</div>

</div>
<div class="cell border-box-sizing text_cell rendered"><div class="prompt input_prompt">
</div><div class="inner_cell">
<div class="text_cell_render border-box-sizing rendered_html">
<h1 id="Analysis-of-results">Analysis of results<a class="anchor-link" href="#Analysis-of-results">&#182;</a></h1>
</div>
</div>
</div>
<div class="cell border-box-sizing code_cell rendered">
<div class="input">
<div class="prompt input_prompt">In&nbsp;[4]:</div>
<div class="inner_cell">
    <div class="input_area">
<div class=" highlight hl-ipython3"><pre><span></span><span class="c1"># Fitting T1</span>

<span class="o">%</span><span class="k">matplotlib</span> inline

<span class="n">plt</span><span class="o">.</span><span class="n">figure</span><span class="p">(</span><span class="n">figsize</span><span class="o">=</span><span class="p">(</span><span class="mi">15</span><span class="p">,</span> <span class="mi">6</span><span class="p">))</span>

<span class="n">t1_fit</span> <span class="o">=</span> <span class="n">T1Fitter</span><span class="p">(</span><span class="n">t1_backend_result</span><span class="p">,</span> <span class="n">t1_xdata</span><span class="p">,</span> <span class="n">qubits</span><span class="p">,</span>
                  <span class="n">fit_p0</span><span class="o">=</span><span class="p">[</span><span class="mi">1</span><span class="p">,</span> <span class="n">t_q0</span><span class="p">,</span> <span class="mi">0</span><span class="p">],</span>
                  <span class="n">fit_bounds</span><span class="o">=</span><span class="p">([</span><span class="mi">0</span><span class="p">,</span> <span class="mi">0</span><span class="p">,</span> <span class="o">-</span><span class="mi">1</span><span class="p">],</span> <span class="p">[</span><span class="mi">2</span><span class="p">,</span> <span class="mi">40</span><span class="p">,</span> <span class="mi">1</span><span class="p">]))</span>
<span class="nb">print</span><span class="p">(</span><span class="n">t1_fit</span><span class="o">.</span><span class="n">time</span><span class="p">())</span>
<span class="nb">print</span><span class="p">(</span><span class="n">t1_fit</span><span class="o">.</span><span class="n">time_err</span><span class="p">())</span>
<span class="nb">print</span><span class="p">(</span><span class="n">t1_fit</span><span class="o">.</span><span class="n">params</span><span class="p">)</span>
<span class="nb">print</span><span class="p">(</span><span class="n">t1_fit</span><span class="o">.</span><span class="n">params_err</span><span class="p">)</span>

<span class="k">for</span> <span class="n">i</span> <span class="ow">in</span> <span class="nb">range</span><span class="p">(</span><span class="mi">2</span><span class="p">):</span>
    <span class="n">ax</span> <span class="o">=</span> <span class="n">plt</span><span class="o">.</span><span class="n">subplot</span><span class="p">(</span><span class="mi">1</span><span class="p">,</span> <span class="mi">2</span><span class="p">,</span> <span class="n">i</span><span class="o">+</span><span class="mi">1</span><span class="p">)</span>
    <span class="n">t1_fit</span><span class="o">.</span><span class="n">plot</span><span class="p">(</span><span class="n">i</span><span class="p">,</span> <span class="n">ax</span><span class="o">=</span><span class="n">ax</span><span class="p">)</span>
<span class="n">plt</span><span class="o">.</span><span class="n">show</span><span class="p">()</span>
</pre></div>

    </div>
</div>
</div>

<div class="output_wrapper">
<div class="output">


<div class="output_area">

    <div class="prompt"></div>


<div class="output_subarea output_stream output_stdout output_text">
<pre>[24.10436641574169, 15.1725404065493]
[2.2001166293232, 0.6420239307715634]
{&#39;0&#39;: [array([ 0.97307515, 24.10436642,  0.02663813]), array([ 1.00092258e+00,  1.51725404e+01, -5.42259153e-03])]}
{&#39;0&#39;: [array([0.04753859, 2.20011663, 0.05166528]), array([0.01408857, 0.64202393, 0.01729388])]}
</pre>
</div>
</div>

<div class="output_area">

    <div class="prompt"></div>




<div class="output_png output_subarea ">
<img src="data:image/png;base64,iVBORw0KGgoAAAANSUhEUgAAA4cAAAGaCAYAAAC8Ojb6AAAABHNCSVQICAgIfAhkiAAAAAlwSFlz
AAALEgAACxIB0t1+/AAAADl0RVh0U29mdHdhcmUAbWF0cGxvdGxpYiB2ZXJzaW9uIDIuMS4yLCBo
dHRwOi8vbWF0cGxvdGxpYi5vcmcvNQv5yAAAIABJREFUeJzs3Xl8VNX9//HXJyGThEWQxQSQJbgv
KFaFotJGBStudataMYobIG7oz7oi4lKXgoJKwYD1i0Tr0kqtqBTXYN0Al1RURCsBFQxqFTBs2c7v
jzsJmWQmTMJsmXk/H495TObcO/d+rmA+nHvP+RxzziEiIiIiIiKpLS3eAYiIiIiIiEj8qXMoIiIi
IiIi6hyKiIiIiIiIOociIiIiIiKCOociIiIiIiKCOociIiIiIiKCOociIiIiIiKCOociIiIiIiKC
OociUWFmeWb2rJl9b2bOzGbHO6YdYWYj/deRH8a++f59R0Y/MhERaU2UH5UfJbG1iXcAIrFiZu2B
9YR/U6SLc+7HFp5uNnAA8EegDPiyhcdJCmY2ADgZmO2cW9mM76UBVwKjgb7A98DTwATn3MbIRyoi
knqUH+OnJfnRzPYEzgGOAXYDsvD+O/4NmKr8KDtCnUNJJW2A8xq0XQIcBlwDrK3XvrWlic/MMoEh
wDTn3OSWHKOVewPIBirrtQ0AbgGKgZXNONYU4ArgH8C9wD7+zweZ2VDnXE0E4hURSXXKj7ERqfx4
AXAp8BzwuP94RwJ3AGeY2S+dc5sjE7KkGnUOJWU459YBj9VvM7OrgC3A/c65qgidKgcwoKV3VYMy
s3Qg0zm3KZLHjTR/h23Ljh7HzPYDLgfmOudOq9deCjwAnAX8dUfPIyKS6pQfYyNS+RH4O3CXc259
vbaHzOwL4CbgQmBaBM4jKUhzDiVlmVkGsD/wUaQSn3/uxCr/x1v8cwvq5iKYWVcz+7OZfW1mFf73
P5tZlwbHqZ3DMNTMbjazL/ESyhnbOX8vM3vazNab2QYzm2dmu5nZSjMrbrDvRP85+gY5TqP9/dr4
v7fKzLaa2UdmdlaD7wbMqTCzicD/+Te/Xu+/yeymrgX4Pd4/IqY2aJ8FbMIbUiMiIhGm/JjY+dE5
916DjmGtp/zv+zf1fZGm6MmhpLL9AB/wYQSPWQiU4A2H/Acw19++zMw6Am8DuwOPAB8AB+EN3TnK
zAY6535ucLzJQAZeh2gDsDzUic2sE96QlV7AQ8CnwK+B1/GGsUTCPUA7YLr/8/nAE2aW5ZybHeI7
c4HuwCjgTmCZv31780wOBWqAxfUbnXNbzKzEv11ERCJP+bH5YpkfQ9nV/762yb1EmqDOoaSyg/zv
H0TqgM65d8zsW7zk95Fzrm6Yjpn9EdgDuNQ5N71eewne8I9rgZsbHDIbOCjMoTLX4hVtucA5V3sn
crqZTcUr6hIJXYEDau9YmtlDwEfAfWb2VLA5Ds65j8zsHbzk97JzrjjMc/UAfnDObQ2ybTVwmJn5
nHMVLbkQEREJSfmx+WKZHxvxD629GahCUy5kB2hYqaSyX/jfI3lntCmn4FXbnNmgvdDffkqQ78xo
xhyKk/HuFs5p0H5Pc4Lcjhn1h7L4f34I2BnIj+B5ANoCwTqGsG3ORtsIn1NERJQfWyKW+TGYqcBg
vGreIZ+iimyPOoeSyg7Cu8O2tOEGMzvDzN40s3IzWxmh8+UByxvO3/B//hzoF+Q7nzfj+P2AL5xz
1Q2O/y2wrpmxhrIsSNun9c4fSZuAzBDbsurtIyIikaX82HyxzI8BzOx24DJgpnPurmieS5KfOoeS
ksxbP+9AYJlzLljlsJ/whrLcFNPAGotm58c1sS0RhpyvAbqaV/q8oZ54Q041pFREJIKUH4HEz491
/EVtxuMVthkT32gkGahzKKlqD6A9IeZTOOdeds49ybbKapGwAtjLzAISi//znv7tO3r8PfzzDuof
vzvQKcj+taXEOzfYPwtvgnww+wRp27fe+UNpKtGGsgTvd9TA+o3++AYA77XgmCIi0jTlx8TPj7Xx
TMRbI/FR4CLnXIuPJVJLnUNJVbGeTwHwLNANuKhB+8X+9n/s4PH/ibeG1LkN2q8LsX/tkJyhDdqv
IvTvhkv8VeUA8P88Bm9YzsImYiv3v3duYp+GnsJLmuMatF+MN9fw8WYcS0REwqP8mPj5ETObgNcx
LMIrtFPTnO+LhJJQj8ZFYijildjC8Cfgd8CfzewXeIn3ILzFapf7t+/o8c8GZpnZwcAneJPgBwM/
BNn/Ff95b/OvI1UKHAH8MsT++NsXmVlttbfzgd54dyybGuKzBG9ZipvMbGdgI1DqnFsU6gvOuaVm
9mfgMjObC7yId2f2CrxEq2psIiKRp/yY4PnRzC4FbgW+8sd6tpnV32Wtc+7lJs4pEpI6h5KqDsJ7
KvWfWJ3QObfezA7H+4V+El7iWItXzeyWIGs4Nff4P5nZEOA+tt0dXQgcCbwaZP9qMzsJeAC4HKgA
XsJb++mtEKe5DhgCXIp3F/ZzYIRzrsmOmnPuKzO7wP/9GXhrUz0KhEx+fuOAlXhlvo/HS74P4lVj
011SEZHIU35M/PxYu85vb/++DS0E1DmUFjENTxYJzcxOBqY65/rGO5Yd4a8ot9I5lx/nUEREJAko
P4okJz05FAnCP2k9w/8y/yR0F2JBdhERkZSg/CiS3NQ5FAmuAK8sdK3NeJXZ+sYlGhERkcSg/CiS
xGJerdTMfmVmz5nZajNzZjYyjO/0N7OFZrbZ/70J1mDmrUgkOedmO+eswatvvOMSERGJJ+VHkeQW
jyeH7YGPgTn+V5PMbCe8SbVv4E3A3RvvjtVG4N7ohSmSPJS4RUREGlN+FAkU14I0ZlYOXOacm93E
PpcA9wA5zrnN/rbxwCXArlrwU0REREREZMe1hjmHg4F/13YM/RYAt+ONby8N9cWuXbu6vn37Nmrf
uHEj7dq1i2yUCSqVrhV0vcksla4VdL0t8f777//gnOsWoZCSXrAcqb93yS2VrjeVrhV0vcks1vmx
NXQOc4FvGrStrbctoHNoZqPw1kQjJyeHyZMnNzpgeXk57du3j3ykCSiVrhV0vcksla4VdL0tceSR
R66KUDgpoW/fvrz33nsBbcXFxeTn58cnoDjQ9SavVLpW0PUms0hcq5mFnR9bQ+ewWZxzM4GZAIcc
cogL9h9Tf6GSl643eaXStYKuV0RERGIv5tVKW6AMyGnQllNvm4iIiIiIiOyg1tA5fAcY4l9ktdYw
YA2wMi4RiYiIiIiIJJl4rHPY3swGmNkA//l7+z/39m+/y8xerfeVvwKbgNlmtr+ZnQpcD9ynSqUi
IiIiIiKREY85h4cAr9f7fKv/9SgwEugO7Fa70Tm33syGAX8G3gN+wlvf8L4YxSvSKtXU1PDNN9+w
cePGeIcSER07dmTZsmXxDiNmdL3BtWvXjl133ZW0tNYw8EVEElGy5UdQzkhmsc6PMe8cOueKAWti
+8ggbUuBX0UvKpHk88MPP2Bm7LXXXknxD+mff/6ZDh06xDuMmNH1NlZTU8Pq1av54Ycf2GWXXWIU
mYgkm2TLj6CckcxinR+T4/8IEWlk3bp15OTkJE3iE0lLSyMnJ4f169fHOxQRacWUHyXZRDI/6v8K
kSRVXV1NRkZGvMMQiaiMjAyqqqriHYaItGLKj5KMIpUf1TkUSWJmIUdwi7RK+jstIpGg3yWSbCL1
d1qdQxEREREREVHnUEQk1vbbbz+Ki4vjHUZcjRw5kvHjx8c7DBERSSDKj/HPj+ocikjMPfroo7Rv
35727duTlZVFenp63edOnTqxdevWZh1v69atXHjhhfTp04cOHTowYMAA5s+fH3TfL774gqysLM45
55yQx5s2bRqHHHIImZmZjBw5slmxhOOTTz4hPz8/4scVEZHWLdL5Ebaf0/Lz88nKyqo7z1577RX0
OM3JtS2l/Bh/6hyKSMydd955lJeXU15ezo033sgJJ5xQ93ndunVkZmY263hVVVX06tWLhQsXsn79
eu644w7OOOMMVq5c2WjfSy+9lEMPPbTJ4/Xo0YPx48dzwQUXNCuOaFIRFklIX34JlZXxjkIkaUQ6
P0J4OW3atGl151m+fHnQfZqTa2NJ+TGy1Dncjvx87yUi0VFSUsKBBx64Q8do164dEydOpG/fvqSl
pXHCCSeQl5fH+++/H7Dfk08+SadOnTj66KObPN6pp57KySefTJcuXcI6f9++fZk0aRIHHHAA7dq1
48ILL2Tt2rUMHz6cDh06MHToUH766aeA/V955RUAvv76a0499VS6detGly5duOyyywL2u+eee+qO
u3TpUvLz8+nUqRP77bcfzz33XJNx3XPPPfTs2ZMOHTqw11578eqrrwKwZs0aTjvtNLp160ZeXh4P
PPBAwPdCxbRs2bImz9+3b18mT57MAQccQMeOHTnzzDPZsmULAB9++CG/+MUv6NChQ0B7rSlTpgSN
VRLXyEM/oWqPvWHWrHiHIpKUIpEfofk5LZRwc2190cqP+++/v/JjlKhzuB0VFbB+PZSVxTsSkeRU
UlLCgAEDwtp37NixjB07drv7rV27ls8//5z99tuvrm3Dhg1MmDCB++67r8WxNuWZZ57h5Zdf5vPP
P2fevHkMHz6cO++8k++//56amppGCQa8cuonnHACffr0YeXKlaxevZqzzjorYJ8nnniCF154gR9+
+IFTTjmFY445hu+++44HH3yQESNGhLzDu3z5cqZNm8aSJUv4+eefWbBgAX379qWmpoYTTzyRAw88
kNWrV/Pqq68ydepUFixY0GRMlZWVnHjiids9/9NPP82//vUvSktL+eijj5g9ezYVFRWcfPLJFBQU
8OOPP/K73/2OZ555JiDWmTNnNopVEtvKtvvy8U6Hw8SJ8PPP8Q5HJOk0Jz9eddVVYeXHUG644Qa6
du3K4YcfHvacv2C5NhjlR09ryY/qHDahqAgWLXJ8vLSGfv28zyISORs2bGDlypUByW/9+vUMHDiQ
9u3b8/HHHwfsP336dKZPn97kMSsrKxkxYgTnnXcee++9d137zTffzIUXXsiuu+4a2Yvwu/zyy8nJ
yaFnz54MGTKEQYMGcdBBB5GVlcUpp5zChx9+2Og7ixcvZs2aNUyaNIl27dqRlZXFEUccEbDPFVdc
Qa9evSgpKaG8vJzrr78en8/HUUcdxQknnMATTzwRNJ709HS2bt3Kp59+SmVlJX379mW33XZjyZIl
fP/990yYMAGfz0e/fv24+OKLefLJJ5uM6d133w3r/FdccQU9evSgc+fOnHjiiZSUlPDuu+9SWVnJ
uHHjyMjI4PTTTw8Y2hsqVklsFZXGxJzplH2fBpMnxzsckaTS3Pw4ZcqU7ebHUO655x5WrFjB6tWr
GTVqFCeeeCJffvllk98JlWuDUX7cFm9ryI/qHIZQVgajR0NNjVFVncbmzd5nPUGUVqt2jHT9V20i
2bQp+PbZs73tP/wQfPtTT3nbv/66RSH95z//oUOHDuTl5dW1tW3blhdeeIHTTz+92cerqamhoKAA
n8/HtGnT6tpLSkp45ZVXuOqqq1oUZzhycnLqfs7Ozm70uby8vNF3vv76a/r06UObNm1CHrdXr16A
N9SlV69epKVt+7Xdp08fVq9eDcDjjz9eV0xg+PDh7L777kydOpWJEyeyyy67cNZZZ7FmzRpWrVrF
mjVr6NSpU93rzjvvZO3atU3GtL3z18rNza37uW3btpSXl7NmzRp69uwZsAZTnz596n7efffdufvu
uxvFKonLu3kKz3+5L/3SV1F092olSGndEixHRjo/NmXQoEF06NCBzMxMzjvvPA4//HBefPHFkPuH
yrWhKD96Wkt+VOcwhNJSyMgIbPP5HKWl3s+aiyiy40pKSjjggAMCfilmZGTQrVu3Zh/LOVc3l+GZ
Z54ho97/wMXFxaxcuZLevXuTm5vL5MmTeeaZZ/jFL34RketoqV69evHVV181OZm+9r9Njx49+Prr
r6mpqanb9tVXX9GzZ08ARowYUVdMoLZ63Nlnn82bb77JqlWrMDOuu+46evXqRV5eHuvWrat7/fzz
z3X/EAgV0/bO35Tu3buzevVqnHMB363vjDPOaBSrJKZtN0+huho2V2cyuuIByuYtjndoIkkjkvmx
ucws4Pd1fU3l2khSftwm1vlRncMQ8vIaF2Cr2FRNvRs4Iq1LcXHjV+38hLZtg2+vLXndtWvw7Wee
6W33371rrubMp9ieSy65hGXLljFv3jyys7MDto0aNYovv/ySkpISSkpKGDNmDMcff3zdPIKGqqqq
2LJlC9XV1VRXV7Nly5aoVEMbOHAg3bt35/rrr2fjxo1s2bKFt956K+i+gwYNom3btvzpT3+isrKS
4uJi5s2b12gORq3ly5fz2muvsXXrVrKyssjOziYtLY2BAwfSoUMH7rnnHjZv3kx1dTUff/wxS5Ys
aTKm5p6/vsGDB9OmTRseeOABKisrmTt3LosXb+tILF++nIULFzaKVRJT0JunO2VRuv9J8QlIJBIS
LEdGMj82ldPWrVvHggUL6toef/xx3njjDY499tigx2oq10aS8uO2WGOdH5V9Q8jNhcJCSEuD9HRH
dtoWChlN7rrPABWqEYmE//znP81KfmPGjGHMmDGN2letWkVhYSElJSXk5ubWDR95/PHHAW/4Rm5u
bt2rdv2o+ndgayfIA9xxxx1kZ2dz991389hjj5Gdnc0dd9yxg1fbWHp6OvPmzeO///0vvXv3Ztdd
d+Wp2mFIDfh8PubNm8f8+fPp2rUrY8eOZc6cOSHnemzdupXrr7+erl27kpuby3fffcddd91Feno6
zz//PCUlJeTl5dG1a1cuuugi1q9f32RMzT1/w9jnzp3L7Nmz6dy5M0899RSnnnpqQKy33HJLo1gl
MQW9eVqZ5t08/eSTuMQkkmyamx/HjRsXND9C0zmtsrKS8ePH061bN7p27cqDDz7Is88+y5577ln3
/dr8uL1cG0nKj9tijXl+dM4l7evggw92wbz++utB24MZPNi5AQOc+/bDb53bZx/nXn/dzZnjXFqa
c+npzmVnOzdnTtiHi7nmXGsy0PVu8+mnn8YukCg477zz3NKlS+s+b9iwIY7RxJ6uN7RQf7eB91wC
5J7W8gqWI8P9HRo0Dz7+uHPg3Ntvh3WMRKCckbxSKT86p5yRzGKdH/XkcDt8PujYEXIH5MLSpZTt
nR8410KFakQi7rjjjuOll17i4osvZnbthH8RSRgFBTBoEPTvDytWeJ856STIyYFrrwUXfL6SiOwY
5UeJttAlgATwhozXSU+n9MsaMmoq2ExWXbPP583BqFeESER2QFNV0kQkMfh83qsu97VvD7feCmPG
cGP/edz5seYgikSa8qNEm54cNlPerpVUVgS2VVSgQjUiIpJSamtuBLjwQr7K3ovRpddBFIo4iYhI
dKlz2Ey5fTIpvPsnstlEe8rJznYUFuqpoYiICG3aMLPf3XSq+A6WLYt3NCIi0kzqHLZAwbXduWL3
F3iJYawYdY8310JERER4rcNvGb7PKsq69Y93KCIi0kzqHLbQ3V/8jsHn70Pu9AnQYLFKERGRVFRU
BIsWG4s/bU+/fo6iW7+Md0giItIM6hzuiGnT4N//ht694x2JSFBOFQMlyejvdOIqK6NBNW9j9MTu
lC3WDVRJPPpdIskmUn+n1TncEW3berW8Ad5808uGIgkiPT2dyoYrVYu0cpWVlbRpo0Lbiai0FDIy
Att8VFJ6Q2Hd5/x87yUST8qPkowilR/VOYyE99+HIUPg9tvjHYlInU6dOrF27VpqamriHYpIRNTU
1LB27Vo6duwY71AkiLw8aPjv7Yo2bcl77S/w1lvxCUokCOVHSTaRzI+6/RoJBx8M554Lt90GQ4aQ
f/vRQJAS3yIx1LVrV7755huWL18e71AiYsuWLWRlZW1/xySh6w2uXbt2dO3aNQYRSXPl5kJhIYwc
CWbeGoiFD1STe0s6XH01vPMOuictiSDZ8iMoZySzWOdHdQ4jZfp0WLIERoygc78SfvRpbQuJr7S0
NHon0XzY4uJiDjrooHiHETO6XmmNCgpgxgzYvBnmz4fc3CzIuBPuugu+/ZaKip5s3uzNT9QSUBIv
yZYfIfV+h6bS9cb6WnULL1LatYOnn4YNG7hp2TmY01AFERFJPT4fdOxYr/NXUABLl1L0Wk8WLYKl
S6FfP6+yqYiIJBZ1DiNp//1h+nSe2/lc1m0wysriHZCIiEicpaVR9r8MRo929SqZepVNG+ZJFawR
EYkvDSuNsKL0kdyxyptv0a+fo7DQKCiId1QiIiKxEWy+fWkpZFRtZjNt69p8Pq9dw0tFRBKHnhxG
UNA1nkbV6AmiiIiktLw8qEwPLKhQUeG1i4hI4lDnMIKCrvFUuYnSL6riE5CIiEgCyM2Fwplp+KyC
nVhHdmYNhYWNnxpWVMD69Y2Hm4qISGzEpXNoZmPNrNTMtpjZ+2Y2ZDv7X2pmy8xss5ktN7NzYxVr
cwRd46k6jby//rHus+ZTiIhIKioogCGHbOZv6b9nxYGnUHCOC9heVIQK1oiIxFnMO4dmdiZwP3An
cBDwNjDfzILWFDazS4B7gNuA/YBbgD+b2YmxiTh8tWs8paVBejpkZ0Ph0L+T+9BEmDs33uGJiIjE
VVXbjvxnt9PI7bDRe0To13haRvCCNSIiEl3xeHJ4NTDbOTfLObfMOXc58C1wSYj9C4BZzrknnHMr
nHNPAjOB62IUb7MUFMCgQdC/P6xYAQXPnwkDB8K778Y7NBERkbh7IfdCePll6NSpri3otAx/wRoR
EYmdmFYrNTMfcDAwucGml4DDQnwtE9jSoG0zMNDMMpxzlUG+E1c+n/fy5lJkwuuvQ9u22/uaiIhI
UvMqmZr34euv4Z134Iwzgk/LUMEaEZGYi/WTw65AOrC2QftaIFQx6wXABWZ2qHkOAS4CMvzHS3y1
HcMPP+SU//5Jk+1FRERuvdUbbvPll8GnZQQpWCMiItHVGtY5vB2v4/g23u3GtcCjwLVATcOdzWwU
MAogJyeH4iALLpWXlwdtj5R16wYAUFxcEtD+wU2fMX71ZdSs2Urfvm24+urlHHPMd1GLA6J/rYlG
15u8UulaQdcrKeD22+Gpp+Cqq+C55ygogBkzvPmG8+erYygiEg+x7hz+AFQDOQ3ac4Cgz9Kcc5vx
nhyO9u/3LV7n72fg+yD7z8Sbk8ghhxzi8oOUBi0uLiZYe6SU1PUJt52jrAyO+/DXbMbAAVth6tR9
ueKKfaOaAKN9rYlG15u8UulaQdcrKaB7d7j5ZrjuOq83OHx4g2kZIiISazEdVuqcqwDeB4Y12DQM
78lgU9+tdM5945yrBs4CnnfONXpymKi8yfYW0ObLqAmYbK9lLkREJKVceSXssQeMG+dNMhQRkbiK
x7DS+4AiM1sMvAWMAXoADwGY2RwA59y5/s97AoOAd4Gd8aqd7g+cF/PId0DQyfabqsjL88UnIBER
kXjLzISpU+Ef/4AtWyguVk4UEYmnmHcOnXNPmVkXYDzQHfgYOM45t8q/S8P1DtPxOoR7AZXA68Bh
zrmVsYk4Mmon248cCWbga1NN4UPpGjojIiKp7bjjvJeIiMRdXArSOOemA9NDbMtv8HkZcFAMwoq6
wMn2/o7hd9/B8uUwZEi8wxMREYmfJUvg1Vfh+uvjHYmISMqK9VIWKc/ng44d6022HzUKTjwR/vtf
KirQMhciIpKa5s6FG27w1j4UEZG4UOcw3qZOhfR0ivL/wqJFjqVLoV8/KCqKd2AiIiIxdNNNsOuu
MHYsVFXFOxoRkZSkzmGMFRd7rzp9+1L252cYvfpmamqM6mpv2Ono0XqCKCIiKaR9e++GaUkJTA86
80RERKJMncMEUNonn4zMwD8Kn4+AZS5ERESS3qmnwrHHwvjxsGZNvKMREUk5cSlII4Hy8qAyLTOg
raLCaxcREUkZZvDgg/D009ClS8Cm2nWAA0bfiIhIROnJYQLwlrkw0tIgPR2ysx2Fk9ZrmQsREUk9
u+8ON97orYEoIiIxpc5hgigogEGDoH9/WHFYAQWPHOVNPhQREUlFCxbA0KGwdWu8IxERSRnqHCaQ
umUurvo9fPiht8yFc/EOS0REJPac89Y9nDw53pGIiKQMdQ4T0fHHw+23w2OPeZXbREQkZZjZWDMr
NbMtZva+mQ3Zzv5nm1mJmW0yszIze8zMWv/EhGOPhdNPhzvugNJSrQUsIhID6hwmqhtvhNNOg2uu
gVdeaXLX/PxtE/VFRKT1MrMzgfuBO4GDgLeB+WbWO8T+hwNFwKPAfsDJwL7A4zEJONqmTIE2bSg6
Za7WAhYRiQF1DhNIwBqIZjB7Npx4IqpMIyKSMq4GZjvnZjnnljnnLge+BS4Jsf9g4Bvn3BTnXKlz
7l3gQWBQjOKNrl13pez/TWL0fy7RWsAiIjGgzmEia98enn0W9t/fm3tRWRnviEREJErMzAccDLzU
YNNLwGEhvvYW0N3MTjRPV+As4MXoRRpbpUdfREbbjIA2rQUsIhId6hy2Bs7BJZfAiBEqUCMikry6
AunA2gbta4GgQ0icc+/gdQYfByqA7wEDzotemLGVt0cbKl1g51BrAYuIREebeAcgYTCD3XaDwkI4
8EC46aaAzRUV3jCbsrLgI1C1cLCISHIys33xhpHeDiwAugOTgELg3CD7jwJGAeTk5FDcIDGUl5c3
aksE48btwp/u3pN2biNbM9oxbtznfPbZd3z22Y4dN1GvN1pS6XpT6VpB15vMYn2t6hy2FtdcAx99
BOPHw777wimnAN6k/EWLvP5jv35e/7GgIM6xiohIS/wAVAM5DdpzgFAz7G4AFjvnJvk/f2RmG4F/
m9mNzrlv6u/snJsJzAQ45JBDXH6DambFxcU0bEsE+fmw+OV1/OHDERy4bzW5t78A6fvu8HET9Xqj
JZWuN5WuFXS9ySzW16phpa2FGcyaBQMHer2/jz6irMyblF9Tgybpi4i0cs65CuB9YFiDTcPwqpYG
0xavQ1lf7eekyvFV7Trx7p7nkvufBfDgg/EOR0QkKSVV4kh6WVlegZpeveDbbykthYzAaRiapC8i
0rrdB4w0s4vMbB8zux/oATx4teHAAAAgAElEQVQEYGZzzGxOvf3nAb81s0vMrJ9/aYsHgA+cc1/F
PPooe73bGd5awOPHw6pVde1a0klEJDLCHlZqZjsBxwG9gawGm51z7vZIBiYhdO8OH38M6enklTUu
YBpskv725iSKiMiOiVSOdM49ZWZdgPF48wc/Bo5zztX2hHo32H+2mXUALgPuBdYDrwHXtfRaEpoZ
TJ8O++0HL7wAY8fGOyIRkaQSVufQfydyHtApxC4ObzK8RElAUZn0dABy/z6Nwl+2ZeTC8zEzfD5v
zmH9DuBLL+2iOYkiIlEU6RzpnJsOTA+xLT9I24N4RWmS2rZ6DL3hv/+FnIZTM0VEZEeFO6x0KrAS
OBTIcs6lNXilRy1CCa2sjILXL+S2Xg/Tvz+sWBHY8Ssrg/vu20tzEkVEoks5MtZqO4ZLlsCPP8Y3
FhGRJBJu53AfYLxz7n3/hHlJBLfdBiefzPWrxnB09UuNhoyWlkKbNoHrImpOoohIxClHxkNZGRxx
BPzhD1RUwPr1uvkpIrKjwu0cfgVkRjMQaYG0NCgqYmW7/Zj46RmwfHnA5rw8qKqygDYtHCwiEnHK
kfGQmwtXXUXRIxUsebeapUu96RNFRfEOTESk9Qq3c3grcL1/wr0kkvbtuWn/56hIy4I33gjYlJsL
V1+9nLQ0b5pidnbjOYkiIrLDlCPjpGzUBEbbTKpcuqZPiIhEQLjVSk/AW4S31MzeARoO8HfOufMi
GpkEaKriaFlWXwoGLueFizs2+t4xx3xHcfG+bN4M8+erYygiEgXKkXFSurYtGdmVbN60ra12+oTy
nYhI84XbOTwCr9raBmC/INtdkDaJkKIimqw46lVw83cMX30V5s2DKVO8L+AlSp9PiVJEJEqUI+Mk
Lw8qXeCCv5o+ISLScmF1Dp1z+jUbJ2Vl3hCZmhrvc+2QmWHDQnT23nwT7r/fWw/xuuRc5kpEJJEo
R8ZPbq53w3TkSO9+aLAlnUREJHzhPjmUOCkthYwMr1NYq8khMxMmwGefwfXXwx57QOfOMYtVREQk
1goKYMYML0/Ov2I+uT9+DlxZtz1gnWAREWlSuAVpMLO2ZnaZmf3NzF71v481s+xoBpjq8vKgsjKw
rckhM2bwyCMwaBCccw7tG1QwFRGRyFOOjC+fDzp2hNxXH4drroGPPop3SCIirVJYnUMzywU+AB4A
DgHa+t+nAR+YWU7UIkxxtUNmmlVxNDsb/vlP6NaN3JdfprhYd0xFRKJFOTKB3H8/dOkC55/f+M6q
iIhsV7hPDv8E7AwMcc7lOecG++dYHAF0Au6JVoDiDZkZNAj694cVKwKL0YSUkwOLFvHfSy+Nenwi
IilOOTJRdOkC06fDBx/ApEnxjkZEpNUJt3M4HLjBOfdW/Ubn3NvAeOD4SAcmgeqGzDRnkn1urjfM
9Msv4corobo6avGJiKQw5chEcuqpcMYZcOutsHJlvKMREWlVwi1I0x5YE2LbN/7tkqhefRUeeMD7
+f774xuLiEjyUY6Ms0ZTJ6ZNg9/+Fvr0aXKdYBERCRTuk8PlQKjBjOcAnzXnpP5J+qVmtsXM3jez
IdvZ/2wzKzGzTWZWZmaP+ed4SDhGjYKrr/Y6iOociohEWkRzpERAt25w9tkUPWYsWuRYutRbJ7io
KN6BiYgktnCfHE4G5vgn1f8V+BbIBc4ChhI6KTZiZmcC9wNjgTf97/PNbF/n3FdB9j8cKAKuAZ4F
coDpwOPA0eGeN+VNmuQNr7nqKujTB04+Od4RiYgki4jlSImcsjIYfVE1NTXpQPB1gseNG0CnTira
JiJSK6zOoXPuMTNrC9wGPFxv01pgjHPur80459XAbOfcLP/ny83sWOAS4IYg+w8GvnHOTfF/LjWz
B4EHm3HOVm+HE1damnfL9KijYMoUb7iNWSRCExFJaRHOkRIhpaWQkWlsrtjW1uQ6wSIiEvaTQ5xz
M83sYWAvoDPwI7DcOVcT7jHMzAccjHeXtb6XgMNCfO0t4E4zOxF4HuiCdzf2xXDPK35t28Lzz3tL
XahjKCISMZHIkRJZeXlQWRU4e6bJdYJFRCT8ziGAP8kt24HzdQXS8e6m1rcWb+hNsHO+Y2Zn4Q0j
zcaL+WXgvGD7m9koYBRATk4OxUEeuZWXlwdtT0ahrjV90yb6zZxJ6YUXUtWhQ9Dvjhs3AICpU0ui
GWJEpdKfLaTW9abStYKutzWKQI6UCKpdJ3jkSEe220SNMwpv/J7c3D7xDk1EJGGF7Bya2bnAC865
//l/bpJzbk5EI9sWx754Q0hvBxYA3YFJQCHQKC7n3ExgJsAhhxzi8vPzGx2zuLiYYO3JKOS1vvsu
zJ9Pz3XrYMECyMxstEunTt57a/pvlUp/tpBa15tK1wq63kSXKDlSmlZQADNmGOnllfyt7FfkZp2L
V8JARESCaerJ4Wzgl8D//D83xQHhJL4fgGq8ojL15QBlIb5zA7DYOVe7mu1HZrYR+LeZ3eic+yaM
80pDv/wlPPIInHMOXHCBNx8xLdzitSIiKW82kc+REgU+H9C5E7kLF8LOOwdsq6w01q/XMhciIrWa
6hzm4VVcq/15hznnKszsfWAY8Ld6m4YBz4T4Wlu8DmV9tZ/Vm9kRI0Ywa/wqLv7rTdCrF9x9d7wj
EhFpLSKeIyXKajuG774LaWkULR/IsmU7kZbmLXNRWOg9aRQRSWUhO4fOuVXBfo6A+4AiM1uMV2xm
DNADeAjAzOb4z1k7TGceMMvMLmHbsNKpwAfBlr6Q5nm89w3ssvVrfjtnDlxzDXTtGu+QREQSXhRz
pERTVRUUFFBW2YXR372Dc0Z1dfBlLkREUlFYT97MrNrMBobYdrCZNXyyF5Jz7ilgHDAeKAGOAI6r
l1x7+1+1+8/GW/7iMuBj4O/A58Bvwz2nNMGM+/eYBu+9p46hiEgLRDJHSpS1aQN/+Qulq9LIqN4c
sKl2mQsRkVQWbrXSptY9SMebTxE259x0vIXsg23LD9KWcusaxlKNpUOPHlBTAzfdBMcfD0ccQUWF
dzdVczFERJoU0RwpkdWoCO6vfkXemN9Q+VBgs5a5EBHZzpNDM0szs/Taff2f67/aAcPxCs1Ia/fz
zzB3Lpx0EkV3r2bRIli61JuLUVQU7+BERBKLcmTrlTvlOgp73EYWm2mTXkN2tjfnUDdCRSTVhewc
mtktQCVQgXfX8y3/5/qvDcAEAovLSGvVsSP861+Upfdk9I2dqakhYC5GWah6siIiKUY5spXLyqJg
3hnc1O1BDuxfw4oVKkYjIgJNDyst9r8bXnL7C9Bw2YitwKfA8xGPTGKi0dDRvDxKJ/2djPMr2Ex2
3X61czF0V1VEBFCObP1+8Qv+3qMfnTq2IbdbNd4I4G1ql91sNCxVRCSJNVWtdCGwEMDMHDDLObcm
VoFJ9BUVwaJFYBZYxjvv2L2o9FV798P9NBdDRGQb5cjk0X/dv2HvC+Cll5ToRCTlhVWt1Dl3q5Je
cikr84aKBhs6mpsLhQ+nk5bmSE9HczFERJqgHNm6fZfVG77/HkaM8Ja6EBFJYeFWK8XMdgF+D+wF
ZDXY7JxzF0YyMImu0lLIyPA6hbXqDx0tKIAZM4zNm2H+Rc+Q+94bcM5U7zGjiIgEUI5svdZm9YGH
HoLf/x7uuAMmTox3SCIicRNW59DM9gLe8e/fDq/yWme8Afo/AeujFaBER14eVFYGtjUcOurzea/c
rxbDAw9A585wyy3bPbbmaYhIKlGOTAJnnQUvvgi33w7DhsHhh8c7IhGRuAhrWCkwCVgC5OBNvh8O
ZAMXAZuAU6ISnURNbq43VDQtje0PHb37bjjvPO9u6kMPBdlBRCSlKUe2UlOnlmy7kTltGvTtC08/
DXg3TNevV6VuEUkt4Q4rPRQYg1d5DSDNOVcFPGJm3YCpwJFRiE+iyBs66g0tnT+/iTmFZjBrFvzv
fzB2LHTtCqefHtNYRUQSmHJkMthpJ3jnHejWLWTBNhGRZBfuk8P2wI/OuRq84TFd621bgpcYpRXy
+bzlDbdbbCYjA556Cg47DD75JCaxiYi0EsqRyWKXXShba4weVaO1fkUkJYX75HAlUNt9WA78DviX
//MJwLrIhiUJqW1bePVVyMwkPx/M1fD6wnDvL4iIJK2VKEcmjdJSyKjazGba1bU1XOtXc+tFJFmF
+y/7l4Fh/p/vA843s+Vm9glwJfBINIKT+CouDpL4MjMB2PPn93nkvQPg889jHZaISKJRjkwieXlQ
2SY7oE1r/YpIqgj3yeENQCaAc+5pM9sMnAm0Be4HZkUnPElUm9I70KnyOxg6FN56C3r1qttWUeEN
w6ldMzEcugsrIq2YcmQSyc2FwplpXHBeFe1cORVt2lJY6NNavyKSEsJ6cuic2+qc21Dv8zzn3DnO
uVOdczOdcy56IUoi+qbtnvyh/wKvlNuwYfDddwB1k/iXLvUm8RcVxTlQEZEoU45MPgUFcOgv2zC+
8wxWVPWhoFdxvEMSEYkJTRhLcUGHjobpvx0OghdegK++gmOPpezzDYwejSbxi4hIq+fzwcv7Xknu
xDEwaFC8wxERiYmQw0rN7LVmHMc5546OQDzS2hxxBDzzDMyaRemaTDIyvE5hrYaT+EVEkoFyZGrY
mt4WbrnF+1Be7i0KnJ7eoukTIiKtQVNPDtPwFvMN56UnkCkmYHHg4cNh7lzy9s6kssI12k+T+EUk
CSlHppKffoKDD4Y77tD0CRFJaiGfHDrn8mMYh7QioRYHzt15K4W73M7FX91MVboPn88oLNRdVRFJ
PsqRKaZTJxg0iLKJDzE6czw1NenAtukTw4Yp14lIctDdTGmWsjJCzyvMzKTg0p1YSR/u7PQnVnzp
KCgI77gBTyJFREQSiRlMn05p71+TUbExYFPt9AkRkWQQ1lIWZvar7e3jnHtjx8ORRFdaStPzCq+9
llemrePar6+He7+HSZO8pNqEUE8iRURaA+XI5NSoWFv79uT93wQqjw78p5OmT4hIMgl3ncNiYHul
uNN3LBRpDfLyoLIysK1hYnw4749k15Rz2r33Qo8ecPXVIY9X/0kkaIiOiLRKxShHpoTco/alcORr
XDz7MKrTfWT40jR9QkSSSridwyODtHUBTgB+DVwWsYgkoeXmek/2Ro70nvT5fDROjGZM220qp124
M/zud00eb7tPIkVEEp9yZAopeORICj+rZuOWNObPV64SkeQSVufQObcwxKa5ZjYFOBGYH7GoJKEV
FMCMGV6HLlRidJYGt97qfaiuhoUL4aijGu0XzpNIEZFEphyZYsxok9mGXmn/I/e6q+Gee9RDFJGk
EYmCNC8AZ0TgONKK+HzQsWOY+XD6dDj6aHjkkUabap9EpqVBerq3hJSG6IhIElGOTFJdKr6Fv/0N
zjwTqqriHY6ISEREonO4F1ATgeNIkigubjCRf9Qo+M1v4KKL4IknGu1fUACDBkH//rBihYrRiEhS
UY5MUqXt9oeZM+GNN+DGG+MdjohIRIRbrfTcIM0+YH/gQmBuJIOSJJOZCXPnwnHHeT2/rCw45ZSA
XXw+7xXqiWF+vvfeqHrcdrT0eyIi4VKOTGHnnANvv+1V5h48uC63KfeISGsVbkGa2SHatwJPAVdG
JBpJXm3bwrx5cMwxcMEFcOSR3qLCIiKt3+wQ7cqRqWDKFHjvPbjpJjjpJG+OhIhIKxVu5zBYeZAt
zrm1kQxGklyHDl4Fm2XL1DEUkWSiHJliAp4I1o6O8fnC6hjqqaKIJLJwq5WuinYg0rq0OKl16uQN
vQF4+GFv1fsgVUxFRFoL5Uhh112996oqeOYZcGd46z2JiLQy4T45BMDMjgQGAz2B1cA7zrnXoxGY
JLmKCnjgAfjyS+9pIr+Kd0QiIjtEOVIoKoILLuCEPdbzfI9R8Y5GRKTZwi1I0xn4G95CvzXAT8DO
3iZ7HTjDOfdj1KKU5OPzwSuveONrjjuO/fZ4iU86HhbvqEREmk05Uuqcdx48/TRXLLicL9ofBBwa
74hERJol3KUsHsD7DXcOkO2c6wZkA+f62++PTniS1HbZBV59FXr25M9fHkvxnxbHOyIRkZZQjhRP
Who89hifZRzASR/fQdnS7+MdkYhIs4TbOTwRuME591fnXCWAc67SOfc4MB44qTknNbOxZlZqZlvM
7H0zG9LEvrPNzAV5bWzOOSUx5Odvm4wPQPfu8NprXkfx7bdDfq+iAtavh7Ky5p2vpd8TEWmGiOZI
ad2KXuzCLyoXcXblHPoN2ImiosDtyksiksjC7RxWA1+E2Lbcvz0sZnYm3l3UO4GDgLeB+WbWO8RX
rgS6N3itAJ4O95yS4Hr2hJISGDfO+1xREbC5qAgWLYKlS736NQ0TbSgt/Z6ISDNFLEdK61ZWBqNH
Q7VLYwMd2VyTyejR2zqCyksikujC7Rz+EzgzxLazgGebcc6rgdnOuVnOuWXOucuBb4FLgu3snFvv
nCurfQG7Af2AWc04pyS69u299yVLYI89YLE3xLQ20dbUQHU1bN5MQKINpaXfExFpgUjmSGnFSksh
IyOwzeeD0n9/o7wkIq1CuJ3DecBQM3vBzEaa2XD/+4vA0cBzZnZU7SvUQczMBxwMvNRg00tAuNVI
LgY+cc6FHoMorVdODrRpA8OGweLFoRNtadOHaen3RERaICI5Ulq/vDyorAxsq9hURd6Iwyh9bqny
kogkvHCXsvi7/70XMDzI9mf87wY4INQqsF392xouDLwWGLq9IMysI3AGcEMT+4wCRgHk5ORQHGRB
vvLy8qDtySjRrnXdugEAFBeXhNwn8667GHDVVWQcdRQbxk9j69YC6v+V2rKlmm+/XURxcUWj79Ze
748/+ti6dVDY32utEu3PN5pS6VpB19vKRCpHSiuXmwuFhTBypLfMoc8HhfduIXdyBtx8DpUVH1L/
vnxFhdehFBFJFOF2Do+MahThOwfvt2rIUfrOuZnATIBDDjnE5QdUP/EUFxcTrD0ZJdq1durkvW83
psGDIT+f39x1JbMmDmXkTbtuS7SF6Zx6avAHzfWvd9asBgm6ie+1Von25xtNqXStoOttZSKaI81s
LPAHvDn2nwDjnHP/bmJ/H17hmwKgB94N18nOuQciGZeEp6AAZszwho3Onw+5ue3hiGfJHTyYwp63
M7J0Ambmz0teh7JW7f8Crfc+iYi0dmF1Dp1zCyN0vh/wJubnNGjPAcIZdX8x8IzWi2q9Kiq8hFlW
FpgQG+nVy8uOkyZRcPUuzHiufqIN71yNE3QkrkBEJFAEc2T9om1jgTf97/PNbF/n3FchvvYksCve
qJkv8HJqdqRikubz+bxXXd7p3x8efZSC00+Hbhu4r+e9yksikpDCfXII1C30OxjoDPwIvNOcjppz
rsLM3geG4S0YXGsY24bdhDr3QOBAYFxzYpbEUVulzcyr0lZY6HXgQurVCx7wbnzvwnfk2Cpycxsv
KNzUndZGCVpEJEp2NEf61RVt83++3MyOxSva1mhKhZkdgzevcTfn3A/+5pUtCF+i7bTT4LbbKH1i
Dzp2VF4SkcQUbkEazOwOYDXwHPAo3gT81WZ2ezPPeR8w0swuMrN9zOx+vGEwD/nPM8fM5gT53ijg
C+dccTPPJwlgR6u0Xf3FGKZ8dBS88UZ0AxURaYFI5MgWFm07GVgCXG1m35jZF2b2gJm1b+41SAzc
fDOv7XKW93N5eXxjEREJIqzOoZmNA24EHgOOAvbBm2PxGHCjmV0R7gmdc0/hPf0bD5QARwDHOedW
+Xfp7X/VP38HvHLgD4d7HkksO1o9dOruf+b7zF1h+HB49dXIBygi0kIRzJFNFW0L9ZypH14ePRA4
DbgMOBaYHf4VSKwN+X4u7LYbfPZZvEMREQkQ7rDSMcD9zrmr6rUtBxaaWTnenIiwJ74756YD00Ns
yw/S9jOgu6CtWNDy3s2o0vZjZnfGHVjMP34eCiecAM8+C7/5TeQDFRFpvojmyGZKw6uAerZzbj2A
mV0GLDCzHOdcQEdzexW9W3nV2GaL1vVOnOi9Bzv0unUDeN/tTkVFBVVDh/LB9OlU7bQTAN9/fxAV
FWnMnbuUzp0jX1k7lf58U+laQdebzGJ9reF2DvsCL4TY9gIhFrAXqRW0vHdh8+Zc/OTLgddf99ZA
vPZaGDoU0lURXkTiri+RyZEtKdr2LbC6tmPot8z/3psGTyG3V9G7lVeNbbZ4XG+nTrCJTvhmPY/v
qKM4YupUWLCAoicz+OwzL0eec85h25+X3wKp9OebStcKut5kFutrDXfO4f+A/UNs28+/XaRJBQUw
aJBXtG3FihYmva5d4bXXvPKjUewY5udvK3QjIrIdEcmRzrkKoLZoW33DgLdDfO0toEeDOYZ7+t9X
Bdlf4qy42P9E8fDD4eGH4fXXKbvgRkaPdi2ely8iEinhPjn8B3C7mf0PeMI5V2VmbYDfAbfhTb4X
2a6WVg8NeJq+887eq6oKRo7kqO9O2DbBv6nviYhERyRz5H1AkZktxuv4jaFB0TYA59y5/v3/CtwM
/J+ZTQQ64S2F8Xfn3Hc7emESZQUFsGwZpWv6kJHhdQpr1c7LV1VTEYmlcDuHN+BNdn8UeMTMfsQr
1Z2Otw7TjdEJT6QJW7fC119z4bKr+XbjTpSVHRfviEQkNUUsRzrnnjKzLnhF27oDH9O4aFv9/cvN
bCjwIF7V0p+AZ4Hrd+iKJHb++Efy1hqVTwc2N2devohIpITVOXTO/WxmvwKOB4awbQ2nhcB855yL
XogiIbRrR1HBAi5+AzK/2sKjvasYd80uGg4qIjEV6RzZgqJty4Fjmhm2JAozb17+9aWMuiWX6jQf
bTLTmz0vX0QkEsJ9cog/uT3vf4nEXVkZjL4ii63AVrKgEqb8aXeuuCK8hFrbidTQUxHZUcqRsqMK
zm/DwXcM4kvbnUMXFZLbv1u8QxKRFNRkQRozG2lmJWZW7l9c917/Ir0icRds7cQ2GS7stRNFRHaE
cqREVK9e3L//XxhW9S9yLzweNm2Kd0QikoJCdg7N7GzgEaAtXinuNcBVwJ2xCU2kacHWTqx0bbw5
Gq+9BjU1cYlLRJKfcqREw/KdDuX2fZ6A996Ds8/2SpeiCtoiEjtNPTm8Eq8C2z7OuTOdcwOBW4FL
zUyLy0mL1JXwjoDatRPT0rxVLbKz4eqrl5O74m04+mi4+OK6xNpcFRWwfr3KiItISMqREhVvdf0t
3H8/OOclIxGRGGqqc7gnMMs5V/9f19OBTBpUSxOJl4ZrJx5zzHcweDBMmACPPAIjRjR+vLgdRUWw
aBEsXQr9+nmfRUQaUI6U6Ln8cvjHP7y7ni28ySki0hJNdQ474lVbq6/2887RCUek+Xw+6NixXhEa
M7j1Vpg0CZ56Ck45Jey5G2Vl3sLDWohYRLZDOVKiKy0N1q6FQYM4/Id/xjsaEUkRTRakAdLMrO6F
t2ZTo3b/NpHEcs013rjT+fNhwYKwvhKsyE3tQsQiIg0oR0pENZp60aEDpKVx87Lfs/eGxXGKSkRS
yfYS1ltAZb3XZn/7ogbtGhQviWnUKPjkE+/pIQQUqQk2rzBYkRstRCwiIShHSnS1bQvz5vGTL4e7
Pj4Bvvgi3hGJSJJrap3DW2MWhUg07b239/7mm3DppfDPf1L0774sWuSNQO3Xz3vAWFCwrcjNyJHe
Np8PLUQsIsEoR0ps5ORw+d4vM3rpZfQ/egS5i59TUhKRqAnZOXTOKfFJcklPh6+/puyXJzN63QfU
1HgPzmvnFQ4b5uXbggKYMcNrnz9fOVhEGlOOlFgpKoJ/fLQ783ie9G+qKHxyIwXj4h2ViCQrzYOQ
1DF4MLzxBqVVvcio+DlgU8N5hY2K3NSj9aZERCQW6hdJq6hpw2aXxegbu1C2ulrLXIhIVKhzKK1e
s9ZO3H9/8l6YRiW+gGbNKxQRkUQTtEhahqP03Alw/vkB8+hFRCJBnUNJObmD+lB4/1Z8VkF6uiM7
W/MKRUQk8QQtklZp5P0yF/76V/jDH+ITmIgkLXUOJSUVXN6Jg3/po39/Y8WbayjYPDPeIYmIiASo
LZKWluZNm6+7mXnHZXDFFXDffXDvvfEOU0SSSFPVSkWSms/nvXKfmAKTJ8OKFXDXXV6ZUhERkQQQ
vEiawZQp3qTEa67xGkeMiHeoIpIE1DkUuftuKC+He+6Bb7+Fhx8GMrb7NRERkViou5lZf/pDWhrM
mcMbr1Xy9OS+TFPfUEQiIOzOoZn1BP4f8CugM3CSc+5jMxsHvOOcWxSlGEWiKz0dpk+HHj1gwgT4
/nuKX/gbtGsX78hEpJVQjpS4yMxkwn5zt30uK9MEehHZIWHNOTSz/YClQAGwBugDdeUe+wBXRiU6
kVgxg5tv9iZzlJU1rgBQT0UFrF/v7SYiohwpCeHhh2HPPeG99+IdiYi0YuEWpLkXWAbkAacC9Sdl
vQ38MsJxicTHqFGweDF06uRN8Fi1KmBzUREsWgRLl0K/ft7neNO6iyJxpxwp8Td8OHTpAsceC59+
Gu9oRKSVCrdzeARwt3OuHHANtq0FNIZBkkcb/2jrsWNh4MC6u7D1FyOurvb6jqNH6wmiiChHSgLo
2RNeecVbGHHYMG+RRBGRZgq3c9jUKqtdgc0RiEUksVx3nVc3/Ne/hhdfDL4YsU/5V0SUIyW6iou9
13btthu89JJ393LYMH4zZFPIkSUadSIiwYTbOVwMnB9i2xnAW5EJRyR2tpts994b3n3Xez/pJPLe
eqzxYsQV3iLFIpLSlCMlbhrNg+/f31vz4vrr2ZreNq6xiUjrE27n8HbgRDN7CW/CvQOGmtmjwCnA
H6MUn0h85ebCwoUwbBi5d4+j8N7yxosRa8CYSKpTjpS4CDkPftAguOgiAPbesBh+/jl+QYpIqxJW
59A5txA4GW+y/SN4k+3vBoYAJ6tEtyS19u3huefgrbcouKQ9gwY6BuxfxYoV3uLEIpLalCMlHsKZ
B9++8icmfzQMjjsONhZGID0AACAASURBVG6MX7Ai0mqE++QQ59wLzrk9gD3xJt/v45zr55ybH7Xo
RBJFRgbstRcAF397Gw+tGk5u9vo4ByUiiUI5UmItnHnw5Rk7M3nPWfD223DSSaRt3RrbIEWk1Ql3
ncMJZtYDwDn3X+fc28655f5t3c1sQjSDFEkka7P6MGB9MRx+eKOlLkQk9ShHSjzk5TVekjfYPPji
Xc6AOXPg9dfZf/x42LIldkGKSKsT7pPDW4BdQ2zr4d8eNjMba2alZrbFzN43syHb2d9nZrf5v7PV
zL4ysyuac06RSPlX7kiu7f8v+OYbb17HkiVxjadRMQIRibWI5kiRcOTmevPem5oHX5cfjh4Bf/kL
nd97D2bMCNym3CEi9YTbObQmtu0MhD1OwczOBO4H7gQOwlsgeL6Z9W7ia08CxwKjgL2A3wEfhXtO
kUj7YOejvWE62dkwdCj8+GNc4njppV2CFyMQkViKWI4UaY6CAu8eZf/+NJoH36hYTZvzKbnvPrji
iv/P3n2HR1mlfRz/3ikTQFTEkoA1WFCUVRTFbixY176ubXGxgbq21S3q4mvXtSFWDHaxrm1XXVmx
xbaCYgP7irEhERUBUSAhud8/zgQmYWYySWYyyczvc11zkXmeZ+Y5h2Ry57T7JE5kIyJ5ryjRCTOr
AHaJOTTSzH7d7LLuwD7A+6245xnAne5+S/T5KWa2J3AicHaccuwO7Aqs6+7fRw9/3or7iWTGgAFh
q4tJk6B37w6/fU0NjB7dn4boDmuNyQiGDlUGVZFMy2CMFGmVSCQ8Yn/vxyargaXx4Z57hlD2XSEj
RzTQ0FDQ5Fzz2NG4B2JK+yuKSM5I2DgEdgJGRb924u/hVAt8AKQ0xdPMIsAWwFXNTk0Etk3wsgOA
N4AzzOwowmbCE4Bz3H1+KvcVyZjSUth///D1I4/ACy/AmDFQlOyjlR7V1VBU5MTmF2hMRqDGoUjG
pT1GiqRLY7KaBQuWHotEYObMbuGc1bGAkibnFDtEBJI0Dt39AuACADNrALZ299fbeb9VgELg22bH
vwV2S/CafoTMb4uAg4FewPWEdRy/aWd5RFotYS/q1Klw441hbs8DD8AKK2S0HOXlsHhx09ls8ZIR
iEj6ZShGiqRFomQ1ffosDOdiGobhnFNenmx2tIjki5SGN9w95S0vMqCA0Ct7hLvPBTCzk4GnzazU
3Zs0NM1sBGFtIqWlpVTF+Ut+/vz5cY/nonyqK2S5vjvvTJ+ff2b9MWNYsOmmTLv0Uhb26dPkktNP
3wyAMWPeScstTzppRcaM2Qwzp7jYOf30j/noo1l89FFa3r5T0c9ybuvK9c1yjBRZRmOymuHDwSyM
DFZWQu/etU3OlfhC8AYqf3UHZauMJMU/C0Ukh7X6t4CZrQZ0a37c3b9M4eXfA/VAabPjpUCifFkz
gRmNDcOoD6P/rkWzUUh3HweMAxg8eLBXNE6aj1FVVUW847kon+oKnaC+FRWw994sd/DBbH3qqWE0
MaaB2KtX42UVabphFZMmGQsWGBMmQFnZAGBAmt67c8n697aDqb5dUztjpEjaDBsWEpMuWEA0Piyd
+bL0XDcm7HMDZU/eCvOPXBqkRCRvpdQ4NLMC4GJgJGFaZzyFLb2Pu9ea2ZvAUOChmFNDgUcSvOxV
4BAz6xmzxnCD6L/aZE46n112CWngHn64ScMwU+IlIxCRjpOuGCnSFskG3JPFhyXnLj4ZRh0H3brB
okVhb4zi4qT3VLIakdyV6lSY04E/AFcTUnZfSgiE1cB04PhW3HM0MNzMjjOzjczsWsL6wZsBzOxu
M7s75vr7gB+AO8xsYzPbjrAVxsPuPqsV9xXpOBtsAOecE75+910477ylaeNEJNekM0aKdLxu3UKM
OuQQOPRQqK3VPogieSrVxuHRwIXA5dHnj7n7ecBGwAzC9M6UuPuDhEA6CniHkGxmb3dvHAVcK/b9
oqOFuwErErKW/gN4ETgm1XuKZNUjj8CFF8JvfkO3+p+zXRoRSb+0xUiRrCkoCPv2PvYY47e+kcmT
vU37IFZULB1ZFJGuJ9XGYT9girvXA4sJezfh7nXAGFrZUHP3m9x9HXcvcfct3P2lmHMV7l7R7PqP
3X13d+/h7qu7+x/c/afW3FMkay64IGxv8a9/cf0727Pqwq+yXSIRSa+0xkiRrDn1VGouvZ2Rb4+k
ocGor1+6D6JGEEXyQ6qNw7ksXWD/DdA/5lwR0PE7gIt0FWZw2mnw5JP0XTCdyre2hE8+WeYy9baK
dFmKkZIzqiuOprhb0yWyjfsgikjuSzVb6duEFIhPRx8XmNkCQg/pJcBbmSmeSA7Zay+GbzKFIV89
zO+6l6P8MSI5QzFSOqVkCWMSnSsvhzprvg+i9tAVyRepjhyOAX6Jfn0eYduJe4EHgWLg5PQXTSS3
jB8Pj07bgLPmnkO//sWMv3EunH8+LF7crvetqlLGOJEsU4yUnNG4D2JBARQWQvfuUHnYC5QVfb/k
GiWrEcldKY0cuvszMV/XmNlWwLpAD+DD6LoKkbyXKL13TU1Ys9GYsHTBAhj5x+UYWnczZa++Cg8+
iGaeiXRNipGSa5rskTjuK8p23Bsm94Nnn2X8s32YPDmsmOjXLzQkhw3LdolFJF1SGjk0s6PMbOXG
5x586u5TgeXN7KiMlVAkB1RXL7ttVKRHEdV/uw1eegm22op1fn4/O4UTkXZRjJRcFInAiitC2ZZr
woQJ8OWX1GxzICNHNNDQQMJkNRpVFOnaUp1WegehFzSe8uh5EUmgvBzqmo0d1NZC+cn7hGHGn3/m
pre3ZuCcl7NSPhFpF8VIyW0VFfDss1T/sALFi+Y3ORWbrGb8eJg8mTZtgSEinUOqjUNLcm45wqJ7
EUkg7hqOynCcbbaBKVN4faU9+WK5Adkuqoi0nmKk5L4hQyj/5zXUedNpMI3JamKXT2gLDJGuK+Ga
QzPbDNg85tC+ZrZJs8u6A4cB/8tA2URySpM1HBOiDcNGq6/O+Rs/FL6urQ17I/75z9CrV1bKKiLJ
KUZKPirbdWMqKxcw/MSw5jBS7FRWGmVl8NprYfnEggVLr28cVSxTem6RLiNZQpr9CVnXABz4W4Lr
fgCOTWehRHJVJBIe8QJlbW0IqjVPTqHsiivgoYfgn/+EARpNFOmEFCMlLw0b0Z2xd0Lf79/lhppD
KFv+CuCAxMsntAWGSJeSbFrpGMJaiX6EKTMHRZ/HPvoCq7n74xkup0hOa7JO43fbMv4v08KK/iFD
4NFHs108EVmWYqTktGTbJEUiULvqGpQN6A0HHwy33ZZ8+YSIdBkJRw7dfS4wF8DMyoFvlI5bJP3i
bnNxzYYMfeVtyk48MATeMWPgtNOyW1ARWUIxUvLdvOKVYeJzIUYddxzMmsWws85i7FiLv3xCRLqE
VPc5/KLxazMrIUyRGQB8A9zp7t9kpngiXcuSqaE1qQfFxm0ullmnsagvZS+9BGeeCbvskpkCi0i7
KUZK3lpuOXj8cTj6aDjnHBgwgEhk/4TLJ5JJtE9wpl4nIvElnFZqZhea2fvNjpUAk4HrgZOAi4G3
o72mInmtrSm8k67TKCmBG26AgQPDiXPPhTffTGu5RaT1FCNFoiKREPDuvRf23TfbpRGRdkq25nA3
4Klmx/4A/Aq4ElgR2BqoA0ZlpHQiXUR7UninvE7j++/hrrtgu+3g1lszUg8RSZlipEijggI44ggo
KKBsQTXnfDgM5s3LdqlEpA2SNQ7XBV5vduwAYCZwtrv/5O6vE4Lgrhkqn0iX0Dg1NFbsxsAtGTYs
5J4ZOBA++yw8X8Yqq8Bbb8GOO8Lxx8Oxx1KwaFG7yy4ibaIYKXkrWbKa/vPfZJfvHgixasaMjiyW
iKRBssbhisC3jU/MLAJsBbzg7h5z3btAn8wUT6RrSDWFd0vZ31ZcsYV1GqusElb5jxoFt9/OwLPO
giYfx9RUVCxdpyEibaIYKRLHi6v+hrM2+TdMnw5bbw3vvZftIolIKyRrHM4A1ol5PgSIAP9tdl0x
8HN6iyXStWQ6hXeTxlxhIVx0ETz+OF8ffHDYiVhEOppipEgcVVVw1dTd4eWXw1qL7bbTWnmRLiRZ
4/Bl4HQz62VmBpwKNAD/bnbdZsDXGSqfSJeR0tTQdNp3X37Yfvvw9Q03hNHE+vp2v61GFUVSohgp
ksxmm8GkSbDfftC/f4uX19aG7X1TWaufjteJSHzJGocXEHpFvwXmAAcD42JTdkcdBrySkdKJdDEp
TQ3NhA8+gEsugaFDl0RINfJEMkoxUqQla64ZMpn27Anz58Mtt8RdCtHWbN9tfZ2IJJawceju1YQe
z8uBu4Hfu/tJsdeYWRlhCs0dmSykiLTgppvgzjtDL+2gQdrwSSTDFCNFWunWW2HECP7d9/gw3BfV
1mzf7ckSLiKJFSU76e5fAv+X5HwNcEq6CyUibfD738Pmm8Mhh8DQoZRu8Snfdls726USyVmKkSKt
cNppjL/me4Z9eQns+Rk8/DD07r0k2/eCBUsvbcz23TgLJ95G96m8TkRaL9m0UhHpQMkymaZs4EB4
4w144IGlDUNtdyEiItlmxm3lF3PJhnfDq6+GTKb/+1/K2b6ba+vrRCQ5NQ5Fcs3yy8PBBwOw2Y8v
wPrrw0svZblQIiIi8EzpMHjuuTDMV1zc5mzfmc4SLpKv1DgUyWE/FfeGbt1g553h4ouXZDNVdjcR
Ecma7beHqVNhnXWgoYFhZc+0Kdt3h2cJF8kDahyKdAFtbcxN77lp2F/qsMPg3HNhjz0Yf/2cdmV3
UxZUERFpt4Lon6B33w27785pX/2JlVaob/XIX9ayhIvkKDUORdIoLesGm2l3qu7ll4d77oFbb6Xm
1emMPHO5pNndNKookl1mdpKZVZvZQjN708x2SPF125vZYjN7L9NlFGmLuPHld7+DU07h0K+v5uL3
DoB587JWPhFR41CkU2tPqu4mQdgMjj2W6vGvUNy9aZLixuxuoD2jRLLNzA4FrgUuBQYRtsKYYGZr
tfC6lQhbajyX8UKKtEHC+FJUBNddxzXr3ciQ2RNCoppPPmnyWnVainSchFtZmNnzrXgfd/dd01Ae
EYnR1lTdjUHYLAThysqwFqN8+9WXze62qIHy8oImDVFY2hAdOlTTdUSay2CMPAO4091viT4/xcz2
BE4Ezk7yutuAuwADftOKsolkXCrx5V+rn8QXPTZizHdHwqxZsMEGQOJ4JiKZkWzksIAQZBofGwIV
wDpA9+i/FUD/6HkRSbO2pOpONtoYm92tpKCW7vxCpZ1A2Uv/WNIQjRU7qigiTaQ9RppZBNgCmNjs
1ERg2ySvOwkoBS5OufQiHSjV+PLOSjvD9OkhYQ1Q86/JjBzp2uhepAMlHDl094rGr83sAMI0l23c
fXLM8SHAg9FzIpJmjY254cNDr2kk0nKq7pZGG4cNg7FjYcGCCBNunknZaVPh0FsoP3wSdXVXE/t3
rPaMEokvQzFyFaAQ+LbZ8W+B3eK9wMwGAucBW7t7vVnydqiZjQBGAJSWllLVbJH0/PnzlzmWy1Tf
jjF7doRFi4YQfryDhQvrmTlzMlVVtQCcf344XhX9BK3w/vssOvkeigqfAXoueV1BwWIeeWQqG288
r+nrqpreU9/b3JZP9e3ouiZsHDZzEXBubNADcPfJZnY+obfyX2kum4gQ25iDCRNanuKZymhjJBIe
ZUPWhpdfhvPOo2zGDCorrVUNUREBshQjzayE0Pj8k7unNMbv7uOAcQCDBw/2imaph6uqqmh+LJep
vh3nlluad3QWctBBCQfEYaedqJlRz+LLmk5ya2go4uCDN28xNul7m9vyqb4dXddUG4frA98lODcL
WC89xRGReJY05lJoqLV6tLG4GC69FNwZZvDk1R+z+vfv8Jc3fktZn2VHIWprQ0O1cZqqiKQtRn4P
1BOmiMYqBeJNpOsDbATcYWZ3RI8VAGZmi4G93b35FFWRrGhtRydmlF16KpUL32bkNf0ppo66kp5U
VhYq9ohkUKrZSquBkQnOjQQ+b81NW5Om28wqzMzjPDZszT1F8kmbNgaOTkc76IdbGD3jMMqO3gtm
zmxyibKZisSVlhjp7rXAm8DQZqeGErKWNjcDGAhsFvO4Gfg0+nW814hkTVv2JBw2ehB7b/YNd5Sc
wGeXPKBkNCIZlurI4QXAvdG9kx4mrH8oJWRE2xA4MtUbxqTpPgl4JfrvBDMb4O5fJnnpxsDsmOeJ
emlFhNaNNsYa2+9KZnRflzNeOhN+9Su49VbYf39lMxVJLG0xEhgNjDez14FXgROAvoRGH2Z2N4C7
H+XudUCTPQ3NbBawyN2116HkjO9XXI+bt7qDg87sFg68+CJstlloaYpIWqU0cujuDwB7AHMJqbRv
jP47B9jD3R9sxT2XpOl29w/d/RRgJiFNdzKz3L0m5lHfinuKSKrMeLzvifDmm7DmmnDAAfDww8pm
KpJAOmNk9NrTgVHAO8D2hOmhX0QvWSv6EMkrtQXRhuHcubD//rDllvCe+kBE0i3VaaW4+7Puvh0h
RXcZ0N3dt3f3lDfcbWua7qgpZjbTzJ4zs51TvaeItNFGG8GkSTB6NOy7bzTRjTe5RNlMRYJ0xMiY
97rJ3ddx9xJ338LdX4o5VxGbKTXOa893903aUgeRLmHFFeGJJ+Cnn8L6ifvuy3aJRHJKqtNKY/Ug
BL9CoKGVr211mm6Wjiq+AUSAYcBzZraTu7/c/OKW0nSD0t/mslyt75w5mwFQVfVOk+PJ6pvoNZA4
9Xfc1w0aBK+9RuH8+VxXMpGTFlxNfUEhxcXO6ad/zEcfzeKjj1pdpVbL1e9tIqpvl9WeGCkiqdhh
B3jrLTj0UDjyyNCRee21S9bOi0jbpdw4NLNfAxcCm0YPbQm8ZWa3As+7e0a6btz9Y+DjmEOvmdk6
wJ+BZRqHLaXpBqW/zWW5Wt93lrTvKpocT1bfXr2ir2jl/0fC182dyw573MOvH1yTZ7vtx27Pnk3Z
NgOAAa16/7bK1e9tIqpv15KtGCnSlaS1/6dPH3juOTjrrDCNRQ1DkbRIaVppdIPffxHSbP+V2F2y
Q5a236d4v9am6U5kMiF1uIikWVVVggC+4opw//3cuuHV7F/7EGVDB4Y9MtzjXCySP9IYI0UkjoRx
qbgYrr4arrsuPJ8yBR57rANLJpJ7Ul1zeB5wh7vvDoxpdu49IKX1DW1I053IZoTppiLSkcx4tvRI
jhk8DbbZBv7xDzUORdIUI0WkjRpHDa+4Ag46CE4/HaurA6CiIjxEJDWpTivdCPhL9Ovmfwn+CKzc
inumnKY7+vx0wh5R7xPWHP4OOAA4uBX3FMk7mVy+9V3JGvD00yEhQEEBzJgBr70Gv/lN5m4q0nml
M0aKSFvdcw/07QvXXsug//wHnnoK6Bf30sYGY24sdRZJn1RHDucRksnEsw6t2HOwDWm6I8CVwFTC
GsPtgX3c/dFU7ykiGVBQsHSPqdGj4ZBDQmKAH39s9VupZ1e6uLTFSBFph0gExoyBRx+lx9dfw+ab
U/6ztrsQaY1UG4fPAGebWa+YY25mJcDJwITW3LQ1abrd/Qp3X9/du7t7b3ffwd2fas39RCTDLr8c
LrwwTDPdZJNob61I3khrjBSRdjrwQKbccgscdRRf9Ngo26UR6VJSbRz+jbBv08fArYRpM2cRRv7W
AM7PROFEpIsoKoJzz4XJk6F3b9hnH7j99iaXaHRQcphipEgns7BPH7juOhqskJVqv4XddoP3NIoo
0pKUGofu/jmwOfAkIXlMPbAjMAkY4u7fZKqAItKFbL55yBZ38cVw4IHh2IIF2S2TSIYpRop0bqUL
vwgNw8GD4cYblUhNJImU9zl096+BYzNYFhHpAlpcvF9SAn/7W/i6rg622w622orui69kQdHymS5e
RimBgSSiGCnSOdXWwmTfippn36PsL0fBySfD00+zYt3tzC1OtFRYJH+lus/h82a2YYJzG5jZ8+kt
lojkhIaGMJVn3DjumDKQzX98LtslEkk7xUiRzmn8+LDaYdo06LfVKow/9Em45hp4+ml+87/LmDsX
alqzy7ZIHkh1zWEFsEKCc8sDO6WlNCKSW0pKwr5Tr7xCXUGE0VN3g5Ej4eefs10ykXSqQDFSpFOZ
PTvCyJGhj7K+PqxwGHliATWHnc74cz9h+A9XhUZjeQPjb6vNdnFFOo1UG4ew7N5NjdYF5qehLCLS
xSVMOrPtthy7xbvcv8afQzducXGT07W1qAdXujrFSJFOZObMbs1DDZFIWBY/8tK1aWiw0GhcWMDI
4+upefrd7BRUpJNJuObQzI4Gjo4+dWCcmf3U7LLuwCaA5oqJSFK1hd2pXPcKDn/6ohCh582D885j
/AYXMXlyT8ygXz+orIRhw7JdWpHkFCNFOrc+fRZSV9f0WG10gLC4uGmutAh1VO9zMmUX7Al//WvI
wC2Sp5KNHDYQMq7VA9bseePjB2AsWoQvIi1YMjr4Y0k48OKL1Fz/ECNPKmw67Wdk0xFEbYEhnZRi
pEgn1rt3LZWVUFAAhYXQvXvofBw8mGUbjSXLU773RjBqFOy0E3yjBMOSvxJ2jbj7XcBdAGb2AnCi
u3/UUQUTkdzRmBSg6ejgvlTf1p/iYxazoGHptZEIVFdDWVn2yivSEsVIkc5v2DAYOzZ0PE6YsDSu
VFbC8OEhJkUiUFlplP2uEu6vgOuug169sllskaxKdZ/DnRX0RKQtampYNilAdHSwfI8NqCvp2eT6
2looL89SYUXaQDFSpPOKRGDFFZt2OA4bBkOGwMCB8Nln0aUMZnDEEfDaa9CjR0icduyx8OWXWSu7
SDYkW3N4FPBvd/8h+nVS7n53WksmIjmhujrO+o7o6OA224Qe2+HDodDqKSo2KisLKFv8NXy6ENZb
L2vljqe2NtSjpkYjm/lOMVKka4tEwmOZ3+Vm4d+33oIHH4SHHoKrr4bjjlt6TiSHJVtxeyewNWHN
xJ0tvI8DCnwisozy8jjrO2JGB5dO+ylcOu3n0DPh8cfhggso9DOot+wnB4g/NTbbpZIsuhPFSJHc
tcMOYYPEY4+FESPgkUfglluoGLYmAFVV2S2eSKYk+4urHJgZ87WISKuVlcVb39G0t3aZHtxrrgkt
yr/+lZt73s+VG9yajaIvETs1FpZOjR06VCOIeUwxUiTXlZfDs8+GHsy//CX84uephJc3Jk9Tw1G6
smQJab6I97WISCKJpl0mSgqQUN++8Oij8OijrHT4yYx9ays+qjo3a2lLk02NVeMwPylGiuSJggL4
wx9gr73C82Ngpdpv4fMFsM46WS2aSCaklJDGzLY2s98mOHeImQ1Jb7FEpKtpnHY5bVqYdjl+fNPz
8ZICtOiggxi+5Qc8tMYZ/LjFFuHY3LlLTnfUNhctTY2V/KYYKdJ5VVWlaSSvX7/wAE6c/ifYZBO4
9tqQaU0kh6TUOAQuAzZOcG6j6HkRyVPJMpK21+yGXly+ypXMqlsZFi8Oe1AdeCB89VX73zxFjVNj
m++XpVFDiVKMFOli2tNovLX8EthxRzj9dNhuO3j//XQWTSSrUm0cbgpMSnDudeBX6SmOiHRFjdMu
YzVOu2yP2NHII44Ywvh7oqnGn34aBgzgN1+PodAXt+8mKYqb+lwkUIwUyRO1tfC/RWtRc9u/4d57
Yfp0GDQoLIUQyQGpNg67Jbm2EFguPcURka4oE9Mum49GLlpUyMiTCqk56i+hl3b77Tl5+h+56a0h
8PXX7atAM4mmq7ZpaqzkA8VIkTzQZPnEusb4+iPgww9DRtMddqC2Fn6eU5uWWTMi2ZJq4/BDYL8E
5/YDPk5PcUSkK8rEtMuko5Hl5fDUU5y/0YP8VNQbSkvDBe5Lru2o9YgiKEaK5LyEyycWrwJjxzL+
P6syebLz0bu19FujlvFj52e7yCJtkmrj8GbgeDO70sw2MLMeZra+mV0JHAvclLkiikhX0J5pl/HW
frQ4GmlG1Wq/5U+bPhNakfPmhak9d97ZpJEo0gEUI0VySLzOxWQdlksbjsZ8erKgPhJmulz/UErx
SJ2Z0pmk1Dh091uA0cAfCT2kPwEfRZ9f4+7jMlZCEeky0jntsvloZElJffLRyNmzoUcPOPpo2HFH
yudPS/r+CsaSLoqRIrkvWYdl3IZjYT3Vp46GXXaBmTMR6SpSHTnE3f8E9AdOAs4FTgQ2cPc/Z6hs
IpJD2pIZLnY08r77Ji8zGllbG3a2qKkh7Df1yitw223w4Yfc+uagkG68eTQXyQDFSJHclmz5RNyG
Y2Q5yi8/EX75BVZaKTuFFmmDlBuHAO4+3d0r3f1Sdx/n7p9lqmAiIrB0NLJ379omx+Puq1hQAMcc
Ax9/zFN9jmHtXz6AoqLsFFzyjmKkSG5LtHwifsPRKPvLUTBpEnTrBj//DLvuCk8+mdYyaRaMpFtK
jUMzu9zM4v6FZWarmll6f9JFRJJocV/FlVfm6g3G8beN/wVm8PnnsMceMHVqu+6bts2UJacoRork
j0TLJxKuuzcL53f+mi8mfQP77hse06d3bMFFUpTqyOEpwKtm1i/2oJkNBaYCg9JdMBGRRFLdV7G+
IHrRp5/Cm2+GhDWnngpz5iR9/ybTVUVaphgpkkPaGgOSrbv/qkd/jt3iXbjyytDLuPHGcO65UFen
mCOdSqqNwyFAT+BtMzvKzIrNbDTwH2AKYQNgEZEO0ep9FXfbDT75BE44AW68ETbYgD1r7ox7adzp
qiLJKUaK5IhMxoDFBRH405/g44/h4IPhlVcYf3+RYo50KqlmK50GbAE8CNwBfAmcAJzu7vu6+/eZ
K6KIdBUdNe0ylX0Vl+mJ7d07NAynTIH112fAvEnLvG+L01VF4lCMFMkNHRYD+vaFe++l5o4JjDzB
FHOkU2lNttKFwH+BWqAU+B/wRIbKJSKSVLJ9FZP2/A4aBK+8wg3rXhOev/ZaePGMGSlPVxVpTjFS
pOvr6BhQPbPbvD8vjAAAIABJREFUsver/4Xqt5MvfYjV2BE6e3YkzaWTfJVqQprlzew+4DZCr+i2
QAR4x8wOz2D5RCTPJRuNjLe+I6WeXzPm13cPI4v//Qweegj696f88Wupq2u6YXHS6aoiKEaK5IpU
liy0dYZMvHWFCe932BC47roW3zO2I/SII4ZoSqqkRaojh1OB3YGD3f0kd58EbA48BNxrZndlqoAi
Iq2RSs9vk5HFc49k/CVfwh57UPb306nscQZFVp9wuqpIHIqRIjkglSULySRqOCaazRL3fpfNpmyb
cnj77aT3at4RumhRoaakSlqk2jj8HNjU3f/ZeMDdF7j78cAhwK8zUDYRkVZrqec37sjiuatRc+Mj
8OyzDOvzLBevcXPc6aoiCXyOYqRITki2ZKEtWprNssz9zloDJkyAm28OF7z1Fuy55zJbMbV3Cqz2
R5REUm0c7uLuM+KdcPdHUCY2EekkWur5TRpQd90V3n6bieuMCNNVX3wQjj0WZs7MWHkVoHOCYqRI
Dkm2JUVrpdKIW+Z+ZlBSEr7+/PMw7LjZZnDMMTAj/KpJZQpsW+NLstcpZuW+VLOVeqJzZlYA/NKa
m5rZSWZWbWYLzexNM9shxddtb2aLzey91txPRPJLsp7fFgNqUdHS/RG/+CLM/1l/fbjkktDl2wYK
prkt3TFSRHJHq7deau6gg2D6dDjjDLj33hCPLr10mY7QkpJ6LYOQtEjYODSz2Wa2ecxzM7PHm2/y
C2wJfJfqDc3sUOBa4FLCxsD/BSaY2VotvG4l4G7guVTvJSL5K1HPb6vWlPzlL/DBB7D77jBqFGy4
ITyhBJSSuRgpIrmlvesYgbAV01VXwUcfwYEHhvmpwLDfOdtsWcfAgXDffZO1DELSItnIYS+gqNm1
v44eb48zgDvd/RZ3/9DdTwFmAie28LrbgLuA19p5fxHJc61aU7LeevDoo/DCC7DyyrBwYTje0NAh
ZZVOK1MxUkRyTNrWMZaXh9HDUaPC83/+kwemDmC/2ofo3Wth2sor+a2o5UvSx8wihI2Cr2p2aiIh
9Xei151E2DfqYuDcjBVQRLqUtqQTbxSJhEfKvbcVFTBlSlgLAnDZZfD663D55WFEUUREckJ7Yksi
yWJOq+/XGIdWWok6K+GCD37LTyesD9dfH2a6NJ5PorY2rJSoqVm2TMnOSe7r0MYhsApQCHzb7Pi3
wG7xXmBmA4HzgK3dvd5a+IE3sxHACIDS0lKq4nzi5s+fH/d4LsqnuoLqm8taW9c5czYDoKrqnVaf
b+m1AKvPnEn5s89SuPHGfLPvvvzuf1fyY/GqjBnTuvdLdC6fvreQf/UVEWm3igqOHfwuu866jzPm
/CVkNR02DO6+G0jcyGvcWsMsbK1RWbl0NDPZuWTvKbmjoxuHrWJmJcCDwJ/cPaXkvO4+DhgHMHjw
YK+IkwWiqqqKeMdzUT7VFVTfXNbauvaKTu5L9Jpk51t6bfQk/N//wYUXsvrNN/Mkz3P1BpVUVCy7
53lb7pVP31vIv/qKiKRDgxXyTOkwtr+2lJ0++QRKSwEYf3str08qgoKCJo282K01YOnWGkOHhueJ
zpWVtdxwlNzQUuNw9ZjF9YUxx+bEXLNGK+73PVBPmCIaqxSIt21nH2Aj4A4zuyN6rICw9n8xsLe7
T2zF/UVEWpTyANZqq8ENN8App/D2dn9lZrfor8t586BHDyhquf9NvbBdWrpjpIhIqzTGq6qqCJx8
MhBtAJ5g1HsB1Ddt5DVurRGbfDt2a41k55I1HCV3tPSXy8Nxjv2z2XMDEqbxjuXutWb2JjAUeCjm
1FDgkTgvmQEMbHbspOj1BxI2HhYRWUaHzlDs359Rm8T8ajzzTHj5Zbj0UjjwQGprrdVTe6RLSGuM
FJHc1Z6Y1DipItX3qK6G4m6FLIjZQiOy+BeqX55N+Q5rJN1aI9G5ZI1KNQ5zS7LG4dEZuudoYLyZ
vQ68CpwA9AVuBjCzuwHc/Sh3rwOa7GloZrOARe6uvQ5FpHPabz949VU4+GDG9zuP16vPhYLClKf2
KNB2CZmKkSIi7VJeDnWLm25IUFsH5Vf9gbJD/kVlJQwfHjomI5GmW2skO5esUZmsAdvaxq1kV8LG
obvflYkbuvuDZrYyMIowbfQ9wvTQL6KXJN3vUEQkHTIapPbdF/bai5rr/sHIMw+knsJWTe1R47Dz
y1SMFBFpr8a9FZs08i5fRNkulwIwbPdvWbzqNdyz8unc+1xZk5gzbBiMHRti04QJS+NR3Pds7X6N
0iUk2+cwY9z9Jndfx91L3H0Ld38p5lyFu1ckee357r5JhxRURKStioqo3uYIilfo1uRwpLCe6pe+
Cj27SXphU1FRsbRHVkREpNEyeyueshJsvHE4+eqrHDnrGv7z4VqUnXs8TJ/e5LWRCKy44rINv7Tt
1yidWlYahyIi+SA0AJtuv1P7y2LKD9+asvNGUnnZbAoKoLAQundfthdWjT8REWmrRI08DjqII7f6
lCf6jAyL3/v3D0OCjesc2vKekjPUOBQRSYPaWpg7N6wlbNQ4DadJA3DMAspOOgjuuINhZ63OjaUX
svWAueqFFRGRuOLFl/b6rtuaXLf+9WEtw2mnhbmiBaFZsOrCr9JaxkyUXzJHjUMRkXZqzDo6bVrI
Ojp+/NJzy07t6QXXXw8ffwy//S0jZp7P0T9dr15YERFZRrL40h5VVdG19336wNVXwx3RHePef58H
Jq/Dxe8dEG7czjJmqvySOWocioi0Q2zW0fqYpDOxPaRxp+GUl8Ndd3HM4Gk8svqp4diTT8Jll8H8
+R1aBxER6XxSiS9p17cvheedy/YNL8HWW8Muu8DEieDxd+RJVsaslF/aTY1DEZF2aMw6Git20+CW
fL7cxvxStEJ48txzcM450K8fa/zjH0TqFyR/cSei9ZEiIunV3viyZHSwNVZaCc4/H778EkaPhk8+
gQMOgNmz475nsjK2t/ySHWocioi0Qzqyji5xzTXw2muw6aasN3Ys972+LrvMuj8t5UyVGnkiIp1D
WuNLa/XsCX/8Y1gP8fzzsPLKYfTw8MPDYvroPkzJypjV8kubqXEoItIOcZPOtGfvp623hmee4e0x
Y5jRfT0iDYvC8UWLwiOGFvmLiOSutMeXtohEQlwCmDMnbHtxwgmw9tpw4YWUFX2fsIydovzSamoc
ioi0Uyb2fpq76aacuNGL/KP7UaHxd9NNsN564d9Fi1pc5J9sBFCjgyIiXUOn2ltwpZVC4HnhhVCo
886DNddk2NovJSxjpyq/pESNQxGRNEj33k8TJ67G5NeNqdMKQuPvuz1hrbXgD3+gpnwbRh67WIv8
RUTyQKfaW9As9C4+8QR88AEcfzxsuSWRCOy++CnKPn5xmeQ1mSq/OjozQ41DEZEsipcwoKYGRo/u
37TxN2Yjah5+BZ55hupVBlNc1zSjqRb5i4hIh9poI7juujBfFDjqi4tCa23QILjzTli4MKvFk7ZR
41BEJMNamzGuuhqKipbtea3+3GC33Sh/upK6yPJNztf+Ukd56S/tL6yIiEgb/HHT5+GWW0Kv5tFH
h9kud93V4us0Ati5qHEoItLJlJfD4sXW5FhshreyPkblrYVLF/kX11FZdwxl25TDFVdkZZ9EJcdJ
HzM7ycyqzWyhmb1pZjskufYgM5toZt+Z2U9mNtnM9uvI8opIZrVpS4osqC3sDscdB1OnwrPPhkQ2
y4eOzF61s+D117NcQkmFGociIp1MWRmcccbHSTO8NVnk/2Uxw14eCZttBn/9K6y9Nkd8+feEmxYn
05ZGXkvJcSR1ZnYocC1wKTAI+C8wwczWSvCSnYDngX2i1z8FPJasQSkikm5NGrBmsOuu8PjjcNBB
VFXBP/ceF4LWlluGKacL2r+PrzolM0ONQxGRTmj33We1mOGtySL/7beHp5+GSZNg221Zd/67IUAD
zJuX0j3b0sirqQnJcJQcJ23OAO5091vc/UN3PwWYCZwY72J3P83d/+7ur7v7p+5+AfAmcEAHlllE
JLlTT4Xrrw8zW44+GtZYA84+u02dmBBN2qZOyYxQ41BEJA0yMe2nTRnehgyBJ57g0g3vDs+nTYM+
fUJg/vLLhC9rayOvuhqKi5ctt5LjtJ6ZRYAtgInNTk0Etm3FWy0P/JiucomItNsKK8DJJ4cMp889
FxYZfvIJmFFbCyvNfJ+aGfUpvVXcpG3qlEybomwXQERE0m/B4mIWLICahb0oO/RQGDs2PIYNY5W5
5zCd9aipWdrwbGzkxc70aWzkJWuclpdDXV3TY7HrI1NRUQFz5mzGO++k/poctQpQCHzb7Pi3wG6p
vIGZ/QFYA4jbj25mI4ARAKWlpVQ169GYP3/+Msdymeqbu/KprtDF6ltQAKecAg0NTDznAyZP2pCe
vjr91qjloh3vZZtTV6J25ZUTvvz991egsHAg4ddl41su5pFHprLxxqnNlOlKOvp7q8ahiEiOaZwe
agb9dlqTysrbGXb++XDVVYwfO5+nFvelttDp18+orAxTVtvayCsrC+shhw8P94tEll0fKR3DzA4G
rgQOdfcv4l3j7uOAcQCDBw/2imYpAquqqmh+LJepvrkrn+oKXbO+NTWw96+hwWEevQA496Uj+OzV
DSjbfwhceSUVx/QDms7M2XBDOPPMpqOMDQ1FHHzw5jkZezr6e6tppSIiOSTh9NDIWtSccx0ji25j
AT2or7dw7uhaah6ooqzUqawkaRKcRJokx0mwPlJS8j1QD5Q2O14KJJ0wZWa/IYwWHuXuT2SmeCIi
6RN3WULPEqoPPSv0cEYznfabPxVmzFhyTSpJ26Tt1DgUEckhydYAVldDcaTpFhmRhoVUH342bLEF
w4ofYJutFrepkdem9ZHShLvXEpLJDG12aigha2lcZvZbQsNwuLs/nLkSioikT9wZK/WFlF99Mnzx
Bay6KgCnfXpy2DPx17+Gxx6DurqUkrZJ26hxKCLSRcVLgpNsemjcc92Wp3z0qfDLL3D44Tz4Tn8G
Fn2oRl72jAaGm9lxZraRmV0L9AVuBjCzu83s7saLzeww4F7gLOAlMyuLPnpno/AiIqlqXJYQdwSw
cOl6wiv63x62aXrrLTjoIFhjDfo+9lin65SsqAiPrk6NQxGRTqotGVCTBdv454yyPx4eMsg99hhf
9BhATffoQsNJk2DWrHbXI1cCZkdw9weB04FRwDvA9sDeMWsI14o+Gp1AyB8whrDlRePj0Y4qs4hI
W7W0LKG2Fj6oXY+aUy8NGbefeAK23RaPNh6XWzwXxo2DOXNSvqdiUnJqHIqI5JhkwTbhuYICOOAA
zhn4BLUF3cKixSOPDFN5Ro6Ejz/OSl3ykbvf5O7ruHuJu2/h7i/FnKtw94pmzy3OoyLee4uIdDaJ
RgCX2Xv3/qIlU0tn7rcfAENmPxViVFkZHH44/Oc/YcG9tJkahyIiOSjZdJuUpuIUFMBTT8Hvfw93
3RXSw+2/P7z9dtrLWlsLP/9cqD2qREQESH3v3edXPQzeeAOOOw4mToS99gqdmrNnt+m+GlVU41BE
RBLp3z/MQ/3yS/i//4NXX4Wvvgrn5s8Prbp2auwZ/uyz5ULPcNzd+UREJJ8kS67WqKoKql40GDwY
brgBvvkGHnkEDjuMioN6h0beqFFw1VVNsp1mSm0tzJ27bAO2q1HjUEREklttNbjggtBI3GefcOzv
fw8Zbi67rM09tLE9ww0NBQl7hkVEJHe1NrlaQiUlIWHN1VeH5+7wyivw5z/DmmvCbrvBHXdQ9Mu8
tDfilpkC24U7OtU4FBGR1PTosTSD3M47w4ABcM45sMYaVG10IlWVrVuXmErPsIiI5J+kmUxTZRZa
nZ98Ema/fP454495npemdI824pzxt7d/BkyqU2C7CjUORURkiZQzpO66KzzzDLz7Lhx2GNx+O/zt
b0vPu7f4Fm3qGRYRkbzQUibTlK2/Ppx/PjUv/4+RJXdS58XRRpwx8tjF1Pz2VJgwAerqWpwaGm9N
Yq51dKpxKCIibferX4WG4ZdfwhVXhGMffhhGFW+8EebPTxhsY3uGCwoa2tYzLCIiOautexnGizvV
nxvFJYVNrosUQ/WEj2DvvRnf6xTefK2W96Z5q6aG5lpHpxqHIiI5KNkIYFv2T4QWsriVloaFFgDz
5kHPnnDyyYxf7QzefK2W96fVxw22jT3D/fr93L6eYRERERKv/4vbiCvqQfl7T1Bz19OMXHQttURY
XG9hauhxi6n5x0uweHHS+6VlCmwnosahiIik15Ah8Prr1DzxBiNrr6eWCHX1hQnXYUQisNxy9V02
kIqISGa0tjMz2fq/hI24tUuoXn93ipcrafJekcW/UH3oX6FPHxgxAiZOZPHCurgzYVqaAtuVtshQ
41BERNLPjOqVBy8bbCNQPez/4Nprw5wfERGRNGlp/V+iRlzcUcWS5Sm/dVTIcnr//YzfYzxvTPal
yWxuq13mPm2ZAtvZZKVxaGYnmVm1mS00szfNbIck1+5kZv81sx/MbIGZfWRmf+rI8oqISOvFDbaL
nPIf34LTT4fVV4cTTqB8/rTsFFBERHJKKuv/4jXi4o8qGmXH7gP330/N1FmMjNxBLZGlyWyOW0zN
vsfDffflVGdnhzcOzexQ4FrgUmAQ8F9ggpmtleAl84HrgB2BAcDFwAVmdlIHFFdERNoobrAdZ5RN
eRKmTIHf/hbuuotjPx+V7aKKiEgOaM/6v2RTQ6trulPcrajJ9ZEIVP93Jhx5JKy6KpdP3YvVFn4Z
972TZUHtbFNOszFyeAZwp7vf4u4fuvspwEzgxHgXu/ub7v6Au7/v7tXufg/wNJBwtFFERDqHhMF2
iy1CltOvv+bGda/JahlFRCR3tGcLjERTQ+OOSBb2oHza4/Dqq3DaaQxZ/Wv+8cKq4eTtt8NFF8G7
7zL+bo+bIKez6tDGoZlFgC2Aic1OTQS2TfE9BkWvfTG9pRMRkUxIug5j5ZWZ2b1fh5dJRERyV7K4
05aM3QlHJPsWwLbbwpVXhtZf9+7hBa+8AuedR81mezBy+MK4CXI6q44eOVwFKAS+bXb8WyDpgK+Z
fW1mi4ApwE3ufnNmiigiIvG0tDlwW1VVwZgx76T3TUVERNKoVSOSt98O33xD9dm3UFzY0ORUJALV
tz0P33wDtDzl9PTTN0tfJVJQ1PIlncYOQE9ga+ByM6t292UGZs1sBDACoLS0lKo4XQPz58+PezwX
5VNdQfXNZflUV+h89Z04cTUmTdoIM2eddZwzzviY3XefldJr58wJga2qKnEDsLPVV0REuq62hpOW
XheJhEdKGUnLyig/dV/qxgAxWyXWLnLKRx0Bo75l/Fp/Y8pX52Fm9OtXSGWlZX2/345uHH4P1AOl
zY6XAkn7ot09moSWaWZWCpwPLNM4dPdxwDiAwYMHe0WcFZ5VVVXEO56L8qmuoPrmsnyqK3Su+tbU
wN57gzu4G4sWwZgxAzj11AEpBchevcK/yerTmeorIiKSDo3TUYcPB7PQsKy8GcoGPUPNA1WM/Pvx
1HkxOBCdcjp0yDzKlv857K+YBR06rdTda4E3gaHNTg0lZC1NVQFQ0uJVIiLSbi3tGyUiIiLxLTMd
9SiDgQOp/vUpFPfs1uTaJVNO+/aFQYM45H+XEJkzu0PXKGZjWuloYLyZvQ68CpwA9AVuBjCzuwHc
/ajo81OAauDj6Ot3BP4E3NSxxRYRyU+p7BslIiKS69o6XTXedNSEsXX/X8FKlzH+znr+/M0fqSso
oV+/MALZEVNOO7xx6O4PmtnKwCigD/AesLe7fxG9pPl+h4XA5cA6hBm704GziDYmRUQks+JOi0lx
3yhoezAVERHJVQlj67b9qOl3FiMvhAUADbC4ccrp0NRjb1tlJSGNu99EgpE/d69o9nwMMKYDiiUi
IgkMGwZjx4Y03BMmZD44iYiI5LpEsbVxOceCBUuvbVzOkZONQxER6XpalaVNREREgOQzaFo15bQD
lnN09D6HIiIiIiIikkDjlNOCAigoaKB799Yt52gPjRyKiIiIiIhkQaJRxcYpp9999zMvv7x8h83a
0cihiIiIiIhIJxOJwHLL1Xfocg41DkVERERERESNQxEREREREdGaQxERSZH2KxQREek4VVVQVfUO
UNFh99TIoYiIiIiIiKhxKCIiIiIiImocioiIiIiICGocioiIiIiICGocioiIiIiICGocioiIiIiI
CGocioiIiIiICGocioiIiIiICGocioiIiIiICGocioiIiIiICGocioiIiIiICGocioiIiIiICGoc
ioiIiIiICGDunu0yZIyZfQd8EefUKsD3HVycbMmnuoLqm8vyqa6g+rbF2u6+ajoKkw8SxEj93OW2
fKpvPtUVVN9c1qHxMacbh4mY2RR3H5ztcnSEfKorqL65LJ/qCqqvZEe+fR9U39yVT3UF1TeXdXRd
Na1URERERERE1DgUERERERGR/G0cjst2ATpQPtUVVN9clk91BdVXsiPfvg+qb+7Kp7qC6pvLOrSu
ebnmUERERERERJrK15FDERERERERiaHGoYiIiIiIiKhxKCIiIiIiInnUODSz9c2sNNvlEBFJxMws
22WQ/KP4KCKdneJjx8nphDRmthowDPgj8B2wGJgJPAw84u4/Z7F4aWdmawIL3f27mGPmufxNjmqs
Zz7U18wK3L0h2+UQaa98+tx2NoqP+RMfIb8+a4qRkiuy9bnN9cbhncAA4EngB2BlYDNgI+Br4Ap3
fyZrBUwzM3seeNfd/xh9bkAJ0Af4PNcDQqzGHqZ8qnMuMrMBhM/wisDPwGR3r85uqTLDzPYC+rr7
bdkuS7boc9txFB/zNz6CPmu5Il9ipOJj0FGf25xtHEb/A38C9nb3l2KOrQFsDRwPrA0c6u7vZK2g
aRKt20JgG3d/K/oL43KgP/AFMBW4xt2/zmIx087MCoD9gVWBHsAM4EV3n5XVgmWImY0G7nb3d3K9
B9jMzgKOBNYnfF9/ABx4C7gPeJXwOzIn/g/M7E3gUXe/JPp8A8IfriXAV8BHkBt/zOXb57azUXzM
j/gI+fdZU4zMzRiZT/ERsv+5zeXG4cbAA8Dx7j4pzvkI8F/gGXc/u6PLl25mdjzwZ3ffwMzWI9R9
AWGK0IbAfoRfGIe7+/zslTR9zGx54DZgZ6CB0NvthD8CXgTGu/tHuRIgzGwV4FtgLXefET02FFgO
qAWmuftXuVBfM1sZ+JzwM31zdErYVsA2wBZAN+Bsd6/KWiHTKPq9nQWUu/sXZjYCOAtYE/ge+B/w
N3d/OYvFTIt8+9x2RoqPuR8fIf8+a4qRuRkj8yk+Qif53Lp7Tj6A7sBzwGuEXpWCONecAryT7bKm
qb5vALdGvx4F/BNYPeb8boQP0cBslzWNdf4b8C6wZfT5hsDvgLHR/4/HgVWzXc401vc84M3o1+XR
ei4gTCX5HHgEWCXb5UxTXU8A3khwblPCH3XzgH7ZLmsav7evRL/eGvgA+Hv091gF8DQwF+iT7bKm
oa559bntjA/Fx9yPj9F65dVnTTFyybmcipH5FB+jdcz65zbr/wkZ/g/eGngnGgCHE3oZekbP9Yh+
eO7JdjnTUM/uwJtANfDv6C+EYdFzhYABKwEvAyOyXd401vtl4Iw4xwuBHQm9Sf/JdjnTWN8vCT3b
ADdE/7jbP/p8X+Ab4PFslzNNdT0k+vO8Y8z3tDDmfDdgEnBStsuapvpOjX4/VwPuAcYBRTHn1wQ+
bvx+d+VHvn1uO+tD8TG342O0fnn1WVOMzM0YmU/xMVqfrH9uc3orCw/TZX5H+IUxFngbuN/MbifM
T16TsO6gq1tI+EVxPiHwvU34JYi713v4qaoD1iMEyS7PzIqA94CDzWzV6LHCaJayeg/raE4A1jCz
TbNZ1nQws36E9UBrm9kmwAHApe7+LwB3f4LQu1ZmZmtlr6Rp829CT+8ZZjYw+j2tbzzp7gsJ2RVX
zlL50sbMViD8so8ATxCmuE1098XR84WELJIzgLJslTMd8u1z25kpPuZufIT8+6wpRuZmjMyn+Aid
53Obs2sOm7OQtnsfwi+MhYT//Ifc/aOsFizNomtF1gEWuPtX0WMFwO+BC919zSwWL63MbGvgXkIP
92h3/7bZ+TWBD4H+Hl1/0FWZ2XbAhYSeo9UJP8N7eUwChWhA/CewrXfhZAON8+jNbCfCH639gKeA
uwg9iL2BbQn/H4Pc/fNslTVdzKwbMJiwxmBdQkKF52PO9wU+BTZ09y+zU8r0iH5u7wceAq7O5c9t
V6H4mHvxERQjUYzMiRiZT/EROkeMzJvGYSzLsz1wzOw3hDnM97r7VdkuTzpEA3oBcDRwKVBEWE/w
IKEn/FfAr4EB7r5ltsqZTmbWi7DgfBfC4uQbmwW+M4Hfu/uvslTEjDCzI4BjCMGugZBwoJ5Q/2uz
WbZ0aL6o3MxWBHD3udHnfYAzCNOHhmSnlOljZsXA4cBVhN7gh8nhz21Xo/iYGxQjFSPJgRiZb/ER
OkeMzMvGYb4xMyP0ls7yHNvYGJYEhOHAEYR9un4i9Bq+AVzm7pOzV7rMMLOVgLmNf8RFe01vBMa5
+01ZLVw7RadV1AO93P3H6B85JYR9nAYQekVfbt6b1lXF1HdFd58T5/wewNnADe7+cEeXL53MrCdh
LcwPwAqEP2gOJwS8RcAvwGRy9HMrnU+ux0dQjIw+V4zsgvIpPkLniZFqHEqXE52D/lOz3qQCwgeq
J7AJ8HOuBLx49Y0eb5xaUgScDOwJHBBda9AlWUix/ydCz+8U4AJ3n5rdUmVOnPqe7+7T4vSWdgMW
Nf8Z6ErMbFdCEB9M2H/rOHefGf0jroQwFawoVz63ItmiGLnkuGJkF5ZP8RE6V4xU41C6HDOrBF6P
Pr5w93lxrlkp2qOWC/sZpVLf5YBad6/r6PKlk5m9AcwGJhLWP21AmC7yccw1y7v7T1kqYlolqO8O
7v5JzDV30eqvAAALk0lEQVQruPu8rvyzHB2d+QT4D/AKIdHJJYQskZsCxYSe0LezVkiRHKEYqRiZ
CzEyX+IjdL4YqcahdClmdjhhgf08wi+NZwh73EwFZrj7guiw/D3Aue4+LWuFTYME9f0Pob7fROvb
g7Cp8znu/l7WCttOZvZ7Qi/hDu4+J/rLciLh+zo8phf4WuA6d5+e1QK3Uyvre727f5rVAreDmQ0n
1HXL6M/sXsAdhGx70whBvzewZ6YW2IvkA8VIxchciJH5FB+h88VINQ6lSzGzWwjzz68ADiJkmVuX
sMfNU4S9cPoD17p7JFvlTJdW1Pc6dy/OVjnTwcz+BXzo7meZWcTda81sZ8KeRnu7+/8sZGd7wd27
/DY8+VRfM5tA2Jx6VPT5hYSU5HtFp838CngMOMXdn8piUUW6NMVIxUhyI2bkTV2h88XILv8fKvkj
um6gGpjj7p+5+1XuPhDYEniREBT+AVwPjM9eSdOjlfW9O3slbT8zKyHsNTY32iNYa2ZF7v4C4f/g
hOilIwjpnbu0fKpvdD3IbJruITeUkBhiZrRH+EPgA2DjLBRRJCcoRipGkhsxI2/qCp0zRmrkULqU
6MLcUnf/yMKeVXXNFiYfStgfZnN3fydb5UyXfKlv9JffIGBnd786dv2Ame1D+ENmc+AdYB93fzV7
pW2/fKpvtK5rAD3d/cPo8zWBb919UfSansB0Ql2nZK+0Il1bvsSMRvlS3zyMGXlRV+icMVKNQ+ny
LGRhM3evN7PjCdNlemS7XJmSD/VtFgyKCdMp1gWWc/e1slq4DMi3+kKTTIIFwDDCJuRrZ7tcIrkm
H2JGrHyobz7FjHyqa6xsxkhNK5Uuz90b3L0++nR54LxslifT8qG+MYHAPGSXu5ewbuTWrBYsQ/Kt
vrC0zoQsdCcA12SxOCI5Kx9iRqx8qG8+xYx8qmusbMZIjRxKTon2KtV7dOPbXJcv9Y1OsxgMfObu
P2S7PJmWT/WN1nUt4Dt3/yXb5RHJZfkSMxrlS33zMGbkRV0hOzFSjUMRERERERHRtFIRERERERFR
41BERERERERQ41BERERERERQ41CyyMw8hcfn0WvvbPw626JlaSxfVZrf9/N0vZ80ZWbnm1mrFlmb
2bMx3+t7MlU2EZFYio9x3/fzdL2fNKX4KLGKsl0AyWvbNHv+GPAucH7MsUXRfy8Cru2AMqWqBjgQ
mJfG9+xsdRQ4BViR8LMpItJRFB+b6mx1FMXHnKXGoWSNu0+KfW5mi4Dvmx+PXju9wwqWmkXxytke
6aqjmZW4+6KWr5SWuPuHsORnU0SkQyg+NqX42PkoPuYuTSuVLqH5lBIzWyc6leEEM7vMzGrM7Ccz
u8fMepjZemb2tJnNN7NPzez3cd5zUzN73Mx+NLMFZvaqme3QjjJWRMt0gJlVmtlsM5tjZmPMrNDM
tjSzV8zsZzN738z2SFbH6LHlzOzvZjbdzBZF6/mImZVGzw+P3nNHM3vIzOYAk2Ne/zsze9fMFprZ
92Y23sz6pFCXIjO7KHrfxte+YmbbN7tuRLP3v83Mesd5r7+a2QfR674zs/+Y2YYx1/Q3s8ei/18L
zGySme3Z7H3Oj9Z1fTP7d/R7+4WZ/Z+ZFTS7dpCZvRy93wwzOxewOPU8zcw+jN7zRzObYmYHtvT/
IyLSWSg+Kj4qPko6aeRQurqzgSrg98AA4AqgAf6/vbuPsaMq4zj+/bGKbQmYVoIFUts/SPmHoDQh
RWzAKFQjL+EPDCRCCgaJCiGiQQxqW41FGoUiYuSltGhKeDEsb1ahLa1CCSTFhUQNbYBQaASUbYsp
oFKWxz+ec3dnp3dndyt12b2/TzJp59yZc58z3d7nztlzznAMcDPwU+BrwEpJT0bEXwEkzQEeBZ4C
vgK8BXwVWCfp+Ij40/8Q07VAN3AWcALwPaALOAn4CfC3UtYtaWZE9LarRNL+wFrg48BVwBPkEI7P
AVOBv1cOvw24HTiT8v9a0oXAjcCd5HU6DLgSmCtpTkS80dCGy4FLge8CTwMHkQ+d7U9skq4CvgVc
B1wGHA78CDiqXMO+cugdwBnluqwDJpXrciiwWdJhwEZgF3Ax8E/gImC1pFMj4ve12O4BVgLLgNOA
HwDbShmSDgbWk0ObFpBDry4jHyJbvb5fAq4Gfkj+LEwGjq620cxsHHN+TM6Pzo82GhHhzdv7YgO2
AquGeO1WYGtlfxYQwPracd2l/JxK2VTgHWBRpexh4Blg/0pZVym7d5g4B8VSKf90ee8VtfKeUj6v
UnZ0KVvQ0MYvl2NOb4jlvHLMslp5F5kcN9TK55XjLxmmjb8FuhtenwX0AQtr5Z8q9Z9R9j8z3PuR
X1DeAY6oxb8F6KmULS51nV87/8/Amsr+EuBtYEal7ACgNz/y+suur9a/tz+b3rx587avN+dH58da
/M6P3vbZ5mGlNt7Ve802lz8fahVExE7gH8AMAEmTgROB3wDvlmEdHyCHVawje+3e65jejIiNbeKc
0VDPfODViLh/BO9ZnxB+JHAI2WPar8TwItl+JO3Xan/ZWp8Jm4AvSFoiaV7ppa06mRyWflv1fHLI
zi4GruF8MmHd3BD7CcATEfFcJc4+sqf3E5IOqh2/urb/Fwb3en6y1LetUt+bwAO18zaV+n8u6SRJ
UxpiNDMbb5wfk/PjAOdHG5ZvDm2821nbf7uhfFL5+zSy5+37wO7adjEwtT5G/z2I6fVqQUS04pzE
0D5CDrEZiVdq+9OGKIccTtJ6fQWD27+ilF8JLAJOJ4eUbJe0sgxJgUysAM+x5zU8sMTeasOOiPhX
Q+zTGuIU2bNdtaO2/x8GX8dDGTykqKVe9mtySNVc8svSDkndkmY1xGpmNl44PybnxwHOjzYszzm0
TvQ6Oe/iF+QH4B4i4t3/a0Tt9QJHjfDY+vOJWglieptjpwOtOSOLyeEj1fckInYDS4GlkqYDpwLX
AFPIuSLby/Hz2TPZU3m9F5gmaXJDAtzREGcMUX+TV4CPtikfVBYRQc45uVHSVLItV5NzUOaO8j3N
zCYC50fnR+fHDuffHFrHKUMoHiUnsvdExJP1bYxDbFkDTJd02l6cu4XsCTy7WijpeGAmuUgBEbG1
1vat9Yoi4tWIWE4OKWol47XkF4iPtbt+EfFCpQ0CLmiI9Y/AcdUeSUldZJJ9KiJG+6ysx0t9/UOS
JB1ATs5vKyJ2RsSdwF2M/AuHmdmE4vzo/Nimjc6PHca/ObRO9U3gEeAhSbeQvWkHA3OAroj4zlgG
V6wiV4q7XdKPyfkKB5KrsV0bEZuHOjEi+iQtJHv9VpW6Dicnoz/LwPCYtiTdRz5wuYfsmTwG+DzZ
k0hEPC9pKXC9pCPJBPZvco7IycDyiNgQERsk3Q1cU5LReuCD5DyK1RHxB3JVtfOAtZIWkQ9O/jow
Gzhl5Jer37Jy/hpJixlYjW1Qz6ykm8j5H4+Tc25mA+eSCdvMrFM5PzZwfrSJzjeH1pEiokfSseS8
gevIJbBfIz/sbxjL2FoiYrek+WSMF5Y/twOPsee8gnbn3yTpLfKD/z7gDeB3wLdL73CTR4Avkktm
TwFeIpdBX1Kp/wpJz5RjLiKHuGwjV7p7tlLX2eTS3wuAb5BLcW8Clpd6XlY+H2op8EvgQ+Ty4KdE
xIPDtbNNu3slfRb4GfAr8prdQH7eLawc+hhwPpnwPgy8TH5JWDTa9zQzmyicH50fcX7saMphxWY2
UpJuJZflPoIcmt/XeIKNW2Xhhf3IhQU2RsQ5YxySmdn7lvNj53B+nLg859Bs78wkVx57eKwDsX1q
DfnvPHOsAzEzGyecHzuD8+ME5d8cmo1SmRjeWrJ6V0RsGbtobF+SNBtoPUdqe2UhATMzq3F+7BzO
jxOXbw7NzMzMzMzMw0rNzMzMzMzMN4dmZmZmZmaGbw7NzMzMzMwM3xyamZmZmZkZvjk0MzMzMzMz
fHNoZmZmZmZmwH8BPpWzo09AXukAAAAASUVORK5CYII=
"
>
</div>

</div>

</div>
</div>

</div>
<div class="cell border-box-sizing text_cell rendered"><div class="prompt input_prompt">
</div><div class="inner_cell">
<div class="text_cell_render border-box-sizing rendered_html">
<p>Execute the backend again to get more statistics, and add the results to the previous ones:</p>

</div>
</div>
</div>
<div class="cell border-box-sizing code_cell rendered">
<div class="input">
<div class="prompt input_prompt">In&nbsp;[5]:</div>
<div class="inner_cell">
    <div class="input_area">
<div class=" highlight hl-ipython3"><pre><span></span><span class="n">t1_backend_result_new</span> <span class="o">=</span> <span class="n">qiskit</span><span class="o">.</span><span class="n">execute</span><span class="p">(</span><span class="n">t1_circs</span><span class="p">,</span> <span class="n">backend</span><span class="p">,</span>
                                       <span class="n">shots</span><span class="o">=</span><span class="n">shots</span><span class="p">,</span> <span class="n">noise_model</span><span class="o">=</span><span class="n">t1_noise_model</span><span class="p">,</span>
                                       <span class="n">optimization_level</span><span class="o">=</span><span class="mi">0</span><span class="p">)</span><span class="o">.</span><span class="n">result</span><span class="p">()</span>
<span class="n">t1_fit</span><span class="o">.</span><span class="n">add_data</span><span class="p">(</span><span class="n">t1_backend_result_new</span><span class="p">)</span>

<span class="n">plt</span><span class="o">.</span><span class="n">figure</span><span class="p">(</span><span class="n">figsize</span><span class="o">=</span><span class="p">(</span><span class="mi">15</span><span class="p">,</span> <span class="mi">6</span><span class="p">))</span>
<span class="k">for</span> <span class="n">i</span> <span class="ow">in</span> <span class="nb">range</span><span class="p">(</span><span class="mi">2</span><span class="p">):</span>
    <span class="n">ax</span> <span class="o">=</span> <span class="n">plt</span><span class="o">.</span><span class="n">subplot</span><span class="p">(</span><span class="mi">1</span><span class="p">,</span> <span class="mi">2</span><span class="p">,</span> <span class="n">i</span><span class="o">+</span><span class="mi">1</span><span class="p">)</span>
    <span class="n">t1_fit</span><span class="o">.</span><span class="n">plot</span><span class="p">(</span><span class="n">i</span><span class="p">,</span> <span class="n">ax</span><span class="o">=</span><span class="n">ax</span><span class="p">)</span>    
<span class="n">plt</span><span class="o">.</span><span class="n">show</span><span class="p">()</span>
</pre></div>

    </div>
</div>
</div>

<div class="output_wrapper">
<div class="output">


<div class="output_area">

    <div class="prompt"></div>




<div class="output_png output_subarea ">
<img src="data:image/png;base64,iVBORw0KGgoAAAANSUhEUgAAA4cAAAGaCAYAAAC8Ojb6AAAABHNCSVQICAgIfAhkiAAAAAlwSFlz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=
"
>
</div>

</div>

</div>
</div>

</div>
<div class="cell border-box-sizing code_cell rendered">
<div class="input">
<div class="prompt input_prompt">In&nbsp;[6]:</div>
<div class="inner_cell">
    <div class="input_area">
<div class=" highlight hl-ipython3"><pre><span></span><span class="c1"># Fitting T2*</span>

<span class="o">%</span><span class="k">matplotlib</span> inline

<span class="n">t2star_fit</span> <span class="o">=</span> <span class="n">T2StarFitter</span><span class="p">(</span><span class="n">t2star_backend_result</span><span class="p">,</span> <span class="n">t2star_xdata</span><span class="p">,</span> <span class="n">qubits</span><span class="p">,</span>
                          <span class="n">fit_p0</span><span class="o">=</span><span class="p">[</span><span class="mf">0.5</span><span class="p">,</span> <span class="n">t_q0</span><span class="p">,</span> <span class="n">osc_freq</span><span class="p">,</span> <span class="mi">0</span><span class="p">,</span> <span class="mf">0.5</span><span class="p">],</span>
                          <span class="n">fit_bounds</span><span class="o">=</span><span class="p">([</span><span class="o">-</span><span class="mf">0.5</span><span class="p">,</span> <span class="mi">0</span><span class="p">,</span> <span class="mi">0</span><span class="p">,</span> <span class="o">-</span><span class="n">np</span><span class="o">.</span><span class="n">pi</span><span class="p">,</span> <span class="o">-</span><span class="mf">0.5</span><span class="p">],</span>
                                      <span class="p">[</span><span class="mf">1.5</span><span class="p">,</span> <span class="mi">40</span><span class="p">,</span> <span class="mi">2</span><span class="o">*</span><span class="n">osc_freq</span><span class="p">,</span> <span class="n">np</span><span class="o">.</span><span class="n">pi</span><span class="p">,</span> <span class="mf">1.5</span><span class="p">]))</span>

<span class="n">plt</span><span class="o">.</span><span class="n">figure</span><span class="p">(</span><span class="n">figsize</span><span class="o">=</span><span class="p">(</span><span class="mi">15</span><span class="p">,</span> <span class="mi">6</span><span class="p">))</span>
<span class="k">for</span> <span class="n">i</span> <span class="ow">in</span> <span class="nb">range</span><span class="p">(</span><span class="mi">2</span><span class="p">):</span>
    <span class="n">ax</span> <span class="o">=</span> <span class="n">plt</span><span class="o">.</span><span class="n">subplot</span><span class="p">(</span><span class="mi">1</span><span class="p">,</span> <span class="mi">2</span><span class="p">,</span> <span class="n">i</span><span class="o">+</span><span class="mi">1</span><span class="p">)</span>
    <span class="n">t2star_fit</span><span class="o">.</span><span class="n">plot</span><span class="p">(</span><span class="n">i</span><span class="p">,</span> <span class="n">ax</span><span class="o">=</span><span class="n">ax</span><span class="p">)</span>    
<span class="n">plt</span><span class="o">.</span><span class="n">show</span><span class="p">()</span>
</pre></div>

    </div>
</div>
</div>

<div class="output_wrapper">
<div class="output">


<div class="output_area">

    <div class="prompt"></div>




<div class="output_png output_subarea ">
<img src="data:image/png;base64,iVBORw0KGgoAAAANSUhEUgAAA4cAAAGcCAYAAABqY9XnAAAABHNCSVQICAgIfAhkiAAAAAlwSFlz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"
>
</div>

</div>

</div>
</div>

</div>
<div class="cell border-box-sizing code_cell rendered">
<div class="input">
<div class="prompt input_prompt">In&nbsp;[7]:</div>
<div class="inner_cell">
    <div class="input_area">
<div class=" highlight hl-ipython3"><pre><span></span><span class="c1"># Fitting T2 single echo</span>

<span class="o">%</span><span class="k">matplotlib</span> inline

<span class="n">t2echo_fit</span> <span class="o">=</span> <span class="n">T2Fitter</span><span class="p">(</span><span class="n">t2echo_backend_result</span><span class="p">,</span> <span class="n">t2echo_xdata</span><span class="p">,</span> <span class="n">qubits</span><span class="p">,</span>
                      <span class="n">fit_p0</span><span class="o">=</span><span class="p">[</span><span class="mf">0.5</span><span class="p">,</span> <span class="n">t_q0</span><span class="p">,</span> <span class="mf">0.5</span><span class="p">],</span>
                      <span class="n">fit_bounds</span><span class="o">=</span><span class="p">([</span><span class="o">-</span><span class="mf">0.5</span><span class="p">,</span> <span class="mi">0</span><span class="p">,</span> <span class="o">-</span><span class="mf">0.5</span><span class="p">],</span>
                                  <span class="p">[</span><span class="mf">1.5</span><span class="p">,</span> <span class="mi">40</span><span class="p">,</span> <span class="mf">1.5</span><span class="p">]))</span>

<span class="nb">print</span><span class="p">(</span><span class="n">t2echo_fit</span><span class="o">.</span><span class="n">params</span><span class="p">)</span>

<span class="n">plt</span><span class="o">.</span><span class="n">figure</span><span class="p">(</span><span class="n">figsize</span><span class="o">=</span><span class="p">(</span><span class="mi">15</span><span class="p">,</span> <span class="mi">6</span><span class="p">))</span>
<span class="k">for</span> <span class="n">i</span> <span class="ow">in</span> <span class="nb">range</span><span class="p">(</span><span class="mi">2</span><span class="p">):</span>
    <span class="n">ax</span> <span class="o">=</span> <span class="n">plt</span><span class="o">.</span><span class="n">subplot</span><span class="p">(</span><span class="mi">1</span><span class="p">,</span> <span class="mi">2</span><span class="p">,</span> <span class="n">i</span><span class="o">+</span><span class="mi">1</span><span class="p">)</span>
    <span class="n">t2echo_fit</span><span class="o">.</span><span class="n">plot</span><span class="p">(</span><span class="n">i</span><span class="p">,</span> <span class="n">ax</span><span class="o">=</span><span class="n">ax</span><span class="p">)</span>    
<span class="n">plt</span><span class="o">.</span><span class="n">show</span><span class="p">()</span>
</pre></div>

    </div>
</div>
</div>

<div class="output_wrapper">
<div class="output">


<div class="output_area">

    <div class="prompt"></div>


<div class="output_subarea output_stream output_stdout output_text">
<pre>{&#39;0&#39;: [array([ 0.46514794, 21.68047828,  0.53799714]), array([ 0.53077749, 16.98595852,  0.47459488])]}
</pre>
</div>
</div>

<div class="output_area">

    <div class="prompt"></div>




<div class="output_png output_subarea ">
<img src="data:image/png;base64,iVBORw0KGgoAAAANSUhEUgAAA5AAAAGaCAYAAAB5SKxrAAAABHNCSVQICAgIfAhkiAAAAAlwSFlz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"
>
</div>

</div>

</div>
</div>

</div>
<div class="cell border-box-sizing code_cell rendered">
<div class="input">
<div class="prompt input_prompt">In&nbsp;[8]:</div>
<div class="inner_cell">
    <div class="input_area">
<div class=" highlight hl-ipython3"><pre><span></span><span class="c1"># Fitting T2 CPMG</span>

<span class="o">%</span><span class="k">matplotlib</span> inline

<span class="n">t2cpmg_fit</span> <span class="o">=</span> <span class="n">T2Fitter</span><span class="p">([</span><span class="n">t2cpmg_backend_result1</span><span class="p">,</span> <span class="n">t2cpmg_backend_result2</span><span class="p">],</span>
                      <span class="n">t2cpmg_xdata</span><span class="p">,</span> <span class="n">qubits</span><span class="p">,</span>
                      <span class="n">fit_p0</span><span class="o">=</span><span class="p">[</span><span class="mf">0.5</span><span class="p">,</span> <span class="n">t_q0</span><span class="p">,</span> <span class="mf">0.5</span><span class="p">],</span>
                      <span class="n">fit_bounds</span><span class="o">=</span><span class="p">([</span><span class="o">-</span><span class="mf">0.5</span><span class="p">,</span> <span class="mi">0</span><span class="p">,</span> <span class="o">-</span><span class="mf">0.5</span><span class="p">],</span>
                                  <span class="p">[</span><span class="mf">1.5</span><span class="p">,</span> <span class="mi">40</span><span class="p">,</span> <span class="mf">1.5</span><span class="p">]))</span>

<span class="n">plt</span><span class="o">.</span><span class="n">figure</span><span class="p">(</span><span class="n">figsize</span><span class="o">=</span><span class="p">(</span><span class="mi">15</span><span class="p">,</span> <span class="mi">6</span><span class="p">))</span>
<span class="k">for</span> <span class="n">i</span> <span class="ow">in</span> <span class="nb">range</span><span class="p">(</span><span class="mi">2</span><span class="p">):</span>
    <span class="n">ax</span> <span class="o">=</span> <span class="n">plt</span><span class="o">.</span><span class="n">subplot</span><span class="p">(</span><span class="mi">1</span><span class="p">,</span> <span class="mi">2</span><span class="p">,</span> <span class="n">i</span><span class="o">+</span><span class="mi">1</span><span class="p">)</span>
    <span class="n">t2cpmg_fit</span><span class="o">.</span><span class="n">plot</span><span class="p">(</span><span class="n">i</span><span class="p">,</span> <span class="n">ax</span><span class="o">=</span><span class="n">ax</span><span class="p">)</span>
<span class="n">plt</span><span class="o">.</span><span class="n">show</span><span class="p">()</span>
</pre></div>

    </div>
</div>
</div>

<div class="output_wrapper">
<div class="output">


<div class="output_area">

    <div class="prompt"></div>




<div class="output_png output_subarea ">
<img src="data:image/png;base64,iVBORw0KGgoAAAANSUhEUgAAA4cAAAGZCAYAAAA6rkRUAAAABHNCSVQICAgIfAhkiAAAAAlwSFlz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"
>
</div>

</div>

</div>
</div>

</div>
<div class="cell border-box-sizing code_cell rendered">
<div class="input">
<div class="prompt input_prompt">In&nbsp;[2]:</div>
<div class="inner_cell">
    <div class="input_area">
<div class=" highlight hl-ipython3"><pre><span></span><span class="kn">import</span> <span class="nn">qiskit.tools.jupyter</span>
<span class="o">%</span><span class="k">qiskit_version_table</span>
<span class="o">%</span><span class="k">qiskit_copyright</span>
</pre></div>

    </div>
</div>
</div>

<div class="output_wrapper">
<div class="output">


<div class="output_area">

    <div class="prompt"></div>



<div class="output_html rendered_html output_subarea ">
<h3>Version Information</h3><table><tr><th>Qiskit Software</th><th>Version</th></tr><tr><td>Qiskit</td><td>None</td></tr><tr><td>Terra</td><td>0.9.0</td></tr><tr><td>Aer</td><td>0.3.0</td></tr><tr><td>Ignis</td><td>0.2.0</td></tr><tr><td>Aqua</td><td>0.5.3</td></tr><tr><td>IBM Q Provider</td><td>0.3.2rc1</td></tr><tr><th>System information</th></tr><tr><td>Python</td><td>3.7.4 (default, Aug 13 2019, 15:17:50) 
[Clang 4.0.1 (tags/RELEASE_401/final)]</td></tr><tr><td>OS</td><td>Darwin</td></tr><tr><td>CPUs</td><td>4</td></tr><tr><td>Memory (Gb)</td><td>16.0</td></tr><tr><td colspan='2'>Wed Aug 21 21:30:54 2019 EDT</td></tr></table>
</div>

</div>

<div class="output_area">

    <div class="prompt"></div>



<div class="output_html rendered_html output_subarea ">
<div style='width: 100%; background-color:#d5d9e0;padding-left: 10px; padding-bottom: 10px; padding-right: 10px; padding-top: 5px'><h3>This code is a part of Qiskit</h3><p>&copy; Copyright IBM 2017, 2019.</p><p>This code is licensed under the Apache License, Version 2.0. You may<br>obtain a copy of this license in the LICENSE.txt file in the root directory<br> of this source tree or at http://www.apache.org/licenses/LICENSE-2.0.<p>Any modifications or derivative works of this code must retain this<br>copyright notice, and modified files need to carry a notice indicating<br>that they have been altered from the originals.</p></div>
</div>

</div>

</div>
</div>

</div>
<div class="cell border-box-sizing code_cell rendered">
<div class="input">
<div class="prompt input_prompt">In&nbsp;[&nbsp;]:</div>
<div class="inner_cell">
    <div class="input_area">
<div class=" highlight hl-ipython3"><pre><span></span> 
</pre></div>

    </div>
</div>
</div>

</div>
 


    </div>
  </div>

  </div>


  
    <footer class="footer hidden-print">
      <div class="container">
        <div class="col-md-4">
          <p>
            This website does not host notebooks, it only renders notebooks
            available on other websites.
          </p>
        </div>

        <div class="col-md-4">
          <p>
            Delivered by <a href="https://www.fastly.com/">Fastly</a>,
            Rendered by <a href="https://developer.rackspace.com/?nbviewer=awesome">Rackspace</a>
          </p>
          <p>
            nbviewer GitHub <a href="https://github.com/jupyter/nbviewer">repository</a>.
          </p>
        </div>

        <div class="col-md-4">
          
  
            
              <p>
                nbviewer version:
                <a href="https://github.com/jupyter/nbviewer/commit/8a8fd298b446096dddc874da57e99dd22a2d8d97">
                  8a8fd29
                </a>
              </p>
            
          
  
  <p>
    nbconvert version: <a href="https://github.com/jupyter/nbconvert/releases/tag/5.6.1">
      5.6.1
    </a>
  </p>
  

          
  
  
  <p>
    Rendered
    <span class='date' data-date='Thu, 30 Jan 2020 07:24:01 UTC' title='Thu, 30 Jan 2020 07:24:01 UTC'>(Thu, 30 Jan 2020 07:24:01 UTC)</span>
  </p>
  

        </div>
      </div>
    </footer>
  

  <script src="/static/components/bootstrap/js/bootstrap.min.js?v=5869c96cc8f19086aee625d670d741f9"></script>
  <script src="/static/components/headroom.js/dist/headroom.min.js?v=b0a311ea668f8e768ea375f4a7abb81c"></script>
  <script src="/static/components/headroom.js/dist/jQuery.headroom.min.js?v=f3a1bae118315d0c234afc74dc6aab71"></script>

  
  
  <script>
    $(function(){ $("#menubar").headroom({
      tolerance: 5,
      offset: 205,
      classes: {
        initial: "animated",
        pinned: "slideInDown",
        unpinned: "slideOutUp"
      }
    })});
  </script>


  
  <script>
    (function(i,s,o,g,r,a,m){i['GoogleAnalyticsObject']=r;i[r]=i[r]||function(){
      (i[r].q=i[r].q||[]).push(arguments)},i[r].l=1*new Date();a=s.createElement(o),
      m=s.getElementsByTagName(o)[0];a.async=1;a.src=g;m.parentNode.insertBefore(a,m)
    })(window,document,'script','https://www.google-analytics.com/analytics.js','ga');
    ga('create', 'UA-52617120-5', 'auto',
       {'storage': 'none'});
    ga('set', 'anonymizeIp', true);
    ga('send', 'pageview');
  </script>
  
  <script>
    require({
        paths: {
          moment: "/static/components/moment/min/moment.min.js?v=89f87298ad94aa1e6b92f42eb66da043"
        }
      }, ["moment"], function(moment){
      var date = $("footer .date"),
        m = moment(new Date(date.data('date'))),
        update = function(){ date.text(m.fromNow()); };
      setInterval(update, 61*1000);
      update();
      var w = $(window).scroll(function(event){
        $("body").toggleClass("scrolled", w.scrollTop() > 0);
      });
    });
  </script>

  <!--NEW RELIC Stop Perf Measurement-->
  
  <!--NEW RELIC End-->
</body>
</html>