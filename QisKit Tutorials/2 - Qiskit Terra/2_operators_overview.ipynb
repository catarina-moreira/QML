








<!DOCTYPE html>
<html lang="en">

<head>
  <meta charset="utf-8">
  <title>Jupyter Notebook Viewer</title>
  <meta name="viewport" content="width=device-width, initial-scale=1.0">
  <meta name="description" content="">
  <meta name="author" content="">
  
  <meta name="robots" content="noindex,nofollow">
  

  <!--NEW RELIC Start Perf Measurement-->
  
  <!--NREND-->

  <!-- Le styles -->
  <link href="/static/build/styles.css?v=55ba354138253381d2c0ada9821cd4da" rel="stylesheet">

  <!-- Le HTML5 shim, for IE6-8 support of HTML5 elements -->
  <!--[if lt IE 9]>
    <script src="http://html5shim.googlecode.com/svn/trunk/html5.js"></script>
  <![endif]-->

  <!-- Le fav and touch icons -->
  <link rel="shortcut icon" href="/static/ico/ipynb_icon_16x16.png">
  <link rel="apple-touch-icon-precomposed" sizes="144x144"
        href="/static/ico/apple-touch-icon-144-precomposed.png?v=5a3c9ede93e2a8b8ea9e3f8f3da1a905">
  <link rel="apple-touch-icon-precomposed" sizes="114x114"
        href="/static/ico/apple-touch-icon-114-precomposed.png?v=45d86fc8f24dc00638035e1dd7a6d898">
  <link rel="apple-touch-icon-precomposed" sizes="72x72"
        href="/static/ico/apple-touch-icon-72-precomposed.png?v=540b5eb0f3cfd25f1439d1c9bd30e15f">
  <link rel="apple-touch-icon-precomposed"
        href="/static/ico/apple-touch-icon-57-precomposed.png?v=225f0590e187e1458625654f10a28f56">
  
  

  

  
  <meta name="twitter:card" content="summary">
  <meta name="twitter:title" content="Notebook on nbviewer">
  <meta name="twitter:description" content="Check out this Jupyter notebook!">

  
  <meta name="twitter:domain" content="nbviewer.jupyter.org">
  <meta name="twitter:image:src" content="http://ipython.org/ipython-doc/dev/_images/ipynb_icon_128x128.png">

  
    <link href="/static/build/notebook.css?v=aae8f92f7e80fc468ae446b9d852fe90" rel="stylesheet">
  

  

  
    <script src="https://cdnjs.cloudflare.com/ajax/libs/mathjax/2.7.1/MathJax.js?config=TeX-AMS_HTML" type="text/javascript">
    </script>
    <script type="text/javascript">
      init_mathjax = function() {
        if (window.MathJax) {
          // MathJax loaded
          MathJax.Hub.Config({
            TeX: {
              equationNumbers: {
                autoNumber: "AMS",
                useLabelIds: true
              }
            },
            tex2jax: {
              inlineMath: [ ['$','$'], ["\\(","\\)"] ],
              displayMath: [ ['$$','$$'], ["\\[","\\]"] ],
              processEscapes: true,
              processEnvironments: true
            },
            displayAlign: 'center',
            "HTML-CSS": {
              styles: {'.MathJax_Display': {"margin": 0}},
              linebreaks: { automatic: true }
            }
          });
          MathJax.Hub.Queue(["Typeset", MathJax.Hub]);
        }
      }
      init_mathjax();
    </script>
  

  
    <script>
      (function() {
        function addWidgetsRenderer() {
          var mimeElement = document.querySelector('script[type="application/vnd.jupyter.widget-view+json"]');
          var scriptElement = document.createElement('script');
          var widgetRendererSrc = 'https://unpkg.com/@jupyter-widgets/html-manager@0.15/dist/embed-amd.js';
          var widgetState;

          try {
            widgetState = mimeElement && JSON.parse(mimeElement.innerHTML);

            if (widgetState && (widgetState.version_major < 2 || !widgetState.version_major)) {
              widgetRendererSrc = 'https://unpkg.com/jupyter-js-widgets@2.1/dist/embed.js';
            }
          } catch(e) {}

          scriptElement.src = widgetRendererSrc;
          document.body.appendChild(scriptElement);
        }

        document.addEventListener('DOMContentLoaded', addWidgetsRenderer);
      }());
    </script>
  

</head>

<body class="nbviewer">

  <!-- These are loaded at the top of the body so they are available to
       notebook cells when they are loaded below. -->
  <script src="/static/components/jquery/dist/jquery.min.js?v=220afd743d9e9643852e31a135a9f3ae"></script>
  <script src="/static/components/requirejs/require.js?v=6da8be361b9ee26c5e721e76c6d4afce"></script>
  <script src="/static/components/moment/min/moment.min.js?v=89f87298ad94aa1e6b92f42eb66da043"></script>
<!-- Navbar
================================================== -->
  <nav id="menubar" class="navbar navbar-default navbar-fixed-top" data-spy="affix">
    <div class="container">
      <div class="navbar-header">
        <button type="button" class="navbar-toggle collapsed" data-toggle="collapse" data-target=".navbar-collapse">
          <span class="sr-only">Toggle navigation</span>
          <i class="fa fa-bars"></i>
        </button>
        <a class="navbar-brand" href="/">
          <img src="/static/img/nav_logo.svg?v=479cefe8d932fb14a67b93911b97d70f" width="159"/>
        </a>
      </div>

      <div class="collapse navbar-collapse">
        <ul class="nav navbar-nav navbar-right">
          <li>
            <a class="active" href="https://jupyter.org">JUPYTER</a>
          </li>
          <li>
    <a href="/faq" title="FAQ" >
      
        <span>FAQ</span>
      
    </a>
  </li>

          
  
    
  
    
      
        <li>
    <a href="/format/script/github/Qiskit/qiskit-tutorials/blob/master/qiskit/advanced/terra/2_operators_overview.ipynb" title="View as Code" >
      <span class="fa fa-code fa-2x menu-icon"></span>
      <span class="menu-text">View as Code</span>
    </a>
  </li>
      
    
  

  
    <li>
    <a href="#" title="Python 3 Kernel" >
      <span class="fa fa-server fa-2x menu-icon"></span>
      <span class="menu-text">Python 3 Kernel</span>
    </a>
  </li>
  

  
    <li>
    <a href="https://github.com/Qiskit/qiskit-tutorials/blob/master/qiskit/advanced/terra/2_operators_overview.ipynb" title="View on GitHub" >
      <span class="fa fa-github fa-2x menu-icon"></span>
      <span class="menu-text">View on GitHub</span>
    </a>
  </li>
  

  
    <li>
    <a href="https://mybinder.org/v2/gh/Qiskit/qiskit-tutorials/master?filepath=qiskit/advanced/terra/2_operators_overview.ipynb" title="Execute on Binder" >
      <span class="fa fa-icon-binder fa-2x menu-icon"></span>
      <span class="menu-text">Execute on Binder</span>
    </a>
  </li>
  

  <li>
    <a href="https://raw.githubusercontent.com/Qiskit/qiskit-tutorials/master/qiskit/advanced/terra/2_operators_overview.ipynb" title="Download Notebook" download>
      <span class="fa fa-download fa-2x menu-icon"></span>
      <span class="menu-text">Download Notebook</span>
    </a>
  </li>

        </ul>
      </div><!-- /.navbar-collapse -->
      
      
    </div>
  </nav>

  <div class="container container-main">
    
  
  <ol class="breadcrumb">
    
      <li>
        <a href="/github/Qiskit/qiskit-tutorials/tree/master">qiskit-tutorials</a>
      </li>
    
      <li>
        <a href="/github/Qiskit/qiskit-tutorials/tree/master/qiskit">qiskit</a>
      </li>
    
      <li>
        <a href="/github/Qiskit/qiskit-tutorials/tree/master/qiskit/advanced">advanced</a>
      </li>
    
      <li>
        <a href="/github/Qiskit/qiskit-tutorials/tree/master/qiskit/advanced/terra">terra</a>
      </li>
    
  </ol>
  
  <div id="notebook">
    <div id="notebook-container">
      <div class="cell border-box-sizing text_cell rendered"><div class="prompt input_prompt">
</div><div class="inner_cell">
<div class="text_cell_render border-box-sizing rendered_html">
<p><img src="data:image/png;base64,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" alt="qiskit_header.png"></p>

</div>
</div>
</div>
<div class="cell border-box-sizing text_cell rendered"><div class="prompt input_prompt">
</div><div class="inner_cell">
<div class="text_cell_render border-box-sizing rendered_html">
<h2 id="Introduction">Introduction<a class="anchor-link" href="#Introduction">&#182;</a></h2><p>This notebook shows how to use the <code>Operator</code> class from the <em>Quantum Information</em> module of Qiskit to create custom matrix operators and custom unitary gates, and to evaluate the unitary matrix for a quantum circuit.</p>

</div>
</div>
</div>
<div class="cell border-box-sizing code_cell rendered">
<div class="input">
<div class="prompt input_prompt">In&nbsp;[1]:</div>
<div class="inner_cell">
    <div class="input_area">
<div class=" highlight hl-ipython3"><pre><span></span><span class="kn">import</span> <span class="nn">numpy</span> <span class="k">as</span> <span class="nn">np</span>

<span class="kn">from</span> <span class="nn">qiskit</span> <span class="k">import</span> <span class="n">QuantumCircuit</span><span class="p">,</span> <span class="n">ClassicalRegister</span><span class="p">,</span> <span class="n">QuantumRegister</span>
<span class="kn">from</span> <span class="nn">qiskit</span> <span class="k">import</span> <span class="n">execute</span><span class="p">,</span> <span class="n">BasicAer</span>
<span class="kn">from</span> <span class="nn">qiskit.compiler</span> <span class="k">import</span> <span class="n">transpile</span>
<span class="kn">from</span> <span class="nn">qiskit.quantum_info.operators</span> <span class="k">import</span> <span class="n">Operator</span><span class="p">,</span> <span class="n">Pauli</span>
<span class="kn">from</span> <span class="nn">qiskit.quantum_info</span> <span class="k">import</span> <span class="n">process_fidelity</span>

<span class="kn">from</span> <span class="nn">qiskit.extensions</span> <span class="k">import</span> <span class="n">RXGate</span><span class="p">,</span> <span class="n">CnotGate</span><span class="p">,</span> <span class="n">XGate</span>
</pre></div>

    </div>
</div>
</div>

</div>
<div class="cell border-box-sizing text_cell rendered"><div class="prompt input_prompt">
</div><div class="inner_cell">
<div class="text_cell_render border-box-sizing rendered_html">
<h2 id="Operator-Class">Operator Class<a class="anchor-link" href="#Operator-Class">&#182;</a></h2><p>The <code>Operator</code> class is used in Qiskit to represent matrix operators acting on a quantum system. It has several methods to build composite operators using tensor products of smaller operators, and to compose operators.</p>
<h3 id="Creating-Operators">Creating Operators<a class="anchor-link" href="#Creating-Operators">&#182;</a></h3><p>The easiest way to create an operator object is to initialize it with a matrix given as a list or a Numpy array. For example, to create a two-qubit Pauli-XX operator:</p>

</div>
</div>
</div>
<div class="cell border-box-sizing code_cell rendered">
<div class="input">
<div class="prompt input_prompt">In&nbsp;[2]:</div>
<div class="inner_cell">
    <div class="input_area">
<div class=" highlight hl-ipython3"><pre><span></span><span class="n">XX</span> <span class="o">=</span> <span class="n">Operator</span><span class="p">([[</span><span class="mi">0</span><span class="p">,</span> <span class="mi">0</span><span class="p">,</span> <span class="mi">0</span><span class="p">,</span> <span class="mi">1</span><span class="p">],</span> <span class="p">[</span><span class="mi">0</span><span class="p">,</span> <span class="mi">0</span><span class="p">,</span> <span class="mi">1</span><span class="p">,</span> <span class="mi">0</span><span class="p">],</span> <span class="p">[</span><span class="mi">0</span><span class="p">,</span> <span class="mi">1</span><span class="p">,</span> <span class="mi">0</span><span class="p">,</span> <span class="mi">0</span><span class="p">],</span> <span class="p">[</span><span class="mi">1</span><span class="p">,</span> <span class="mi">0</span><span class="p">,</span> <span class="mi">0</span><span class="p">,</span> <span class="mi">0</span><span class="p">]])</span>
<span class="n">XX</span>
</pre></div>

    </div>
</div>
</div>

<div class="output_wrapper">
<div class="output">


<div class="output_area">

    <div class="prompt output_prompt">Out[2]:</div>




<div class="output_text output_subarea output_execute_result">
<pre>Operator([[0.+0.j 0.+0.j 0.+0.j 1.+0.j]
 [0.+0.j 0.+0.j 1.+0.j 0.+0.j]
 [0.+0.j 1.+0.j 0.+0.j 0.+0.j]
 [1.+0.j 0.+0.j 0.+0.j 0.+0.j]], input_dims=(2, 2), output_dims=(2, 2))</pre>
</div>

</div>

</div>
</div>

</div>
<div class="cell border-box-sizing text_cell rendered"><div class="prompt input_prompt">
</div><div class="inner_cell">
<div class="text_cell_render border-box-sizing rendered_html">
<h3 id="Operator-Properties">Operator Properties<a class="anchor-link" href="#Operator-Properties">&#182;</a></h3><p>The operator object stores the underlying matrix, and the input and output dimension of subsystems.</p>
<ul>
<li><code>data</code>: To access the underly Numpy array, we may use the <code>Operator.data</code> property.</li>
<li><code>dims</code>: To return the total input and output dimension of the operator, we may use the <code>Operator.dim</code> property. <em>Note: the output is returned as a tuple <code>(input_dim, output_dim)</code>, which is the reverse of the shape of the underlying matrix.</em></li>
</ul>

</div>
</div>
</div>
<div class="cell border-box-sizing code_cell rendered">
<div class="input">
<div class="prompt input_prompt">In&nbsp;[3]:</div>
<div class="inner_cell">
    <div class="input_area">
<div class=" highlight hl-ipython3"><pre><span></span><span class="n">XX</span><span class="o">.</span><span class="n">data</span>
</pre></div>

    </div>
</div>
</div>

<div class="output_wrapper">
<div class="output">


<div class="output_area">

    <div class="prompt output_prompt">Out[3]:</div>




<div class="output_text output_subarea output_execute_result">
<pre>array([[0.+0.j, 0.+0.j, 0.+0.j, 1.+0.j],
       [0.+0.j, 0.+0.j, 1.+0.j, 0.+0.j],
       [0.+0.j, 1.+0.j, 0.+0.j, 0.+0.j],
       [1.+0.j, 0.+0.j, 0.+0.j, 0.+0.j]])</pre>
</div>

</div>

</div>
</div>

</div>
<div class="cell border-box-sizing code_cell rendered">
<div class="input">
<div class="prompt input_prompt">In&nbsp;[4]:</div>
<div class="inner_cell">
    <div class="input_area">
<div class=" highlight hl-ipython3"><pre><span></span><span class="n">input_dim</span><span class="p">,</span> <span class="n">output_dim</span> <span class="o">=</span> <span class="n">XX</span><span class="o">.</span><span class="n">dim</span>
<span class="n">input_dim</span><span class="p">,</span> <span class="n">output_dim</span>
</pre></div>

    </div>
</div>
</div>

<div class="output_wrapper">
<div class="output">


<div class="output_area">

    <div class="prompt output_prompt">Out[4]:</div>




<div class="output_text output_subarea output_execute_result">
<pre>(4, 4)</pre>
</div>

</div>

</div>
</div>

</div>
<div class="cell border-box-sizing text_cell rendered"><div class="prompt input_prompt">
</div><div class="inner_cell">
<div class="text_cell_render border-box-sizing rendered_html">
<h3 id="Input-and-Output-Dimensions">Input and Output Dimensions<a class="anchor-link" href="#Input-and-Output-Dimensions">&#182;</a></h3><p>The operator class also keeps track of subsystem dimensions, which can be used for composing operators together. These can be accessed using the <code>input_dims</code> and <code>output_dims</code> functions.</p>
<p>For $2^N$ by $2^M$ operators, the input and output dimension will be automatically assumed to be M-qubit and N-qubit:</p>

</div>
</div>
</div>
<div class="cell border-box-sizing code_cell rendered">
<div class="input">
<div class="prompt input_prompt">In&nbsp;[5]:</div>
<div class="inner_cell">
    <div class="input_area">
<div class=" highlight hl-ipython3"><pre><span></span><span class="n">op</span> <span class="o">=</span> <span class="n">Operator</span><span class="p">(</span><span class="n">np</span><span class="o">.</span><span class="n">random</span><span class="o">.</span><span class="n">rand</span><span class="p">(</span><span class="mi">2</span> <span class="o">**</span> <span class="mi">1</span><span class="p">,</span> <span class="mi">2</span> <span class="o">**</span> <span class="mi">2</span><span class="p">))</span>
<span class="nb">print</span><span class="p">(</span><span class="s1">&#39;Input dimensions:&#39;</span><span class="p">,</span> <span class="n">op</span><span class="o">.</span><span class="n">input_dims</span><span class="p">())</span>
<span class="nb">print</span><span class="p">(</span><span class="s1">&#39;Output dimensions:&#39;</span><span class="p">,</span> <span class="n">op</span><span class="o">.</span><span class="n">output_dims</span><span class="p">())</span>
</pre></div>

    </div>
</div>
</div>

<div class="output_wrapper">
<div class="output">


<div class="output_area">

    <div class="prompt"></div>


<div class="output_subarea output_stream output_stdout output_text">
<pre>Input dimensions: (2, 2)
Output dimensions: (2,)
</pre>
</div>
</div>

</div>
</div>

</div>
<div class="cell border-box-sizing text_cell rendered"><div class="prompt input_prompt">
</div><div class="inner_cell">
<div class="text_cell_render border-box-sizing rendered_html">
<p>If the input matrix is not divisible into qubit subsystems, then it will be stored as a single-qubit operator. For example, if we have a $6\times6$ matrix:</p>

</div>
</div>
</div>
<div class="cell border-box-sizing code_cell rendered">
<div class="input">
<div class="prompt input_prompt">In&nbsp;[6]:</div>
<div class="inner_cell">
    <div class="input_area">
<div class=" highlight hl-ipython3"><pre><span></span><span class="n">op</span> <span class="o">=</span> <span class="n">Operator</span><span class="p">(</span><span class="n">np</span><span class="o">.</span><span class="n">random</span><span class="o">.</span><span class="n">rand</span><span class="p">(</span><span class="mi">6</span><span class="p">,</span> <span class="mi">6</span><span class="p">))</span>
<span class="nb">print</span><span class="p">(</span><span class="s1">&#39;Input dimensions:&#39;</span><span class="p">,</span> <span class="n">op</span><span class="o">.</span><span class="n">input_dims</span><span class="p">())</span>
<span class="nb">print</span><span class="p">(</span><span class="s1">&#39;Output dimensions:&#39;</span><span class="p">,</span> <span class="n">op</span><span class="o">.</span><span class="n">output_dims</span><span class="p">())</span>
</pre></div>

    </div>
</div>
</div>

<div class="output_wrapper">
<div class="output">


<div class="output_area">

    <div class="prompt"></div>


<div class="output_subarea output_stream output_stdout output_text">
<pre>Input dimensions: (6,)
Output dimensions: (6,)
</pre>
</div>
</div>

</div>
</div>

</div>
<div class="cell border-box-sizing text_cell rendered"><div class="prompt input_prompt">
</div><div class="inner_cell">
<div class="text_cell_render border-box-sizing rendered_html">
<p>The input and output dimension can also be manually specified when initializing a new operator:</p>

</div>
</div>
</div>
<div class="cell border-box-sizing code_cell rendered">
<div class="input">
<div class="prompt input_prompt">In&nbsp;[7]:</div>
<div class="inner_cell">
    <div class="input_area">
<div class=" highlight hl-ipython3"><pre><span></span><span class="c1"># Force input dimension to be (4,) rather than (2, 2)</span>
<span class="n">op</span> <span class="o">=</span> <span class="n">Operator</span><span class="p">(</span><span class="n">np</span><span class="o">.</span><span class="n">random</span><span class="o">.</span><span class="n">rand</span><span class="p">(</span><span class="mi">2</span> <span class="o">**</span> <span class="mi">1</span><span class="p">,</span> <span class="mi">2</span> <span class="o">**</span> <span class="mi">2</span><span class="p">),</span> <span class="n">input_dims</span><span class="o">=</span><span class="p">[</span><span class="mi">4</span><span class="p">])</span>
<span class="nb">print</span><span class="p">(</span><span class="s1">&#39;Input dimensions:&#39;</span><span class="p">,</span> <span class="n">op</span><span class="o">.</span><span class="n">input_dims</span><span class="p">())</span>
<span class="nb">print</span><span class="p">(</span><span class="s1">&#39;Output dimensions:&#39;</span><span class="p">,</span> <span class="n">op</span><span class="o">.</span><span class="n">output_dims</span><span class="p">())</span>
</pre></div>

    </div>
</div>
</div>

<div class="output_wrapper">
<div class="output">


<div class="output_area">

    <div class="prompt"></div>


<div class="output_subarea output_stream output_stdout output_text">
<pre>Input dimensions: (4,)
Output dimensions: (2,)
</pre>
</div>
</div>

</div>
</div>

</div>
<div class="cell border-box-sizing code_cell rendered">
<div class="input">
<div class="prompt input_prompt">In&nbsp;[8]:</div>
<div class="inner_cell">
    <div class="input_area">
<div class=" highlight hl-ipython3"><pre><span></span><span class="c1"># Specify system is a qubit and qutrit</span>
<span class="n">op</span> <span class="o">=</span> <span class="n">Operator</span><span class="p">(</span><span class="n">np</span><span class="o">.</span><span class="n">random</span><span class="o">.</span><span class="n">rand</span><span class="p">(</span><span class="mi">6</span><span class="p">,</span> <span class="mi">6</span><span class="p">),</span>
              <span class="n">input_dims</span><span class="o">=</span><span class="p">[</span><span class="mi">2</span><span class="p">,</span> <span class="mi">3</span><span class="p">],</span> <span class="n">output_dims</span><span class="o">=</span><span class="p">[</span><span class="mi">2</span><span class="p">,</span> <span class="mi">3</span><span class="p">])</span>
<span class="nb">print</span><span class="p">(</span><span class="s1">&#39;Input dimensions:&#39;</span><span class="p">,</span> <span class="n">op</span><span class="o">.</span><span class="n">input_dims</span><span class="p">())</span>
<span class="nb">print</span><span class="p">(</span><span class="s1">&#39;Output dimensions:&#39;</span><span class="p">,</span> <span class="n">op</span><span class="o">.</span><span class="n">output_dims</span><span class="p">())</span>
</pre></div>

    </div>
</div>
</div>

<div class="output_wrapper">
<div class="output">


<div class="output_area">

    <div class="prompt"></div>


<div class="output_subarea output_stream output_stdout output_text">
<pre>Input dimensions: (2, 3)
Output dimensions: (2, 3)
</pre>
</div>
</div>

</div>
</div>

</div>
<div class="cell border-box-sizing text_cell rendered"><div class="prompt input_prompt">
</div><div class="inner_cell">
<div class="text_cell_render border-box-sizing rendered_html">
<p>We can also extract just the input or output dimensions of a subset of subsystems using the <code>input_dims</code> and <code>output_dims</code> functions:</p>

</div>
</div>
</div>
<div class="cell border-box-sizing code_cell rendered">
<div class="input">
<div class="prompt input_prompt">In&nbsp;[9]:</div>
<div class="inner_cell">
    <div class="input_area">
<div class=" highlight hl-ipython3"><pre><span></span><span class="nb">print</span><span class="p">(</span><span class="s1">&#39;Dimension of input system 0:&#39;</span><span class="p">,</span> <span class="n">op</span><span class="o">.</span><span class="n">input_dims</span><span class="p">([</span><span class="mi">0</span><span class="p">]))</span>
<span class="nb">print</span><span class="p">(</span><span class="s1">&#39;Dimension of input system 1:&#39;</span><span class="p">,</span> <span class="n">op</span><span class="o">.</span><span class="n">input_dims</span><span class="p">([</span><span class="mi">1</span><span class="p">]))</span>
</pre></div>

    </div>
</div>
</div>

<div class="output_wrapper">
<div class="output">


<div class="output_area">

    <div class="prompt"></div>


<div class="output_subarea output_stream output_stdout output_text">
<pre>Dimension of input system 0: (2,)
Dimension of input system 1: (3,)
</pre>
</div>
</div>

</div>
</div>

</div>
<div class="cell border-box-sizing text_cell rendered"><div class="prompt input_prompt">
</div><div class="inner_cell">
<div class="text_cell_render border-box-sizing rendered_html">
<h2 id="Converting-classes-to-Operators">Converting classes to Operators<a class="anchor-link" href="#Converting-classes-to-Operators">&#182;</a></h2><p>Several other classes in Qiskit can be directly converted to an <code>Operator</code> object using the operator initialization method. For example:</p>
<ul>
<li><code>Pauli</code> objects</li>
<li><code>Gate</code> and <code>Instruction</code> objects</li>
<li><code>QuantumCircuits</code> objects</li>
</ul>
<p>Note that the last point means we can use the <code>Operator</code> class as a unitary simulator to compute the final unitary matrix for a quantum circuit, without having to call a simulator backend. If the circuit contains any unsupported operations, an exception will be raised. Unsupported operations are: measure, reset, conditional operations, or a gate that does not have a matrix definition or decomposition in terms of gate with matrix definitions.</p>

</div>
</div>
</div>
<div class="cell border-box-sizing code_cell rendered">
<div class="input">
<div class="prompt input_prompt">In&nbsp;[10]:</div>
<div class="inner_cell">
    <div class="input_area">
<div class=" highlight hl-ipython3"><pre><span></span><span class="c1"># Create an Operator from a Pauli object</span>

<span class="n">pauliXX</span> <span class="o">=</span> <span class="n">Pauli</span><span class="p">(</span><span class="n">label</span><span class="o">=</span><span class="s1">&#39;XX&#39;</span><span class="p">)</span>
<span class="n">Operator</span><span class="p">(</span><span class="n">pauliXX</span><span class="p">)</span>
</pre></div>

    </div>
</div>
</div>

<div class="output_wrapper">
<div class="output">


<div class="output_area">

    <div class="prompt output_prompt">Out[10]:</div>




<div class="output_text output_subarea output_execute_result">
<pre>Operator([[0.+0.j 0.+0.j 0.+0.j 1.+0.j]
 [0.+0.j 0.+0.j 1.+0.j 0.+0.j]
 [0.+0.j 1.+0.j 0.+0.j 0.+0.j]
 [1.+0.j 0.+0.j 0.+0.j 0.+0.j]], input_dims=(2, 2), output_dims=(2, 2))</pre>
</div>

</div>

</div>
</div>

</div>
<div class="cell border-box-sizing code_cell rendered">
<div class="input">
<div class="prompt input_prompt">In&nbsp;[11]:</div>
<div class="inner_cell">
    <div class="input_area">
<div class=" highlight hl-ipython3"><pre><span></span><span class="c1"># Create an Operator for a Gate object</span>
<span class="n">Operator</span><span class="p">(</span><span class="n">CnotGate</span><span class="p">())</span>
</pre></div>

    </div>
</div>
</div>

<div class="output_wrapper">
<div class="output">


<div class="output_area">

    <div class="prompt output_prompt">Out[11]:</div>




<div class="output_text output_subarea output_execute_result">
<pre>Operator([[1.+0.j 0.+0.j 0.+0.j 0.+0.j]
 [0.+0.j 0.+0.j 0.+0.j 1.+0.j]
 [0.+0.j 0.+0.j 1.+0.j 0.+0.j]
 [0.+0.j 1.+0.j 0.+0.j 0.+0.j]], input_dims=(2, 2), output_dims=(2, 2))</pre>
</div>

</div>

</div>
</div>

</div>
<div class="cell border-box-sizing code_cell rendered">
<div class="input">
<div class="prompt input_prompt">In&nbsp;[12]:</div>
<div class="inner_cell">
    <div class="input_area">
<div class=" highlight hl-ipython3"><pre><span></span><span class="c1"># Create an operator from a parameterized Gate object</span>
<span class="n">Operator</span><span class="p">(</span><span class="n">RXGate</span><span class="p">(</span><span class="n">np</span><span class="o">.</span><span class="n">pi</span> <span class="o">/</span> <span class="mi">2</span><span class="p">))</span>
</pre></div>

    </div>
</div>
</div>

<div class="output_wrapper">
<div class="output">


<div class="output_area">

    <div class="prompt output_prompt">Out[12]:</div>




<div class="output_text output_subarea output_execute_result">
<pre>Operator([[0.70710678+0.j         0.        -0.70710678j]
 [0.        -0.70710678j 0.70710678+0.j        ]], input_dims=(2,), output_dims=(2,))</pre>
</div>

</div>

</div>
</div>

</div>
<div class="cell border-box-sizing code_cell rendered">
<div class="input">
<div class="prompt input_prompt">In&nbsp;[13]:</div>
<div class="inner_cell">
    <div class="input_area">
<div class=" highlight hl-ipython3"><pre><span></span><span class="c1"># Create an operator from a QuantumCircuit object</span>
<span class="n">circ</span> <span class="o">=</span> <span class="n">QuantumCircuit</span><span class="p">(</span><span class="mi">10</span><span class="p">)</span>
<span class="n">circ</span><span class="o">.</span><span class="n">h</span><span class="p">(</span><span class="mi">0</span><span class="p">)</span>
<span class="k">for</span> <span class="n">j</span> <span class="ow">in</span> <span class="nb">range</span><span class="p">(</span><span class="mi">1</span><span class="p">,</span> <span class="mi">10</span><span class="p">):</span>
    <span class="n">circ</span><span class="o">.</span><span class="n">cx</span><span class="p">(</span><span class="n">j</span><span class="o">-</span><span class="mi">1</span><span class="p">,</span> <span class="n">j</span><span class="p">)</span>

<span class="c1"># Convert circuit to an operator by implicit unitary simulation</span>
<span class="n">Operator</span><span class="p">(</span><span class="n">circ</span><span class="p">)</span>
</pre></div>

    </div>
</div>
</div>

<div class="output_wrapper">
<div class="output">


<div class="output_area">

    <div class="prompt output_prompt">Out[13]:</div>




<div class="output_text output_subarea output_execute_result">
<pre>Operator([[ 0.70710678+0.j  0.70710678+0.j  0.        +0.j ...  0.        +0.j
   0.        +0.j  0.        +0.j]
 [ 0.        +0.j  0.        +0.j  0.70710678+0.j ...  0.        +0.j
   0.        +0.j  0.        +0.j]
 [ 0.        +0.j  0.        +0.j  0.        +0.j ...  0.        +0.j
   0.        +0.j  0.        +0.j]
 ...
 [ 0.        +0.j  0.        +0.j  0.        +0.j ...  0.        +0.j
   0.        +0.j  0.        +0.j]
 [ 0.        +0.j  0.        +0.j  0.70710678+0.j ...  0.        +0.j
   0.        +0.j  0.        +0.j]
 [ 0.70710678+0.j -0.70710678+0.j  0.        +0.j ...  0.        +0.j
   0.        +0.j  0.        +0.j]], input_dims=(2, 2, 2, 2, 2, 2, 2, 2, 2, 2), output_dims=(2, 2, 2, 2, 2, 2, 2, 2, 2, 2))</pre>
</div>

</div>

</div>
</div>

</div>
<div class="cell border-box-sizing text_cell rendered"><div class="prompt input_prompt">
</div><div class="inner_cell">
<div class="text_cell_render border-box-sizing rendered_html">
<h2 id="Using-Operators-in-circuits">Using Operators in circuits<a class="anchor-link" href="#Using-Operators-in-circuits">&#182;</a></h2><p>Unitary <code>Operators</code> can be directly inserted into a <code>QuantumCircuit</code> using the <code>QuantumCircuit.append</code> method. This converts the <code>Operator</code> into a <code>UnitaryGate</code> object, which is added to the circuit.</p>
<p>If the operator is not unitary, an exception will be raised. This can be checked using the <code>Operator.is_unitary()</code> function, which will return <code>True</code> if the operator is unitary and <code>False</code> otherwise.</p>

</div>
</div>
</div>
<div class="cell border-box-sizing code_cell rendered">
<div class="input">
<div class="prompt input_prompt">In&nbsp;[14]:</div>
<div class="inner_cell">
    <div class="input_area">
<div class=" highlight hl-ipython3"><pre><span></span><span class="c1"># Create an operator</span>
<span class="n">XX</span> <span class="o">=</span> <span class="n">Operator</span><span class="p">(</span><span class="n">Pauli</span><span class="p">(</span><span class="n">label</span><span class="o">=</span><span class="s1">&#39;XX&#39;</span><span class="p">))</span>

<span class="c1"># Check unitary</span>
<span class="nb">print</span><span class="p">(</span><span class="s1">&#39;Operatator is unitary:&#39;</span><span class="p">,</span> <span class="n">XX</span><span class="o">.</span><span class="n">is_unitary</span><span class="p">())</span>

<span class="c1"># Add to a circuit</span>
<span class="n">circ</span> <span class="o">=</span> <span class="n">QuantumCircuit</span><span class="p">(</span><span class="mi">2</span><span class="p">,</span> <span class="mi">2</span><span class="p">)</span>
<span class="n">circ</span><span class="o">.</span><span class="n">append</span><span class="p">(</span><span class="n">XX</span><span class="p">,</span> <span class="p">[</span><span class="mi">0</span><span class="p">,</span> <span class="mi">1</span><span class="p">])</span>
<span class="n">circ</span><span class="o">.</span><span class="n">measure</span><span class="p">([</span><span class="mi">0</span><span class="p">,</span><span class="mi">1</span><span class="p">],</span> <span class="p">[</span><span class="mi">0</span><span class="p">,</span><span class="mi">1</span><span class="p">])</span>
<span class="nb">print</span><span class="p">(</span><span class="n">circ</span><span class="p">)</span>

<span class="n">backend</span> <span class="o">=</span> <span class="n">BasicAer</span><span class="o">.</span><span class="n">get_backend</span><span class="p">(</span><span class="s1">&#39;qasm_simulator&#39;</span><span class="p">)</span>
<span class="n">job</span> <span class="o">=</span> <span class="n">execute</span><span class="p">(</span><span class="n">circ</span><span class="p">,</span> <span class="n">backend</span><span class="p">,</span> <span class="n">basis_gates</span><span class="o">=</span><span class="p">[</span><span class="s1">&#39;u1&#39;</span><span class="p">,</span><span class="s1">&#39;u2&#39;</span><span class="p">,</span><span class="s1">&#39;u3&#39;</span><span class="p">,</span><span class="s1">&#39;cx&#39;</span><span class="p">])</span>
<span class="n">job</span><span class="o">.</span><span class="n">result</span><span class="p">()</span><span class="o">.</span><span class="n">get_counts</span><span class="p">(</span><span class="mi">0</span><span class="p">)</span>
</pre></div>

    </div>
</div>
</div>

<div class="output_wrapper">
<div class="output">


<div class="output_area">

    <div class="prompt"></div>


<div class="output_subarea output_stream output_stdout output_text">
<pre>Operatator is unitary: True
        ┌──────────┐┌─┐   
q_0: |0&gt;┤0         ├┤M├───
        │  unitary │└╥┘┌─┐
q_1: |0&gt;┤1         ├─╫─┤M├
        └──────────┘ ║ └╥┘
 c_0: 0 ═════════════╩══╬═
                        ║ 
 c_1: 0 ════════════════╩═
                          
</pre>
</div>
</div>

<div class="output_area">

    <div class="prompt output_prompt">Out[14]:</div>




<div class="output_text output_subarea output_execute_result">
<pre>{&#39;11&#39;: 1024}</pre>
</div>

</div>

</div>
</div>

</div>
<div class="cell border-box-sizing text_cell rendered"><div class="prompt input_prompt">
</div><div class="inner_cell">
<div class="text_cell_render border-box-sizing rendered_html">
<p>Note that in the above example we initialize the operator from a <code>Pauli</code> object. However, the <code>Pauli</code> object may also be directly inserted into the circuit itself and will be converted into a sequence of single-qubit Pauli gates:</p>

</div>
</div>
</div>
<div class="cell border-box-sizing code_cell rendered">
<div class="input">
<div class="prompt input_prompt">In&nbsp;[15]:</div>
<div class="inner_cell">
    <div class="input_area">
<div class=" highlight hl-ipython3"><pre><span></span><span class="c1"># Add to a circuit</span>
<span class="n">circ2</span> <span class="o">=</span> <span class="n">QuantumCircuit</span><span class="p">(</span><span class="mi">2</span><span class="p">,</span> <span class="mi">2</span><span class="p">)</span>
<span class="n">circ2</span><span class="o">.</span><span class="n">append</span><span class="p">(</span><span class="n">Pauli</span><span class="p">(</span><span class="n">label</span><span class="o">=</span><span class="s1">&#39;XX&#39;</span><span class="p">),</span> <span class="p">[</span><span class="mi">0</span><span class="p">,</span> <span class="mi">1</span><span class="p">])</span>
<span class="n">circ2</span><span class="o">.</span><span class="n">measure</span><span class="p">([</span><span class="mi">0</span><span class="p">,</span><span class="mi">1</span><span class="p">],</span> <span class="p">[</span><span class="mi">0</span><span class="p">,</span><span class="mi">1</span><span class="p">])</span>
<span class="nb">print</span><span class="p">(</span><span class="n">circ2</span><span class="p">)</span>

<span class="c1"># Simulate</span>
<span class="n">job2</span> <span class="o">=</span> <span class="n">execute</span><span class="p">(</span><span class="n">circ2</span><span class="p">,</span> <span class="n">backend</span><span class="p">)</span>
<span class="n">job2</span><span class="o">.</span><span class="n">result</span><span class="p">()</span><span class="o">.</span><span class="n">get_counts</span><span class="p">(</span><span class="mi">0</span><span class="p">)</span>
</pre></div>

    </div>
</div>
</div>

<div class="output_wrapper">
<div class="output">


<div class="output_area">

    <div class="prompt"></div>


<div class="output_subarea output_stream output_stdout output_text">
<pre>        ┌───────────┐┌─┐   
q_0: |0&gt;┤0          ├┤M├───
        │  Pauli:XX │└╥┘┌─┐
q_1: |0&gt;┤1          ├─╫─┤M├
        └───────────┘ ║ └╥┘
 c_0: 0 ══════════════╩══╬═
                         ║ 
 c_1: 0 ═════════════════╩═
                           
</pre>
</div>
</div>

<div class="output_area">

    <div class="prompt output_prompt">Out[15]:</div>




<div class="output_text output_subarea output_execute_result">
<pre>{&#39;11&#39;: 1024}</pre>
</div>

</div>

</div>
</div>

</div>
<div class="cell border-box-sizing text_cell rendered"><div class="prompt input_prompt">
</div><div class="inner_cell">
<div class="text_cell_render border-box-sizing rendered_html">
<h2 id="Combining-Operators">Combining Operators<a class="anchor-link" href="#Combining-Operators">&#182;</a></h2><p>Operators my be combined using several methods.</p>
<h3 id="Tensor-Product">Tensor Product<a class="anchor-link" href="#Tensor-Product">&#182;</a></h3><p>Two operators $A$ and $B$ may be combined into a tensor product operator $A\otimes B$ using the <code>Operator.tensor</code> function. Note that if both A and B are single-qubit operators, then <code>A.tensor(B)</code> = $A\otimes B$ will have the subsystems indexed as matrix B  on subsystem 0, and matrix $A$ on subsystem 1.</p>

</div>
</div>
</div>
<div class="cell border-box-sizing code_cell rendered">
<div class="input">
<div class="prompt input_prompt">In&nbsp;[16]:</div>
<div class="inner_cell">
    <div class="input_area">
<div class=" highlight hl-ipython3"><pre><span></span><span class="n">A</span> <span class="o">=</span> <span class="n">Operator</span><span class="p">(</span><span class="n">Pauli</span><span class="p">(</span><span class="n">label</span><span class="o">=</span><span class="s1">&#39;X&#39;</span><span class="p">))</span>
<span class="n">B</span> <span class="o">=</span> <span class="n">Operator</span><span class="p">(</span><span class="n">Pauli</span><span class="p">(</span><span class="n">label</span><span class="o">=</span><span class="s1">&#39;Z&#39;</span><span class="p">))</span>
<span class="n">A</span><span class="o">.</span><span class="n">tensor</span><span class="p">(</span><span class="n">B</span><span class="p">)</span>
</pre></div>

    </div>
</div>
</div>

<div class="output_wrapper">
<div class="output">


<div class="output_area">

    <div class="prompt output_prompt">Out[16]:</div>




<div class="output_text output_subarea output_execute_result">
<pre>Operator([[ 0.+0.j  0.+0.j  1.+0.j  0.+0.j]
 [ 0.+0.j -0.+0.j  0.+0.j -1.+0.j]
 [ 1.+0.j  0.+0.j  0.+0.j  0.+0.j]
 [ 0.+0.j -1.+0.j  0.+0.j -0.+0.j]], input_dims=(2, 2), output_dims=(2, 2))</pre>
</div>

</div>

</div>
</div>

</div>
<div class="cell border-box-sizing text_cell rendered"><div class="prompt input_prompt">
</div><div class="inner_cell">
<div class="text_cell_render border-box-sizing rendered_html">
<h3 id="Tensor-Expansion">Tensor Expansion<a class="anchor-link" href="#Tensor-Expansion">&#182;</a></h3><p>A closely related operation is <code>Operator.expand</code>, which acts like a tensor product but in the reverse order. Hence, for two operators $A$ and $B$ we have <code>A.expand(B)</code> = $B\otimes A$ where the subsystems indexed as matrix A  on subsystem 0, and matrix $B$ on subsystem 1.</p>

</div>
</div>
</div>
<div class="cell border-box-sizing code_cell rendered">
<div class="input">
<div class="prompt input_prompt">In&nbsp;[17]:</div>
<div class="inner_cell">
    <div class="input_area">
<div class=" highlight hl-ipython3"><pre><span></span><span class="n">A</span> <span class="o">=</span> <span class="n">Operator</span><span class="p">(</span><span class="n">Pauli</span><span class="p">(</span><span class="n">label</span><span class="o">=</span><span class="s1">&#39;X&#39;</span><span class="p">))</span>
<span class="n">B</span> <span class="o">=</span> <span class="n">Operator</span><span class="p">(</span><span class="n">Pauli</span><span class="p">(</span><span class="n">label</span><span class="o">=</span><span class="s1">&#39;Z&#39;</span><span class="p">))</span>
<span class="n">A</span><span class="o">.</span><span class="n">expand</span><span class="p">(</span><span class="n">B</span><span class="p">)</span>
</pre></div>

    </div>
</div>
</div>

<div class="output_wrapper">
<div class="output">


<div class="output_area">

    <div class="prompt output_prompt">Out[17]:</div>




<div class="output_text output_subarea output_execute_result">
<pre>Operator([[ 0.+0.j  1.+0.j  0.+0.j  0.+0.j]
 [ 1.+0.j  0.+0.j  0.+0.j  0.+0.j]
 [ 0.+0.j  0.+0.j -0.+0.j -1.+0.j]
 [ 0.+0.j  0.+0.j -1.+0.j -0.+0.j]], input_dims=(2, 2), output_dims=(2, 2))</pre>
</div>

</div>

</div>
</div>

</div>
<div class="cell border-box-sizing text_cell rendered"><div class="prompt input_prompt">
</div><div class="inner_cell">
<div class="text_cell_render border-box-sizing rendered_html">
<h3 id="Composition">Composition<a class="anchor-link" href="#Composition">&#182;</a></h3><p>We can also compose two operators $A$ and $B$ to implement matrix multiplication using the <code>Operator.compose</code> method. We have that <code>A.compose(B)</code> returns the operator with matrix $B.A$:</p>

</div>
</div>
</div>
<div class="cell border-box-sizing code_cell rendered">
<div class="input">
<div class="prompt input_prompt">In&nbsp;[18]:</div>
<div class="inner_cell">
    <div class="input_area">
<div class=" highlight hl-ipython3"><pre><span></span><span class="n">A</span> <span class="o">=</span> <span class="n">Operator</span><span class="p">(</span><span class="n">Pauli</span><span class="p">(</span><span class="n">label</span><span class="o">=</span><span class="s1">&#39;X&#39;</span><span class="p">))</span>
<span class="n">B</span> <span class="o">=</span> <span class="n">Operator</span><span class="p">(</span><span class="n">Pauli</span><span class="p">(</span><span class="n">label</span><span class="o">=</span><span class="s1">&#39;Z&#39;</span><span class="p">))</span>
<span class="n">A</span><span class="o">.</span><span class="n">compose</span><span class="p">(</span><span class="n">B</span><span class="p">)</span>
</pre></div>

    </div>
</div>
</div>

<div class="output_wrapper">
<div class="output">


<div class="output_area">

    <div class="prompt output_prompt">Out[18]:</div>




<div class="output_text output_subarea output_execute_result">
<pre>Operator([[ 0.+0.j  1.+0.j]
 [-1.+0.j  0.+0.j]], input_dims=(2,), output_dims=(2,))</pre>
</div>

</div>

</div>
</div>

</div>
<div class="cell border-box-sizing text_cell rendered"><div class="prompt input_prompt">
</div><div class="inner_cell">
<div class="text_cell_render border-box-sizing rendered_html">
<p>We can also compose in the reverse order by applying $B$ in front of $A$ using the <code>front</code> kwarg of <code>compose</code>:  <code>A.compose(B, front=True)</code> = $A.B$:</p>

</div>
</div>
</div>
<div class="cell border-box-sizing code_cell rendered">
<div class="input">
<div class="prompt input_prompt">In&nbsp;[19]:</div>
<div class="inner_cell">
    <div class="input_area">
<div class=" highlight hl-ipython3"><pre><span></span><span class="n">A</span> <span class="o">=</span> <span class="n">Operator</span><span class="p">(</span><span class="n">Pauli</span><span class="p">(</span><span class="n">label</span><span class="o">=</span><span class="s1">&#39;X&#39;</span><span class="p">))</span>
<span class="n">B</span> <span class="o">=</span> <span class="n">Operator</span><span class="p">(</span><span class="n">Pauli</span><span class="p">(</span><span class="n">label</span><span class="o">=</span><span class="s1">&#39;Z&#39;</span><span class="p">))</span>
<span class="n">A</span><span class="o">.</span><span class="n">compose</span><span class="p">(</span><span class="n">B</span><span class="p">,</span> <span class="n">front</span><span class="o">=</span><span class="kc">True</span><span class="p">)</span>
</pre></div>

    </div>
</div>
</div>

<div class="output_wrapper">
<div class="output">


<div class="output_area">

    <div class="prompt output_prompt">Out[19]:</div>




<div class="output_text output_subarea output_execute_result">
<pre>Operator([[ 0.+0.j -1.+0.j]
 [ 1.+0.j  0.+0.j]], input_dims=(2,), output_dims=(2,))</pre>
</div>

</div>

</div>
</div>

</div>
<div class="cell border-box-sizing text_cell rendered"><div class="prompt input_prompt">
</div><div class="inner_cell">
<div class="text_cell_render border-box-sizing rendered_html">
<h3 id="Subsystem-Composition">Subsystem Composition<a class="anchor-link" href="#Subsystem-Composition">&#182;</a></h3><p>Note that the previous compose requires that the total output dimension of the first operator $A$ is equal to total input dimension of the composed operator $B$ (and similarly, the output dimension of $B$ must be equal to the input dimension of $A$ when composing with <code>front=True</code>).</p>
<p>We can also compose a smaller operator with a selection of subsystems on a larger operator using the <code>qargs</code> kwarg of <code>compose</code>, either with or without <code>front=True</code>. In this case, the relevant input and output dimensions of the subsystems being composed must match. <em>Note that the smaller operator must always be the argument of <code>compose</code> method.</em></p>
<p>For example, to compose a two-qubit gate with a three-qubit Operator:</p>

</div>
</div>
</div>
<div class="cell border-box-sizing code_cell rendered">
<div class="input">
<div class="prompt input_prompt">In&nbsp;[20]:</div>
<div class="inner_cell">
    <div class="input_area">
<div class=" highlight hl-ipython3"><pre><span></span><span class="c1"># Compose XZ with an 3-qubit identity operator</span>
<span class="n">op</span> <span class="o">=</span> <span class="n">Operator</span><span class="p">(</span><span class="n">np</span><span class="o">.</span><span class="n">eye</span><span class="p">(</span><span class="mi">2</span> <span class="o">**</span> <span class="mi">3</span><span class="p">))</span>
<span class="n">XZ</span> <span class="o">=</span> <span class="n">Operator</span><span class="p">(</span><span class="n">Pauli</span><span class="p">(</span><span class="n">label</span><span class="o">=</span><span class="s1">&#39;XZ&#39;</span><span class="p">))</span>
<span class="n">op</span><span class="o">.</span><span class="n">compose</span><span class="p">(</span><span class="n">XZ</span><span class="p">,</span> <span class="n">qargs</span><span class="o">=</span><span class="p">[</span><span class="mi">0</span><span class="p">,</span> <span class="mi">2</span><span class="p">])</span>
</pre></div>

    </div>
</div>
</div>

<div class="output_wrapper">
<div class="output">


<div class="output_area">

    <div class="prompt output_prompt">Out[20]:</div>




<div class="output_text output_subarea output_execute_result">
<pre>Operator([[ 0.+0.j  0.+0.j  0.+0.j  0.+0.j  1.+0.j  0.+0.j  0.+0.j  0.+0.j]
 [ 0.+0.j  0.+0.j  0.+0.j  0.+0.j  0.+0.j -1.+0.j  0.+0.j  0.+0.j]
 [ 0.+0.j  0.+0.j  0.+0.j  0.+0.j  0.+0.j  0.+0.j  1.+0.j  0.+0.j]
 [ 0.+0.j  0.+0.j  0.+0.j  0.+0.j  0.+0.j  0.+0.j  0.+0.j -1.+0.j]
 [ 1.+0.j  0.+0.j  0.+0.j  0.+0.j  0.+0.j  0.+0.j  0.+0.j  0.+0.j]
 [ 0.+0.j -1.+0.j  0.+0.j  0.+0.j  0.+0.j  0.+0.j  0.+0.j  0.+0.j]
 [ 0.+0.j  0.+0.j  1.+0.j  0.+0.j  0.+0.j  0.+0.j  0.+0.j  0.+0.j]
 [ 0.+0.j  0.+0.j  0.+0.j -1.+0.j  0.+0.j  0.+0.j  0.+0.j  0.+0.j]], input_dims=(2, 2, 2), output_dims=(2, 2, 2))</pre>
</div>

</div>

</div>
</div>

</div>
<div class="cell border-box-sizing code_cell rendered">
<div class="input">
<div class="prompt input_prompt">In&nbsp;[21]:</div>
<div class="inner_cell">
    <div class="input_area">
<div class=" highlight hl-ipython3"><pre><span></span><span class="c1"># Compose YX in front of the previous operator</span>
<span class="n">op</span> <span class="o">=</span> <span class="n">Operator</span><span class="p">(</span><span class="n">np</span><span class="o">.</span><span class="n">eye</span><span class="p">(</span><span class="mi">2</span> <span class="o">**</span> <span class="mi">3</span><span class="p">))</span>
<span class="n">YX</span> <span class="o">=</span> <span class="n">Operator</span><span class="p">(</span><span class="n">Pauli</span><span class="p">(</span><span class="n">label</span><span class="o">=</span><span class="s1">&#39;YX&#39;</span><span class="p">))</span>
<span class="n">op</span><span class="o">.</span><span class="n">compose</span><span class="p">(</span><span class="n">XZ</span><span class="p">,</span> <span class="n">qargs</span><span class="o">=</span><span class="p">[</span><span class="mi">0</span><span class="p">,</span> <span class="mi">2</span><span class="p">],</span> <span class="n">front</span><span class="o">=</span><span class="kc">True</span><span class="p">)</span>
</pre></div>

    </div>
</div>
</div>

<div class="output_wrapper">
<div class="output">


<div class="output_area">

    <div class="prompt output_prompt">Out[21]:</div>




<div class="output_text output_subarea output_execute_result">
<pre>Operator([[ 0.+0.j  0.+0.j  0.+0.j  0.+0.j  1.+0.j  0.+0.j  0.+0.j  0.+0.j]
 [ 0.+0.j  0.+0.j  0.+0.j  0.+0.j  0.+0.j -1.+0.j  0.+0.j  0.+0.j]
 [ 0.+0.j  0.+0.j  0.+0.j  0.+0.j  0.+0.j  0.+0.j  1.+0.j  0.+0.j]
 [ 0.+0.j  0.+0.j  0.+0.j  0.+0.j  0.+0.j  0.+0.j  0.+0.j -1.+0.j]
 [ 1.+0.j  0.+0.j  0.+0.j  0.+0.j  0.+0.j  0.+0.j  0.+0.j  0.+0.j]
 [ 0.+0.j -1.+0.j  0.+0.j  0.+0.j  0.+0.j  0.+0.j  0.+0.j  0.+0.j]
 [ 0.+0.j  0.+0.j  1.+0.j  0.+0.j  0.+0.j  0.+0.j  0.+0.j  0.+0.j]
 [ 0.+0.j  0.+0.j  0.+0.j -1.+0.j  0.+0.j  0.+0.j  0.+0.j  0.+0.j]], input_dims=(2, 2, 2), output_dims=(2, 2, 2))</pre>
</div>

</div>

</div>
</div>

</div>
<div class="cell border-box-sizing text_cell rendered"><div class="prompt input_prompt">
</div><div class="inner_cell">
<div class="text_cell_render border-box-sizing rendered_html">
<h3 id="Linear-combinations">Linear combinations<a class="anchor-link" href="#Linear-combinations">&#182;</a></h3><p>Operators may also be combined using standard linear operators for addition, subtraction and scalar multiplication by complex numbers.</p>

</div>
</div>
</div>
<div class="cell border-box-sizing code_cell rendered">
<div class="input">
<div class="prompt input_prompt">In&nbsp;[22]:</div>
<div class="inner_cell">
    <div class="input_area">
<div class=" highlight hl-ipython3"><pre><span></span><span class="n">XX</span> <span class="o">=</span> <span class="n">Operator</span><span class="p">(</span><span class="n">Pauli</span><span class="p">(</span><span class="n">label</span><span class="o">=</span><span class="s1">&#39;XX&#39;</span><span class="p">))</span>
<span class="n">YY</span> <span class="o">=</span> <span class="n">Operator</span><span class="p">(</span><span class="n">Pauli</span><span class="p">(</span><span class="n">label</span><span class="o">=</span><span class="s1">&#39;YY&#39;</span><span class="p">))</span>
<span class="n">ZZ</span> <span class="o">=</span> <span class="n">Operator</span><span class="p">(</span><span class="n">Pauli</span><span class="p">(</span><span class="n">label</span><span class="o">=</span><span class="s1">&#39;ZZ&#39;</span><span class="p">))</span>

<span class="n">op</span> <span class="o">=</span> <span class="mf">0.5</span> <span class="o">*</span> <span class="p">(</span><span class="n">XX</span> <span class="o">+</span> <span class="n">YY</span> <span class="o">-</span> <span class="mi">3</span> <span class="o">*</span> <span class="n">ZZ</span><span class="p">)</span>
<span class="n">op</span>
</pre></div>

    </div>
</div>
</div>

<div class="output_wrapper">
<div class="output">


<div class="output_area">

    <div class="prompt output_prompt">Out[22]:</div>




<div class="output_text output_subarea output_execute_result">
<pre>Operator([[-1.5+0.j  0. +0.j  0. +0.j  0. +0.j]
 [ 0. +0.j  1.5+0.j  1. +0.j  0. +0.j]
 [ 0. +0.j  1. +0.j  1.5+0.j  0. +0.j]
 [ 0. +0.j  0. +0.j  0. +0.j -1.5+0.j]], input_dims=(2, 2), output_dims=(2, 2))</pre>
</div>

</div>

</div>
</div>

</div>
<div class="cell border-box-sizing text_cell rendered"><div class="prompt input_prompt">
</div><div class="inner_cell">
<div class="text_cell_render border-box-sizing rendered_html">
<p>An important point is that while <code>tensor</code>, <code>expand</code> and <code>compose</code> will preserve the unitarity of unitary operators, linear combinations will not; hence, adding two unitary operators will, in general, result in a non-unitary operator:</p>

</div>
</div>
</div>
<div class="cell border-box-sizing code_cell rendered">
<div class="input">
<div class="prompt input_prompt">In&nbsp;[23]:</div>
<div class="inner_cell">
    <div class="input_area">
<div class=" highlight hl-ipython3"><pre><span></span><span class="n">op</span><span class="o">.</span><span class="n">is_unitary</span><span class="p">()</span>
</pre></div>

    </div>
</div>
</div>

<div class="output_wrapper">
<div class="output">


<div class="output_area">

    <div class="prompt output_prompt">Out[23]:</div>




<div class="output_text output_subarea output_execute_result">
<pre>False</pre>
</div>

</div>

</div>
</div>

</div>
<div class="cell border-box-sizing text_cell rendered"><div class="prompt input_prompt">
</div><div class="inner_cell">
<div class="text_cell_render border-box-sizing rendered_html">
<h3 id="Implicit-Conversion-to-Operators">Implicit Conversion to Operators<a class="anchor-link" href="#Implicit-Conversion-to-Operators">&#182;</a></h3><p>Note that for all the following methods, if the second object is not already an <code>Operator</code> object, it will be implicitly converted into one by the method. This means that matrices can be passed in directly without being explicitly converted to an <code>Operator</code> first. If the conversion is not possible, an exception will be raised.</p>

</div>
</div>
</div>
<div class="cell border-box-sizing code_cell rendered">
<div class="input">
<div class="prompt input_prompt">In&nbsp;[24]:</div>
<div class="inner_cell">
    <div class="input_area">
<div class=" highlight hl-ipython3"><pre><span></span><span class="c1"># Compose with a matrix passed as a list</span>
<span class="n">Operator</span><span class="p">(</span><span class="n">np</span><span class="o">.</span><span class="n">eye</span><span class="p">(</span><span class="mi">2</span><span class="p">))</span><span class="o">.</span><span class="n">compose</span><span class="p">([[</span><span class="mi">0</span><span class="p">,</span> <span class="mi">1</span><span class="p">],</span> <span class="p">[</span><span class="mi">1</span><span class="p">,</span> <span class="mi">0</span><span class="p">]])</span>
</pre></div>

    </div>
</div>
</div>

<div class="output_wrapper">
<div class="output">


<div class="output_area">

    <div class="prompt output_prompt">Out[24]:</div>




<div class="output_text output_subarea output_execute_result">
<pre>Operator([[0.+0.j 1.+0.j]
 [1.+0.j 0.+0.j]], input_dims=(2,), output_dims=(2,))</pre>
</div>

</div>

</div>
</div>

</div>
<div class="cell border-box-sizing text_cell rendered"><div class="prompt input_prompt">
</div><div class="inner_cell">
<div class="text_cell_render border-box-sizing rendered_html">
<h2 id="Comparison-of-Operators">Comparison of Operators<a class="anchor-link" href="#Comparison-of-Operators">&#182;</a></h2><p>Operators implement an equality method that can be used to check if two operators are approximately equal.</p>

</div>
</div>
</div>
<div class="cell border-box-sizing code_cell rendered">
<div class="input">
<div class="prompt input_prompt">In&nbsp;[25]:</div>
<div class="inner_cell">
    <div class="input_area">
<div class=" highlight hl-ipython3"><pre><span></span><span class="n">Operator</span><span class="p">(</span><span class="n">Pauli</span><span class="p">(</span><span class="n">label</span><span class="o">=</span><span class="s1">&#39;X&#39;</span><span class="p">))</span> <span class="o">==</span> <span class="n">Operator</span><span class="p">(</span><span class="n">XGate</span><span class="p">())</span>
</pre></div>

    </div>
</div>
</div>

<div class="output_wrapper">
<div class="output">


<div class="output_area">

    <div class="prompt output_prompt">Out[25]:</div>




<div class="output_text output_subarea output_execute_result">
<pre>True</pre>
</div>

</div>

</div>
</div>

</div>
<div class="cell border-box-sizing text_cell rendered"><div class="prompt input_prompt">
</div><div class="inner_cell">
<div class="text_cell_render border-box-sizing rendered_html">
<p>Note that this checks that each matrix element of the operators is approximately equal; two unitaries that differ by a global phase will not be considered equal:</p>

</div>
</div>
</div>
<div class="cell border-box-sizing code_cell rendered">
<div class="input">
<div class="prompt input_prompt">In&nbsp;[26]:</div>
<div class="inner_cell">
    <div class="input_area">
<div class=" highlight hl-ipython3"><pre><span></span><span class="n">Operator</span><span class="p">(</span><span class="n">XGate</span><span class="p">())</span> <span class="o">==</span> <span class="n">np</span><span class="o">.</span><span class="n">exp</span><span class="p">(</span><span class="mi">1</span><span class="n">j</span> <span class="o">*</span> <span class="mf">0.5</span><span class="p">)</span> <span class="o">*</span> <span class="n">Operator</span><span class="p">(</span><span class="n">XGate</span><span class="p">())</span>
</pre></div>

    </div>
</div>
</div>

<div class="output_wrapper">
<div class="output">


<div class="output_area">

    <div class="prompt output_prompt">Out[26]:</div>




<div class="output_text output_subarea output_execute_result">
<pre>False</pre>
</div>

</div>

</div>
</div>

</div>
<div class="cell border-box-sizing text_cell rendered"><div class="prompt input_prompt">
</div><div class="inner_cell">
<div class="text_cell_render border-box-sizing rendered_html">
<h3 id="Process-Fidelity">Process Fidelity<a class="anchor-link" href="#Process-Fidelity">&#182;</a></h3><p>We may also compare operators using the <code>process_fidelity</code> function from the <em>Quantum Information</em> module. This is an information theoretic quantity for how close two quantum channels are to each other, and in the case of unitary operators it does not depend on global phase.</p>

</div>
</div>
</div>
<div class="cell border-box-sizing code_cell rendered">
<div class="input">
<div class="prompt input_prompt">In&nbsp;[27]:</div>
<div class="inner_cell">
    <div class="input_area">
<div class=" highlight hl-ipython3"><pre><span></span><span class="c1"># Two operators which differ only by phase</span>
<span class="n">op_a</span> <span class="o">=</span> <span class="n">Operator</span><span class="p">(</span><span class="n">XGate</span><span class="p">())</span> 
<span class="n">op_b</span> <span class="o">=</span> <span class="n">np</span><span class="o">.</span><span class="n">exp</span><span class="p">(</span><span class="mi">1</span><span class="n">j</span> <span class="o">*</span> <span class="mf">0.5</span><span class="p">)</span> <span class="o">*</span> <span class="n">Operator</span><span class="p">(</span><span class="n">XGate</span><span class="p">())</span>

<span class="c1"># Compute process fidelity</span>
<span class="n">F</span> <span class="o">=</span> <span class="n">process_fidelity</span><span class="p">(</span><span class="n">op_a</span><span class="p">,</span> <span class="n">op_b</span><span class="p">)</span>
<span class="nb">print</span><span class="p">(</span><span class="s1">&#39;Process fidelity =&#39;</span><span class="p">,</span> <span class="n">F</span><span class="p">)</span>
</pre></div>

    </div>
</div>
</div>

<div class="output_wrapper">
<div class="output">


<div class="output_area">

    <div class="prompt"></div>


<div class="output_subarea output_stream output_stdout output_text">
<pre>Process fidelity = (1+0j)
</pre>
</div>
</div>

</div>
</div>

</div>
<div class="cell border-box-sizing text_cell rendered"><div class="prompt input_prompt">
</div><div class="inner_cell">
<div class="text_cell_render border-box-sizing rendered_html">
<p>Note that process fidelity is generally only a valid measure of closeness if the input operators are unitary (or CP in the case of quantum channels), and an exception will be raised if the inputs are not CP.</p>

</div>
</div>
</div>
<div class="cell border-box-sizing code_cell rendered">
<div class="input">
<div class="prompt input_prompt">In&nbsp;[28]:</div>
<div class="inner_cell">
    <div class="input_area">
<div class=" highlight hl-ipython3"><pre><span></span><span class="kn">import</span> <span class="nn">qiskit.tools.jupyter</span>
<span class="o">%</span><span class="k">qiskit_version_table</span>
<span class="o">%</span><span class="k">qiskit_copyright</span>
</pre></div>

    </div>
</div>
</div>

<div class="output_wrapper">
<div class="output">


<div class="output_area">

    <div class="prompt"></div>



<div class="output_html rendered_html output_subarea ">
<h3>Version Information</h3><table><tr><th>Qiskit Software</th><th>Version</th></tr><tr><td>Qiskit</td><td>0.14.0</td></tr><tr><td>Terra</td><td>0.11.0</td></tr><tr><td>Aer</td><td>0.3.4</td></tr><tr><td>Ignis</td><td>0.2.0</td></tr><tr><td>Aqua</td><td>0.6.1</td></tr><tr><td>IBM Q Provider</td><td>0.4.4</td></tr><tr><th>System information</th></tr><tr><td>Python</td><td>3.7.4 (default, Aug  9 2019, 18:34:13) [MSC v.1915 64 bit (AMD64)]</td></tr><tr><td>OS</td><td>Windows</td></tr><tr><td>CPUs</td><td>2</td></tr><tr><td>Memory (Gb)</td><td>7.9987335205078125</td></tr><tr><td colspan='2'>Tue Dec 10 16:08:30 2019 Eastern Standard Time</td></tr></table>
</div>

</div>

<div class="output_area">

    <div class="prompt"></div>



<div class="output_html rendered_html output_subarea ">
<div style='width: 100%; background-color:#d5d9e0;padding-left: 10px; padding-bottom: 10px; padding-right: 10px; padding-top: 5px'><h3>This code is a part of Qiskit</h3><p>&copy; Copyright IBM 2017, 2019.</p><p>This code is licensed under the Apache License, Version 2.0. You may<br>obtain a copy of this license in the LICENSE.txt file in the root directory<br> of this source tree or at http://www.apache.org/licenses/LICENSE-2.0.<p>Any modifications or derivative works of this code must retain this<br>copyright notice, and modified files need to carry a notice indicating<br>that they have been altered from the originals.</p></div>
</div>

</div>

</div>
</div>

</div>
<div class="cell border-box-sizing code_cell rendered">
<div class="input">
<div class="prompt input_prompt">In&nbsp;[&nbsp;]:</div>
<div class="inner_cell">
    <div class="input_area">
<div class=" highlight hl-ipython3"><pre><span></span> 
</pre></div>

    </div>
</div>
</div>

</div>
 


    </div>
  </div>

  </div>


  
    <footer class="footer hidden-print">
      <div class="container">
        <div class="col-md-4">
          <p>
            This website does not host notebooks, it only renders notebooks
            available on other websites.
          </p>
        </div>

        <div class="col-md-4">
          <p>
            Delivered by <a href="https://www.fastly.com/">Fastly</a>,
            Rendered by <a href="https://developer.rackspace.com/?nbviewer=awesome">Rackspace</a>
          </p>
          <p>
            nbviewer GitHub <a href="https://github.com/jupyter/nbviewer">repository</a>.
          </p>
        </div>

        <div class="col-md-4">
          
  
            
              <p>
                nbviewer version:
                <a href="https://github.com/jupyter/nbviewer/commit/07b0e305b3254e2280b29f20ceb96c058db2f775">
                  07b0e30
                </a>
              </p>
            
          
  
  <p>
    nbconvert version: <a href="https://github.com/jupyter/nbconvert/releases/tag/5.6.0">
      5.6.0
    </a>
  </p>
  

          
  
  
  <p>
    Rendered
    <span class='date' data-date='Thu, 30 Jan 2020 07:21:00 UTC' title='Thu, 30 Jan 2020 07:21:00 UTC'>(Thu, 30 Jan 2020 07:21:00 UTC)</span>
  </p>
  

        </div>
      </div>
    </footer>
  

  <script src="/static/components/bootstrap/js/bootstrap.min.js?v=5869c96cc8f19086aee625d670d741f9"></script>
  <script src="/static/components/headroom.js/dist/headroom.min.js?v=b0a311ea668f8e768ea375f4a7abb81c"></script>
  <script src="/static/components/headroom.js/dist/jQuery.headroom.min.js?v=f3a1bae118315d0c234afc74dc6aab71"></script>

  
  
  <script>
    $(function(){ $("#menubar").headroom({
      tolerance: 5,
      offset: 205,
      classes: {
        initial: "animated",
        pinned: "slideInDown",
        unpinned: "slideOutUp"
      }
    })});
  </script>


  
  <script>
    (function(i,s,o,g,r,a,m){i['GoogleAnalyticsObject']=r;i[r]=i[r]||function(){
      (i[r].q=i[r].q||[]).push(arguments)},i[r].l=1*new Date();a=s.createElement(o),
      m=s.getElementsByTagName(o)[0];a.async=1;a.src=g;m.parentNode.insertBefore(a,m)
    })(window,document,'script','https://www.google-analytics.com/analytics.js','ga');
    ga('create', 'UA-52617120-5', 'auto',
       {'storage': 'none'});
    ga('set', 'anonymizeIp', true);
    ga('send', 'pageview');
  </script>
  
  <script>
    require({
        paths: {
          moment: "/static/components/moment/min/moment.min.js?v=89f87298ad94aa1e6b92f42eb66da043"
        }
      }, ["moment"], function(moment){
      var date = $("footer .date"),
        m = moment(new Date(date.data('date'))),
        update = function(){ date.text(m.fromNow()); };
      setInterval(update, 61*1000);
      update();
      var w = $(window).scroll(function(event){
        $("body").toggleClass("scrolled", w.scrollTop() > 0);
      });
    });
  </script>

  <!--NEW RELIC Stop Perf Measurement-->
  
  <!--NEW RELIC End-->
</body>
</html>